{
 "cells": [
  {
   "cell_type": "markdown",
   "id": "92ad6276-a2af-4b05-ba75-8b5c2e21d72e",
   "metadata": {},
   "source": [
    "# (Advanced) Using gReLU with external pytorch models"
   ]
  },
  {
   "cell_type": "markdown",
   "id": "c6c66758-c630-4627-a85d-4f4d55495f81",
   "metadata": {},
   "source": [
    "This tutorial shows how to take a pytorch model that was not trained using gReLU, and make it compatible with gReLU's downstream functions (e.g. inference, variant effect prediction, interpretation and design)."
   ]
  },
  {
   "cell_type": "code",
   "execution_count": 1,
   "id": "5efc5c78-a087-4c71-9737-874835a278b3",
   "metadata": {},
   "outputs": [],
   "source": [
    "import numpy as np\n",
    "import pandas as pd\n",
    "import torch\n",
    "from torch import nn\n",
    "import os"
   ]
  },
  {
   "cell_type": "markdown",
   "id": "879f964b-4583-45a3-8f5e-7179bb57ab95",
   "metadata": {},
   "source": [
    "## Load an external pytorch model"
   ]
  },
  {
   "cell_type": "markdown",
   "id": "4a208bb2-6eb8-4080-9f9c-d90b271c45a2",
   "metadata": {},
   "source": [
    "We will load the pytorch version of the Basset model from the Kipoi repository (https://kipoi.org/models/Basset/). You can also try this with any other pytorch sequence-to-function model.\n",
    "\n",
    "Kipoi provides us the following important information about the model:\n",
    "\n",
    "`This is the Basset model published by David Kelley converted to pytorch by Roman Kreuzhuber. It categorically predicts probabilities of accesible genomic regions in 164 cell types (ENCODE project and Roadmap Epigenomics Consortium). Data was generated using DNAse-seq. The sequence length the model uses as input is 600bp. The input of the tensor has to be (N, 4, 600, 1) for N samples, 600bp window size and 4 nucleotides. Per sample, 164 probabilities of accessible chromatin will be predicted.`\n",
    "\n",
    "You will need to uncomment the cell below to install kipoi."
   ]
  },
  {
   "cell_type": "code",
   "execution_count": 2,
   "id": "f69ef041-53bd-49d4-a63d-4f9a9900cf8a",
   "metadata": {},
   "outputs": [],
   "source": [
    "#!pip install kipoi"
   ]
  },
  {
   "cell_type": "code",
   "execution_count": 3,
   "id": "542495d2-c9ff-447d-a369-8377ec9eb5a0",
   "metadata": {},
   "outputs": [
    {
     "name": "stdout",
     "output_type": "stream",
     "text": [
      "Already up to date.\n",
      "Using downloaded and verified file: /root/.kipoi/models/Basset/downloaded/model_files/weights/4878981d84499eb575abd0f3b45570d3\n"
     ]
    },
    {
     "name": "stderr",
     "output_type": "stream",
     "text": [
      "/opt/conda/lib/python3.11/site-packages/kipoi/model.py:934: FutureWarning: You are using `torch.load` with `weights_only=False` (the current default value), which uses the default pickle module implicitly. It is possible to construct malicious pickle data which will execute arbitrary code during unpickling (See https://github.com/pytorch/pytorch/blob/main/SECURITY.md#untrusted-models for more details). In a future release, the default value for `weights_only` will be flipped to `True`. This limits the functions that could be executed during unpickling. Arbitrary objects will no longer be allowed to be loaded via this mode unless they are explicitly allowlisted by the user via `torch.serialization.add_safe_globals`. We recommend you start setting `weights_only=True` for any use case where you don't have full control of the loaded file. Please open an issue on GitHub for any issues related to this experimental feature.\n",
      "  self.model.load_state_dict(torch.load(weights))\n"
     ]
    }
   ],
   "source": [
    "import kipoi\n",
    "kipoi_model = kipoi.get_model('Basset', with_dataloader=False)\n",
    "kipoi_model = kipoi_model.model.cpu()"
   ]
  },
  {
   "cell_type": "markdown",
   "id": "89474faf-9311-4f41-87b2-1a52f359866d",
   "metadata": {},
   "source": [
    "We can view the structure of this model below:"
   ]
  },
  {
   "cell_type": "code",
   "execution_count": 4,
   "id": "e793a156-d0e9-4bd5-bf61-bbd9f8a7e794",
   "metadata": {},
   "outputs": [
    {
     "data": {
      "text/plain": [
       "Sequential(\n",
       "  (0): Conv2d(4, 300, kernel_size=(19, 1), stride=(1, 1))\n",
       "  (1): BatchNorm2d(300, eps=1e-05, momentum=0.1, affine=True, track_running_stats=True)\n",
       "  (2): ReLU()\n",
       "  (3): MaxPool2d(kernel_size=(3, 1), stride=(3, 1), padding=0, dilation=1, ceil_mode=False)\n",
       "  (4): Conv2d(300, 200, kernel_size=(11, 1), stride=(1, 1))\n",
       "  (5): BatchNorm2d(200, eps=1e-05, momentum=0.1, affine=True, track_running_stats=True)\n",
       "  (6): ReLU()\n",
       "  (7): MaxPool2d(kernel_size=(4, 1), stride=(4, 1), padding=0, dilation=1, ceil_mode=False)\n",
       "  (8): Conv2d(200, 200, kernel_size=(7, 1), stride=(1, 1))\n",
       "  (9): BatchNorm2d(200, eps=1e-05, momentum=0.1, affine=True, track_running_stats=True)\n",
       "  (10): ReLU()\n",
       "  (11): MaxPool2d(kernel_size=(4, 1), stride=(4, 1), padding=0, dilation=1, ceil_mode=False)\n",
       "  (12): Lambda()\n",
       "  (13): Sequential(\n",
       "    (0): Lambda()\n",
       "    (1): Linear(in_features=2000, out_features=1000, bias=True)\n",
       "  )\n",
       "  (14): BatchNorm1d(1000, eps=1e-05, momentum=0.1, affine=True, track_running_stats=True)\n",
       "  (15): ReLU()\n",
       "  (16): Dropout(p=0.3, inplace=False)\n",
       "  (17): Sequential(\n",
       "    (0): Lambda()\n",
       "    (1): Linear(in_features=1000, out_features=1000, bias=True)\n",
       "  )\n",
       "  (18): BatchNorm1d(1000, eps=1e-05, momentum=0.1, affine=True, track_running_stats=True)\n",
       "  (19): ReLU()\n",
       "  (20): Dropout(p=0.3, inplace=False)\n",
       "  (21): Sequential(\n",
       "    (0): Lambda()\n",
       "    (1): Linear(in_features=1000, out_features=164, bias=True)\n",
       "  )\n",
       "  (22): Sigmoid()\n",
       ")"
      ]
     },
     "execution_count": 4,
     "metadata": {},
     "output_type": "execute_result"
    }
   ],
   "source": [
    "kipoi_model"
   ]
  },
  {
   "cell_type": "markdown",
   "id": "c5889214-ca29-49ab-a007-f4ef358c391c",
   "metadata": {},
   "source": [
    "## Modify the model to make it gReLU-compatible"
   ]
  },
  {
   "cell_type": "markdown",
   "id": "c0476b74-c591-488f-b867-5ad6a15122ae",
   "metadata": {},
   "source": [
    "### Step 1: Check the input and output formats"
   ]
  },
  {
   "cell_type": "markdown",
   "id": "d732b111-2588-40e3-9bda-49525835bc5e",
   "metadata": {},
   "source": [
    "First, we need to pay attention to the shapes of the model's input and output shapes. As per Kipoi:\n",
    "\n",
    "`The input of the tensor has to be (N, 4, 600, 1) for N samples, 600bp window size and 4 nucleotides.`\n",
    "\n",
    "Kipoi doesn't tell us the shape of the output tensor produced by this model, so let's check by creating a random tensor of the required shape and passing it through the model."
   ]
  },
  {
   "cell_type": "code",
   "execution_count": 5,
   "id": "b988fdeb-5b6f-4b1e-8e7b-b51ff4e85039",
   "metadata": {},
   "outputs": [
    {
     "data": {
      "text/plain": [
       "torch.Size([2, 4, 600, 1])"
      ]
     },
     "execution_count": 5,
     "metadata": {},
     "output_type": "execute_result"
    }
   ],
   "source": [
    "random_tensor = torch.rand(2, 4, 600, 1) # N=2\n",
    "random_tensor.shape"
   ]
  },
  {
   "cell_type": "code",
   "execution_count": 6,
   "id": "c5ddbff0-7b63-4813-9d9d-2c8bcbb25202",
   "metadata": {},
   "outputs": [
    {
     "name": "stdout",
     "output_type": "stream",
     "text": [
      "torch.Size([2, 164])\n"
     ]
    }
   ],
   "source": [
    "output_shape = kipoi_model(random_tensor).shape\n",
    "print(output_shape)"
   ]
  },
  {
   "cell_type": "markdown",
   "id": "300b56bd-17d5-4768-9cdd-156d9692ffc8",
   "metadata": {},
   "source": [
    "### Step 2: Define adapter layer(s) if necessary"
   ]
  },
  {
   "cell_type": "markdown",
   "id": "51dcaedf-3c36-4401-acb1-7593f3eb988a",
   "metadata": {},
   "source": [
    "We see that this model expects inputs of shape `(N, 4, input_len, 1)` and produces outputs of shape `(N, T)`. Here N is the number of examples, input_len is the sequence length and T is the number of tasks.\n",
    "\n",
    "However, gReLU models take inputs of shape `(N, 4, input_len)` and produce outputs of shape `(N, T, output_len)`. For binary classification models like Basset, the output_len is 1, so outputs should be of shape `(N, T, 1)`. \n",
    "\n",
    "Hence, we will need to add adapter layers to this model to create inputs and outputs of the right format. Specifically:\n",
    "\n",
    "1) gReLU inputs of shape `(N, 4, input_len)` should be converted to the model's required shape `(N, 4, input_len, 1)`. This requires adding a new axis.\n",
    "2) The model's outputs of shape `(N, T)` should be converted to gReLU's required shape `(N, T, 1)`. This also requires adding a new axis.\n",
    "\n",
    "We can achieve both of these by creating an AddNewAxis layer, as below:"
   ]
  },
  {
   "cell_type": "code",
   "execution_count": 7,
   "id": "247fd877-90ad-44a2-9150-8663684fcc4d",
   "metadata": {},
   "outputs": [],
   "source": [
    "class AddNewAxis(nn.Module):\n",
    "    def __init__(self):\n",
    "        super().__init__()\n",
    "    def forward(self, x):\n",
    "        return x.unsqueeze(-1)"
   ]
  },
  {
   "cell_type": "markdown",
   "id": "4496d0e3-8f18-4911-ae7d-b3895a370291",
   "metadata": {},
   "source": [
    "### Step 3: Construct embedding, head and activation sections"
   ]
  },
  {
   "cell_type": "markdown",
   "id": "2e760192-f0af-4102-ab84-00cb8bf0129b",
   "metadata": {},
   "source": [
    "We see that `kipoi_model` consists of a sequence of 21 pytorch layers plus the sigmoid activation. All gReLU models are separated into three parts: the embedding, the head, and the final activation. \n",
    "\n",
    "Generally, all the layers upto the final linear layer are the embedding. The last linear layer of the model, which produces the right number of outputs (164 in this case) is the head. The final non-linear layer of the model, in this case `Sigmoid()` is the activation.\n",
    "\n",
    "We now split `kipoi_model` into embedding, head, and activation sections:"
   ]
  },
  {
   "cell_type": "code",
   "execution_count": 8,
   "id": "59510ea4-52c3-4fc0-82cb-fade65f6822d",
   "metadata": {},
   "outputs": [],
   "source": [
    "embedding = kipoi_model[:21]\n",
    "head = kipoi_model[21]\n",
    "activation = kipoi_model[22]"
   ]
  },
  {
   "cell_type": "markdown",
   "id": "a022bfe1-3966-437c-b939-68f1f188aaed",
   "metadata": {},
   "source": [
    "We can look at these individually:"
   ]
  },
  {
   "cell_type": "code",
   "execution_count": 9,
   "id": "f00626eb-f35c-4dc9-aed1-e75ddcc141b6",
   "metadata": {},
   "outputs": [
    {
     "data": {
      "text/plain": [
       "Sequential(\n",
       "  (0): Conv2d(4, 300, kernel_size=(19, 1), stride=(1, 1))\n",
       "  (1): BatchNorm2d(300, eps=1e-05, momentum=0.1, affine=True, track_running_stats=True)\n",
       "  (2): ReLU()\n",
       "  (3): MaxPool2d(kernel_size=(3, 1), stride=(3, 1), padding=0, dilation=1, ceil_mode=False)\n",
       "  (4): Conv2d(300, 200, kernel_size=(11, 1), stride=(1, 1))\n",
       "  (5): BatchNorm2d(200, eps=1e-05, momentum=0.1, affine=True, track_running_stats=True)\n",
       "  (6): ReLU()\n",
       "  (7): MaxPool2d(kernel_size=(4, 1), stride=(4, 1), padding=0, dilation=1, ceil_mode=False)\n",
       "  (8): Conv2d(200, 200, kernel_size=(7, 1), stride=(1, 1))\n",
       "  (9): BatchNorm2d(200, eps=1e-05, momentum=0.1, affine=True, track_running_stats=True)\n",
       "  (10): ReLU()\n",
       "  (11): MaxPool2d(kernel_size=(4, 1), stride=(4, 1), padding=0, dilation=1, ceil_mode=False)\n",
       "  (12): Lambda()\n",
       "  (13): Sequential(\n",
       "    (0): Lambda()\n",
       "    (1): Linear(in_features=2000, out_features=1000, bias=True)\n",
       "  )\n",
       "  (14): BatchNorm1d(1000, eps=1e-05, momentum=0.1, affine=True, track_running_stats=True)\n",
       "  (15): ReLU()\n",
       "  (16): Dropout(p=0.3, inplace=False)\n",
       "  (17): Sequential(\n",
       "    (0): Lambda()\n",
       "    (1): Linear(in_features=1000, out_features=1000, bias=True)\n",
       "  )\n",
       "  (18): BatchNorm1d(1000, eps=1e-05, momentum=0.1, affine=True, track_running_stats=True)\n",
       "  (19): ReLU()\n",
       "  (20): Dropout(p=0.3, inplace=False)\n",
       ")"
      ]
     },
     "execution_count": 9,
     "metadata": {},
     "output_type": "execute_result"
    }
   ],
   "source": [
    "embedding"
   ]
  },
  {
   "cell_type": "code",
   "execution_count": 10,
   "id": "218a30f7-d371-45bc-bd3f-da0d5d9fa50a",
   "metadata": {},
   "outputs": [
    {
     "data": {
      "text/plain": [
       "Sequential(\n",
       "  (0): Lambda()\n",
       "  (1): Linear(in_features=1000, out_features=164, bias=True)\n",
       ")"
      ]
     },
     "execution_count": 10,
     "metadata": {},
     "output_type": "execute_result"
    }
   ],
   "source": [
    "head"
   ]
  },
  {
   "cell_type": "code",
   "execution_count": 11,
   "id": "462b1339-8806-48d3-be37-2477f8059621",
   "metadata": {},
   "outputs": [
    {
     "data": {
      "text/plain": [
       "Sigmoid()"
      ]
     },
     "execution_count": 11,
     "metadata": {},
     "output_type": "execute_result"
    }
   ],
   "source": [
    "activation"
   ]
  },
  {
   "cell_type": "markdown",
   "id": "278bf0c1-0f89-4501-a0f5-8c766a858147",
   "metadata": {},
   "source": [
    "### Step 4: Format the embedding and head"
   ]
  },
  {
   "cell_type": "markdown",
   "id": "c90fd379-e00c-41c8-9a3f-f9c03b7e62c5",
   "metadata": {},
   "source": [
    "We need to add the adapter layer we defined previously to the embedding and head, to ensure that they produce the correct input and output shape."
   ]
  },
  {
   "cell_type": "code",
   "execution_count": 12,
   "id": "fdd4aa73-553f-4652-a865-d6d7938192b0",
   "metadata": {},
   "outputs": [],
   "source": [
    "embedding = nn.Sequential(AddNewAxis(), *[l for l in embedding])\n",
    "\n",
    "head = nn.Sequential(*[l for l in head], AddNewAxis())"
   ]
  },
  {
   "cell_type": "markdown",
   "id": "b499352b-f83f-4fb2-9c35-fa9ee252d243",
   "metadata": {},
   "source": [
    "The head in a gReLU model also needs to have an attribute `n_tasks`. This is the number of outputs of the model:"
   ]
  },
  {
   "cell_type": "code",
   "execution_count": 14,
   "id": "4b79e0e8-99d1-4aba-802f-7b2181a2fd68",
   "metadata": {},
   "outputs": [],
   "source": [
    "head.n_tasks = 164"
   ]
  },
  {
   "cell_type": "markdown",
   "id": "9533199c-14ad-4069-a418-06f606b6a184",
   "metadata": {},
   "source": [
    "## Wrap the model in a LightningModel object"
   ]
  },
  {
   "cell_type": "markdown",
   "id": "836746d6-e75f-4fd9-9acc-28ef78a4cf43",
   "metadata": {},
   "source": [
    "We can construct a `LightningModel` object using the `embedding`, `head` and `activation` objects."
   ]
  },
  {
   "cell_type": "code",
   "execution_count": 15,
   "id": "c0dbe26a-ad04-48b4-9245-2554c58daa25",
   "metadata": {},
   "outputs": [
    {
     "name": "stderr",
     "output_type": "stream",
     "text": [
      "/opt/conda/lib/python3.11/site-packages/tqdm/auto.py:21: TqdmWarning: IProgress not found. Please update jupyter and ipywidgets. See https://ipywidgets.readthedocs.io/en/stable/user_install.html\n",
      "  from .autonotebook import tqdm as notebook_tqdm\n"
     ]
    }
   ],
   "source": [
    "from grelu.lightning import LightningModel\n",
    "\n",
    "grelu_model = LightningModel(model_params={'model_type':'BaseModel', 'embedding':embedding, 'head':head})\n",
    "grelu_model.activation = activation"
   ]
  },
  {
   "cell_type": "markdown",
   "id": "b8e73864-9335-490b-82a2-e0b09d2b526f",
   "metadata": {},
   "source": [
    "## Add the task metadata"
   ]
  },
  {
   "cell_type": "markdown",
   "id": "49d41e37-02a8-4639-a69e-3aad8e9d8091",
   "metadata": {},
   "source": [
    "We can also add the metadata concerning the 164 cell types that the model is trained on."
   ]
  },
  {
   "cell_type": "code",
   "execution_count": 16,
   "id": "0d6ccaba-0e1e-43dc-9b72-e06357ad70d3",
   "metadata": {},
   "outputs": [
    {
     "name": "stdout",
     "output_type": "stream",
     "text": [
      "164\n"
     ]
    },
    {
     "data": {
      "text/html": [
       "<div>\n",
       "<style scoped>\n",
       "    .dataframe tbody tr th:only-of-type {\n",
       "        vertical-align: middle;\n",
       "    }\n",
       "\n",
       "    .dataframe tbody tr th {\n",
       "        vertical-align: top;\n",
       "    }\n",
       "\n",
       "    .dataframe thead th {\n",
       "        text-align: right;\n",
       "    }\n",
       "</style>\n",
       "<table border=\"1\" class=\"dataframe\">\n",
       "  <thead>\n",
       "    <tr style=\"text-align: right;\">\n",
       "      <th></th>\n",
       "      <th>name</th>\n",
       "      <th>source</th>\n",
       "    </tr>\n",
       "  </thead>\n",
       "  <tbody>\n",
       "    <tr>\n",
       "      <th>0</th>\n",
       "      <td>8988T</td>\n",
       "      <td>encode/wgEncodeAwgDnaseDuke8988tUniPk.narrowPe...</td>\n",
       "    </tr>\n",
       "    <tr>\n",
       "      <th>1</th>\n",
       "      <td>AoSMC</td>\n",
       "      <td>encode/wgEncodeAwgDnaseDukeAosmcUniPk.narrowPe...</td>\n",
       "    </tr>\n",
       "    <tr>\n",
       "      <th>2</th>\n",
       "      <td>Chorion</td>\n",
       "      <td>encode/wgEncodeAwgDnaseDukeChorionUniPk.narrow...</td>\n",
       "    </tr>\n",
       "    <tr>\n",
       "      <th>3</th>\n",
       "      <td>CLL</td>\n",
       "      <td>encode/wgEncodeAwgDnaseDukeCllUniPk.narrowPeak.gz</td>\n",
       "    </tr>\n",
       "    <tr>\n",
       "      <th>4</th>\n",
       "      <td>Fibrobl</td>\n",
       "      <td>encode/wgEncodeAwgDnaseDukeFibroblUniPk.narrow...</td>\n",
       "    </tr>\n",
       "  </tbody>\n",
       "</table>\n",
       "</div>"
      ],
      "text/plain": [
       "      name                                             source\n",
       "0    8988T  encode/wgEncodeAwgDnaseDuke8988tUniPk.narrowPe...\n",
       "1    AoSMC  encode/wgEncodeAwgDnaseDukeAosmcUniPk.narrowPe...\n",
       "2  Chorion  encode/wgEncodeAwgDnaseDukeChorionUniPk.narrow...\n",
       "3      CLL  encode/wgEncodeAwgDnaseDukeCllUniPk.narrowPeak.gz\n",
       "4  Fibrobl  encode/wgEncodeAwgDnaseDukeFibroblUniPk.narrow..."
      ]
     },
     "execution_count": 16,
     "metadata": {},
     "output_type": "execute_result"
    }
   ],
   "source": [
    "tasks = pd.read_table('https://raw.github.com/davek44/Basset/refs/heads/master/data/models/targets.txt', header=None, \n",
    "                     names=['name', 'source'])\n",
    "print(len(tasks))\n",
    "tasks.head()"
   ]
  },
  {
   "cell_type": "code",
   "execution_count": 17,
   "id": "cd51e6ce-4ced-43ad-a61f-d555d2033611",
   "metadata": {},
   "outputs": [],
   "source": [
    "grelu_model.data_params['tasks'] = tasks.to_dict(orient=\"list\")"
   ]
  },
  {
   "cell_type": "markdown",
   "id": "ea5cc9ef-edb5-40f7-83b6-b115d6e769a0",
   "metadata": {},
   "source": [
    "## Test the model"
   ]
  },
  {
   "cell_type": "markdown",
   "id": "2162b43e-2103-435f-86c2-9b6e592c2821",
   "metadata": {},
   "source": [
    "Let's make sure that the model can generate predictions for a random sequence:"
   ]
  },
  {
   "cell_type": "code",
   "execution_count": 18,
   "id": "4bbc522d-a2d8-4d19-bdf1-da94ae2d0cb8",
   "metadata": {},
   "outputs": [],
   "source": [
    "from grelu.sequence.utils import generate_random_sequences\n",
    "test_input = generate_random_sequences(n=1, output_format='strings', seq_len=600, seed=0)"
   ]
  },
  {
   "cell_type": "code",
   "execution_count": 19,
   "id": "540ce0b7-3476-4c66-aa1c-53b103f568f3",
   "metadata": {},
   "outputs": [],
   "source": [
    "test_output = grelu_model.predict_on_seqs(test_input)"
   ]
  },
  {
   "cell_type": "code",
   "execution_count": 20,
   "id": "a7b2358c-b987-4510-b131-7e204f5ae650",
   "metadata": {},
   "outputs": [
    {
     "data": {
      "text/plain": [
       "((1, 164, 1), 0.13277045, 0.72227246)"
      ]
     },
     "execution_count": 20,
     "metadata": {},
     "output_type": "execute_result"
    }
   ],
   "source": [
    "test_output.shape, test_output.min(), test_output.max()"
   ]
  },
  {
   "cell_type": "markdown",
   "id": "612140bd-56a6-4a2c-802f-606e82211021",
   "metadata": {},
   "source": [
    "## Use the model"
   ]
  },
  {
   "cell_type": "markdown",
   "id": "47e22b12-06e0-4d16-9b20-975790598d0c",
   "metadata": {},
   "source": [
    "We can now use this model for various downstream functions. As an example, we will take the random sequence we generated above, and edit it using directed evolution to produce a sequence accessible in GM12878 but not in K562 cells. See Tutorial 4 for more details on the directed evolution process."
   ]
  },
  {
   "cell_type": "code",
   "execution_count": 21,
   "id": "9e856bb8-a86c-432f-8cf8-6e75281715cc",
   "metadata": {},
   "outputs": [],
   "source": [
    "from grelu.transforms.prediction_transforms import Specificity\n",
    "\n",
    "gm12878_specificity = Specificity(\n",
    "    on_tasks = [\"GM12878\"],\n",
    "    off_tasks = [\"K562\"],\n",
    "    model = grelu_model,\n",
    "    compare_func='subtract', # Maximize the difference in probabilities\n",
    ")"
   ]
  },
  {
   "cell_type": "code",
   "execution_count": 22,
   "id": "ecf3e209-ceed-45b2-81a7-116ff2b90e84",
   "metadata": {
    "scrolled": true
   },
   "outputs": [
    {
     "name": "stderr",
     "output_type": "stream",
     "text": [
      "GPU available: True (cuda), used: True\n",
      "TPU available: False, using: 0 TPU cores\n",
      "HPU available: False, using: 0 HPUs\n",
      "/opt/conda/lib/python3.11/site-packages/pytorch_lightning/utilities/parsing.py:44: Attribute 'model_params' removed from hparams because it cannot be pickled. You can suppress this warning by setting `self.save_hyperparameters(ignore=['model_params'])`.\n",
      "LOCAL_RANK: 0 - CUDA_VISIBLE_DEVICES: [0,1,2,3,4,5,6,7]\n"
     ]
    },
    {
     "name": "stdout",
     "output_type": "stream",
     "text": [
      "Iteration 0\n",
      "Predicting DataLoader 0: 100%|███████████████████████████████████████████████████████████████████████████████████████████████████████████████████████████████████████████████████████████████████████████████| 1/1 [00:00<00:00,  3.34it/s]"
     ]
    },
    {
     "name": "stderr",
     "output_type": "stream",
     "text": [
      "GPU available: True (cuda), used: True\n",
      "TPU available: False, using: 0 TPU cores\n",
      "HPU available: False, using: 0 HPUs\n",
      "LOCAL_RANK: 0 - CUDA_VISIBLE_DEVICES: [0,1,2,3,4,5,6,7]\n"
     ]
    },
    {
     "name": "stdout",
     "output_type": "stream",
     "text": [
      "\n",
      "Best value at iteration 0: 0.015\n",
      "Iteration 1\n",
      "Predicting DataLoader 0: 100%|███████████████████████████████████████████████████████████████████████████████████████████████████████████████████████████████████████████████████████████████████████████████| 8/8 [00:00<00:00, 82.64it/s]\n"
     ]
    },
    {
     "name": "stderr",
     "output_type": "stream",
     "text": [
      "GPU available: True (cuda), used: True\n",
      "TPU available: False, using: 0 TPU cores\n",
      "HPU available: False, using: 0 HPUs\n",
      "LOCAL_RANK: 0 - CUDA_VISIBLE_DEVICES: [0,1,2,3,4,5,6,7]\n"
     ]
    },
    {
     "name": "stdout",
     "output_type": "stream",
     "text": [
      "Best value at iteration 1: 0.031\n",
      "Iteration 2\n",
      "Predicting DataLoader 0: 100%|██████████████████████████████████████████████████████████████████████████████████████████████████████████████████████████████████████████████████████████████████████████████| 8/8 [00:00<00:00, 180.80it/s]\n"
     ]
    },
    {
     "name": "stderr",
     "output_type": "stream",
     "text": [
      "GPU available: True (cuda), used: True\n",
      "TPU available: False, using: 0 TPU cores\n",
      "HPU available: False, using: 0 HPUs\n",
      "LOCAL_RANK: 0 - CUDA_VISIBLE_DEVICES: [0,1,2,3,4,5,6,7]\n"
     ]
    },
    {
     "name": "stdout",
     "output_type": "stream",
     "text": [
      "Best value at iteration 2: 0.070\n",
      "Iteration 3\n",
      "Predicting DataLoader 0: 100%|██████████████████████████████████████████████████████████████████████████████████████████████████████████████████████████████████████████████████████████████████████████████| 8/8 [00:00<00:00, 156.96it/s]\n"
     ]
    },
    {
     "name": "stderr",
     "output_type": "stream",
     "text": [
      "GPU available: True (cuda), used: True\n",
      "TPU available: False, using: 0 TPU cores\n",
      "HPU available: False, using: 0 HPUs\n",
      "LOCAL_RANK: 0 - CUDA_VISIBLE_DEVICES: [0,1,2,3,4,5,6,7]\n"
     ]
    },
    {
     "name": "stdout",
     "output_type": "stream",
     "text": [
      "Best value at iteration 3: 0.113\n",
      "Iteration 4\n",
      "Predicting DataLoader 0: 100%|██████████████████████████████████████████████████████████████████████████████████████████████████████████████████████████████████████████████████████████████████████████████| 8/8 [00:00<00:00, 161.04it/s]\n"
     ]
    },
    {
     "name": "stderr",
     "output_type": "stream",
     "text": [
      "GPU available: True (cuda), used: True\n",
      "TPU available: False, using: 0 TPU cores\n",
      "HPU available: False, using: 0 HPUs\n",
      "LOCAL_RANK: 0 - CUDA_VISIBLE_DEVICES: [0,1,2,3,4,5,6,7]\n"
     ]
    },
    {
     "name": "stdout",
     "output_type": "stream",
     "text": [
      "Best value at iteration 4: 0.174\n",
      "Iteration 5\n",
      "Predicting DataLoader 0: 100%|██████████████████████████████████████████████████████████████████████████████████████████████████████████████████████████████████████████████████████████████████████████████| 8/8 [00:00<00:00, 158.12it/s]\n"
     ]
    },
    {
     "name": "stderr",
     "output_type": "stream",
     "text": [
      "GPU available: True (cuda), used: True\n",
      "TPU available: False, using: 0 TPU cores\n",
      "HPU available: False, using: 0 HPUs\n",
      "LOCAL_RANK: 0 - CUDA_VISIBLE_DEVICES: [0,1,2,3,4,5,6,7]\n"
     ]
    },
    {
     "name": "stdout",
     "output_type": "stream",
     "text": [
      "Best value at iteration 5: 0.233\n",
      "Iteration 6\n",
      "Predicting DataLoader 0: 100%|██████████████████████████████████████████████████████████████████████████████████████████████████████████████████████████████████████████████████████████████████████████████| 8/8 [00:00<00:00, 167.53it/s]\n"
     ]
    },
    {
     "name": "stderr",
     "output_type": "stream",
     "text": [
      "GPU available: True (cuda), used: True\n",
      "TPU available: False, using: 0 TPU cores\n",
      "HPU available: False, using: 0 HPUs\n",
      "LOCAL_RANK: 0 - CUDA_VISIBLE_DEVICES: [0,1,2,3,4,5,6,7]\n"
     ]
    },
    {
     "name": "stdout",
     "output_type": "stream",
     "text": [
      "Best value at iteration 6: 0.282\n",
      "Iteration 7\n",
      "Predicting DataLoader 0: 100%|██████████████████████████████████████████████████████████████████████████████████████████████████████████████████████████████████████████████████████████████████████████████| 8/8 [00:00<00:00, 160.66it/s]\n"
     ]
    },
    {
     "name": "stderr",
     "output_type": "stream",
     "text": [
      "GPU available: True (cuda), used: True\n",
      "TPU available: False, using: 0 TPU cores\n",
      "HPU available: False, using: 0 HPUs\n",
      "LOCAL_RANK: 0 - CUDA_VISIBLE_DEVICES: [0,1,2,3,4,5,6,7]\n"
     ]
    },
    {
     "name": "stdout",
     "output_type": "stream",
     "text": [
      "Best value at iteration 7: 0.325\n",
      "Iteration 8\n",
      "Predicting DataLoader 0: 100%|██████████████████████████████████████████████████████████████████████████████████████████████████████████████████████████████████████████████████████████████████████████████| 8/8 [00:00<00:00, 161.12it/s]\n"
     ]
    },
    {
     "name": "stderr",
     "output_type": "stream",
     "text": [
      "GPU available: True (cuda), used: True\n",
      "TPU available: False, using: 0 TPU cores\n",
      "HPU available: False, using: 0 HPUs\n",
      "LOCAL_RANK: 0 - CUDA_VISIBLE_DEVICES: [0,1,2,3,4,5,6,7]\n"
     ]
    },
    {
     "name": "stdout",
     "output_type": "stream",
     "text": [
      "Best value at iteration 8: 0.374\n",
      "Iteration 9\n",
      "Predicting DataLoader 0: 100%|███████████████████████████████████████████████████████████████████████████████████████████████████████████████████████████████████████████████████████████████████████████████| 8/8 [00:00<00:00, 27.15it/s]\n"
     ]
    },
    {
     "name": "stderr",
     "output_type": "stream",
     "text": [
      "GPU available: True (cuda), used: True\n",
      "TPU available: False, using: 0 TPU cores\n",
      "HPU available: False, using: 0 HPUs\n",
      "LOCAL_RANK: 0 - CUDA_VISIBLE_DEVICES: [0,1,2,3,4,5,6,7]\n"
     ]
    },
    {
     "name": "stdout",
     "output_type": "stream",
     "text": [
      "Best value at iteration 9: 0.419\n",
      "Iteration 10\n",
      "Predicting DataLoader 0: 100%|██████████████████████████████████████████████████████████████████████████████████████████████████████████████████████████████████████████████████████████████████████████████| 8/8 [00:00<00:00, 161.99it/s]\n",
      "Best value at iteration 10: 0.492\n"
     ]
    },
    {
     "name": "stderr",
     "output_type": "stream",
     "text": [
      "GPU available: True (cuda), used: True\n",
      "TPU available: False, using: 0 TPU cores\n",
      "HPU available: False, using: 0 HPUs\n",
      "LOCAL_RANK: 0 - CUDA_VISIBLE_DEVICES: [0,1,2,3,4,5,6,7]\n"
     ]
    },
    {
     "name": "stdout",
     "output_type": "stream",
     "text": [
      "Predicting DataLoader 0: 100%|████████████████████████████████████████████████████████████████████████████████████████████████████████████████████████████████████████████████████████████████████████████| 71/71 [00:00<00:00, 188.61it/s]\n"
     ]
    }
   ],
   "source": [
    "from grelu.design import evolve\n",
    "\n",
    "output = evolve(\n",
    "    test_input, # The initial sequences\n",
    "    grelu_model, \n",
    "    prediction_transform=gm12878_specificity, # Objective to optimize \n",
    "    max_iter=10, # Number of iterations for directed evolution\n",
    "    num_workers=16,\n",
    "    devices=0,\n",
    "    return_seqs=\"all\", # Return the best sequences in each iteration\n",
    "    batch_size=256,\n",
    ")"
   ]
  },
  {
   "cell_type": "code",
   "execution_count": 23,
   "id": "b8bf5a83-447c-4f04-93e2-eae73728aa5e",
   "metadata": {},
   "outputs": [
    {
     "name": "stderr",
     "output_type": "stream",
     "text": [
      "/opt/conda/lib/python3.11/site-packages/plotnine/themes/themeable.py:2419: FutureWarning: You no longer need to use subplots_adjust to make space for the legend or text around the panels. This paramater will be removed in a future version. You can still use 'plot_margin' 'panel_spacing' for your other spacing needs.\n"
     ]
    },
    {
     "data": {
      "image/png": "[encoded data removed]"
     },
     "metadata": {
      "image/png": {
       "height": 300,
       "width": 400
      }
     },
     "output_type": "display_data"
    }
   ],
   "source": [
    "import grelu.visualize\n",
    "grelu.visualize.plot_evolution(output, outlier_size=.1)"
   ]
  },
  {
   "cell_type": "code",
   "execution_count": null,
   "id": "09752252-2461-4ff9-9819-3106688956fe",
   "metadata": {},
   "outputs": [],
   "source": []
  }
 ],
 "metadata": {
  "kernelspec": {
   "display_name": "Python 3 (ipykernel)",
   "language": "python",
   "name": "python3"
  },
  "language_info": {
   "codemirror_mode": {
    "name": "ipython",
    "version": 3
   },
   "file_extension": ".py",
   "mimetype": "text/x-python",
   "name": "python",
   "nbconvert_exporter": "python",
   "pygments_lexer": "ipython3",
   "version": "3.11.9"
  }
 },
 "nbformat": 4,
 "nbformat_minor": 5
}
