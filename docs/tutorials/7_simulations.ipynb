{
 "cells": [
  {
   "cell_type": "markdown",
   "id": "b59efcd3-fea7-4ff1-9b7a-cd758c06c2fa",
   "metadata": {},
   "source": [
    "# Simulation-based model interpretation with gReLU"
   ]
  },
  {
   "cell_type": "code",
   "execution_count": 1,
   "id": "aaef40d1-cc4a-4cbf-b5a2-34bb2da9521e",
   "metadata": {},
   "outputs": [],
   "source": [
    "import os\n",
    "import numpy as np\n",
    "import pandas as pd\n",
    "\n",
    "from plotnine import *\n",
    "import seaborn as sns\n",
    "\n",
    "%matplotlib inline"
   ]
  },
  {
   "cell_type": "markdown",
   "id": "c0857358-dfba-4c1e-b40a-6a6ce7d0580f",
   "metadata": {},
   "source": [
    "This tutorial demonstrates some of gReLU's functions for making predictions on simulated genomic sequences with specific properties. This allows us to decipher the regulatory grammar and syntax learned by a model.\n",
    "\n",
    "gReLU makes it easy to perform such analyses using short-context as well as long-context models. In this tutorial we will use two models: a binary classification model trained on CATLAS snATAC-seq data (see Tutorial 2), and Enformer.\n",
    "\n",
    "First we demonstrate some simple functions using the CATLAS binary classification model. We begin by loading the model from the model zoo:"
   ]
  },
  {
   "cell_type": "code",
   "execution_count": 2,
   "id": "6b306c4c-6157-44a7-879a-a3440757beb6",
   "metadata": {},
   "outputs": [
    {
     "name": "stderr",
     "output_type": "stream",
     "text": [
      "/opt/conda/lib/python3.11/site-packages/tqdm/auto.py:21: TqdmWarning: IProgress not found. Please update jupyter and ipywidgets. See https://ipywidgets.readthedocs.io/en/stable/user_install.html\n",
      "Failed to detect the name of this notebook, you can set it manually with the WANDB_NOTEBOOK_NAME environment variable to enable code saving.\n",
      "\u001b[34m\u001b[1mwandb\u001b[0m: Using wandb-core as the SDK backend. Please refer to https://wandb.me/wandb-core for more information.\n",
      "\u001b[34m\u001b[1mwandb\u001b[0m: Currently logged in as: \u001b[33manony-mouse-180959755991866352\u001b[0m. Use \u001b[1m`wandb login --relogin`\u001b[0m to force relogin\n",
      "\u001b[34m\u001b[1mwandb\u001b[0m: Downloading large artifact model:latest, 825.03MB. 1 files... \n",
      "\u001b[34m\u001b[1mwandb\u001b[0m:   1 of 1 files downloaded.  \n",
      "Done. 0:0:0.7\n",
      "\u001b[34m\u001b[1mwandb\u001b[0m: Downloading large artifact human_state_dict:latest, 939.29MB. 1 files... \n",
      "\u001b[34m\u001b[1mwandb\u001b[0m:   1 of 1 files downloaded.  \n",
      "Done. 0:0:0.7\n",
      "/opt/conda/lib/python3.11/site-packages/grelu/model/models.py:762: FutureWarning: You are using `torch.load` with `weights_only=False` (the current default value), which uses the default pickle module implicitly. It is possible to construct malicious pickle data which will execute arbitrary code during unpickling (See https://github.com/pytorch/pytorch/blob/main/SECURITY.md#untrusted-models for more details). In a future release, the default value for `weights_only` will be flipped to `True`. This limits the functions that could be executed during unpickling. Arbitrary objects will no longer be allowed to be loaded via this mode unless they are explicitly allowlisted by the user via `torch.serialization.add_safe_globals`. We recommend you start setting `weights_only=True` for any use case where you don't have full control of the loaded file. Please open an issue on GitHub for any issues related to this experimental feature.\n"
     ]
    }
   ],
   "source": [
    "import grelu.resources\n",
    "\n",
    "catlas = grelu.resources.load_model(\n",
    "    project=\"human-atac-catlas\",\n",
    "    model_name=\"model\",\n",
    ")"
   ]
  },
  {
   "cell_type": "markdown",
   "id": "be83af2c-574d-470a-aa06-dec014085781",
   "metadata": {},
   "source": [
    "Note once again that this object contains the model metadata, so we can extract a dataframe describing the cell types for which the model makes predictions."
   ]
  },
  {
   "cell_type": "code",
   "execution_count": 3,
   "id": "f70b5952-3d4b-41e6-8dcb-4a516d5bcca2",
   "metadata": {},
   "outputs": [
    {
     "name": "stdout",
     "output_type": "stream",
     "text": [
      "204\n"
     ]
    },
    {
     "data": {
      "text/html": [
       "<div>\n",
       "<style scoped>\n",
       "    .dataframe tbody tr th:only-of-type {\n",
       "        vertical-align: middle;\n",
       "    }\n",
       "\n",
       "    .dataframe tbody tr th {\n",
       "        vertical-align: top;\n",
       "    }\n",
       "\n",
       "    .dataframe thead th {\n",
       "        text-align: right;\n",
       "    }\n",
       "</style>\n",
       "<table border=\"1\" class=\"dataframe\">\n",
       "  <thead>\n",
       "    <tr style=\"text-align: right;\">\n",
       "      <th></th>\n",
       "      <th>name</th>\n",
       "      <th>cell type</th>\n",
       "    </tr>\n",
       "  </thead>\n",
       "  <tbody>\n",
       "    <tr>\n",
       "      <th>0</th>\n",
       "      <td>Follicular</td>\n",
       "      <td>Follicular</td>\n",
       "    </tr>\n",
       "    <tr>\n",
       "      <th>1</th>\n",
       "      <td>Fibro General</td>\n",
       "      <td>Fibro General</td>\n",
       "    </tr>\n",
       "    <tr>\n",
       "      <th>2</th>\n",
       "      <td>Acinar</td>\n",
       "      <td>Acinar</td>\n",
       "    </tr>\n",
       "  </tbody>\n",
       "</table>\n",
       "</div>"
      ],
      "text/plain": [
       "            name      cell type\n",
       "0     Follicular     Follicular\n",
       "1  Fibro General  Fibro General\n",
       "2         Acinar         Acinar"
      ]
     },
     "execution_count": 3,
     "metadata": {},
     "output_type": "execute_result"
    }
   ],
   "source": [
    "tasks = pd.DataFrame(catlas.data_params['tasks'])\n",
    "print(len(tasks))\n",
    "tasks.head(3)"
   ]
  },
  {
   "cell_type": "markdown",
   "id": "8e3d9edc-f818-4749-a0c8-198d2631a227",
   "metadata": {},
   "source": [
    "We can also download from the model zoo the dataset used to train this model:"
   ]
  },
  {
   "cell_type": "code",
   "execution_count": 4,
   "id": "1111a71b-8c89-4dab-b15c-b2e5bed00f73",
   "metadata": {},
   "outputs": [
    {
     "name": "stderr",
     "output_type": "stream",
     "text": [
      "\u001b[34m\u001b[1mwandb\u001b[0m: Downloading large artifact dataset:latest, 202.72MB. 1 files... \n",
      "\u001b[34m\u001b[1mwandb\u001b[0m:   1 of 1 files downloaded.  \n",
      "Done. 0:0:0.4\n"
     ]
    }
   ],
   "source": [
    "import anndata\n",
    "\n",
    "data_dir = grelu.resources.get_artifact(\n",
    "    project=\"human-atac-catlas\",\n",
    "    name=\"dataset\",\n",
    ").download()\n",
    "\n",
    "ad = anndata.read_h5ad(os.path.join(data_dir, 'preprocessed.h5ad'))"
   ]
  },
  {
   "cell_type": "markdown",
   "id": "71ab760c-ad08-4c6f-aa3c-3b077c053a1e",
   "metadata": {},
   "source": [
    "Let us extract 500 intervals from the test set:"
   ]
  },
  {
   "cell_type": "code",
   "execution_count": 5,
   "id": "8c94f968-692f-43ab-a067-7a6a781a0909",
   "metadata": {},
   "outputs": [
    {
     "data": {
      "text/html": [
       "<div>\n",
       "<style scoped>\n",
       "    .dataframe tbody tr th:only-of-type {\n",
       "        vertical-align: middle;\n",
       "    }\n",
       "\n",
       "    .dataframe tbody tr th {\n",
       "        vertical-align: top;\n",
       "    }\n",
       "\n",
       "    .dataframe thead th {\n",
       "        text-align: right;\n",
       "    }\n",
       "</style>\n",
       "<table border=\"1\" class=\"dataframe\">\n",
       "  <thead>\n",
       "    <tr style=\"text-align: right;\">\n",
       "      <th></th>\n",
       "      <th>chrom</th>\n",
       "      <th>start</th>\n",
       "      <th>end</th>\n",
       "      <th>cre_class</th>\n",
       "      <th>in_fetal</th>\n",
       "      <th>in_adult</th>\n",
       "      <th>cre_module</th>\n",
       "      <th>width</th>\n",
       "    </tr>\n",
       "  </thead>\n",
       "  <tbody>\n",
       "    <tr>\n",
       "      <th>298043</th>\n",
       "      <td>chr13</td>\n",
       "      <td>101940428</td>\n",
       "      <td>101940628</td>\n",
       "      <td>Distal</td>\n",
       "      <td>yes</td>\n",
       "      <td>no</td>\n",
       "      <td>101</td>\n",
       "      <td>400</td>\n",
       "    </tr>\n",
       "    <tr>\n",
       "      <th>293063</th>\n",
       "      <td>chr13</td>\n",
       "      <td>90612491</td>\n",
       "      <td>90612691</td>\n",
       "      <td>Distal</td>\n",
       "      <td>no</td>\n",
       "      <td>yes</td>\n",
       "      <td>133</td>\n",
       "      <td>400</td>\n",
       "    </tr>\n",
       "    <tr>\n",
       "      <th>276356</th>\n",
       "      <td>chr13</td>\n",
       "      <td>39024509</td>\n",
       "      <td>39024709</td>\n",
       "      <td>Distal</td>\n",
       "      <td>yes</td>\n",
       "      <td>no</td>\n",
       "      <td>63</td>\n",
       "      <td>400</td>\n",
       "    </tr>\n",
       "    <tr>\n",
       "      <th>286595</th>\n",
       "      <td>chr13</td>\n",
       "      <td>68107652</td>\n",
       "      <td>68107852</td>\n",
       "      <td>Distal</td>\n",
       "      <td>no</td>\n",
       "      <td>yes</td>\n",
       "      <td>147</td>\n",
       "      <td>400</td>\n",
       "    </tr>\n",
       "    <tr>\n",
       "      <th>287685</th>\n",
       "      <td>chr13</td>\n",
       "      <td>72918243</td>\n",
       "      <td>72918443</td>\n",
       "      <td>Distal</td>\n",
       "      <td>yes</td>\n",
       "      <td>no</td>\n",
       "      <td>8</td>\n",
       "      <td>400</td>\n",
       "    </tr>\n",
       "  </tbody>\n",
       "</table>\n",
       "</div>"
      ],
      "text/plain": [
       "        chrom      start        end cre_class in_fetal in_adult  cre_module  \\\n",
       "298043  chr13  101940428  101940628    Distal      yes       no         101   \n",
       "293063  chr13   90612491   90612691    Distal       no      yes         133   \n",
       "276356  chr13   39024509   39024709    Distal      yes       no          63   \n",
       "286595  chr13   68107652   68107852    Distal       no      yes         147   \n",
       "287685  chr13   72918243   72918443    Distal      yes       no           8   \n",
       "\n",
       "        width  \n",
       "298043    400  \n",
       "293063    400  \n",
       "276356    400  \n",
       "286595    400  \n",
       "287685    400  "
      ]
     },
     "execution_count": 5,
     "metadata": {},
     "output_type": "execute_result"
    }
   ],
   "source": [
    "test_intervals = ad.var[ad.var.chrom=='chr13']\n",
    "test_intervals = test_intervals.sample(500)\n",
    "\n",
    "test_intervals.head()"
   ]
  },
  {
   "cell_type": "markdown",
   "id": "bcda442c-33a7-4162-b7d4-74d8d392d885",
   "metadata": {},
   "source": [
    "## Motif marginalization"
   ]
  },
  {
   "cell_type": "markdown",
   "id": "240107b9-91e3-4f54-91e4-8611bcd8c9cd",
   "metadata": {},
   "source": [
    "In order to understand the function of a specific motif, we can insert the motif into shuffled sequences. By making predictions on the shuffled sequences before and after motif insertion, we can compute the extent to which the motif alone increases predicted activity.\n",
    "\n",
    "To demonstrate, we extract a few selected motifs from the HOCOMOCO database."
   ]
  },
  {
   "cell_type": "code",
   "execution_count": 6,
   "id": "52eac256-ccbb-402d-98e1-2090e92bb048",
   "metadata": {},
   "outputs": [],
   "source": [
    "import grelu.io.motifs\n",
    "import grelu.interpret.motifs\n",
    "\n",
    "motif_names = ['CTCF.H12CORE.0.P.B', 'IRF4.H12CORE.0.P.B', 'SPI1.H12CORE.0.P.B',\n",
    "               'HNF1A.H12CORE.0.PS.A']\n",
    "motifs = grelu.io.motifs.read_meme_file(\"hocomoco_v12\", names=motif_names)"
   ]
  },
  {
   "cell_type": "markdown",
   "id": "c5d9e42f-7c10-4cc4-a43f-46d0079df78d",
   "metadata": {},
   "source": [
    "This is a dictionary containing the motifs. We can extract the consensus sequence for each motif:"
   ]
  },
  {
   "cell_type": "code",
   "execution_count": 7,
   "id": "0122a002-d0bd-4fa3-8c79-b96befdffc1f",
   "metadata": {},
   "outputs": [
    {
     "name": "stdout",
     "output_type": "stream",
     "text": [
      "['TGGCCACTAGGGGGCGCTAG', 'AAAGAGGAACTGAAACT', 'AAAAGAGGAAGTGA', 'GGTTAATGATTAACC']\n"
     ]
    }
   ],
   "source": [
    "patterns = grelu.interpret.motifs.motifs_to_strings(motifs)\n",
    "print(patterns)"
   ]
  },
  {
   "cell_type": "markdown",
   "id": "22a76662-297f-43bf-ac86-bd5e14930454",
   "metadata": {},
   "source": [
    "Now, we insert each of these motifs into shuffled sequences and compare the predictions before and after motif insertion. gReLU provides an easy function `marginalize_patterns` to perform this analysis."
   ]
  },
  {
   "cell_type": "code",
   "execution_count": 8,
   "id": "3a7021b6-c317-4faa-ad00-28649d949538",
   "metadata": {},
   "outputs": [
    {
     "name": "stderr",
     "output_type": "stream",
     "text": [
      "GPU available: True (cuda), used: True\n",
      "TPU available: False, using: 0 TPU cores\n",
      "HPU available: False, using: 0 HPUs\n",
      "LOCAL_RANK: 0 - CUDA_VISIBLE_DEVICES: [0,1,2,3,4,5,6,7]\n"
     ]
    },
    {
     "name": "stdout",
     "output_type": "stream",
     "text": [
      "Predicting DataLoader 0: 100%|█████████████████████████████████████████████████████████████████████████████████████████████████████████████████████████████████████████████████████████████████████████████| 15/15 [00:01<00:00, 10.03it/s]\n"
     ]
    }
   ],
   "source": [
    "import grelu.interpret.simulate\n",
    "\n",
    "preds = grelu.interpret.simulate.marginalize_patterns(\n",
    "    model=catlas,\n",
    "    patterns=patterns,\n",
    "    seqs=test_intervals,\n",
    "    genome='hg38',\n",
    "    devices=0,\n",
    "    num_workers=16,\n",
    "    batch_size=512,\n",
    "    n_shuffles=3, # Each test sequence will be shuffled 3 times \n",
    "    seed=0,\n",
    "    augment_aggfunc='mean', # Return mean effect across 3 shuffles for each sequence\n",
    "    compare_func='subtract', # Return the difference in prediction with and without motif\n",
    ")"
   ]
  },
  {
   "cell_type": "code",
   "execution_count": 9,
   "id": "f3d57630-d37c-49cd-87ff-bb4d7c23afa6",
   "metadata": {},
   "outputs": [
    {
     "data": {
      "text/plain": [
       "(500, 4, 204)"
      ]
     },
     "execution_count": 9,
     "metadata": {},
     "output_type": "execute_result"
    }
   ],
   "source": [
    "preds.shape"
   ]
  },
  {
   "cell_type": "markdown",
   "id": "6c1c012c-616c-4532-b440-bc293d2b8e64",
   "metadata": {},
   "source": [
    "The `preds` object has the shape (500, 4, 204) where 500 is the number of background sequences, 4 is the number of motifs, and 204 is the number of cell types."
   ]
  },
  {
   "cell_type": "markdown",
   "id": "00fbe686-7c21-46e0-a490-e068253b3049",
   "metadata": {},
   "source": [
    "We can now subset the results for our cell type of interest. For example, microglia:"
   ]
  },
  {
   "cell_type": "code",
   "execution_count": 10,
   "id": "72971d3f-0242-4d8f-9618-55208150697d",
   "metadata": {},
   "outputs": [
    {
     "data": {
      "text/plain": [
       "(500, 4, 1)"
      ]
     },
     "execution_count": 10,
     "metadata": {},
     "output_type": "execute_result"
    }
   ],
   "source": [
    "microglia_preds = preds[:, :, tasks.name=='Microglia']\n",
    "microglia_preds.shape"
   ]
  },
  {
   "cell_type": "code",
   "execution_count": 11,
   "id": "409fcfcf-ef1c-49a4-b29e-39dadb4cdde2",
   "metadata": {},
   "outputs": [
    {
     "data": {
      "text/html": [
       "<div>\n",
       "<style scoped>\n",
       "    .dataframe tbody tr th:only-of-type {\n",
       "        vertical-align: middle;\n",
       "    }\n",
       "\n",
       "    .dataframe tbody tr th {\n",
       "        vertical-align: top;\n",
       "    }\n",
       "\n",
       "    .dataframe thead th {\n",
       "        text-align: right;\n",
       "    }\n",
       "</style>\n",
       "<table border=\"1\" class=\"dataframe\">\n",
       "  <thead>\n",
       "    <tr style=\"text-align: right;\">\n",
       "      <th></th>\n",
       "      <th>CTCF.H12CORE.0.P.B</th>\n",
       "      <th>IRF4.H12CORE.0.P.B</th>\n",
       "      <th>SPI1.H12CORE.0.P.B</th>\n",
       "      <th>HNF1A.H12CORE.0.PS.A</th>\n",
       "    </tr>\n",
       "  </thead>\n",
       "  <tbody>\n",
       "    <tr>\n",
       "      <th>0</th>\n",
       "      <td>0.023315</td>\n",
       "      <td>0.570953</td>\n",
       "      <td>0.370466</td>\n",
       "      <td>-0.023154</td>\n",
       "    </tr>\n",
       "    <tr>\n",
       "      <th>1</th>\n",
       "      <td>0.039023</td>\n",
       "      <td>0.250571</td>\n",
       "      <td>0.130545</td>\n",
       "      <td>-0.000975</td>\n",
       "    </tr>\n",
       "    <tr>\n",
       "      <th>2</th>\n",
       "      <td>0.032252</td>\n",
       "      <td>0.418972</td>\n",
       "      <td>0.276239</td>\n",
       "      <td>0.004197</td>\n",
       "    </tr>\n",
       "    <tr>\n",
       "      <th>3</th>\n",
       "      <td>0.032083</td>\n",
       "      <td>0.700294</td>\n",
       "      <td>0.316740</td>\n",
       "      <td>0.002583</td>\n",
       "    </tr>\n",
       "    <tr>\n",
       "      <th>4</th>\n",
       "      <td>0.051430</td>\n",
       "      <td>0.360766</td>\n",
       "      <td>0.157754</td>\n",
       "      <td>-0.000718</td>\n",
       "    </tr>\n",
       "  </tbody>\n",
       "</table>\n",
       "</div>"
      ],
      "text/plain": [
       "   CTCF.H12CORE.0.P.B  IRF4.H12CORE.0.P.B  SPI1.H12CORE.0.P.B  \\\n",
       "0            0.023315            0.570953            0.370466   \n",
       "1            0.039023            0.250571            0.130545   \n",
       "2            0.032252            0.418972            0.276239   \n",
       "3            0.032083            0.700294            0.316740   \n",
       "4            0.051430            0.360766            0.157754   \n",
       "\n",
       "   HNF1A.H12CORE.0.PS.A  \n",
       "0             -0.023154  \n",
       "1             -0.000975  \n",
       "2              0.004197  \n",
       "3              0.002583  \n",
       "4             -0.000718  "
      ]
     },
     "execution_count": 11,
     "metadata": {},
     "output_type": "execute_result"
    }
   ],
   "source": [
    "microglia_preds = pd.DataFrame(microglia_preds.squeeze(), columns=motif_names)\n",
    "microglia_preds.head()"
   ]
  },
  {
   "cell_type": "markdown",
   "id": "b288caf8-7ef4-4b0d-9e63-394707386657",
   "metadata": {},
   "source": [
    "We can now visualize the effect of each of these motifs in microglia:"
   ]
  },
  {
   "cell_type": "code",
   "execution_count": 26,
   "id": "382f7a1b-76aa-4f7a-bbbd-27563498640a",
   "metadata": {},
   "outputs": [
    {
     "data": {
      "text/plain": [
       "<Axes: title={'center': 'Increase in predicted probability of\\naccessibility in microglia after inserting motif'}>"
      ]
     },
     "execution_count": 26,
     "metadata": {},
     "output_type": "execute_result"
    },
    {
     "data": {
      "image/png": "[encoded data removed]",
      "text/plain": [
       "<Figure size 600x200 with 1 Axes>"
      ]
     },
     "metadata": {},
     "output_type": "display_data"
    }
   ],
   "source": [
    "microglia_preds.plot.box(rot=45, figsize=(6,2),\n",
    "    title='Increase in predicted probability of\\naccessibility in microglia after inserting motif')"
   ]
  },
  {
   "cell_type": "markdown",
   "id": "6ac8deca-107c-4da7-8292-729fe9bf49bf",
   "metadata": {},
   "source": [
    "We can also compare the average effect of each motifs across all 204 cell types. For this, we first average the effect across all 500 peaks:"
   ]
  },
  {
   "cell_type": "code",
   "execution_count": 19,
   "id": "51274aa6-0b33-4daa-af39-e299d636aa4d",
   "metadata": {},
   "outputs": [
    {
     "name": "stdout",
     "output_type": "stream",
     "text": [
      "(500, 4, 204)\n",
      "(4, 204)\n"
     ]
    }
   ],
   "source": [
    "print(preds.shape)\n",
    "mean_motif_effect = preds.mean(0)\n",
    "print(mean_motif_effect.shape)"
   ]
  },
  {
   "cell_type": "markdown",
   "id": "3a2306ce-59d5-48e4-a331-b74f17b8d3ae",
   "metadata": {},
   "source": [
    "This gives us an array of size (motifs x cell types). We can represent this as a pandas dataframe:"
   ]
  },
  {
   "cell_type": "code",
   "execution_count": 21,
   "id": "80c8918b-37dc-440b-91fc-80289841ed36",
   "metadata": {},
   "outputs": [
    {
     "data": {
      "text/html": [
       "<div>\n",
       "<style scoped>\n",
       "    .dataframe tbody tr th:only-of-type {\n",
       "        vertical-align: middle;\n",
       "    }\n",
       "\n",
       "    .dataframe tbody tr th {\n",
       "        vertical-align: top;\n",
       "    }\n",
       "\n",
       "    .dataframe thead th {\n",
       "        text-align: right;\n",
       "    }\n",
       "</style>\n",
       "<table border=\"1\" class=\"dataframe\">\n",
       "  <thead>\n",
       "    <tr style=\"text-align: right;\">\n",
       "      <th>name</th>\n",
       "      <th>Follicular</th>\n",
       "      <th>Fibro General</th>\n",
       "      <th>Acinar</th>\n",
       "      <th>T Lymphocyte 1 (CD8+)</th>\n",
       "      <th>T lymphocyte 2 (CD4+)</th>\n",
       "    </tr>\n",
       "  </thead>\n",
       "  <tbody>\n",
       "    <tr>\n",
       "      <th>CTCF.H12CORE.0.P.B</th>\n",
       "      <td>0.347364</td>\n",
       "      <td>0.392916</td>\n",
       "      <td>0.368625</td>\n",
       "      <td>0.266124</td>\n",
       "      <td>0.246291</td>\n",
       "    </tr>\n",
       "    <tr>\n",
       "      <th>IRF4.H12CORE.0.P.B</th>\n",
       "      <td>-0.038001</td>\n",
       "      <td>-0.009706</td>\n",
       "      <td>-0.002484</td>\n",
       "      <td>0.058063</td>\n",
       "      <td>0.036035</td>\n",
       "    </tr>\n",
       "  </tbody>\n",
       "</table>\n",
       "</div>"
      ],
      "text/plain": [
       "name                Follicular  Fibro General    Acinar  \\\n",
       "CTCF.H12CORE.0.P.B    0.347364       0.392916  0.368625   \n",
       "IRF4.H12CORE.0.P.B   -0.038001      -0.009706 -0.002484   \n",
       "\n",
       "name                T Lymphocyte 1 (CD8+)  T lymphocyte 2 (CD4+)  \n",
       "CTCF.H12CORE.0.P.B               0.266124               0.246291  \n",
       "IRF4.H12CORE.0.P.B               0.058063               0.036035  "
      ]
     },
     "execution_count": 21,
     "metadata": {},
     "output_type": "execute_result"
    }
   ],
   "source": [
    "mean_motif_effect = pd.DataFrame(mean_motif_effect, index=motif_names, columns=tasks.name)\n",
    "mean_motif_effect.iloc[:2, :5]"
   ]
  },
  {
   "cell_type": "markdown",
   "id": "6355612c-c728-4a10-ae6c-694ab4c00828",
   "metadata": {},
   "source": [
    "For visualization, let us select the 20 cell types with highest variance:"
   ]
  },
  {
   "cell_type": "code",
   "execution_count": 22,
   "id": "6cd075a6-4c35-45ec-b2e0-a62b67a1d0a5",
   "metadata": {},
   "outputs": [
    {
     "data": {
      "text/plain": [
       "Index(['Fetal Acinar 2', 'Fetal T Lymphocyte 1 (CD4+)',\n",
       "       'Fetal Fibro Placental 1', 'Fetal B Lymphocyte 2 (CXCR5+)',\n",
       "       'Delta+Gamma', 'Fetal Photoreceptor', 'Hepatocyte', 'Memory B',\n",
       "       'Macrophage General', 'Fetal Retinal Progenitor 1', 'Alpha 1',\n",
       "       'Plasma B', 'Acinar', 'Fetal Thymocyte', 'Fetal Adrenal Neuron',\n",
       "       'Fetal Adrenal Cortical', 'Fetal Hepatoblast',\n",
       "       'Fetal B Lymphocyte 1 (SPIB+)', 'Fetal Syncitio+Cytotrophoblast',\n",
       "       'Fetal Erythroblast 2'],\n",
       "      dtype='object', name='name')"
      ]
     },
     "execution_count": 22,
     "metadata": {},
     "output_type": "execute_result"
    }
   ],
   "source": [
    "variable_cell_types = mean_motif_effect.var(0).sort_values().tail(20).index\n",
    "variable_cell_types"
   ]
  },
  {
   "cell_type": "code",
   "execution_count": 24,
   "id": "f89007b8-a814-4219-84e7-16cc848678df",
   "metadata": {},
   "outputs": [
    {
     "data": {
      "text/plain": [
       "<seaborn.matrix.ClusterGrid at 0x7fee39e69ed0>"
      ]
     },
     "execution_count": 24,
     "metadata": {},
     "output_type": "execute_result"
    },
    {
     "data": {
      "image/png": "[encoded data removed]",
      "text/plain": [
       "<Figure size 600x600 with 4 Axes>"
      ]
     },
     "metadata": {},
     "output_type": "display_data"
    }
   ],
   "source": [
    "sns.clustermap(mean_motif_effect.loc[:, variable_cell_types].T, figsize=(6,6))"
   ]
  },
  {
   "cell_type": "markdown",
   "id": "f810411c-aa3b-4e3a-8612-6c528ee44bbb",
   "metadata": {},
   "source": [
    "## Spacing between motifs"
   ]
  },
  {
   "cell_type": "markdown",
   "id": "b51df164-f74a-4bac-b587-b45454311cb0",
   "metadata": {},
   "source": [
    "Given two motifs, we may want to know whether the spacing between them is important for regulatory function. Here, we insert a TEAD motif in the center of the shuffled peak and then insert a FOS motif at different distances from the TEAD motif. We compute the increase in predictions in fibroblasts before and after inserting the TEAD motif. We marginalize the effect of the FOS motif across all 500 shuffled peak sequences.\n",
    "\n",
    "First, we load the motifs from the HOCOMOCO database:"
   ]
  },
  {
   "cell_type": "code",
   "execution_count": 27,
   "id": "7030b422-edbc-4abb-b3e5-cb4f17f2a006",
   "metadata": {},
   "outputs": [],
   "source": [
    "motifs = grelu.io.motifs.read_meme_file(\"hocomoco_v12\", \n",
    "                        names=['TEAD1.H12CORE.0.PSM.A', 'FOS.H12CORE.0.P.B'])"
   ]
  },
  {
   "cell_type": "markdown",
   "id": "26b6910c-0485-497b-9458-02158558ef1f",
   "metadata": {},
   "source": [
    "And extract the consensus sequence for each motif:"
   ]
  },
  {
   "cell_type": "code",
   "execution_count": 28,
   "id": "75148493-4150-40f2-a328-8cd8319b39a9",
   "metadata": {},
   "outputs": [],
   "source": [
    "patterns = grelu.interpret.motifs.motifs_to_strings(motifs)\n",
    "tead_pattern, fos_pattern = patterns"
   ]
  },
  {
   "cell_type": "code",
   "execution_count": 29,
   "id": "afa4b55b-7a95-45a5-a112-94d8e0f25a8d",
   "metadata": {},
   "outputs": [
    {
     "name": "stdout",
     "output_type": "stream",
     "text": [
      "CCACATTCCAGGC\n",
      "GTGAGTCACCA\n"
     ]
    },
    {
     "data": {
      "text/plain": [
       "(None, None)"
      ]
     },
     "execution_count": 29,
     "metadata": {},
     "output_type": "execute_result"
    }
   ],
   "source": [
    "print(tead_pattern), print(fos_pattern)"
   ]
  },
  {
   "cell_type": "markdown",
   "id": "8207820a-ee76-43c0-8fc8-240c4f85a509",
   "metadata": {},
   "source": [
    "gReLU provides another handy function `space_patterns` to compute the effect of different inter-motif distances. Note that this function produces two outputs: `preds` (model predictions) and `distances` (distances at which the second motif was inserted). "
   ]
  },
  {
   "cell_type": "code",
   "execution_count": 31,
   "id": "e8fabd26-fc0b-40f8-804b-e24eb36685bc",
   "metadata": {},
   "outputs": [
    {
     "name": "stderr",
     "output_type": "stream",
     "text": [
      "GPU available: True (cuda), used: True\n",
      "TPU available: False, using: 0 TPU cores\n",
      "HPU available: False, using: 0 HPUs\n",
      "LOCAL_RANK: 0 - CUDA_VISIBLE_DEVICES: [0,1,2,3,4,5,6,7]\n"
     ]
    },
    {
     "name": "stdout",
     "output_type": "stream",
     "text": [
      "Predicting DataLoader 0: 100%|███████████████████████████████████████████████████████████████████████████████████████████████████████████████████████████████████████████████████████████████████████████| 165/165 [00:06<00:00, 26.74it/s]\n"
     ]
    }
   ],
   "source": [
    "preds, distances = grelu.interpret.simulate.space_patterns(\n",
    "    model = catlas,\n",
    "    seqs = test_intervals,\n",
    "    fixed_pattern = tead_pattern, # this motif will be fixed at the center of the sequence\n",
    "    variable_pattern = fos_pattern, # this motif will be inserted at different distances\n",
    "    genome = 'hg38',\n",
    "    n_shuffles = 1, # Each test sequence will be shuffled once\n",
    "    seed = 0,\n",
    "    devices = 0,\n",
    "    num_workers = 16,\n",
    "    batch_size = 512,\n",
    "    compare_func = 'subtract', # Return the difference in prediction after inserting FOS\n",
    ")"
   ]
  },
  {
   "cell_type": "code",
   "execution_count": 32,
   "id": "8e9f99f5-4441-4e4c-82e9-7f40016015aa",
   "metadata": {},
   "outputs": [
    {
     "data": {
      "text/plain": [
       "(500, 167, 204)"
      ]
     },
     "execution_count": 32,
     "metadata": {},
     "output_type": "execute_result"
    }
   ],
   "source": [
    "preds.shape"
   ]
  },
  {
   "cell_type": "markdown",
   "id": "e1fd9695-8a11-45e1-b689-d6cb4ea89c12",
   "metadata": {},
   "source": [
    "`preds` has shape `(number of sequences, number of positions, number of cell types)`. We are going to focus on one cell type (fibroblasts). So we subset the predictions for that cell type:"
   ]
  },
  {
   "cell_type": "code",
   "execution_count": 33,
   "id": "af9380cb-3c2a-44bc-8373-7d7cf3471567",
   "metadata": {},
   "outputs": [
    {
     "data": {
      "text/plain": [
       "(500, 167)"
      ]
     },
     "execution_count": 33,
     "metadata": {},
     "output_type": "execute_result"
    }
   ],
   "source": [
    "preds_fibro = preds[:, :, tasks.name=='Fibro General'].squeeze()\n",
    "preds_fibro.shape"
   ]
  },
  {
   "cell_type": "code",
   "execution_count": 42,
   "id": "c30e1c6c-3ea7-473b-b466-1c44dc54f4e2",
   "metadata": {},
   "outputs": [
    {
     "data": {
      "text/plain": [
       "167"
      ]
     },
     "execution_count": 42,
     "metadata": {},
     "output_type": "execute_result"
    }
   ],
   "source": [
    "len(distances)"
   ]
  },
  {
   "cell_type": "code",
   "execution_count": 87,
   "id": "74f8cf10-2c2e-4f9f-a5e3-a37022a47093",
   "metadata": {},
   "outputs": [],
   "source": [
    "import grelu.visualize"
   ]
  },
  {
   "cell_type": "code",
   "execution_count": 95,
   "id": "b0df2ef3-7ab2-4929-bb34-b96aecf2d8ac",
   "metadata": {},
   "outputs": [
    {
     "data": {
      "image/png": "[encoded data removed]"
     },
     "metadata": {
      "image/png": {
       "height": 200,
       "width": 600
      }
     },
     "output_type": "display_data"
    }
   ],
   "source": [
    "importlib.reload(grelu.visualize)\n",
    "grelu.visualize.plot_pattern_spacing(\n",
    "    preds, distances,\n",
    "    title=\"Increase in predicted probability of accessibility\\nin fibroblasts after inserting FOS motif\",\n",
    "    figsize=(6,2)\n",
    ")"
   ]
  },
  {
   "cell_type": "markdown",
   "id": "1a5af726-2b8c-4efe-8185-472e35f7365e",
   "metadata": {},
   "source": [
    "## Simulations in the genomic context using Enformer"
   ]
  },
  {
   "cell_type": "markdown",
   "id": "f677af10-7ea2-4845-aa2e-6e6e42b1e5f1",
   "metadata": {},
   "source": [
    "Next we will examine regulatory relationships between gene TSSs and their genomic context using the Enformer model. These examples are based on the CREME framework by Toneyan and Koo (https://pubmed.ncbi.nlm.nih.gov/37461616/) and illustrate how similar analyses can be performed using gReLU."
   ]
  },
  {
   "cell_type": "markdown",
   "id": "c56ba198-567b-4d59-9057-94548c4c7344",
   "metadata": {},
   "source": [
    "First, we import the Enformer model from the model zoo."
   ]
  },
  {
   "cell_type": "code",
   "execution_count": null,
   "id": "079c7530-22dc-4ad1-9040-e4239cd93bd8",
   "metadata": {},
   "outputs": [],
   "source": [
    "del catlas"
   ]
  },
  {
   "cell_type": "code",
   "execution_count": 3,
   "id": "edb64ea1-6068-4fdf-85be-65eb0d269fd1",
   "metadata": {},
   "outputs": [
    {
     "name": "stderr",
     "output_type": "stream",
     "text": [
      "/opt/conda/lib/python3.11/site-packages/tqdm/auto.py:21: TqdmWarning: IProgress not found. Please update jupyter and ipywidgets. See https://ipywidgets.readthedocs.io/en/stable/user_install.html\n",
      "Failed to detect the name of this notebook, you can set it manually with the WANDB_NOTEBOOK_NAME environment variable to enable code saving.\n",
      "\u001b[34m\u001b[1mwandb\u001b[0m: Using wandb-core as the SDK backend. Please refer to https://wandb.me/wandb-core for more information.\n",
      "\u001b[34m\u001b[1mwandb\u001b[0m: Currently logged in as: \u001b[33manony-mouse-180959755991866352\u001b[0m. Use \u001b[1m`wandb login --relogin`\u001b[0m to force relogin\n",
      "\u001b[34m\u001b[1mwandb\u001b[0m: Downloading large artifact human:latest, 940.48MB. 1 files... \n",
      "\u001b[34m\u001b[1mwandb\u001b[0m:   1 of 1 files downloaded.  \n",
      "Done. 0:0:0.9\n"
     ]
    }
   ],
   "source": [
    "enformer = grelu.resources.load_model(\n",
    "    project=\"enformer\",\n",
    "    model_name=\"human\",\n",
    ")"
   ]
  },
  {
   "cell_type": "markdown",
   "id": "78c6acaf-9508-4787-a42f-f35d77f8a485",
   "metadata": {},
   "source": [
    "This object includes the task metadata. For the current analyses, we will focus on  a single CAGE track in K562 cells, which is track 5111."
   ]
  },
  {
   "cell_type": "code",
   "execution_count": 4,
   "id": "0ec68e78-a78b-4bca-80d8-9c6456d70fc8",
   "metadata": {},
   "outputs": [
    {
     "data": {
      "text/html": [
       "<div>\n",
       "<style scoped>\n",
       "    .dataframe tbody tr th:only-of-type {\n",
       "        vertical-align: middle;\n",
       "    }\n",
       "\n",
       "    .dataframe tbody tr th {\n",
       "        vertical-align: top;\n",
       "    }\n",
       "\n",
       "    .dataframe thead th {\n",
       "        text-align: right;\n",
       "    }\n",
       "</style>\n",
       "<table border=\"1\" class=\"dataframe\">\n",
       "  <thead>\n",
       "    <tr style=\"text-align: right;\">\n",
       "      <th></th>\n",
       "      <th>name</th>\n",
       "      <th>file</th>\n",
       "      <th>clip</th>\n",
       "      <th>scale</th>\n",
       "      <th>sum_stat</th>\n",
       "      <th>description</th>\n",
       "      <th>assay</th>\n",
       "      <th>sample</th>\n",
       "    </tr>\n",
       "  </thead>\n",
       "  <tbody>\n",
       "    <tr>\n",
       "      <th>5111</th>\n",
       "      <td>CNhs12336</td>\n",
       "      <td>/home/drk/tillage/datasets/human/cage/fantom/C...</td>\n",
       "      <td>384</td>\n",
       "      <td>1</td>\n",
       "      <td>sum</td>\n",
       "      <td>CAGE:chronic myelogenous leukemia cell line:K5...</td>\n",
       "      <td>CAGE</td>\n",
       "      <td>chronic myelogenous leukemia cell line:K562 EN...</td>\n",
       "    </tr>\n",
       "  </tbody>\n",
       "</table>\n",
       "</div>"
      ],
      "text/plain": [
       "           name                                               file  clip  \\\n",
       "5111  CNhs12336  /home/drk/tillage/datasets/human/cage/fantom/C...   384   \n",
       "\n",
       "      scale sum_stat                                        description assay  \\\n",
       "5111      1      sum  CAGE:chronic myelogenous leukemia cell line:K5...  CAGE   \n",
       "\n",
       "                                                 sample  \n",
       "5111  chronic myelogenous leukemia cell line:K562 EN...  "
      ]
     },
     "execution_count": 4,
     "metadata": {},
     "output_type": "execute_result"
    }
   ],
   "source": [
    "k562_cage_track_idx=5111\n",
    "tasks = pd.DataFrame(enformer.data_params['tasks'])\n",
    "tasks.iloc[[k562_cage_track_idx]]"
   ]
  },
  {
   "cell_type": "markdown",
   "id": "0fc9895f-3dbd-43fb-b64a-34ed0fdef3f6",
   "metadata": {},
   "source": [
    "We are going to analyze CAGE activity at the TSS of the ABCA8 gene. This gene is located on chromosome 17 and its TSS is at position 68955392. We define a region of 5000 bp centered on this position as the TSS region."
   ]
  },
  {
   "cell_type": "code",
   "execution_count": 7,
   "id": "dfc4ecdb-0eef-4523-a3a8-4f1c5e04ee15",
   "metadata": {},
   "outputs": [
    {
     "name": "stdout",
     "output_type": "stream",
     "text": [
      "   chrom     start       end\n",
      "0  chr17  68952892  68957892\n"
     ]
    }
   ],
   "source": [
    "import grelu.sequence.format\n",
    "tss_interval = pd.DataFrame({\n",
    "    'chrom':['chr17'], 'start':[68955392-2500], 'end':[68955392+2500]\n",
    "})\n",
    "print(tss_interval)"
   ]
  },
  {
   "cell_type": "markdown",
   "id": "ea09fc92-5e26-4bc9-a8f3-604193cb2ec3",
   "metadata": {},
   "source": [
    "And extract its sequence from the genome:"
   ]
  },
  {
   "cell_type": "code",
   "execution_count": 21,
   "id": "c320aa0a-bdfd-4400-8bf8-d807ae0f82a4",
   "metadata": {},
   "outputs": [],
   "source": [
    "tss_seq = grelu.sequence.format.convert_input_type(tss_interval, \"strings\", genome=\"hg38\")[0]"
   ]
  },
  {
   "cell_type": "markdown",
   "id": "857ca8fd-2a58-42f0-b7c9-ea3a93973d20",
   "metadata": {},
   "source": [
    "We will construct an input interval for Enformer centered on this TSS position."
   ]
  },
  {
   "cell_type": "code",
   "execution_count": 9,
   "id": "9291464c-7775-4609-bd03-7bb216807f8a",
   "metadata": {},
   "outputs": [
    {
     "data": {
      "text/html": [
       "<div>\n",
       "<style scoped>\n",
       "    .dataframe tbody tr th:only-of-type {\n",
       "        vertical-align: middle;\n",
       "    }\n",
       "\n",
       "    .dataframe tbody tr th {\n",
       "        vertical-align: top;\n",
       "    }\n",
       "\n",
       "    .dataframe thead th {\n",
       "        text-align: right;\n",
       "    }\n",
       "</style>\n",
       "<table border=\"1\" class=\"dataframe\">\n",
       "  <thead>\n",
       "    <tr style=\"text-align: right;\">\n",
       "      <th></th>\n",
       "      <th>chrom</th>\n",
       "      <th>start</th>\n",
       "      <th>end</th>\n",
       "    </tr>\n",
       "  </thead>\n",
       "  <tbody>\n",
       "    <tr>\n",
       "      <th>0</th>\n",
       "      <td>chr17</td>\n",
       "      <td>68857088</td>\n",
       "      <td>69053696</td>\n",
       "    </tr>\n",
       "  </tbody>\n",
       "</table>\n",
       "</div>"
      ],
      "text/plain": [
       "   chrom     start       end\n",
       "0  chr17  68857088  69053696"
      ]
     },
     "execution_count": 9,
     "metadata": {},
     "output_type": "execute_result"
    }
   ],
   "source": [
    "import grelu.sequence.utils\n",
    "input_interval = grelu.sequence.utils.resize(tss_interval, enformer.data_params['train_seq_len'])\n",
    "input_interval"
   ]
  },
  {
   "cell_type": "code",
   "execution_count": 10,
   "id": "ce4b3186-c07f-41ba-b2ca-790d55a6f7e2",
   "metadata": {},
   "outputs": [
    {
     "data": {
      "text/plain": [
       "0    196608\n",
       "dtype: int64"
      ]
     },
     "execution_count": 10,
     "metadata": {},
     "output_type": "execute_result"
    }
   ],
   "source": [
    "input_interval['end'] - input_interval['start']"
   ]
  },
  {
   "cell_type": "markdown",
   "id": "637f398c-cec2-4158-a4bd-2a54bb09f87f",
   "metadata": {},
   "source": [
    "Let's examine Enformer's predictions for this interval:"
   ]
  },
  {
   "cell_type": "code",
   "execution_count": 11,
   "id": "7b06b163-5f21-4dd4-89dc-6752604415b3",
   "metadata": {},
   "outputs": [],
   "source": [
    "input_seq = grelu.sequence.format.convert_input_type(input_interval, \"strings\", genome='hg38')[0]\n",
    "input_pred = enformer.predict_on_seqs(input_seq, device=0)"
   ]
  },
  {
   "cell_type": "code",
   "execution_count": 12,
   "id": "04111112-d765-4940-9fc8-4bf6ae905510",
   "metadata": {},
   "outputs": [
    {
     "data": {
      "text/plain": [
       "(1, 5313, 896)"
      ]
     },
     "execution_count": 12,
     "metadata": {},
     "output_type": "execute_result"
    }
   ],
   "source": [
    "input_pred.shape"
   ]
  },
  {
   "cell_type": "markdown",
   "id": "86369bc4-5e51-4d46-a52e-c2d73276ffe7",
   "metadata": {},
   "source": [
    "Enformer predicts 5313 output tracks, but we are interested in the predictions for the K562 CAGE track."
   ]
  },
  {
   "cell_type": "code",
   "execution_count": 14,
   "id": "165d2ba4-64f8-4f6e-8559-1d9325bdca30",
   "metadata": {},
   "outputs": [
    {
     "data": {
      "image/png": "[encoded data removed]",
      "text/plain": [
       "<Figure size 2000x150 with 1 Axes>"
      ]
     },
     "metadata": {},
     "output_type": "display_data"
    }
   ],
   "source": [
    "import grelu.visualize\n",
    "fig = grelu.visualize.plot_tracks(\n",
    "    input_pred[:, k562_cage_track_idx],\n",
    "    start_pos=input_interval.start[0], end_pos=input_interval.end[0],\n",
    "    highlight_intervals=tss_interval,\n",
    ")"
   ]
  },
  {
   "cell_type": "markdown",
   "id": "20c4d8fb-0955-4c55-8a7f-f3bb77cdc387",
   "metadata": {},
   "source": [
    "We see that Enformer predicts transcriptional activity at the ABCA8 TSS. We will now examine the role of the surrounding genomic context."
   ]
  },
  {
   "cell_type": "markdown",
   "id": "2a264b73-d1a2-4a59-9dd8-7ccc9bea2c9e",
   "metadata": {},
   "source": [
    "## Context dependence test\n",
    "\n",
    "The context dependence test introduced in CREME measures the extent to which a prediction of a given TSS activity is influenced by its context. \n",
    "\n",
    "It includes the following steps:\n",
    "1. Predict TSS activity for the wild type sequence (denoted as WT).\n",
    "2. Dinucleotide shuffle the sequence (except the 5kb tile centered at the TSS).\n",
    "3. Predict TSS activity for the shuffled sequence (denoted as MUTANT).\n",
    "4. Normalization: compute context effect on TSS using WT as control: (WT - MUTANT) / WT\n",
    "5. Repeat steps 2-4 10 times and average across different random dinucleotide shuffles.\n",
    "\n",
    "A positive effect size means that the central TSS prediction for the mutated sequence is lower than WT, which indicates that we have perturbed an enhancing context. Negative effect size means that the central TSS prediction for the mutated sequence is higher than WT, which suggests that we have perturbed a silencing context."
   ]
  },
  {
   "cell_type": "markdown",
   "id": "9056af99-69ed-4398-9c73-89413b64ee1b",
   "metadata": {},
   "source": [
    "The first step is to predict TSS activity in the wild-type. Instead of making predictions for the entire sequence across all tracks and then subsetting the TSS and the K562 CAGE track each time, gReLU allows us to attach a `transform` object to the model that will return only the relevant predictions. We use the `Aggregate` transform here:"
   ]
  },
  {
   "cell_type": "code",
   "execution_count": 15,
   "id": "bb810c23-e2ef-4eb3-a99c-05e365bdaaf8",
   "metadata": {},
   "outputs": [
    {
     "data": {
      "text/html": [
       "<div>\n",
       "<style scoped>\n",
       "    .dataframe tbody tr th:only-of-type {\n",
       "        vertical-align: middle;\n",
       "    }\n",
       "\n",
       "    .dataframe tbody tr th {\n",
       "        vertical-align: top;\n",
       "    }\n",
       "\n",
       "    .dataframe thead th {\n",
       "        text-align: right;\n",
       "    }\n",
       "</style>\n",
       "<table border=\"1\" class=\"dataframe\">\n",
       "  <thead>\n",
       "    <tr style=\"text-align: right;\">\n",
       "      <th></th>\n",
       "      <th>start</th>\n",
       "      <th>end</th>\n",
       "    </tr>\n",
       "  </thead>\n",
       "  <tbody>\n",
       "    <tr>\n",
       "      <th>0</th>\n",
       "      <td>428</td>\n",
       "      <td>468</td>\n",
       "    </tr>\n",
       "  </tbody>\n",
       "</table>\n",
       "</div>"
      ],
      "text/plain": [
       "   start  end\n",
       "0    428  468"
      ]
     },
     "execution_count": 15,
     "metadata": {},
     "output_type": "execute_result"
    }
   ],
   "source": [
    "enformer.input_intervals_to_output_bins(tss_interval, start_pos=input_interval.start[0])"
   ]
  },
  {
   "cell_type": "code",
   "execution_count": 16,
   "id": "e6cf298f-4a37-4b37-9493-82c087a4bd1b",
   "metadata": {},
   "outputs": [],
   "source": [
    "from grelu.transforms.prediction_transforms import Aggregate\n",
    "transform = Aggregate(\n",
    "    tasks=k562_cage_track_idx,\n",
    "    positions=list(range(428, 468)), # these are the indices of the central bins overlapping with the TSS\n",
    "    length_aggfunc='sum' # Sum the output over all bins\n",
    ")"
   ]
  },
  {
   "cell_type": "code",
   "execution_count": 17,
   "id": "0279f5b2-a893-47ef-b628-a1dfda0a95c1",
   "metadata": {},
   "outputs": [],
   "source": [
    "enformer.add_transform(transform)"
   ]
  },
  {
   "cell_type": "markdown",
   "id": "e127e793-cf8e-4578-9228-52edae60c980",
   "metadata": {},
   "source": [
    "Now, we obtain the prediction for the wild-type sequence."
   ]
  },
  {
   "cell_type": "code",
   "execution_count": 18,
   "id": "1501517a-4240-4cec-9736-b98b109c7f5b",
   "metadata": {},
   "outputs": [
    {
     "data": {
      "text/plain": [
       "array(9.111238, dtype=float32)"
      ]
     },
     "execution_count": 18,
     "metadata": {},
     "output_type": "execute_result"
    }
   ],
   "source": [
    "base_pred = enformer.predict_on_seqs(input_seq).squeeze()\n",
    "base_pred"
   ]
  },
  {
   "cell_type": "markdown",
   "id": "f3121d35-b424-406b-afff-ad688e8c3b44",
   "metadata": {},
   "source": [
    "Now we shuffle the input sequence 10 times."
   ]
  },
  {
   "cell_type": "code",
   "execution_count": 19,
   "id": "cb64a30b-96fc-43ce-b773-cbf55b0f67af",
   "metadata": {},
   "outputs": [],
   "source": [
    "shuffled_seqs = grelu.sequence.utils.dinuc_shuffle(input_seq, n_shuffles=10, seed=0)"
   ]
  },
  {
   "cell_type": "markdown",
   "id": "454fd60f-5e52-4a91-9152-5589ad16fa5e",
   "metadata": {},
   "source": [
    "And re-insert the TSS region into the center of the shuffled sequences:"
   ]
  },
  {
   "cell_type": "code",
   "execution_count": 22,
   "id": "c59e17c6-a247-4597-9b87-ea7d841cbcf1",
   "metadata": {},
   "outputs": [],
   "source": [
    "from grelu.sequence.mutate import mutate\n",
    "shuf_seqs_w_tss = [mutate(s, tss_seq) for s in shuffled_seqs]"
   ]
  },
  {
   "cell_type": "markdown",
   "id": "59a9539e-6ee6-4c74-9d44-9ab047da5e8d",
   "metadata": {},
   "source": [
    "We now make predictions for the TSS in the shuffled sequences:"
   ]
  },
  {
   "cell_type": "code",
   "execution_count": 23,
   "id": "5ddcde9a-cd76-4c1f-b9b8-62a0c066d613",
   "metadata": {},
   "outputs": [
    {
     "name": "stderr",
     "output_type": "stream",
     "text": [
      "GPU available: True (cuda), used: True\n",
      "TPU available: False, using: 0 TPU cores\n",
      "HPU available: False, using: 0 HPUs\n",
      "LOCAL_RANK: 0 - CUDA_VISIBLE_DEVICES: [0,1,2,3,4,5,6,7]\n"
     ]
    },
    {
     "name": "stdout",
     "output_type": "stream",
     "text": [
      "Predicting DataLoader 0: 100%|███████████████████████████████████████████████████████████████████████████████████████████████████████████████████████████████████████████████████████████████████████████████| 2/2 [00:00<00:00,  2.25it/s]\n"
     ]
    },
    {
     "data": {
      "text/plain": [
       "array([1.7110162, 1.7958964, 1.6829109, 1.7478768, 1.6674681, 1.6271536,\n",
       "       1.6110291, 1.7591423, 1.6141839, 1.6504714], dtype=float32)"
      ]
     },
     "execution_count": 23,
     "metadata": {},
     "output_type": "execute_result"
    }
   ],
   "source": [
    "from grelu.data.dataset import SeqDataset\n",
    "ds = SeqDataset(shuf_seqs_w_tss)\n",
    "shuf_w_tss_preds = enformer.predict_on_dataset(ds, devices=0, batch_size=8).squeeze()\n",
    "shuf_w_tss_preds"
   ]
  },
  {
   "cell_type": "markdown",
   "id": "a99279da-998a-4cfa-9360-ecdfa45c495c",
   "metadata": {},
   "source": [
    "And compute the final metric:"
   ]
  },
  {
   "cell_type": "code",
   "execution_count": 24,
   "id": "d23c51e6-b2d1-41fd-8f0f-e4f3e01f8265",
   "metadata": {},
   "outputs": [
    {
     "data": {
      "text/plain": [
       "array([0.8122082 , 0.80289215, 0.81529284, 0.80816257, 0.81698775,\n",
       "       0.82141244, 0.82318217, 0.8069261 , 0.8228359 , 0.8188532 ],\n",
       "      dtype=float32)"
      ]
     },
     "execution_count": 24,
     "metadata": {},
     "output_type": "execute_result"
    }
   ],
   "source": [
    "result = (base_pred - shuf_w_tss_preds) / base_pred\n",
    "result"
   ]
  },
  {
   "cell_type": "markdown",
   "id": "e7984d4a-e89c-42dd-8dd9-5baad36eb134",
   "metadata": {},
   "source": [
    "The positive value shows that the TSS is in an enhancing context."
   ]
  },
  {
   "cell_type": "markdown",
   "id": "373b2045-db39-4c2d-8c6b-592f11427408",
   "metadata": {},
   "source": [
    "## Enhancer Discovery by in silico tiling"
   ]
  },
  {
   "cell_type": "markdown",
   "id": "7757f43a-64bc-45ab-9ef1-1a8c7a25aebb",
   "metadata": {},
   "source": [
    "Which parts of the input sequence are responsible for its enhancing context? We can discover putative regulatory elements <i>in silico</i> by shuffling successive tiles in the sequence and computing the change in predicted TSS activity. gReLU provides a `shuffle_tiles` function for this analysis:"
   ]
  },
  {
   "cell_type": "code",
   "execution_count": 27,
   "id": "8a951f6d-04e8-4441-8c36-6af1e1d381eb",
   "metadata": {},
   "outputs": [
    {
     "name": "stderr",
     "output_type": "stream",
     "text": [
      "GPU available: True (cuda), used: True\n",
      "TPU available: False, using: 0 TPU cores\n",
      "HPU available: False, using: 0 HPUs\n",
      "LOCAL_RANK: 0 - CUDA_VISIBLE_DEVICES: [0,1,2,3,4,5,6,7]\n"
     ]
    },
    {
     "name": "stdout",
     "output_type": "stream",
     "text": [
      "Predicting DataLoader 0: 100%|███████████████████████████████████████████████████████████████████████████████████████████████████████████████████████████████████████████████████████████████████████████████| 1/1 [00:00<00:00, 12.13it/s]\n"
     ]
    },
    {
     "name": "stderr",
     "output_type": "stream",
     "text": [
      "GPU available: True (cuda), used: True\n",
      "TPU available: False, using: 0 TPU cores\n",
      "HPU available: False, using: 0 HPUs\n",
      "LOCAL_RANK: 0 - CUDA_VISIBLE_DEVICES: [0,1,2,3,4,5,6,7]\n"
     ]
    },
    {
     "name": "stdout",
     "output_type": "stream",
     "text": [
      "Predicting DataLoader 0: 100%|█████████████████████████████████████████████████████████████████████████████████████████████████████████████████████████████████████████████████████████████████████████████| 28/28 [00:15<00:00,  1.83it/s]\n"
     ]
    }
   ],
   "source": [
    "preds = grelu.interpret.simulate.shuffle_tiles(\n",
    "    model=enformer,\n",
    "    seqs=[input_seq],\n",
    "    tile_len=5000, # Length of region to shuffle\n",
    "    stride=2500, # Tiles will overlap by this much\n",
    "    protect_center= 5000, # Do not disrupt the central TSS region\n",
    "    n_shuffles = 3, # Number of times to shuffle each tile\n",
    "    seed = 0,\n",
    "    devices=0,\n",
    "    num_workers=16,\n",
    "    batch_size=8,\n",
    "    prediction_transform=transform,\n",
    "    augment_aggfunc='mean', # Average the result over 3 shufflings of each sequence\n",
    "    compare_func='subtract' # Return the difference between shuffled and original predictions\n",
    ")"
   ]
  },
  {
   "cell_type": "code",
   "execution_count": 28,
   "id": "053e3b28-0024-4a66-b276-0689f61dd3ec",
   "metadata": {},
   "outputs": [
    {
     "data": {
      "text/html": [
       "<div>\n",
       "<style scoped>\n",
       "    .dataframe tbody tr th:only-of-type {\n",
       "        vertical-align: middle;\n",
       "    }\n",
       "\n",
       "    .dataframe tbody tr th {\n",
       "        vertical-align: top;\n",
       "    }\n",
       "\n",
       "    .dataframe thead th {\n",
       "        text-align: right;\n",
       "    }\n",
       "</style>\n",
       "<table border=\"1\" class=\"dataframe\">\n",
       "  <thead>\n",
       "    <tr style=\"text-align: right;\">\n",
       "      <th></th>\n",
       "      <th>start</th>\n",
       "      <th>end</th>\n",
       "      <th>effect</th>\n",
       "    </tr>\n",
       "  </thead>\n",
       "  <tbody>\n",
       "    <tr>\n",
       "      <th>0</th>\n",
       "      <td>0</td>\n",
       "      <td>5000</td>\n",
       "      <td>0.402967</td>\n",
       "    </tr>\n",
       "    <tr>\n",
       "      <th>1</th>\n",
       "      <td>2500</td>\n",
       "      <td>7500</td>\n",
       "      <td>0.524191</td>\n",
       "    </tr>\n",
       "    <tr>\n",
       "      <th>2</th>\n",
       "      <td>5000</td>\n",
       "      <td>10000</td>\n",
       "      <td>0.435838</td>\n",
       "    </tr>\n",
       "    <tr>\n",
       "      <th>3</th>\n",
       "      <td>7500</td>\n",
       "      <td>12500</td>\n",
       "      <td>-0.601156</td>\n",
       "    </tr>\n",
       "    <tr>\n",
       "      <th>4</th>\n",
       "      <td>10000</td>\n",
       "      <td>15000</td>\n",
       "      <td>-0.140372</td>\n",
       "    </tr>\n",
       "  </tbody>\n",
       "</table>\n",
       "</div>"
      ],
      "text/plain": [
       "   start    end    effect\n",
       "0      0   5000  0.402967\n",
       "1   2500   7500  0.524191\n",
       "2   5000  10000  0.435838\n",
       "3   7500  12500 -0.601156\n",
       "4  10000  15000 -0.140372"
      ]
     },
     "execution_count": 28,
     "metadata": {},
     "output_type": "execute_result"
    }
   ],
   "source": [
    "preds.head()"
   ]
  },
  {
   "cell_type": "code",
   "execution_count": 31,
   "id": "f01efc13-de66-453f-9017-edd91068f804",
   "metadata": {},
   "outputs": [
    {
     "data": {
      "text/plain": [
       "<Axes: title={'center': 'Effect of shuffling 5kb tile starting at position'}, xlabel='start'>"
      ]
     },
     "execution_count": 31,
     "metadata": {},
     "output_type": "execute_result"
    },
    {
     "data": {
      "image/png": "[encoded data removed]",
      "text/plain": [
       "<Figure size 800x200 with 1 Axes>"
      ]
     },
     "metadata": {},
     "output_type": "display_data"
    }
   ],
   "source": [
    "preds.plot.line(\n",
    "    x='start', y='effect', figsize=(8,2),\n",
    "    title=\"Effect of shuffling 5kb tile starting at position\")"
   ]
  },
  {
   "cell_type": "markdown",
   "id": "05affb99-0994-4335-8080-dfb3efcf094d",
   "metadata": {},
   "source": [
    "The tiles with the strongest negative value are the putative enhancers. Let's sort the tiles by effect:"
   ]
  },
  {
   "cell_type": "code",
   "execution_count": 33,
   "id": "14934064-2624-40bf-b907-0a9ec231cef3",
   "metadata": {},
   "outputs": [
    {
     "data": {
      "text/html": [
       "<div>\n",
       "<style scoped>\n",
       "    .dataframe tbody tr th:only-of-type {\n",
       "        vertical-align: middle;\n",
       "    }\n",
       "\n",
       "    .dataframe tbody tr th {\n",
       "        vertical-align: top;\n",
       "    }\n",
       "\n",
       "    .dataframe thead th {\n",
       "        text-align: right;\n",
       "    }\n",
       "</style>\n",
       "<table border=\"1\" class=\"dataframe\">\n",
       "  <thead>\n",
       "    <tr style=\"text-align: right;\">\n",
       "      <th></th>\n",
       "      <th>start</th>\n",
       "      <th>end</th>\n",
       "      <th>effect</th>\n",
       "    </tr>\n",
       "  </thead>\n",
       "  <tbody>\n",
       "    <tr>\n",
       "      <th>20</th>\n",
       "      <td>50000</td>\n",
       "      <td>55000</td>\n",
       "      <td>-7.303854</td>\n",
       "    </tr>\n",
       "    <tr>\n",
       "      <th>19</th>\n",
       "      <td>47500</td>\n",
       "      <td>52500</td>\n",
       "      <td>-7.217385</td>\n",
       "    </tr>\n",
       "    <tr>\n",
       "      <th>41</th>\n",
       "      <td>112500</td>\n",
       "      <td>117500</td>\n",
       "      <td>-7.066329</td>\n",
       "    </tr>\n",
       "  </tbody>\n",
       "</table>\n",
       "</div>"
      ],
      "text/plain": [
       "     start     end    effect\n",
       "20   50000   55000 -7.303854\n",
       "19   47500   52500 -7.217385\n",
       "41  112500  117500 -7.066329"
      ]
     },
     "execution_count": 33,
     "metadata": {},
     "output_type": "execute_result"
    }
   ],
   "source": [
    "preds.sort_values('effect').head(3)"
   ]
  },
  {
   "cell_type": "markdown",
   "id": "b3ce17cf-cd7a-44d1-82a2-1cd8df3d8020",
   "metadata": {},
   "source": [
    "It seems that the tile from position 50,000 - 55,000 of the input sequence has the strongest enhancer activity. We will define this as our putative CRE and extract its sequence."
   ]
  },
  {
   "cell_type": "code",
   "execution_count": 34,
   "id": "32061fda-d542-4574-babc-256fd78e82a6",
   "metadata": {},
   "outputs": [],
   "source": [
    "cre_pos = 50000\n",
    "cre_seq = input_seq[cre_pos: cre_pos+5000]"
   ]
  },
  {
   "cell_type": "markdown",
   "id": "afc93748-0549-4a6c-a956-e1ff5b6f6d47",
   "metadata": {},
   "source": [
    "## Sufficiency test"
   ]
  },
  {
   "cell_type": "markdown",
   "id": "802a269d-2ed6-4760-92df-b12b669375ab",
   "metadata": {},
   "source": [
    "The sufficiency test (also from CREME) consists of the following steps:\n",
    "\n",
    "1. Predict TSS activity for the wild type sequence (WT).\n",
    "2. Dinucleotide shuffle the sequence.\n",
    "3. Add the TSS 5 kb tile and predict TSS activity (CONTROL).\n",
    "4. Add the CRE and the TSS tiles to the sequence and predict TSS activity (MUTANT).\n",
    "5. in case of enhancing context sequences, we compute the normalized CRE effect as (MUTANT - CONTROL) / WT.\n",
    "7. Repeat each shuffle 10 times and average the normalized CRE effect per sequence."
   ]
  },
  {
   "cell_type": "markdown",
   "id": "98a9f165-337b-4d94-bf8c-a2e01410167e",
   "metadata": {},
   "source": [
    "We insert the CRE into our 10 shuffled sequences containing the TSS."
   ]
  },
  {
   "cell_type": "code",
   "execution_count": null,
   "id": "b42cb1a8-e859-4ec5-b255-6181f0882c4e",
   "metadata": {},
   "outputs": [],
   "source": [
    "shuffled_seqs_w_tss_and_cre = [mutate(s, cre_seq, pos=cre_pos) for s in shuffled_seqs_w_tss]"
   ]
  },
  {
   "cell_type": "markdown",
   "id": "2b1f7644-8dc3-41fa-8e9b-255f52b29973",
   "metadata": {},
   "source": [
    "And then make predictions:"
   ]
  },
  {
   "cell_type": "code",
   "execution_count": 24,
   "id": "6a76f140-43d6-4dfd-aa4c-5c2574e682e0",
   "metadata": {},
   "outputs": [
    {
     "name": "stderr",
     "output_type": "stream",
     "text": [
      "GPU available: True (cuda), used: True\n",
      "TPU available: False, using: 0 TPU cores\n",
      "HPU available: False, using: 0 HPUs\n",
      "LOCAL_RANK: 0 - CUDA_VISIBLE_DEVICES: [0,1,2,3,4,5,6,7]\n"
     ]
    },
    {
     "name": "stdout",
     "output_type": "stream",
     "text": [
      "Predicting DataLoader 0: 100%|███████████████████████████████████████████████████████████████████████████████████████████████████████████████████████████████████████████████████████████████████████████████| 2/2 [00:00<00:00,  2.83it/s]\n"
     ]
    },
    {
     "data": {
      "text/plain": [
       "array([0.04355004, 0.04526978, 0.06038211, 0.05788533, 0.04213437,\n",
       "       0.05509682, 0.04854912, 0.04228065, 0.0417126 , 0.05893259],\n",
       "      dtype=float32)"
      ]
     },
     "execution_count": 24,
     "metadata": {},
     "output_type": "execute_result"
    }
   ],
   "source": [
    "ds = SeqDataset(shuffled_seqs_w_tss_and_cre)\n",
    "shuf_w_tss_cre_preds = enformer.predict_on_dataset(ds, devices=0, batch_size=8).squeeze()"
   ]
  },
  {
   "cell_type": "code",
   "execution_count": 25,
   "id": "b3053e7c-bab7-4c5d-aa6a-95a834d41aac",
   "metadata": {},
   "outputs": [
    {
     "data": {
      "text/plain": [
       "array([0.00109932, 0.00125382, 0.00255297, 0.00257936, 0.00106007,\n",
       "       0.00257274, 0.00202203, 0.00085702, 0.00043381, 0.00287546],\n",
       "      dtype=float32)"
      ]
     },
     "execution_count": 25,
     "metadata": {},
     "output_type": "execute_result"
    }
   ],
   "source": [
    "results = (shuf_w_tss_cre_preds - shuf_w_tss_preds) / base_pred\n",
    "results"
   ]
  },
  {
   "cell_type": "markdown",
   "id": "cac4f9c9-5e3d-4db1-a7b1-104a74f4c677",
   "metadata": {},
   "source": [
    "## TSS-CRE Distance Test"
   ]
  },
  {
   "cell_type": "markdown",
   "id": "c5eeffcd-dc46-4df9-b10a-d9d24db64149",
   "metadata": {},
   "source": [
    "CREME defined a 'TSS-CRE Distance test' in which the TSS is inserted into a dinucleotide-shuffled sequence, the putative CRE is inserted at different distances from the TSS, and its effect is measured at each distance. We can do a similar experiment using the previously seen `space_patterns` function."
   ]
  },
  {
   "cell_type": "code",
   "execution_count": 34,
   "id": "57603f8c-638f-4bb2-becb-4bc1ab63b548",
   "metadata": {},
   "outputs": [
    {
     "name": "stderr",
     "output_type": "stream",
     "text": [
      "GPU available: True (cuda), used: True\n",
      "TPU available: False, using: 0 TPU cores\n",
      "HPU available: False, using: 0 HPUs\n",
      "LOCAL_RANK: 0 - CUDA_VISIBLE_DEVICES: [0,1,2,3,4,5,6,7]\n"
     ]
    },
    {
     "name": "stdout",
     "output_type": "stream",
     "text": [
      "Predicting DataLoader 0:   0%|                                                                                                                                                                     | 5/227014 [02:13<1685:16:22,  0.04it/s]\n",
      "Predicting DataLoader 0: 100%|█████████████████████████████████████████████████████████████████████████████████████████████████████████████████████████████████████████████████████████████████████████████| 48/48 [00:26<00:00,  1.80it/s]\n"
     ]
    }
   ],
   "source": [
    "preds = grelu.interpret.simulate.space_patterns(\n",
    "    model = enformer,\n",
    "    seqs = input_seq,\n",
    "    fixed_pattern = tss_seq, # The TSS will be fixed in the center of the sequence\n",
    "    variable_pattern = cre_seq, # The CRE will be inserted at different distances\n",
    "    stride=5000, # The CRE insertion position will shift by 5000 bp\n",
    "    n_shuffles = 10, # The input sequence will be shuffled 10 times and results averaged\n",
    "    seed = 0,\n",
    "    devices=0,\n",
    "    num_workers=16,\n",
    "    batch_size=8,\n",
    "    prediction_transform=agg,\n",
    "    augment_aggfunc='mean', # Average results over 10 shuffled sequences\n",
    "    compare_func='divide', # Compute the fold change of prediction after inserting the CRE\n",
    ")"
   ]
  },
  {
   "cell_type": "code",
   "execution_count": 37,
   "id": "abe685ce-f8f1-48c1-901c-45f83a516f8e",
   "metadata": {},
   "outputs": [
    {
     "data": {
      "text/plain": [
       "(1, 37, 1)"
      ]
     },
     "execution_count": 37,
     "metadata": {},
     "output_type": "execute_result"
    }
   ],
   "source": [
    "results[1].shape"
   ]
  },
  {
   "cell_type": "code",
   "execution_count": 38,
   "id": "46ff7595-96e7-41ca-ae0e-1c37b8154b16",
   "metadata": {},
   "outputs": [],
   "source": [
    "to_plot = pd.DataFrame({'distance':results[2], 'effect': results[1].squeeze()})"
   ]
  },
  {
   "cell_type": "code",
   "execution_count": 43,
   "id": "9ddbe9e7-7f90-4eac-a61e-d628a6afeab7",
   "metadata": {},
   "outputs": [
    {
     "data": {
      "image/png": "[encoded data removed]"
     },
     "metadata": {
      "image/png": {
       "height": 284,
       "width": 884
      }
     },
     "output_type": "display_data"
    }
   ],
   "source": [
    "(\n",
    "    ggplot(to_plot, aes(x='distance', y='effect')) + geom_point() + geom_line()\n",
    "    + theme_classic() + theme(figure_size=(8,2))\n",
    "    + geom_vline(xintercept=0, linetype='--')\n",
    ")"
   ]
  }
 ],
 "metadata": {
  "kernelspec": {
   "display_name": "Python 3 (ipykernel)",
   "language": "python",
   "name": "python3"
  },
  "language_info": {
   "codemirror_mode": {
    "name": "ipython",
    "version": 3
   },
   "file_extension": ".py",
   "mimetype": "text/x-python",
   "name": "python",
   "nbconvert_exporter": "python",
   "pygments_lexer": "ipython3",
   "version": "3.11.9"
  }
 },
 "nbformat": 4,
 "nbformat_minor": 5
}
