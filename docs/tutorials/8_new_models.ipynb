{
 "cells": [
  {
   "cell_type": "markdown",
   "id": "cab4808c-4159-495d-8b23-c146c2ae3d05",
   "metadata": {},
   "source": [
    "# How to use gReLU with external pytorch models"
   ]
  },
  {
   "cell_type": "code",
   "execution_count": 11,
   "id": "aa5941ae-17f7-4de5-bcae-43aee8a67e57",
   "metadata": {},
   "outputs": [],
   "source": [
    "import numpy as np\n",
    "import pandas as pd\n",
    "from torch import nn\n",
    "import grelu.resources\n",
    "import os\n",
    "from grelu.model.models import BaseModel\n",
    "from grelu.sequence.format import convert_input_type"
   ]
  },
  {
   "cell_type": "markdown",
   "id": "18b29075-2369-45a3-aa3c-70c3c5d4d1c0",
   "metadata": {},
   "source": [
    "## Load a pyTorch model"
   ]
  },
  {
   "cell_type": "code",
   "execution_count": 2,
   "id": "8abee5a4-e259-46de-806a-15b0acf68e31",
   "metadata": {},
   "outputs": [
    {
     "name": "stdout",
     "output_type": "stream",
     "text": [
      "Already up to date.\n",
      "Using downloaded and verified file: /root/.kipoi/models/Basset/downloaded/model_files/weights/4878981d84499eb575abd0f3b45570d3\n"
     ]
    },
    {
     "name": "stderr",
     "output_type": "stream",
     "text": [
      "/opt/conda/lib/python3.11/site-packages/kipoi/model.py:934: FutureWarning: You are using `torch.load` with `weights_only=False` (the current default value), which uses the default pickle module implicitly. It is possible to construct malicious pickle data which will execute arbitrary code during unpickling (See https://github.com/pytorch/pytorch/blob/main/SECURITY.md#untrusted-models for more details). In a future release, the default value for `weights_only` will be flipped to `True`. This limits the functions that could be executed during unpickling. Arbitrary objects will no longer be allowed to be loaded via this mode unless they are explicitly allowlisted by the user via `torch.serialization.add_safe_globals`. We recommend you start setting `weights_only=True` for any use case where you don't have full control of the loaded file. Please open an issue on GitHub for any issues related to this experimental feature.\n",
      "  self.model.load_state_dict(torch.load(weights))\n"
     ]
    }
   ],
   "source": [
    "import kipoi\n",
    "kipoi_model = kipoi.get_model('Basset', with_dataloader=False)"
   ]
  },
  {
   "cell_type": "code",
   "execution_count": 23,
   "id": "fddea4b1-2928-47f3-a430-7105f76aa7b2",
   "metadata": {},
   "outputs": [],
   "source": [
    "kipoi_model = kipoi_model.model.to('cpu')"
   ]
  },
  {
   "cell_type": "code",
   "execution_count": 108,
   "id": "a4ecfb5e-2d2a-43ae-b0ec-8517b3d73b55",
   "metadata": {},
   "outputs": [
    {
     "data": {
      "text/html": [
       "<div>\n",
       "<style scoped>\n",
       "    .dataframe tbody tr th:only-of-type {\n",
       "        vertical-align: middle;\n",
       "    }\n",
       "\n",
       "    .dataframe tbody tr th {\n",
       "        vertical-align: top;\n",
       "    }\n",
       "\n",
       "    .dataframe thead th {\n",
       "        text-align: right;\n",
       "    }\n",
       "</style>\n",
       "<table border=\"1\" class=\"dataframe\">\n",
       "  <thead>\n",
       "    <tr style=\"text-align: right;\">\n",
       "      <th></th>\n",
       "      <th>name</th>\n",
       "      <th>source</th>\n",
       "    </tr>\n",
       "  </thead>\n",
       "  <tbody>\n",
       "    <tr>\n",
       "      <th>0</th>\n",
       "      <td>8988T</td>\n",
       "      <td>encode/wgEncodeAwgDnaseDuke8988tUniPk.narrowPe...</td>\n",
       "    </tr>\n",
       "    <tr>\n",
       "      <th>1</th>\n",
       "      <td>AoSMC</td>\n",
       "      <td>encode/wgEncodeAwgDnaseDukeAosmcUniPk.narrowPe...</td>\n",
       "    </tr>\n",
       "    <tr>\n",
       "      <th>2</th>\n",
       "      <td>Chorion</td>\n",
       "      <td>encode/wgEncodeAwgDnaseDukeChorionUniPk.narrow...</td>\n",
       "    </tr>\n",
       "    <tr>\n",
       "      <th>3</th>\n",
       "      <td>CLL</td>\n",
       "      <td>encode/wgEncodeAwgDnaseDukeCllUniPk.narrowPeak.gz</td>\n",
       "    </tr>\n",
       "    <tr>\n",
       "      <th>4</th>\n",
       "      <td>Fibrobl</td>\n",
       "      <td>encode/wgEncodeAwgDnaseDukeFibroblUniPk.narrow...</td>\n",
       "    </tr>\n",
       "  </tbody>\n",
       "</table>\n",
       "</div>"
      ],
      "text/plain": [
       "      name                                             source\n",
       "0    8988T  encode/wgEncodeAwgDnaseDuke8988tUniPk.narrowPe...\n",
       "1    AoSMC  encode/wgEncodeAwgDnaseDukeAosmcUniPk.narrowPe...\n",
       "2  Chorion  encode/wgEncodeAwgDnaseDukeChorionUniPk.narrow...\n",
       "3      CLL  encode/wgEncodeAwgDnaseDukeCllUniPk.narrowPeak.gz\n",
       "4  Fibrobl  encode/wgEncodeAwgDnaseDukeFibroblUniPk.narrow..."
      ]
     },
     "execution_count": 108,
     "metadata": {},
     "output_type": "execute_result"
    }
   ],
   "source": [
    "tasks = pd.read_table('https://raw.github.com/davek44/Basset/refs/heads/master/data/models/targets.txt', header=None, \n",
    "                     names=['name', 'source'])\n",
    "tasks.head()"
   ]
  },
  {
   "cell_type": "markdown",
   "id": "b8c8ddb4-d90f-4d41-a1c5-cb2cfc754710",
   "metadata": {},
   "source": [
    "## Convert it to a gReLU compatible model"
   ]
  },
  {
   "cell_type": "code",
   "execution_count": 81,
   "id": "bae52d84-48da-4b5f-b72e-4167945b0556",
   "metadata": {},
   "outputs": [],
   "source": [
    "class InputReshape(nn.Module):\n",
    "    def __init__(self):\n",
    "        super().__init__()\n",
    "    def forward(self, x):\n",
    "        return x.unsqueeze(-1)\n",
    "\n",
    "\n",
    "class OutputReshape(nn.Module):\n",
    "    def __init__(self):\n",
    "        super().__init__()\n",
    "    def forward(self, x):\n",
    "        return x.unsqueeze(-1)"
   ]
  },
  {
   "cell_type": "code",
   "execution_count": 88,
   "id": "9dac2d39-8086-436f-8f06-9dc6b0f1abb0",
   "metadata": {},
   "outputs": [],
   "source": [
    "embedding = nn.Sequential(InputReshape(), *[l for l in model[:21]])\n",
    "head = nn.Sequential(*[x for x in model[21]], OutputReshape())"
   ]
  },
  {
   "cell_type": "code",
   "execution_count": 89,
   "id": "6ce1a077-b21c-4a58-81e9-9116509d18a0",
   "metadata": {},
   "outputs": [],
   "source": [
    "basemodel = BaseModel(embedding=embedding, head=head)"
   ]
  },
  {
   "cell_type": "code",
   "execution_count": 90,
   "id": "1d9ea90c-0280-4114-b6ec-97fdcbad7bd5",
   "metadata": {},
   "outputs": [],
   "source": [
    "basemodel.head.n_tasks = 164"
   ]
  },
  {
   "cell_type": "markdown",
   "id": "f4e7bb39-335f-4d92-8b32-f2f93e204a81",
   "metadata": {},
   "source": [
    "## Wrap it in a LightningModel"
   ]
  },
  {
   "cell_type": "code",
   "execution_count": 91,
   "id": "68a6d3f2-ea95-43e0-99f9-ee7cdb413ea8",
   "metadata": {},
   "outputs": [],
   "source": [
    "lm = grelu.lightning.LightningModel(model=basemodel)"
   ]
  },
  {
   "cell_type": "code",
   "execution_count": 92,
   "id": "09a76b9c-f403-47f0-a3ee-5e2069cc3c54",
   "metadata": {},
   "outputs": [],
   "source": [
    "lm.activation=nn.Sigmoid()"
   ]
  },
  {
   "cell_type": "code",
   "execution_count": 78,
   "id": "324f8429-3d15-489d-925b-06f94afee4c3",
   "metadata": {},
   "outputs": [],
   "source": [
    "lm.data_params['tasks'] = {'name': tasks.tolist()}"
   ]
  },
  {
   "cell_type": "markdown",
   "id": "62185670-d741-4887-b0a7-345a2724153a",
   "metadata": {},
   "source": [
    "## Test the model"
   ]
  },
  {
   "cell_type": "code",
   "execution_count": null,
   "id": "4cd55a0f-9f8d-4aa7-abbe-d2ffed8d261c",
   "metadata": {},
   "outputs": [],
   "source": [
    "oh = convert_input_type('A'*600, 'one_hot', add_batch_axis=True)\n",
    "oh.shape"
   ]
  },
  {
   "cell_type": "code",
   "execution_count": null,
   "id": "1306638f-b444-4212-afad-7572c997b306",
   "metadata": {},
   "outputs": [],
   "source": [
    "lm(oh).shape"
   ]
  },
  {
   "cell_type": "markdown",
   "id": "e9f3592e-377a-4453-876b-0594ae61a0f8",
   "metadata": {},
   "source": [
    "## Load some variant data"
   ]
  },
  {
   "cell_type": "code",
   "execution_count": 71,
   "id": "0c6cdabc-5914-46f1-989c-13c68935b9ca",
   "metadata": {},
   "outputs": [
    {
     "name": "stderr",
     "output_type": "stream",
     "text": [
      "\u001b[34m\u001b[1mwandb\u001b[0m:   1 of 1 files downloaded.  \n"
     ]
    }
   ],
   "source": [
    "variant_dir = grelu.resources.get_artifact(\n",
    "    project='alzheimers-variant-tutorial',\n",
    "    name='dataset'\n",
    ").download()\n",
    "\n",
    "variant_file = os.path.join(variant_dir, \"variants.txt\")"
   ]
  },
  {
   "cell_type": "code",
   "execution_count": 72,
   "id": "32c8a43e-65f9-48c2-9704-420281f476bf",
   "metadata": {},
   "outputs": [],
   "source": [
    "variants = pd.read_table(variant_file)"
   ]
  },
  {
   "cell_type": "code",
   "execution_count": 74,
   "id": "e4126e65-5d05-47d5-9789-ffdbf6269d57",
   "metadata": {},
   "outputs": [],
   "source": [
    "variants = variants.head()"
   ]
  },
  {
   "cell_type": "markdown",
   "id": "7f12fb33-59bb-42fd-82d6-18bb5f40e710",
   "metadata": {},
   "source": [
    "## Predict variant effects"
   ]
  },
  {
   "cell_type": "code",
   "execution_count": 98,
   "id": "efb2727a-ca2b-43e7-9de8-08255d461d44",
   "metadata": {},
   "outputs": [
    {
     "name": "stderr",
     "output_type": "stream",
     "text": [
      "GPU available: True (cuda), used: True\n",
      "TPU available: False, using: 0 TPU cores\n",
      "HPU available: False, using: 0 HPUs\n",
      "LOCAL_RANK: 0 - CUDA_VISIBLE_DEVICES: [0,1,2,3,4,5,6,7]\n"
     ]
    },
    {
     "name": "stdout",
     "output_type": "stream",
     "text": [
      "making dataset\n",
      "Predicting DataLoader 0: 100%|██████████████████████████████████████████████████████████████████████████████████████████████████████████████████████████████████████████████████████████████████████████████| 1/1 [00:00<00:00, 115.59it/s]\n"
     ]
    },
    {
     "name": "stderr",
     "output_type": "stream",
     "text": [
      "/opt/conda/lib/python3.11/site-packages/anndata/_core/aligned_df.py:68: ImplicitModificationWarning: Transforming to str index.\n",
      "  warnings.warn(\"Transforming to str index.\", ImplicitModificationWarning)\n"
     ]
    }
   ],
   "source": [
    "import grelu.variant\n",
    "\n",
    "odds = grelu.variant.predict_variant_effects(\n",
    "    variants=variants,\n",
    "    model=lm, \n",
    "    devices=0, # Run on GPU 0\n",
    "    num_workers=8,\n",
    "    batch_size=128,\n",
    "    genome=\"hg38\",\n",
    "    compare_func=\"subtract\", # Return the log2 fold change between alt and ref predictions\n",
    "    return_ad=True, # Return an anndata object.\n",
    "    rc = True, # Reverse complement the ref/alt predictions and average them.\n",
    "    seq_len=600,\n",
    ")"
   ]
  },
  {
   "cell_type": "code",
   "execution_count": 102,
   "id": "63934801-e942-4793-a1c6-4b265f149ec7",
   "metadata": {},
   "outputs": [
    {
     "data": {
      "text/html": [
       "<div>\n",
       "<style scoped>\n",
       "    .dataframe tbody tr th:only-of-type {\n",
       "        vertical-align: middle;\n",
       "    }\n",
       "\n",
       "    .dataframe tbody tr th {\n",
       "        vertical-align: top;\n",
       "    }\n",
       "\n",
       "    .dataframe thead th {\n",
       "        text-align: right;\n",
       "    }\n",
       "</style>\n",
       "<table border=\"1\" class=\"dataframe\">\n",
       "  <thead>\n",
       "    <tr style=\"text-align: right;\">\n",
       "      <th></th>\n",
       "      <th>snpid</th>\n",
       "      <th>chrom</th>\n",
       "      <th>pos</th>\n",
       "      <th>alt</th>\n",
       "      <th>ref</th>\n",
       "      <th>rsid</th>\n",
       "      <th>zscore</th>\n",
       "      <th>pval</th>\n",
       "      <th>nsum</th>\n",
       "      <th>neff</th>\n",
       "      <th>direction</th>\n",
       "      <th>eaf</th>\n",
       "      <th>beta</th>\n",
       "      <th>se</th>\n",
       "    </tr>\n",
       "  </thead>\n",
       "  <tbody>\n",
       "    <tr>\n",
       "      <th>0</th>\n",
       "      <td>6:32630634_G_A</td>\n",
       "      <td>chr6</td>\n",
       "      <td>32630634</td>\n",
       "      <td>G</td>\n",
       "      <td>A</td>\n",
       "      <td>6:32630634</td>\n",
       "      <td>3.974476</td>\n",
       "      <td>0.000071</td>\n",
       "      <td>71639</td>\n",
       "      <td>71639.0</td>\n",
       "      <td>?+?+</td>\n",
       "      <td>0.2237</td>\n",
       "      <td>0.025194</td>\n",
       "      <td>0.006339</td>\n",
       "    </tr>\n",
       "    <tr>\n",
       "      <th>1</th>\n",
       "      <td>6:32630797_A_G</td>\n",
       "      <td>chr6</td>\n",
       "      <td>32630797</td>\n",
       "      <td>A</td>\n",
       "      <td>G</td>\n",
       "      <td>6:32630797</td>\n",
       "      <td>4.040244</td>\n",
       "      <td>0.000053</td>\n",
       "      <td>71639</td>\n",
       "      <td>71639.0</td>\n",
       "      <td>?+?+</td>\n",
       "      <td>0.2435</td>\n",
       "      <td>0.024866</td>\n",
       "      <td>0.006155</td>\n",
       "    </tr>\n",
       "    <tr>\n",
       "      <th>2</th>\n",
       "      <td>6:32630824_T_C</td>\n",
       "      <td>chr6</td>\n",
       "      <td>32630824</td>\n",
       "      <td>T</td>\n",
       "      <td>C</td>\n",
       "      <td>6:32630824</td>\n",
       "      <td>3.921736</td>\n",
       "      <td>0.000088</td>\n",
       "      <td>71639</td>\n",
       "      <td>71639.0</td>\n",
       "      <td>?+?+</td>\n",
       "      <td>0.1859</td>\n",
       "      <td>0.026630</td>\n",
       "      <td>0.006790</td>\n",
       "    </tr>\n",
       "    <tr>\n",
       "      <th>3</th>\n",
       "      <td>6:32630829_G_A</td>\n",
       "      <td>chr6</td>\n",
       "      <td>32630829</td>\n",
       "      <td>G</td>\n",
       "      <td>A</td>\n",
       "      <td>6:32630829</td>\n",
       "      <td>4.044549</td>\n",
       "      <td>0.000052</td>\n",
       "      <td>71639</td>\n",
       "      <td>71639.0</td>\n",
       "      <td>?+?+</td>\n",
       "      <td>0.1859</td>\n",
       "      <td>0.027463</td>\n",
       "      <td>0.006790</td>\n",
       "    </tr>\n",
       "    <tr>\n",
       "      <th>4</th>\n",
       "      <td>6:32630925_T_A</td>\n",
       "      <td>chr6</td>\n",
       "      <td>32630925</td>\n",
       "      <td>T</td>\n",
       "      <td>A</td>\n",
       "      <td>6:32630925</td>\n",
       "      <td>3.942586</td>\n",
       "      <td>0.000081</td>\n",
       "      <td>71639</td>\n",
       "      <td>71639.0</td>\n",
       "      <td>?+?+</td>\n",
       "      <td>0.2137</td>\n",
       "      <td>0.025407</td>\n",
       "      <td>0.006444</td>\n",
       "    </tr>\n",
       "  </tbody>\n",
       "</table>\n",
       "</div>"
      ],
      "text/plain": [
       "            snpid chrom       pos alt ref        rsid    zscore      pval  \\\n",
       "0  6:32630634_G_A  chr6  32630634   G   A  6:32630634  3.974476  0.000071   \n",
       "1  6:32630797_A_G  chr6  32630797   A   G  6:32630797  4.040244  0.000053   \n",
       "2  6:32630824_T_C  chr6  32630824   T   C  6:32630824  3.921736  0.000088   \n",
       "3  6:32630829_G_A  chr6  32630829   G   A  6:32630829  4.044549  0.000052   \n",
       "4  6:32630925_T_A  chr6  32630925   T   A  6:32630925  3.942586  0.000081   \n",
       "\n",
       "    nsum     neff direction     eaf      beta        se  \n",
       "0  71639  71639.0      ?+?+  0.2237  0.025194  0.006339  \n",
       "1  71639  71639.0      ?+?+  0.2435  0.024866  0.006155  \n",
       "2  71639  71639.0      ?+?+  0.1859  0.026630  0.006790  \n",
       "3  71639  71639.0      ?+?+  0.1859  0.027463  0.006790  \n",
       "4  71639  71639.0      ?+?+  0.2137  0.025407  0.006444  "
      ]
     },
     "execution_count": 102,
     "metadata": {},
     "output_type": "execute_result"
    }
   ],
   "source": [
    "odds.obs.head()"
   ]
  },
  {
   "cell_type": "code",
   "execution_count": 103,
   "id": "0c1f0862-a0a6-4b86-bcb2-61d840a62f22",
   "metadata": {},
   "outputs": [
    {
     "data": {
      "text/html": [
       "<div>\n",
       "<style scoped>\n",
       "    .dataframe tbody tr th:only-of-type {\n",
       "        vertical-align: middle;\n",
       "    }\n",
       "\n",
       "    .dataframe tbody tr th {\n",
       "        vertical-align: top;\n",
       "    }\n",
       "\n",
       "    .dataframe thead th {\n",
       "        text-align: right;\n",
       "    }\n",
       "</style>\n",
       "<table border=\"1\" class=\"dataframe\">\n",
       "  <thead>\n",
       "    <tr style=\"text-align: right;\">\n",
       "      <th></th>\n",
       "    </tr>\n",
       "    <tr>\n",
       "      <th>name</th>\n",
       "    </tr>\n",
       "  </thead>\n",
       "  <tbody>\n",
       "    <tr>\n",
       "      <th>8988T</th>\n",
       "    </tr>\n",
       "    <tr>\n",
       "      <th>AoSMC</th>\n",
       "    </tr>\n",
       "    <tr>\n",
       "      <th>Chorion</th>\n",
       "    </tr>\n",
       "    <tr>\n",
       "      <th>CLL</th>\n",
       "    </tr>\n",
       "    <tr>\n",
       "      <th>Fibrobl</th>\n",
       "    </tr>\n",
       "  </tbody>\n",
       "</table>\n",
       "</div>"
      ],
      "text/plain": [
       "Empty DataFrame\n",
       "Columns: []\n",
       "Index: [8988T, AoSMC, Chorion, CLL, Fibrobl]"
      ]
     },
     "execution_count": 103,
     "metadata": {},
     "output_type": "execute_result"
    }
   ],
   "source": [
    "odds.var.head()"
   ]
  },
  {
   "cell_type": "code",
   "execution_count": 106,
   "id": "63185bb7-446e-4879-ac0e-b5506ae42c4c",
   "metadata": {
    "scrolled": true
   },
   "outputs": [
    {
     "data": {
      "text/plain": [
       "array([[ 6.7059975e-04, -7.1943970e-05,  8.2078017e-04,  3.0160247e-04,\n",
       "         9.9612400e-04,  3.2657199e-04,  1.5163550e-04,  2.2395590e-04,\n",
       "         2.5888509e-04,  2.3600331e-04],\n",
       "       [-3.1625712e-04,  1.8137204e-04, -3.8895570e-04, -1.2878567e-04,\n",
       "        -2.7760863e-04, -4.8756599e-05, -1.8160080e-04, -8.2039332e-05,\n",
       "        -9.1010530e-05, -1.2605428e-04],\n",
       "       [ 2.2092855e-03,  1.1844642e-03,  4.3695448e-03,  2.1502160e-04,\n",
       "         2.7354609e-02,  1.2441045e-02,  1.1652061e-03,  2.2177270e-04,\n",
       "         2.4229416e-04,  3.9629173e-04],\n",
       "       [-6.0073775e-04,  1.1721095e-03, -1.4877692e-03, -5.5570388e-05,\n",
       "        -5.9145242e-03,  6.3451566e-04, -1.7841649e-04, -1.7306185e-05,\n",
       "         2.7102651e-06, -5.8941077e-05],\n",
       "       [ 1.2307693e-03, -3.2268488e-04,  1.6341531e-03, -1.3554969e-04,\n",
       "         1.0393305e-02,  4.1489732e-03,  5.7467003e-04, -7.7596225e-05,\n",
       "         4.6995294e-05, -2.5936752e-04]], dtype=float32)"
      ]
     },
     "execution_count": 106,
     "metadata": {},
     "output_type": "execute_result"
    }
   ],
   "source": [
    "odds.X[:, :10]"
   ]
  },
  {
   "cell_type": "code",
   "execution_count": null,
   "id": "82190fe7-1b99-46c3-a16c-6f6c3355ef3e",
   "metadata": {},
   "outputs": [],
   "source": []
  }
 ],
 "metadata": {
  "kernelspec": {
   "display_name": "Python 3 (ipykernel)",
   "language": "python",
   "name": "python3"
  },
  "language_info": {
   "codemirror_mode": {
    "name": "ipython",
    "version": 3
   },
   "file_extension": ".py",
   "mimetype": "text/x-python",
   "name": "python",
   "nbconvert_exporter": "python",
   "pygments_lexer": "ipython3",
   "version": "3.11.9"
  }
 },
 "nbformat": 4,
 "nbformat_minor": 5
}
