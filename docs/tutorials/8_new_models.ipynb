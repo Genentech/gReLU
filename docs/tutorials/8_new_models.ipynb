{
 "cells": [
  {
   "cell_type": "markdown",
   "id": "cab4808c-4159-495d-8b23-c146c2ae3d05",
   "metadata": {},
   "source": [
    "# How to use gReLU with external pytorch models"
   ]
  },
  {
   "cell_type": "code",
   "execution_count": 1,
   "id": "aa5941ae-17f7-4de5-bcae-43aee8a67e57",
   "metadata": {},
   "outputs": [
    {
     "name": "stderr",
     "output_type": "stream",
     "text": [
      "/opt/conda/lib/python3.11/site-packages/tqdm/auto.py:21: TqdmWarning: IProgress not found. Please update jupyter and ipywidgets. See https://ipywidgets.readthedocs.io/en/stable/user_install.html\n",
      "  from .autonotebook import tqdm as notebook_tqdm\n"
     ]
    }
   ],
   "source": [
    "import numpy as np\n",
    "import pandas as pd\n",
    "from torch import nn\n",
    "import grelu.resources\n",
    "import os\n",
    "from grelu.model.models import BaseModel\n",
    "from grelu.sequence.format import convert_input_type\n",
    "from grelu.sequence.utils import generate_random_sequences"
   ]
  },
  {
   "cell_type": "markdown",
   "id": "18b29075-2369-45a3-aa3c-70c3c5d4d1c0",
   "metadata": {},
   "source": [
    "## Load a pyTorch model"
   ]
  },
  {
   "cell_type": "code",
   "execution_count": 2,
   "id": "8abee5a4-e259-46de-806a-15b0acf68e31",
   "metadata": {},
   "outputs": [
    {
     "name": "stdout",
     "output_type": "stream",
     "text": [
      "Already up to date.\n",
      "Using downloaded and verified file: /root/.kipoi/models/Basset/downloaded/model_files/weights/4878981d84499eb575abd0f3b45570d3\n"
     ]
    },
    {
     "name": "stderr",
     "output_type": "stream",
     "text": [
      "/opt/conda/lib/python3.11/site-packages/kipoi/model.py:934: FutureWarning: You are using `torch.load` with `weights_only=False` (the current default value), which uses the default pickle module implicitly. It is possible to construct malicious pickle data which will execute arbitrary code during unpickling (See https://github.com/pytorch/pytorch/blob/main/SECURITY.md#untrusted-models for more details). In a future release, the default value for `weights_only` will be flipped to `True`. This limits the functions that could be executed during unpickling. Arbitrary objects will no longer be allowed to be loaded via this mode unless they are explicitly allowlisted by the user via `torch.serialization.add_safe_globals`. We recommend you start setting `weights_only=True` for any use case where you don't have full control of the loaded file. Please open an issue on GitHub for any issues related to this experimental feature.\n",
      "  self.model.load_state_dict(torch.load(weights))\n"
     ]
    }
   ],
   "source": [
    "import kipoi\n",
    "kipoi_model = kipoi.get_model('Basset', with_dataloader=False)"
   ]
  },
  {
   "cell_type": "code",
   "execution_count": 3,
   "id": "fddea4b1-2928-47f3-a430-7105f76aa7b2",
   "metadata": {},
   "outputs": [],
   "source": [
    "kipoi_model = kipoi_model.model.to('cpu')"
   ]
  },
  {
   "cell_type": "code",
   "execution_count": 4,
   "id": "a4ecfb5e-2d2a-43ae-b0ec-8517b3d73b55",
   "metadata": {},
   "outputs": [
    {
     "data": {
      "text/html": [
       "<div>\n",
       "<style scoped>\n",
       "    .dataframe tbody tr th:only-of-type {\n",
       "        vertical-align: middle;\n",
       "    }\n",
       "\n",
       "    .dataframe tbody tr th {\n",
       "        vertical-align: top;\n",
       "    }\n",
       "\n",
       "    .dataframe thead th {\n",
       "        text-align: right;\n",
       "    }\n",
       "</style>\n",
       "<table border=\"1\" class=\"dataframe\">\n",
       "  <thead>\n",
       "    <tr style=\"text-align: right;\">\n",
       "      <th></th>\n",
       "      <th>name</th>\n",
       "      <th>source</th>\n",
       "    </tr>\n",
       "  </thead>\n",
       "  <tbody>\n",
       "    <tr>\n",
       "      <th>0</th>\n",
       "      <td>8988T</td>\n",
       "      <td>encode/wgEncodeAwgDnaseDuke8988tUniPk.narrowPe...</td>\n",
       "    </tr>\n",
       "    <tr>\n",
       "      <th>1</th>\n",
       "      <td>AoSMC</td>\n",
       "      <td>encode/wgEncodeAwgDnaseDukeAosmcUniPk.narrowPe...</td>\n",
       "    </tr>\n",
       "    <tr>\n",
       "      <th>2</th>\n",
       "      <td>Chorion</td>\n",
       "      <td>encode/wgEncodeAwgDnaseDukeChorionUniPk.narrow...</td>\n",
       "    </tr>\n",
       "    <tr>\n",
       "      <th>3</th>\n",
       "      <td>CLL</td>\n",
       "      <td>encode/wgEncodeAwgDnaseDukeCllUniPk.narrowPeak.gz</td>\n",
       "    </tr>\n",
       "    <tr>\n",
       "      <th>4</th>\n",
       "      <td>Fibrobl</td>\n",
       "      <td>encode/wgEncodeAwgDnaseDukeFibroblUniPk.narrow...</td>\n",
       "    </tr>\n",
       "  </tbody>\n",
       "</table>\n",
       "</div>"
      ],
      "text/plain": [
       "      name                                             source\n",
       "0    8988T  encode/wgEncodeAwgDnaseDuke8988tUniPk.narrowPe...\n",
       "1    AoSMC  encode/wgEncodeAwgDnaseDukeAosmcUniPk.narrowPe...\n",
       "2  Chorion  encode/wgEncodeAwgDnaseDukeChorionUniPk.narrow...\n",
       "3      CLL  encode/wgEncodeAwgDnaseDukeCllUniPk.narrowPeak.gz\n",
       "4  Fibrobl  encode/wgEncodeAwgDnaseDukeFibroblUniPk.narrow..."
      ]
     },
     "execution_count": 4,
     "metadata": {},
     "output_type": "execute_result"
    }
   ],
   "source": [
    "tasks = pd.read_table('https://raw.github.com/davek44/Basset/refs/heads/master/data/models/targets.txt', header=None, \n",
    "                     names=['name', 'source'])\n",
    "tasks.head()"
   ]
  },
  {
   "cell_type": "code",
   "execution_count": 5,
   "id": "1e0f5772-019c-4008-b390-1ad477c3ecd1",
   "metadata": {},
   "outputs": [
    {
     "data": {
      "text/plain": [
       "164"
      ]
     },
     "execution_count": 5,
     "metadata": {},
     "output_type": "execute_result"
    }
   ],
   "source": [
    "len(tasks)"
   ]
  },
  {
   "cell_type": "markdown",
   "id": "b8c8ddb4-d90f-4d41-a1c5-cb2cfc754710",
   "metadata": {},
   "source": [
    "## Make it gReLU compatible"
   ]
  },
  {
   "cell_type": "code",
   "execution_count": 6,
   "id": "bae52d84-48da-4b5f-b72e-4167945b0556",
   "metadata": {},
   "outputs": [],
   "source": [
    "class AddFinalAxis(nn.Module):\n",
    "    def __init__(self):\n",
    "        super().__init__()\n",
    "    def forward(self, x):\n",
    "        return x.unsqueeze(-1)"
   ]
  },
  {
   "cell_type": "code",
   "execution_count": 7,
   "id": "9dac2d39-8086-436f-8f06-9dc6b0f1abb0",
   "metadata": {},
   "outputs": [],
   "source": [
    "embedding = nn.Sequential(AddFinalAxis(), *[l for l in kipoi_model[:21]])\n",
    "\n",
    "head = nn.Sequential(*[x for x in kipoi_model[21]], AddFinalAxis())\n",
    "head.n_tasks = len(tasks)"
   ]
  },
  {
   "cell_type": "markdown",
   "id": "f4e7bb39-335f-4d92-8b32-f2f93e204a81",
   "metadata": {},
   "source": [
    "## Wrap it in a LightningModel"
   ]
  },
  {
   "cell_type": "code",
   "execution_count": 9,
   "id": "9f81076e-14da-42e0-82de-c0fd7d32d09d",
   "metadata": {},
   "outputs": [],
   "source": [
    "lm = grelu.lightning.LightningModel(model_params={'model_type':'BaseModel', 'embedding':embedding, 'head':head})"
   ]
  },
  {
   "cell_type": "code",
   "execution_count": 10,
   "id": "09a76b9c-f403-47f0-a3ee-5e2069cc3c54",
   "metadata": {},
   "outputs": [],
   "source": [
    "lm.activation = nn.Sigmoid()"
   ]
  },
  {
   "cell_type": "code",
   "execution_count": 11,
   "id": "324f8429-3d15-489d-925b-06f94afee4c3",
   "metadata": {},
   "outputs": [],
   "source": [
    "lm.data_params['tasks'] = tasks.to_dict(orient=\"list\")"
   ]
  },
  {
   "cell_type": "markdown",
   "id": "62185670-d741-4887-b0a7-345a2724153a",
   "metadata": {},
   "source": [
    "## Test the model"
   ]
  },
  {
   "cell_type": "code",
   "execution_count": 12,
   "id": "4cd55a0f-9f8d-4aa7-abbe-d2ffed8d261c",
   "metadata": {},
   "outputs": [
    {
     "data": {
      "text/plain": [
       "torch.Size([5, 4, 600])"
      ]
     },
     "execution_count": 12,
     "metadata": {},
     "output_type": "execute_result"
    }
   ],
   "source": [
    "test_input = generate_random_sequences(n=5, output_format='one_hot', seq_len=600, seed=0)\n",
    "test_input.shape"
   ]
  },
  {
   "cell_type": "code",
   "execution_count": 13,
   "id": "1306638f-b444-4212-afad-7572c997b306",
   "metadata": {},
   "outputs": [],
   "source": [
    "test_output = lm(test_input)"
   ]
  },
  {
   "cell_type": "code",
   "execution_count": 14,
   "id": "ea3cc8a2-9fa1-42f4-8973-df8af31c09f4",
   "metadata": {},
   "outputs": [
    {
     "data": {
      "text/plain": [
       "torch.Size([5, 164, 1])"
      ]
     },
     "execution_count": 14,
     "metadata": {},
     "output_type": "execute_result"
    }
   ],
   "source": [
    "test_output.shape"
   ]
  },
  {
   "cell_type": "code",
   "execution_count": 15,
   "id": "65b3b18e-0109-41ac-b88a-c09175756049",
   "metadata": {},
   "outputs": [
    {
     "data": {
      "text/plain": [
       "(tensor(0.1328, grad_fn=<MinBackward1>),\n",
       " tensor(0.8120, grad_fn=<MaxBackward1>))"
      ]
     },
     "execution_count": 15,
     "metadata": {},
     "output_type": "execute_result"
    }
   ],
   "source": [
    "test_output.min(), test_output.max()"
   ]
  },
  {
   "cell_type": "markdown",
   "id": "e9f3592e-377a-4453-876b-0594ae61a0f8",
   "metadata": {},
   "source": [
    "## Load some variant data"
   ]
  },
  {
   "cell_type": "code",
   "execution_count": 16,
   "id": "0c6cdabc-5914-46f1-989c-13c68935b9ca",
   "metadata": {},
   "outputs": [
    {
     "name": "stderr",
     "output_type": "stream",
     "text": [
      "Failed to detect the name of this notebook, you can set it manually with the WANDB_NOTEBOOK_NAME environment variable to enable code saving.\n",
      "\u001b[34m\u001b[1mwandb\u001b[0m: Using wandb-core as the SDK backend. Please refer to https://wandb.me/wandb-core for more information.\n",
      "\u001b[34m\u001b[1mwandb\u001b[0m: Currently logged in as: \u001b[33manony-mouse-180959755991866352\u001b[0m. Use \u001b[1m`wandb login --relogin`\u001b[0m to force relogin\n",
      "\u001b[34m\u001b[1mwandb\u001b[0m:   1 of 1 files downloaded.  \n"
     ]
    }
   ],
   "source": [
    "variant_dir = grelu.resources.get_artifact(\n",
    "    project='alzheimers-variant-tutorial',\n",
    "    name='dataset'\n",
    ").download()\n",
    "\n",
    "variant_file = os.path.join(variant_dir, \"variants.txt\")"
   ]
  },
  {
   "cell_type": "code",
   "execution_count": 36,
   "id": "32c8a43e-65f9-48c2-9704-420281f476bf",
   "metadata": {},
   "outputs": [],
   "source": [
    "test_variants = pd.read_table(variant_file, nrows=400)"
   ]
  },
  {
   "cell_type": "markdown",
   "id": "7f12fb33-59bb-42fd-82d6-18bb5f40e710",
   "metadata": {},
   "source": [
    "## Predict variant effects"
   ]
  },
  {
   "cell_type": "code",
   "execution_count": 39,
   "id": "efb2727a-ca2b-43e7-9de8-08255d461d44",
   "metadata": {},
   "outputs": [
    {
     "name": "stderr",
     "output_type": "stream",
     "text": [
      "GPU available: True (cuda), used: True\n",
      "TPU available: False, using: 0 TPU cores\n",
      "HPU available: False, using: 0 HPUs\n",
      "LOCAL_RANK: 0 - CUDA_VISIBLE_DEVICES: [0,1,2,3,4,5,6,7]\n"
     ]
    },
    {
     "name": "stdout",
     "output_type": "stream",
     "text": [
      "making dataset\n"
     ]
    },
    {
     "name": "stderr",
     "output_type": "stream",
     "text": [
      "/opt/conda/lib/python3.11/site-packages/pytorch_lightning/trainer/connectors/data_connector.py:424: The 'predict_dataloader' does not have many workers which may be a bottleneck. Consider increasing the value of the `num_workers` argument` to `num_workers=255` in the `DataLoader` to improve performance.\n"
     ]
    },
    {
     "name": "stdout",
     "output_type": "stream",
     "text": [
      "Predicting DataLoader 0: 100%|█████████████████████████████████████████████████████████████████████████████████████████████████████████████████████████████████████████████████████████████████████████████| 13/13 [00:00<00:00, 78.20it/s]\n"
     ]
    },
    {
     "name": "stderr",
     "output_type": "stream",
     "text": [
      "/opt/conda/lib/python3.11/site-packages/anndata/_core/aligned_df.py:68: ImplicitModificationWarning: Transforming to str index.\n",
      "  warnings.warn(\"Transforming to str index.\", ImplicitModificationWarning)\n"
     ]
    }
   ],
   "source": [
    "import grelu.variant\n",
    "\n",
    "odds = grelu.variant.predict_variant_effects(\n",
    "    variants=test_variants,\n",
    "    model=lm, \n",
    "    seq_len=600,\n",
    "    devices=0, # Run on GPU 0\n",
    "    num_workers=0,\n",
    "    batch_size=128,\n",
    "    genome=\"hg38\",\n",
    "    compare_func=\"subtract\", # Return the difference between alt and ref predicted probabilities\n",
    "    return_ad=True, # Return an anndata object.\n",
    "    rc = True, # Reverse complement the ref/alt predictions and average them.\n",
    ")"
   ]
  },
  {
   "cell_type": "code",
   "execution_count": 44,
   "id": "550be927-1bf1-4fda-b8e9-09b14cfa0ea6",
   "metadata": {},
   "outputs": [
    {
     "data": {
      "text/plain": [
       "(400, 164)"
      ]
     },
     "execution_count": 44,
     "metadata": {},
     "output_type": "execute_result"
    }
   ],
   "source": [
    "odds.shape"
   ]
  },
  {
   "cell_type": "code",
   "execution_count": 40,
   "id": "63934801-e942-4793-a1c6-4b265f149ec7",
   "metadata": {},
   "outputs": [
    {
     "data": {
      "text/html": [
       "<div>\n",
       "<style scoped>\n",
       "    .dataframe tbody tr th:only-of-type {\n",
       "        vertical-align: middle;\n",
       "    }\n",
       "\n",
       "    .dataframe tbody tr th {\n",
       "        vertical-align: top;\n",
       "    }\n",
       "\n",
       "    .dataframe thead th {\n",
       "        text-align: right;\n",
       "    }\n",
       "</style>\n",
       "<table border=\"1\" class=\"dataframe\">\n",
       "  <thead>\n",
       "    <tr style=\"text-align: right;\">\n",
       "      <th></th>\n",
       "      <th>snpid</th>\n",
       "      <th>chrom</th>\n",
       "      <th>pos</th>\n",
       "      <th>alt</th>\n",
       "      <th>ref</th>\n",
       "      <th>rsid</th>\n",
       "      <th>zscore</th>\n",
       "      <th>pval</th>\n",
       "      <th>nsum</th>\n",
       "      <th>neff</th>\n",
       "      <th>direction</th>\n",
       "      <th>eaf</th>\n",
       "      <th>beta</th>\n",
       "      <th>se</th>\n",
       "    </tr>\n",
       "  </thead>\n",
       "  <tbody>\n",
       "    <tr>\n",
       "      <th>0</th>\n",
       "      <td>6:32630634_G_A</td>\n",
       "      <td>chr6</td>\n",
       "      <td>32630634</td>\n",
       "      <td>G</td>\n",
       "      <td>A</td>\n",
       "      <td>6:32630634</td>\n",
       "      <td>3.974476</td>\n",
       "      <td>0.000071</td>\n",
       "      <td>71639</td>\n",
       "      <td>71639.0</td>\n",
       "      <td>?+?+</td>\n",
       "      <td>0.2237</td>\n",
       "      <td>0.025194</td>\n",
       "      <td>0.006339</td>\n",
       "    </tr>\n",
       "    <tr>\n",
       "      <th>1</th>\n",
       "      <td>6:32630797_A_G</td>\n",
       "      <td>chr6</td>\n",
       "      <td>32630797</td>\n",
       "      <td>A</td>\n",
       "      <td>G</td>\n",
       "      <td>6:32630797</td>\n",
       "      <td>4.040244</td>\n",
       "      <td>0.000053</td>\n",
       "      <td>71639</td>\n",
       "      <td>71639.0</td>\n",
       "      <td>?+?+</td>\n",
       "      <td>0.2435</td>\n",
       "      <td>0.024866</td>\n",
       "      <td>0.006155</td>\n",
       "    </tr>\n",
       "    <tr>\n",
       "      <th>2</th>\n",
       "      <td>6:32630824_T_C</td>\n",
       "      <td>chr6</td>\n",
       "      <td>32630824</td>\n",
       "      <td>T</td>\n",
       "      <td>C</td>\n",
       "      <td>6:32630824</td>\n",
       "      <td>3.921736</td>\n",
       "      <td>0.000088</td>\n",
       "      <td>71639</td>\n",
       "      <td>71639.0</td>\n",
       "      <td>?+?+</td>\n",
       "      <td>0.1859</td>\n",
       "      <td>0.026630</td>\n",
       "      <td>0.006790</td>\n",
       "    </tr>\n",
       "    <tr>\n",
       "      <th>3</th>\n",
       "      <td>6:32630829_G_A</td>\n",
       "      <td>chr6</td>\n",
       "      <td>32630829</td>\n",
       "      <td>G</td>\n",
       "      <td>A</td>\n",
       "      <td>6:32630829</td>\n",
       "      <td>4.044549</td>\n",
       "      <td>0.000052</td>\n",
       "      <td>71639</td>\n",
       "      <td>71639.0</td>\n",
       "      <td>?+?+</td>\n",
       "      <td>0.1859</td>\n",
       "      <td>0.027463</td>\n",
       "      <td>0.006790</td>\n",
       "    </tr>\n",
       "    <tr>\n",
       "      <th>4</th>\n",
       "      <td>6:32630925_T_A</td>\n",
       "      <td>chr6</td>\n",
       "      <td>32630925</td>\n",
       "      <td>T</td>\n",
       "      <td>A</td>\n",
       "      <td>6:32630925</td>\n",
       "      <td>3.942586</td>\n",
       "      <td>0.000081</td>\n",
       "      <td>71639</td>\n",
       "      <td>71639.0</td>\n",
       "      <td>?+?+</td>\n",
       "      <td>0.2137</td>\n",
       "      <td>0.025407</td>\n",
       "      <td>0.006444</td>\n",
       "    </tr>\n",
       "  </tbody>\n",
       "</table>\n",
       "</div>"
      ],
      "text/plain": [
       "            snpid chrom       pos alt ref        rsid    zscore      pval  \\\n",
       "0  6:32630634_G_A  chr6  32630634   G   A  6:32630634  3.974476  0.000071   \n",
       "1  6:32630797_A_G  chr6  32630797   A   G  6:32630797  4.040244  0.000053   \n",
       "2  6:32630824_T_C  chr6  32630824   T   C  6:32630824  3.921736  0.000088   \n",
       "3  6:32630829_G_A  chr6  32630829   G   A  6:32630829  4.044549  0.000052   \n",
       "4  6:32630925_T_A  chr6  32630925   T   A  6:32630925  3.942586  0.000081   \n",
       "\n",
       "    nsum     neff direction     eaf      beta        se  \n",
       "0  71639  71639.0      ?+?+  0.2237  0.025194  0.006339  \n",
       "1  71639  71639.0      ?+?+  0.2435  0.024866  0.006155  \n",
       "2  71639  71639.0      ?+?+  0.1859  0.026630  0.006790  \n",
       "3  71639  71639.0      ?+?+  0.1859  0.027463  0.006790  \n",
       "4  71639  71639.0      ?+?+  0.2137  0.025407  0.006444  "
      ]
     },
     "execution_count": 40,
     "metadata": {},
     "output_type": "execute_result"
    }
   ],
   "source": [
    "odds.obs.head()"
   ]
  },
  {
   "cell_type": "code",
   "execution_count": 41,
   "id": "0c1f0862-a0a6-4b86-bcb2-61d840a62f22",
   "metadata": {},
   "outputs": [
    {
     "data": {
      "text/html": [
       "<div>\n",
       "<style scoped>\n",
       "    .dataframe tbody tr th:only-of-type {\n",
       "        vertical-align: middle;\n",
       "    }\n",
       "\n",
       "    .dataframe tbody tr th {\n",
       "        vertical-align: top;\n",
       "    }\n",
       "\n",
       "    .dataframe thead th {\n",
       "        text-align: right;\n",
       "    }\n",
       "</style>\n",
       "<table border=\"1\" class=\"dataframe\">\n",
       "  <thead>\n",
       "    <tr style=\"text-align: right;\">\n",
       "      <th></th>\n",
       "      <th>source</th>\n",
       "    </tr>\n",
       "    <tr>\n",
       "      <th>name</th>\n",
       "      <th></th>\n",
       "    </tr>\n",
       "  </thead>\n",
       "  <tbody>\n",
       "    <tr>\n",
       "      <th>8988T</th>\n",
       "      <td>encode/wgEncodeAwgDnaseDuke8988tUniPk.narrowPe...</td>\n",
       "    </tr>\n",
       "    <tr>\n",
       "      <th>AoSMC</th>\n",
       "      <td>encode/wgEncodeAwgDnaseDukeAosmcUniPk.narrowPe...</td>\n",
       "    </tr>\n",
       "    <tr>\n",
       "      <th>Chorion</th>\n",
       "      <td>encode/wgEncodeAwgDnaseDukeChorionUniPk.narrow...</td>\n",
       "    </tr>\n",
       "    <tr>\n",
       "      <th>CLL</th>\n",
       "      <td>encode/wgEncodeAwgDnaseDukeCllUniPk.narrowPeak.gz</td>\n",
       "    </tr>\n",
       "    <tr>\n",
       "      <th>Fibrobl</th>\n",
       "      <td>encode/wgEncodeAwgDnaseDukeFibroblUniPk.narrow...</td>\n",
       "    </tr>\n",
       "  </tbody>\n",
       "</table>\n",
       "</div>"
      ],
      "text/plain": [
       "                                                    source\n",
       "name                                                      \n",
       "8988T    encode/wgEncodeAwgDnaseDuke8988tUniPk.narrowPe...\n",
       "AoSMC    encode/wgEncodeAwgDnaseDukeAosmcUniPk.narrowPe...\n",
       "Chorion  encode/wgEncodeAwgDnaseDukeChorionUniPk.narrow...\n",
       "CLL      encode/wgEncodeAwgDnaseDukeCllUniPk.narrowPeak.gz\n",
       "Fibrobl  encode/wgEncodeAwgDnaseDukeFibroblUniPk.narrow..."
      ]
     },
     "execution_count": 41,
     "metadata": {},
     "output_type": "execute_result"
    }
   ],
   "source": [
    "odds.var.head()"
   ]
  },
  {
   "cell_type": "code",
   "execution_count": 42,
   "id": "63185bb7-446e-4879-ac0e-b5506ae42c4c",
   "metadata": {
    "scrolled": true
   },
   "outputs": [
    {
     "data": {
      "text/plain": [
       "array([[ 6.70550740e-04, -7.25158025e-05,  8.21364112e-04,\n",
       "         3.01392458e-04,  9.98657197e-04],\n",
       "       [-3.16521619e-04,  1.80897303e-04, -3.88936605e-04,\n",
       "        -1.28909480e-04, -2.76844949e-04],\n",
       "       [ 2.20930134e-03,  1.18435547e-03,  4.36861161e-03,\n",
       "         2.14962347e-04,  2.73526926e-02],\n",
       "       [-6.00683503e-04,  1.17215188e-03, -1.48754101e-03,\n",
       "        -5.56568848e-05, -5.91373816e-03],\n",
       "       [ 1.23135047e-03, -3.22295120e-04,  1.63462386e-03,\n",
       "        -1.35493581e-04,  1.03949215e-02]], dtype=float32)"
      ]
     },
     "execution_count": 42,
     "metadata": {},
     "output_type": "execute_result"
    }
   ],
   "source": [
    "odds.X[:5, :5]"
   ]
  },
  {
   "cell_type": "code",
   "execution_count": 43,
   "id": "82190fe7-1b99-46c3-a16c-6f6c3355ef3e",
   "metadata": {},
   "outputs": [
    {
     "data": {
      "text/plain": [
       "(0.4989372, -0.35747033)"
      ]
     },
     "execution_count": 43,
     "metadata": {},
     "output_type": "execute_result"
    }
   ],
   "source": [
    "odds.X.max(), odds.X.min()"
   ]
  },
  {
   "cell_type": "code",
   "execution_count": null,
   "id": "e7e417de-14fa-43e2-ade7-094742e57672",
   "metadata": {},
   "outputs": [],
   "source": []
  }
 ],
 "metadata": {
  "kernelspec": {
   "display_name": "Python 3 (ipykernel)",
   "language": "python",
   "name": "python3"
  },
  "language_info": {
   "codemirror_mode": {
    "name": "ipython",
    "version": 3
   },
   "file_extension": ".py",
   "mimetype": "text/x-python",
   "name": "python",
   "nbconvert_exporter": "python",
   "pygments_lexer": "ipython3",
   "version": "3.11.9"
  }
 },
 "nbformat": 4,
 "nbformat_minor": 5
}
