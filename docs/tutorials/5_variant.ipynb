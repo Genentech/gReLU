{
 "cells": [
  {
   "cell_type": "markdown",
   "id": "b9309fd4-f953-4e81-9fd4-bd55ad700ae9",
   "metadata": {},
   "source": [
    "# Predict Effects of Alzheimer's Variants Using ATAC Models"
   ]
  },
  {
   "cell_type": "markdown",
   "id": "692ec958-caa6-484d-84b9-5cf868c03b64",
   "metadata": {},
   "source": [
    "In this tutorial, we demonstrate how to predict the impact of sequence variation using a trained gReLU model."
   ]
  },
  {
   "cell_type": "code",
   "execution_count": 1,
   "id": "bf95ebec-179e-472e-8d1b-a5f81bdb504b",
   "metadata": {},
   "outputs": [],
   "source": [
    "import anndata as ad\n",
    "import pandas as pd\n",
    "import numpy as np\n",
    "import os"
   ]
  },
  {
   "cell_type": "markdown",
   "id": "70f518c4-4ed6-4557-b5bb-0d0829adf7e6",
   "metadata": {},
   "source": [
    "## Load the CATlas model"
   ]
  },
  {
   "cell_type": "markdown",
   "id": "a62d7b8d-ac0c-43d5-8eae-9229e839e566",
   "metadata": {},
   "source": [
    "This is a binary classification model trained on snATAC-seq data from Catlas (http://catlas.org/humanenhancer/). This model predicts the probability that an input sequence will be accessible in various cell types."
   ]
  },
  {
   "cell_type": "code",
   "execution_count": 2,
   "id": "9ea0a01b-9ca5-46b2-9198-18dc10c533bf",
   "metadata": {},
   "outputs": [
    {
     "name": "stderr",
     "output_type": "stream",
     "text": [
      "/usr/local/lib/python3.11/dist-packages/tqdm/auto.py:21: TqdmWarning: IProgress not found. Please update jupyter and ipywidgets. See https://ipywidgets.readthedocs.io/en/stable/user_install.html\n",
      "  from .autonotebook import tqdm as notebook_tqdm\n",
      "\u001b[34m\u001b[1mwandb\u001b[0m: Currently logged in as: \u001b[33manony-mouse-974518218205708810\u001b[0m. Use \u001b[1m`wandb login --relogin`\u001b[0m to force relogin\n",
      "\u001b[34m\u001b[1mwandb\u001b[0m: Downloading large artifact model:latest, 825.03MB. 1 files... \n",
      "\u001b[34m\u001b[1mwandb\u001b[0m:   1 of 1 files downloaded.  \n",
      "Done. 0:0:0.8\n",
      "\u001b[34m\u001b[1mwandb\u001b[0m: Downloading large artifact human_state_dict:latest, 939.29MB. 1 files... \n",
      "\u001b[34m\u001b[1mwandb\u001b[0m:   1 of 1 files downloaded.  \n",
      "Done. 0:0:0.8\n"
     ]
    }
   ],
   "source": [
    "import grelu.resources\n",
    "model = grelu.resources.load_model(project='human-atac-catlas', model_name='model')"
   ]
  },
  {
   "cell_type": "markdown",
   "id": "909b3455-7181-444c-b6ab-f62992ee4115",
   "metadata": {},
   "source": [
    "## View the model's metadata"
   ]
  },
  {
   "cell_type": "markdown",
   "id": "24f508b3-e20a-40cb-8453-4e9e4cd883d2",
   "metadata": {},
   "source": [
    "`model.data_params` is a dictionary containing metadata about the data used to train the model. Let's look at what information is stored:"
   ]
  },
  {
   "cell_type": "code",
   "execution_count": 3,
   "id": "ba6606ea-1f40-41ad-b9ed-11eae96a086c",
   "metadata": {},
   "outputs": [
    {
     "name": "stdout",
     "output_type": "stream",
     "text": [
      "train_bin_size 1\n",
      "train_chroms ['chr18', 'chr5', 'chr1', 'chr17', 'chr9', 'chr19', 'chr8', 'chr21', 'chr14', 'chr20', 'chr22', 'chr10', 'chr15', 'chr12', 'chr16', 'chr3', 'chr4', 'chr11', 'chr2', 'chr6']\n",
      "train_end both\n",
      "train_genome hg38\n",
      "train_label_aggfunc None\n",
      "train_label_len 200\n",
      "train_label_transform_func None\n",
      "train_max_label_clip None\n",
      "train_max_pair_shift 0\n",
      "train_max_seq_shift 1\n",
      "train_min_label_clip None\n",
      "train_n_alleles 1\n",
      "train_n_augmented 1\n",
      "train_n_seqs 1022128\n",
      "train_n_tasks 204\n",
      "train_padded_label_len 200\n",
      "train_padded_seq_len 202\n",
      "train_predict False\n",
      "train_rc True\n",
      "train_seq_len 200\n"
     ]
    }
   ],
   "source": [
    "for key in list(model.data_params.keys())[:21]:\n",
    "    if key !=\"tasks\":\n",
    "        print(key, model.data_params[key])"
   ]
  },
  {
   "cell_type": "markdown",
   "id": "b12be2e7-e0d1-48c4-970a-c5db200d9938",
   "metadata": {},
   "source": [
    "Note the parameter `train_seq_len`. This tells us that the model was trained on 200 bp long sequences."
   ]
  },
  {
   "cell_type": "markdown",
   "id": "88db153e-e6f7-4ef9-b8e9-a6572509834a",
   "metadata": {
    "scrolled": true
   },
   "source": [
    "`model.data_params['tasks']` is a large dictionary containing metadata about the output tracks that the model predicts. We can collect these into a dataframe called tasks:"
   ]
  },
  {
   "cell_type": "code",
   "execution_count": 4,
   "id": "029c28aa-86e8-4f56-94ee-f4e37bb3f67e",
   "metadata": {},
   "outputs": [
    {
     "data": {
      "text/html": [
       "<div>\n",
       "<style scoped>\n",
       "    .dataframe tbody tr th:only-of-type {\n",
       "        vertical-align: middle;\n",
       "    }\n",
       "\n",
       "    .dataframe tbody tr th {\n",
       "        vertical-align: top;\n",
       "    }\n",
       "\n",
       "    .dataframe thead th {\n",
       "        text-align: right;\n",
       "    }\n",
       "</style>\n",
       "<table border=\"1\" class=\"dataframe\">\n",
       "  <thead>\n",
       "    <tr style=\"text-align: right;\">\n",
       "      <th></th>\n",
       "      <th>name</th>\n",
       "      <th>cell type</th>\n",
       "    </tr>\n",
       "  </thead>\n",
       "  <tbody>\n",
       "    <tr>\n",
       "      <th>0</th>\n",
       "      <td>Follicular</td>\n",
       "      <td>Follicular</td>\n",
       "    </tr>\n",
       "    <tr>\n",
       "      <th>1</th>\n",
       "      <td>Fibro General</td>\n",
       "      <td>Fibro General</td>\n",
       "    </tr>\n",
       "    <tr>\n",
       "      <th>2</th>\n",
       "      <td>Acinar</td>\n",
       "      <td>Acinar</td>\n",
       "    </tr>\n",
       "  </tbody>\n",
       "</table>\n",
       "</div>"
      ],
      "text/plain": [
       "            name      cell type\n",
       "0     Follicular     Follicular\n",
       "1  Fibro General  Fibro General\n",
       "2         Acinar         Acinar"
      ]
     },
     "execution_count": 4,
     "metadata": {},
     "output_type": "execute_result"
    }
   ],
   "source": [
    "tasks = pd.DataFrame(model.data_params['tasks'])\n",
    "tasks.head(3)"
   ]
  },
  {
   "cell_type": "markdown",
   "id": "ab8d2331-2f2b-4ec9-902b-b19e6191b540",
   "metadata": {
    "tags": []
   },
   "source": [
    "## Load Alzheimer's Variants from GWAS Catalog (Jansen et al. 2019 meta-analysis)"
   ]
  },
  {
   "cell_type": "markdown",
   "id": "d445482a-8e50-4062-8fce-7dd6eb38a827",
   "metadata": {},
   "source": [
    "Download a small subset of variants from the AD sumstats file from this meta-analysis study. This contains 1,000 variants mapped to the hg19 genome."
   ]
  },
  {
   "cell_type": "code",
   "execution_count": 5,
   "id": "30b20968-2e04-4f17-9e5e-88eafa1e5961",
   "metadata": {},
   "outputs": [
    {
     "name": "stderr",
     "output_type": "stream",
     "text": [
      "\u001b[34m\u001b[1mwandb\u001b[0m:   1 of 1 files downloaded.  \n"
     ]
    }
   ],
   "source": [
    "import grelu.resources\n",
    "\n",
    "variant_dir = grelu.resources.get_artifact(\n",
    "    project='alzheimers-variant-tutorial',\n",
    "    name='dataset'\n",
    ").download()\n",
    "\n",
    "variant_file = os.path.join(variant_dir, \"variants.txt\")"
   ]
  },
  {
   "cell_type": "code",
   "execution_count": 6,
   "id": "ca7dfea5-e1c2-49c5-a698-ada73b1b57d6",
   "metadata": {},
   "outputs": [
    {
     "data": {
      "text/html": [
       "<div>\n",
       "<style scoped>\n",
       "    .dataframe tbody tr th:only-of-type {\n",
       "        vertical-align: middle;\n",
       "    }\n",
       "\n",
       "    .dataframe tbody tr th {\n",
       "        vertical-align: top;\n",
       "    }\n",
       "\n",
       "    .dataframe thead th {\n",
       "        text-align: right;\n",
       "    }\n",
       "</style>\n",
       "<table border=\"1\" class=\"dataframe\">\n",
       "  <thead>\n",
       "    <tr style=\"text-align: right;\">\n",
       "      <th></th>\n",
       "      <th>snpid</th>\n",
       "      <th>chrom</th>\n",
       "      <th>pos</th>\n",
       "      <th>alt</th>\n",
       "      <th>ref</th>\n",
       "      <th>rsid</th>\n",
       "      <th>zscore</th>\n",
       "      <th>pval</th>\n",
       "      <th>nsum</th>\n",
       "      <th>neff</th>\n",
       "      <th>direction</th>\n",
       "      <th>eaf</th>\n",
       "      <th>beta</th>\n",
       "      <th>se</th>\n",
       "    </tr>\n",
       "  </thead>\n",
       "  <tbody>\n",
       "    <tr>\n",
       "      <th>0</th>\n",
       "      <td>6:32630634_G_A</td>\n",
       "      <td>chr6</td>\n",
       "      <td>32630634</td>\n",
       "      <td>G</td>\n",
       "      <td>A</td>\n",
       "      <td>6:32630634</td>\n",
       "      <td>3.974476</td>\n",
       "      <td>0.000071</td>\n",
       "      <td>71639</td>\n",
       "      <td>71639.0</td>\n",
       "      <td>?+?+</td>\n",
       "      <td>0.2237</td>\n",
       "      <td>0.025194</td>\n",
       "      <td>0.006339</td>\n",
       "    </tr>\n",
       "    <tr>\n",
       "      <th>1</th>\n",
       "      <td>6:32630797_A_G</td>\n",
       "      <td>chr6</td>\n",
       "      <td>32630797</td>\n",
       "      <td>A</td>\n",
       "      <td>G</td>\n",
       "      <td>6:32630797</td>\n",
       "      <td>4.040244</td>\n",
       "      <td>0.000053</td>\n",
       "      <td>71639</td>\n",
       "      <td>71639.0</td>\n",
       "      <td>?+?+</td>\n",
       "      <td>0.2435</td>\n",
       "      <td>0.024866</td>\n",
       "      <td>0.006155</td>\n",
       "    </tr>\n",
       "    <tr>\n",
       "      <th>2</th>\n",
       "      <td>6:32630824_T_C</td>\n",
       "      <td>chr6</td>\n",
       "      <td>32630824</td>\n",
       "      <td>T</td>\n",
       "      <td>C</td>\n",
       "      <td>6:32630824</td>\n",
       "      <td>3.921736</td>\n",
       "      <td>0.000088</td>\n",
       "      <td>71639</td>\n",
       "      <td>71639.0</td>\n",
       "      <td>?+?+</td>\n",
       "      <td>0.1859</td>\n",
       "      <td>0.026630</td>\n",
       "      <td>0.006790</td>\n",
       "    </tr>\n",
       "  </tbody>\n",
       "</table>\n",
       "</div>"
      ],
      "text/plain": [
       "            snpid chrom       pos alt ref        rsid    zscore      pval  \\\n",
       "0  6:32630634_G_A  chr6  32630634   G   A  6:32630634  3.974476  0.000071   \n",
       "1  6:32630797_A_G  chr6  32630797   A   G  6:32630797  4.040244  0.000053   \n",
       "2  6:32630824_T_C  chr6  32630824   T   C  6:32630824  3.921736  0.000088   \n",
       "\n",
       "    nsum     neff direction     eaf      beta        se  \n",
       "0  71639  71639.0      ?+?+  0.2237  0.025194  0.006339  \n",
       "1  71639  71639.0      ?+?+  0.2435  0.024866  0.006155  \n",
       "2  71639  71639.0      ?+?+  0.1859  0.026630  0.006790  "
      ]
     },
     "execution_count": 6,
     "metadata": {},
     "output_type": "execute_result"
    }
   ],
   "source": [
    "variants = pd.read_table(variant_file)\n",
    "variants.head(3)"
   ]
  },
  {
   "cell_type": "markdown",
   "id": "a7eef8d4-87f1-4308-9b0d-3f07c6f9e8d4",
   "metadata": {},
   "source": [
    "## Filter variants"
   ]
  },
  {
   "cell_type": "code",
   "execution_count": 7,
   "id": "2343b85c-ec67-41c6-bd53-b85c8c0d0b2a",
   "metadata": {},
   "outputs": [],
   "source": [
    "from grelu.data.preprocess import filter_blacklist, filter_chromosomes\n",
    "from grelu.variant import filter_variants"
   ]
  },
  {
   "cell_type": "markdown",
   "id": "7ea66543-428c-4833-bb71-e571cd7877e8",
   "metadata": {},
   "source": [
    "Remove indels, since we don't support them for now. We also remove variants where one of the alleles contains Ns."
   ]
  },
  {
   "cell_type": "code",
   "execution_count": 8,
   "id": "13058822-9ab5-4675-8336-211b8376849e",
   "metadata": {},
   "outputs": [
    {
     "name": "stdout",
     "output_type": "stream",
     "text": [
      "Initial number of variants: 1000\n",
      "Final number of variants: 989\n"
     ]
    }
   ],
   "source": [
    "variants = filter_variants(variants, max_del_len=0, max_insert_len=0, standard_bases=True)"
   ]
  },
  {
   "cell_type": "markdown",
   "id": "961ef902-1eda-4131-a6c3-1cf17347e532",
   "metadata": {},
   "source": [
    "Remove non-standard chromosomes"
   ]
  },
  {
   "cell_type": "code",
   "execution_count": 9,
   "id": "229b0dc6-0ad1-43cd-84ad-bcbce74a48ea",
   "metadata": {},
   "outputs": [
    {
     "name": "stdout",
     "output_type": "stream",
     "text": [
      "Keeping 989 intervals\n"
     ]
    }
   ],
   "source": [
    "variants = filter_chromosomes(variants, include='autosomesXY')"
   ]
  },
  {
   "cell_type": "markdown",
   "id": "4d7001a8-bcfe-44fd-8623-d9b13606d5f3",
   "metadata": {},
   "source": [
    "Remove SNPs from unmappable regions"
   ]
  },
  {
   "cell_type": "code",
   "execution_count": 10,
   "id": "263be71f-e7bb-45f5-90cc-aaa4a56f7f3f",
   "metadata": {},
   "outputs": [
    {
     "name": "stdout",
     "output_type": "stream",
     "text": [
      "Keeping 988 intervals\n"
     ]
    }
   ],
   "source": [
    "variants = filter_blacklist(variants, genome=\"hg19\", window=100).reset_index(drop=True)"
   ]
  },
  {
   "cell_type": "code",
   "execution_count": 11,
   "id": "f903891c-ea61-46b1-b996-7094d572ff15",
   "metadata": {},
   "outputs": [
    {
     "data": {
      "text/html": [
       "<div>\n",
       "<style scoped>\n",
       "    .dataframe tbody tr th:only-of-type {\n",
       "        vertical-align: middle;\n",
       "    }\n",
       "\n",
       "    .dataframe tbody tr th {\n",
       "        vertical-align: top;\n",
       "    }\n",
       "\n",
       "    .dataframe thead th {\n",
       "        text-align: right;\n",
       "    }\n",
       "</style>\n",
       "<table border=\"1\" class=\"dataframe\">\n",
       "  <thead>\n",
       "    <tr style=\"text-align: right;\">\n",
       "      <th></th>\n",
       "      <th>snpid</th>\n",
       "      <th>chrom</th>\n",
       "      <th>pos</th>\n",
       "      <th>alt</th>\n",
       "      <th>ref</th>\n",
       "      <th>rsid</th>\n",
       "      <th>zscore</th>\n",
       "      <th>pval</th>\n",
       "      <th>nsum</th>\n",
       "      <th>neff</th>\n",
       "      <th>direction</th>\n",
       "      <th>eaf</th>\n",
       "      <th>beta</th>\n",
       "      <th>se</th>\n",
       "    </tr>\n",
       "  </thead>\n",
       "  <tbody>\n",
       "    <tr>\n",
       "      <th>0</th>\n",
       "      <td>6:32630634_G_A</td>\n",
       "      <td>chr6</td>\n",
       "      <td>32630634</td>\n",
       "      <td>G</td>\n",
       "      <td>A</td>\n",
       "      <td>6:32630634</td>\n",
       "      <td>3.974476</td>\n",
       "      <td>0.000071</td>\n",
       "      <td>71639</td>\n",
       "      <td>71639.0</td>\n",
       "      <td>?+?+</td>\n",
       "      <td>0.2237</td>\n",
       "      <td>0.025194</td>\n",
       "      <td>0.006339</td>\n",
       "    </tr>\n",
       "    <tr>\n",
       "      <th>1</th>\n",
       "      <td>6:32630797_A_G</td>\n",
       "      <td>chr6</td>\n",
       "      <td>32630797</td>\n",
       "      <td>A</td>\n",
       "      <td>G</td>\n",
       "      <td>6:32630797</td>\n",
       "      <td>4.040244</td>\n",
       "      <td>0.000053</td>\n",
       "      <td>71639</td>\n",
       "      <td>71639.0</td>\n",
       "      <td>?+?+</td>\n",
       "      <td>0.2435</td>\n",
       "      <td>0.024866</td>\n",
       "      <td>0.006155</td>\n",
       "    </tr>\n",
       "    <tr>\n",
       "      <th>2</th>\n",
       "      <td>6:32630824_T_C</td>\n",
       "      <td>chr6</td>\n",
       "      <td>32630824</td>\n",
       "      <td>T</td>\n",
       "      <td>C</td>\n",
       "      <td>6:32630824</td>\n",
       "      <td>3.921736</td>\n",
       "      <td>0.000088</td>\n",
       "      <td>71639</td>\n",
       "      <td>71639.0</td>\n",
       "      <td>?+?+</td>\n",
       "      <td>0.1859</td>\n",
       "      <td>0.026630</td>\n",
       "      <td>0.006790</td>\n",
       "    </tr>\n",
       "  </tbody>\n",
       "</table>\n",
       "</div>"
      ],
      "text/plain": [
       "            snpid chrom       pos alt ref        rsid    zscore      pval  \\\n",
       "0  6:32630634_G_A  chr6  32630634   G   A  6:32630634  3.974476  0.000071   \n",
       "1  6:32630797_A_G  chr6  32630797   A   G  6:32630797  4.040244  0.000053   \n",
       "2  6:32630824_T_C  chr6  32630824   T   C  6:32630824  3.921736  0.000088   \n",
       "\n",
       "    nsum     neff direction     eaf      beta        se  \n",
       "0  71639  71639.0      ?+?+  0.2237  0.025194  0.006339  \n",
       "1  71639  71639.0      ?+?+  0.2435  0.024866  0.006155  \n",
       "2  71639  71639.0      ?+?+  0.1859  0.026630  0.006790  "
      ]
     },
     "execution_count": 11,
     "metadata": {},
     "output_type": "execute_result"
    }
   ],
   "source": [
    "variants.head(3)"
   ]
  },
  {
   "cell_type": "markdown",
   "id": "8c7ed84f-edd0-4234-a1b6-d518638eb793",
   "metadata": {
    "tags": []
   },
   "source": [
    "## Predict variant effects"
   ]
  },
  {
   "cell_type": "markdown",
   "id": "c820d4a0-e3e8-41ef-aa5e-937593f72328",
   "metadata": {},
   "source": [
    "The `grelu.variant` module contains several functions related to analysis of variants. The `predict_variant_effects` function takes a model and a dataframe of variants, and uses the model to predict the activity of the genomic regions containing both the ref and alt alleles. It can then compare the two predictions and return an effect size for each variant. We can also apply data augmentation, i.e. make predictions for several versions of the sequence and average them together."
   ]
  },
  {
   "cell_type": "code",
   "execution_count": 12,
   "id": "488f6ebe-4cdc-4d4b-8be5-df6111707a84",
   "metadata": {},
   "outputs": [
    {
     "name": "stdout",
     "output_type": "stream",
     "text": [
      "making dataset\n"
     ]
    },
    {
     "name": "stderr",
     "output_type": "stream",
     "text": [
      "GPU available: True (cuda), used: True\n",
      "TPU available: False, using: 0 TPU cores\n",
      "HPU available: False, using: 0 HPUs\n",
      "LOCAL_RANK: 0 - CUDA_VISIBLE_DEVICES: [0,1,2,3,4,5,6,7]\n"
     ]
    },
    {
     "name": "stdout",
     "output_type": "stream",
     "text": [
      "Predicting DataLoader 0: 100%|███████████████████████████████████████████████████████████████████| 8/8 [00:01<00:00,  7.50it/s]\n"
     ]
    },
    {
     "name": "stderr",
     "output_type": "stream",
     "text": [
      "/usr/local/lib/python3.11/dist-packages/anndata/_core/aligned_df.py:67: ImplicitModificationWarning: Transforming to str index.\n",
      "  warnings.warn(\"Transforming to str index.\", ImplicitModificationWarning)\n"
     ]
    }
   ],
   "source": [
    "import grelu.variant\n",
    "\n",
    "odds = grelu.variant.predict_variant_effects(\n",
    "    variants=variants,\n",
    "    model=model, \n",
    "    devices=0, # Run on GPU 0\n",
    "    num_workers=8,\n",
    "    batch_size=512,\n",
    "    genome=\"hg19\",\n",
    "    compare_func=\"log2FC\", # Return the log2 fold change between alt and ref predictions\n",
    "    return_ad=True, # Return an anndata object.\n",
    "    rc = True, # Reverse complement the ref/alt predictions and average them.\n",
    ")"
   ]
  },
  {
   "cell_type": "markdown",
   "id": "af9d7bfe-4c1c-484a-9ff1-82c0a3b1a810",
   "metadata": {},
   "source": [
    "Now this (odds) is an AnnData object (similar to `SingleCellExperiment` in R but in Python). Might be a good point to pause here and learn more about it: <https://anndata.readthedocs.io/en/latest/>."
   ]
  },
  {
   "cell_type": "code",
   "execution_count": 13,
   "id": "fb4e14b0-e8e9-4792-9d42-a335c88f96f7",
   "metadata": {
    "tags": []
   },
   "outputs": [
    {
     "data": {
      "text/plain": [
       "AnnData object with n_obs × n_vars = 988 × 204\n",
       "    obs: 'snpid', 'chrom', 'pos', 'alt', 'ref', 'rsid', 'zscore', 'pval', 'nsum', 'neff', 'direction', 'eaf', 'beta', 'se'\n",
       "    var: 'cell type'"
      ]
     },
     "execution_count": 13,
     "metadata": {},
     "output_type": "execute_result"
    }
   ],
   "source": [
    "odds"
   ]
  },
  {
   "cell_type": "markdown",
   "id": "029cace1-df97-487b-be67-cf0b2a4fcfc6",
   "metadata": {},
   "source": [
    "odds.var contains the cell types for which the model makes predictions."
   ]
  },
  {
   "cell_type": "code",
   "execution_count": 14,
   "id": "2a3dcd22-4542-4087-b09f-55083d31471e",
   "metadata": {},
   "outputs": [
    {
     "data": {
      "text/html": [
       "<div>\n",
       "<style scoped>\n",
       "    .dataframe tbody tr th:only-of-type {\n",
       "        vertical-align: middle;\n",
       "    }\n",
       "\n",
       "    .dataframe tbody tr th {\n",
       "        vertical-align: top;\n",
       "    }\n",
       "\n",
       "    .dataframe thead th {\n",
       "        text-align: right;\n",
       "    }\n",
       "</style>\n",
       "<table border=\"1\" class=\"dataframe\">\n",
       "  <thead>\n",
       "    <tr style=\"text-align: right;\">\n",
       "      <th></th>\n",
       "      <th>cell type</th>\n",
       "    </tr>\n",
       "    <tr>\n",
       "      <th>name</th>\n",
       "      <th></th>\n",
       "    </tr>\n",
       "  </thead>\n",
       "  <tbody>\n",
       "    <tr>\n",
       "      <th>Follicular</th>\n",
       "      <td>Follicular</td>\n",
       "    </tr>\n",
       "    <tr>\n",
       "      <th>Fibro General</th>\n",
       "      <td>Fibro General</td>\n",
       "    </tr>\n",
       "    <tr>\n",
       "      <th>Acinar</th>\n",
       "      <td>Acinar</td>\n",
       "    </tr>\n",
       "  </tbody>\n",
       "</table>\n",
       "</div>"
      ],
      "text/plain": [
       "                   cell type\n",
       "name                        \n",
       "Follicular        Follicular\n",
       "Fibro General  Fibro General\n",
       "Acinar                Acinar"
      ]
     },
     "execution_count": 14,
     "metadata": {},
     "output_type": "execute_result"
    }
   ],
   "source": [
    "odds.var.head(3)"
   ]
  },
  {
   "cell_type": "markdown",
   "id": "450d7c5d-bbf3-450e-86d0-6796511e51e5",
   "metadata": {},
   "source": [
    "odds.obs contains the variants."
   ]
  },
  {
   "cell_type": "code",
   "execution_count": 15,
   "id": "264d02d6-65ef-41e9-ba37-29b386c396e2",
   "metadata": {
    "scrolled": true
   },
   "outputs": [
    {
     "data": {
      "text/html": [
       "<div>\n",
       "<style scoped>\n",
       "    .dataframe tbody tr th:only-of-type {\n",
       "        vertical-align: middle;\n",
       "    }\n",
       "\n",
       "    .dataframe tbody tr th {\n",
       "        vertical-align: top;\n",
       "    }\n",
       "\n",
       "    .dataframe thead th {\n",
       "        text-align: right;\n",
       "    }\n",
       "</style>\n",
       "<table border=\"1\" class=\"dataframe\">\n",
       "  <thead>\n",
       "    <tr style=\"text-align: right;\">\n",
       "      <th></th>\n",
       "      <th>snpid</th>\n",
       "      <th>chrom</th>\n",
       "      <th>pos</th>\n",
       "      <th>alt</th>\n",
       "      <th>ref</th>\n",
       "      <th>rsid</th>\n",
       "      <th>zscore</th>\n",
       "      <th>pval</th>\n",
       "      <th>nsum</th>\n",
       "      <th>neff</th>\n",
       "      <th>direction</th>\n",
       "      <th>eaf</th>\n",
       "      <th>beta</th>\n",
       "      <th>se</th>\n",
       "    </tr>\n",
       "  </thead>\n",
       "  <tbody>\n",
       "    <tr>\n",
       "      <th>0</th>\n",
       "      <td>6:32630634_G_A</td>\n",
       "      <td>chr6</td>\n",
       "      <td>32630634</td>\n",
       "      <td>G</td>\n",
       "      <td>A</td>\n",
       "      <td>6:32630634</td>\n",
       "      <td>3.974476</td>\n",
       "      <td>0.000071</td>\n",
       "      <td>71639</td>\n",
       "      <td>71639.0</td>\n",
       "      <td>?+?+</td>\n",
       "      <td>0.2237</td>\n",
       "      <td>0.025194</td>\n",
       "      <td>0.006339</td>\n",
       "    </tr>\n",
       "    <tr>\n",
       "      <th>1</th>\n",
       "      <td>6:32630797_A_G</td>\n",
       "      <td>chr6</td>\n",
       "      <td>32630797</td>\n",
       "      <td>A</td>\n",
       "      <td>G</td>\n",
       "      <td>6:32630797</td>\n",
       "      <td>4.040244</td>\n",
       "      <td>0.000053</td>\n",
       "      <td>71639</td>\n",
       "      <td>71639.0</td>\n",
       "      <td>?+?+</td>\n",
       "      <td>0.2435</td>\n",
       "      <td>0.024866</td>\n",
       "      <td>0.006155</td>\n",
       "    </tr>\n",
       "    <tr>\n",
       "      <th>2</th>\n",
       "      <td>6:32630824_T_C</td>\n",
       "      <td>chr6</td>\n",
       "      <td>32630824</td>\n",
       "      <td>T</td>\n",
       "      <td>C</td>\n",
       "      <td>6:32630824</td>\n",
       "      <td>3.921736</td>\n",
       "      <td>0.000088</td>\n",
       "      <td>71639</td>\n",
       "      <td>71639.0</td>\n",
       "      <td>?+?+</td>\n",
       "      <td>0.1859</td>\n",
       "      <td>0.026630</td>\n",
       "      <td>0.006790</td>\n",
       "    </tr>\n",
       "  </tbody>\n",
       "</table>\n",
       "</div>"
      ],
      "text/plain": [
       "            snpid chrom       pos alt ref        rsid    zscore      pval  \\\n",
       "0  6:32630634_G_A  chr6  32630634   G   A  6:32630634  3.974476  0.000071   \n",
       "1  6:32630797_A_G  chr6  32630797   A   G  6:32630797  4.040244  0.000053   \n",
       "2  6:32630824_T_C  chr6  32630824   T   C  6:32630824  3.921736  0.000088   \n",
       "\n",
       "    nsum     neff direction     eaf      beta        se  \n",
       "0  71639  71639.0      ?+?+  0.2237  0.025194  0.006339  \n",
       "1  71639  71639.0      ?+?+  0.2435  0.024866  0.006155  \n",
       "2  71639  71639.0      ?+?+  0.1859  0.026630  0.006790  "
      ]
     },
     "execution_count": 15,
     "metadata": {},
     "output_type": "execute_result"
    }
   ],
   "source": [
    "odds.obs.head(3)"
   ]
  },
  {
   "cell_type": "markdown",
   "id": "08129133-6344-4ed1-a894-548845372776",
   "metadata": {},
   "source": [
    "And odds.X contains the predicted effect size for each variant in a numpy array of shape (n_variants x n_cell types)"
   ]
  },
  {
   "cell_type": "code",
   "execution_count": 16,
   "id": "3a7e2161-1f3c-48ba-b42d-1692aad6ca6f",
   "metadata": {},
   "outputs": [
    {
     "name": "stdout",
     "output_type": "stream",
     "text": [
      "[[ 1.5886321   1.2478062   1.2845564   1.868789    1.3667169 ]\n",
      " [ 0.06283956  0.11273362  0.17008997  0.2536258   0.35816932]\n",
      " [-0.45841014  0.00426316 -0.52971315 -0.37011045 -0.2963973 ]\n",
      " [ 0.26240113  0.33035216  0.67170584  0.3984024   0.46165606]\n",
      " [-1.0053136  -0.6806445  -0.08496638  0.3818305   0.03284647]]\n"
     ]
    }
   ],
   "source": [
    "print(odds.X[:5, :5])"
   ]
  },
  {
   "cell_type": "markdown",
   "id": "f1c588af-cfce-428a-ad5b-bd84715bdda7",
   "metadata": {},
   "source": [
    "## Select a variant with effect specific to microglia"
   ]
  },
  {
   "cell_type": "markdown",
   "id": "f5a4307b-a868-4d35-bae4-183d37934bfc",
   "metadata": {},
   "source": [
    "As an example, we search for variants that strongly disrupt accessibility in microglia but not in all cell types.\n",
    "\n",
    "We set some arbitrary thresholds; The log2 fold change of the alt allele w.r.t the ref allele should be < -2, and the average log2 fold change of the alt allele w.r.t the ref allele should be nonnegative.\n",
    "\n",
    "This implies that the alt allele should decrease accessibility in microglia to < 1/4 of its reference value, but should not decrease accessibility across all cell types on average."
   ]
  },
  {
   "cell_type": "code",
   "execution_count": 17,
   "id": "b8fc6f83-2481-4863-b8c4-b8824c8317b9",
   "metadata": {},
   "outputs": [],
   "source": [
    "# Calculate the mean variant effect across all cell types\n",
    "mean_variant_effect = odds.X.mean(1) "
   ]
  },
  {
   "cell_type": "code",
   "execution_count": 18,
   "id": "64783a3f-8571-40d8-8f72-db690ec043a3",
   "metadata": {},
   "outputs": [],
   "source": [
    "# Calculate the variant effect only in microglia\n",
    "microglia_effect = odds[:, 'Microglia'].X.squeeze() "
   ]
  },
  {
   "cell_type": "code",
   "execution_count": 19,
   "id": "54055424-c16c-4190-83f8-2585fcd31ec8",
   "metadata": {},
   "outputs": [
    {
     "data": {
      "text/plain": [
       "array([498])"
      ]
     },
     "execution_count": 19,
     "metadata": {},
     "output_type": "execute_result"
    }
   ],
   "source": [
    "specific_variant_idx = np.where(\n",
    "    (microglia_effect < -2) & (mean_variant_effect >= 0) \n",
    ")[0]\n",
    "specific_variant_idx"
   ]
  },
  {
   "cell_type": "markdown",
   "id": "cda88f11-3d99-40d6-a0c7-116510e9bb1d",
   "metadata": {},
   "source": [
    "We will isolate this microglia specific variant to analyze further."
   ]
  },
  {
   "cell_type": "code",
   "execution_count": 20,
   "id": "9c89865e-0a6c-4a4b-84b6-b693d8507bf5",
   "metadata": {},
   "outputs": [
    {
     "data": {
      "text/plain": [
       "View of AnnData object with n_obs × n_vars = 1 × 204\n",
       "    obs: 'snpid', 'chrom', 'pos', 'alt', 'ref', 'rsid', 'zscore', 'pval', 'nsum', 'neff', 'direction', 'eaf', 'beta', 'se'\n",
       "    var: 'cell type'"
      ]
     },
     "execution_count": 20,
     "metadata": {},
     "output_type": "execute_result"
    }
   ],
   "source": [
    "variant = odds[specific_variant_idx, :] \n",
    "variant"
   ]
  },
  {
   "cell_type": "code",
   "execution_count": 21,
   "id": "4194c57d-0dee-4741-a6a1-66756a57b5cc",
   "metadata": {},
   "outputs": [
    {
     "data": {
      "text/html": [
       "<div>\n",
       "<style scoped>\n",
       "    .dataframe tbody tr th:only-of-type {\n",
       "        vertical-align: middle;\n",
       "    }\n",
       "\n",
       "    .dataframe tbody tr th {\n",
       "        vertical-align: top;\n",
       "    }\n",
       "\n",
       "    .dataframe thead th {\n",
       "        text-align: right;\n",
       "    }\n",
       "</style>\n",
       "<table border=\"1\" class=\"dataframe\">\n",
       "  <thead>\n",
       "    <tr style=\"text-align: right;\">\n",
       "      <th></th>\n",
       "      <th>snpid</th>\n",
       "      <th>chrom</th>\n",
       "      <th>pos</th>\n",
       "      <th>alt</th>\n",
       "      <th>ref</th>\n",
       "      <th>rsid</th>\n",
       "      <th>zscore</th>\n",
       "      <th>pval</th>\n",
       "      <th>nsum</th>\n",
       "      <th>neff</th>\n",
       "      <th>direction</th>\n",
       "      <th>eaf</th>\n",
       "      <th>beta</th>\n",
       "      <th>se</th>\n",
       "    </tr>\n",
       "  </thead>\n",
       "  <tbody>\n",
       "    <tr>\n",
       "      <th>498</th>\n",
       "      <td>6:76659840_T_G</td>\n",
       "      <td>chr6</td>\n",
       "      <td>76659840</td>\n",
       "      <td>T</td>\n",
       "      <td>G</td>\n",
       "      <td>rs138940043</td>\n",
       "      <td>4.009219</td>\n",
       "      <td>0.000061</td>\n",
       "      <td>363637</td>\n",
       "      <td>363637.0</td>\n",
       "      <td>??+?</td>\n",
       "      <td>0.00656</td>\n",
       "      <td>0.058235</td>\n",
       "      <td>0.014525</td>\n",
       "    </tr>\n",
       "  </tbody>\n",
       "</table>\n",
       "</div>"
      ],
      "text/plain": [
       "              snpid chrom       pos alt ref         rsid    zscore      pval  \\\n",
       "498  6:76659840_T_G  chr6  76659840   T   G  rs138940043  4.009219  0.000061   \n",
       "\n",
       "       nsum      neff direction      eaf      beta        se  \n",
       "498  363637  363637.0      ??+?  0.00656  0.058235  0.014525  "
      ]
     },
     "execution_count": 21,
     "metadata": {},
     "output_type": "execute_result"
    }
   ],
   "source": [
    "variant.obs"
   ]
  },
  {
   "cell_type": "markdown",
   "id": "c3b05fa7-5576-431b-b1c2-a8ed7b9ed451",
   "metadata": {},
   "source": [
    "Let's look at the effect size (log2FC) for this variant:"
   ]
  },
  {
   "cell_type": "code",
   "execution_count": 22,
   "id": "ab29e1ec-36c2-4a5e-afd8-17c0f9cb737a",
   "metadata": {},
   "outputs": [
    {
     "data": {
      "text/plain": [
       "ArrayView([[-2.5063705]], dtype=float32)"
      ]
     },
     "execution_count": 22,
     "metadata": {},
     "output_type": "execute_result"
    }
   ],
   "source": [
    "variant_effect_size = variant[0, \"Microglia\"].X\n",
    "variant_effect_size"
   ]
  },
  {
   "cell_type": "markdown",
   "id": "cd730660-aedc-48e4-abf5-a4db02c81783",
   "metadata": {},
   "source": [
    "## View importance scores in microglia for the bases surrounding the selected variant"
   ]
  },
  {
   "cell_type": "markdown",
   "id": "6737e40a-f414-48fb-9578-db60529822ec",
   "metadata": {},
   "source": [
    "We can use several different approaches to calculate the importance of each base in the reference and alternate sequence. However, we want to score each base specifically by its importance to the model's prediction in microglia and not the model's predictions on other tasks.\n",
    "\n",
    "To do this we define a transform that operates on the model's predictions and selects only the predictions in Microglia."
   ]
  },
  {
   "cell_type": "code",
   "execution_count": 23,
   "id": "068917f0-a731-48c0-9a52-7da3a31ef47d",
   "metadata": {},
   "outputs": [],
   "source": [
    "from grelu.transforms.prediction_transforms import Aggregate\n",
    "microglia_score = Aggregate(tasks=[\"Microglia\"], model=model)"
   ]
  },
  {
   "cell_type": "markdown",
   "id": "057b35a2-7761-4079-969e-c544b5bbceb2",
   "metadata": {},
   "source": [
    "Next, we extract the 200 bp long genomic sequences containing the reference and alternate alleles."
   ]
  },
  {
   "cell_type": "code",
   "execution_count": 24,
   "id": "16c8bc65-f479-41b2-a74e-314c5a92f110",
   "metadata": {
    "tags": []
   },
   "outputs": [
    {
     "data": {
      "text/plain": [
       "('CAAAGATATATGTCATAATAATTATCTTTTCACTTTCTTTGTTAGGGACCAGGAATGATAAACCACTTAGTCATTTTTTAGGTTTACAAGAACTTAAGGGGAACTAAGAAAGGAACCCTTACTCCTGAACTCTCAGCCTCATCTGTGCTGGACCATTCTAACTTTGTACCCTTTCATGAGATTGATATAATTTAGAAAAT',\n",
       " 'CAAAGATATATGTCATAATAATTATCTTTTCACTTTCTTTGTTAGGGACCAGGAATGATAAACCACTTAGTCATTTTTTAGGTTTACAAGAACTTAAGGTGAACTAAGAAAGGAACCCTTACTCCTGAACTCTCAGCCTCATCTGTGCTGGACCATTCTAACTTTGTACCCTTTCATGAGATTGATATAATTTAGAAAAT')"
      ]
     },
     "execution_count": 24,
     "metadata": {},
     "output_type": "execute_result"
    }
   ],
   "source": [
    "ref_seq, alt_seq = grelu.variant.variant_to_seqs(\n",
    "    seq_len=model.data_params['train_seq_len'],\n",
    "    genome='hg19',\n",
    "    **variant.obs.iloc[0][[\"chrom\", \"pos\", \"ref\", \"alt\"]]\n",
    ")\n",
    "\n",
    "ref_seq, alt_seq"
   ]
  },
  {
   "cell_type": "markdown",
   "id": "0691bea3-d07e-4dc5-a648-165fba7ddad6",
   "metadata": {},
   "source": [
    "We are now ready to calculate the per-base importance scores. For this, we use the `grelu.interpret.score` module, which contains functions related to scoring the importance of each base in a sequence. We choose the \"inputxgradient\" method to score each base."
   ]
  },
  {
   "cell_type": "code",
   "execution_count": 25,
   "id": "99ee2774-d1f3-4827-af93-9b668e3a749f",
   "metadata": {
    "tags": []
   },
   "outputs": [
    {
     "name": "stderr",
     "output_type": "stream",
     "text": [
      "/usr/local/lib/python3.11/dist-packages/captum/_utils/gradient.py:57: UserWarning: Input Tensor 0 did not already require gradients, required_grads has been set automatically.\n",
      "  warnings.warn(\n"
     ]
    }
   ],
   "source": [
    "import grelu.interpret.score\n",
    "\n",
    "ref_attrs = grelu.interpret.score.get_attributions(\n",
    "    model, ref_seq, prediction_transform=microglia_score, device=0,\n",
    "    seed=0, method=\"inputxgradient\",\n",
    ")\n",
    "\n",
    "alt_attrs = grelu.interpret.score.get_attributions(\n",
    "    model, alt_seq, prediction_transform=microglia_score, device=0,\n",
    "    seed=0, method=\"inputxgradient\",\n",
    ")"
   ]
  },
  {
   "cell_type": "markdown",
   "id": "059d0439-b639-42b5-937b-15f856ed4507",
   "metadata": {},
   "source": [
    "We can visualize the attribution scores for the sequence, highlighting the mutated base. Here, we visualize the attributions for the central 100 bp of the 200 bp sequence."
   ]
  },
  {
   "cell_type": "code",
   "execution_count": 26,
   "id": "cd16fc8c-1d5f-4aba-9561-abd09cb63dbc",
   "metadata": {
    "tags": []
   },
   "outputs": [
    {
     "data": {
      "text/plain": [
       "<logomaker.src.Logo.Logo at 0x7f588cb0ef10>"
      ]
     },
     "execution_count": 26,
     "metadata": {},
     "output_type": "execute_result"
    },
    {
     "data": {
      "image/png": "[encoded data removed]",
      "text/plain": [
       "<Figure size 2000x200 with 1 Axes>"
      ]
     },
     "metadata": {},
     "output_type": "display_data"
    }
   ],
   "source": [
    "import grelu.visualize\n",
    "grelu.visualize.plot_attributions(\n",
    "    ref_attrs, start_pos=50, end_pos=150,\n",
    "    highlight_positions=[99], ticks=5,\n",
    "    edgecolor='red'\n",
    ")"
   ]
  },
  {
   "cell_type": "code",
   "execution_count": 27,
   "id": "919c92a9-9686-4dfc-957e-4dda152376de",
   "metadata": {
    "tags": []
   },
   "outputs": [
    {
     "data": {
      "text/plain": [
       "<logomaker.src.Logo.Logo at 0x7f586d621390>"
      ]
     },
     "execution_count": 27,
     "metadata": {},
     "output_type": "execute_result"
    },
    {
     "data": {
      "image/png": "[encoded data removed]",
      "text/plain": [
       "<Figure size 2000x200 with 1 Axes>"
      ]
     },
     "metadata": {},
     "output_type": "display_data"
    }
   ],
   "source": [
    "grelu.visualize.plot_attributions(\n",
    "    alt_attrs, start_pos=50, end_pos=150,\n",
    "    highlight_positions=[99], ticks=5,\n",
    "    edgecolor='red',\n",
    ")"
   ]
  },
  {
   "cell_type": "markdown",
   "id": "84e58ea7-bbe6-46c4-b5de-40338881062a",
   "metadata": {},
   "source": [
    "## ISM"
   ]
  },
  {
   "cell_type": "markdown",
   "id": "9277de95-36ee-461e-822a-1a3cadbcedf0",
   "metadata": {},
   "source": [
    "We can also perform ISM (In silico mutagenesis) of the bases surrounding the variant to see what the effect would be if we mutated the reference allele to any other base. The `ISM_predict` function in `grelu.interpret.score` performs every possible single-base substitution on the given sequence, predicts the effect of each substitution, and optionally compares these predictions to the reference sequence to return an effect size for each substitution. \n",
    "\n",
    "Once again, since we are interested in how important each base is to the model's prediction in microglia,\n",
    "we use the `microglia_score` transform. This ensures that ISM will score each base's importance to the\n",
    "microglial prediction only."
   ]
  },
  {
   "cell_type": "code",
   "execution_count": 28,
   "id": "42996ad5-349e-43ed-94ef-26cdd2b7a1a0",
   "metadata": {},
   "outputs": [
    {
     "name": "stderr",
     "output_type": "stream",
     "text": [
      "GPU available: True (cuda), used: True\n",
      "TPU available: False, using: 0 TPU cores\n",
      "HPU available: False, using: 0 HPUs\n",
      "LOCAL_RANK: 0 - CUDA_VISIBLE_DEVICES: [0,1,2,3,4,5,6,7]\n"
     ]
    },
    {
     "name": "stdout",
     "output_type": "stream",
     "text": [
      "Predicting DataLoader 0: 100%|█████████████████████████████████████████████████████████████████| 13/13 [00:00<00:00, 52.67it/s]\n"
     ]
    }
   ],
   "source": [
    "ism = grelu.interpret.score.ISM_predict(\n",
    "    ref_seq,\n",
    "    model,\n",
    "    prediction_transform=microglia_score, # Focus on the prediction in microglia\n",
    "    compare_func = \"log2FC\", # Return the log2FC of the mutated sequence prediction w.r.t the reference sequence\n",
    "    devices=0, # Index of the GPU to use\n",
    "    num_workers=8,\n",
    ")"
   ]
  },
  {
   "cell_type": "code",
   "execution_count": 29,
   "id": "a6450240-3ef7-4d76-95d2-1a31b4db8d5d",
   "metadata": {},
   "outputs": [
    {
     "data": {
      "text/html": [
       "<div>\n",
       "<style scoped>\n",
       "    .dataframe tbody tr th:only-of-type {\n",
       "        vertical-align: middle;\n",
       "    }\n",
       "\n",
       "    .dataframe tbody tr th {\n",
       "        vertical-align: top;\n",
       "    }\n",
       "\n",
       "    .dataframe thead th {\n",
       "        text-align: right;\n",
       "    }\n",
       "</style>\n",
       "<table border=\"1\" class=\"dataframe\">\n",
       "  <thead>\n",
       "    <tr style=\"text-align: right;\">\n",
       "      <th></th>\n",
       "      <th>C</th>\n",
       "      <th>A</th>\n",
       "      <th>A</th>\n",
       "      <th>A</th>\n",
       "      <th>G</th>\n",
       "      <th>A</th>\n",
       "      <th>T</th>\n",
       "      <th>A</th>\n",
       "      <th>T</th>\n",
       "      <th>A</th>\n",
       "      <th>...</th>\n",
       "      <th>T</th>\n",
       "      <th>T</th>\n",
       "      <th>T</th>\n",
       "      <th>A</th>\n",
       "      <th>G</th>\n",
       "      <th>A</th>\n",
       "      <th>A</th>\n",
       "      <th>A</th>\n",
       "      <th>A</th>\n",
       "      <th>T</th>\n",
       "    </tr>\n",
       "  </thead>\n",
       "  <tbody>\n",
       "    <tr>\n",
       "      <th>A</th>\n",
       "      <td>0.035059</td>\n",
       "      <td>0.000000</td>\n",
       "      <td>0.000000</td>\n",
       "      <td>0.000000</td>\n",
       "      <td>0.175448</td>\n",
       "      <td>0.000000</td>\n",
       "      <td>0.068264</td>\n",
       "      <td>0.000000</td>\n",
       "      <td>0.279259</td>\n",
       "      <td>0.000000</td>\n",
       "      <td>...</td>\n",
       "      <td>0.055060</td>\n",
       "      <td>0.271744</td>\n",
       "      <td>-0.123421</td>\n",
       "      <td>-0.000112</td>\n",
       "      <td>0.096319</td>\n",
       "      <td>-0.000112</td>\n",
       "      <td>-0.000112</td>\n",
       "      <td>-0.000112</td>\n",
       "      <td>-0.000112</td>\n",
       "      <td>0.025718</td>\n",
       "    </tr>\n",
       "    <tr>\n",
       "      <th>C</th>\n",
       "      <td>0.000000</td>\n",
       "      <td>0.033303</td>\n",
       "      <td>0.094729</td>\n",
       "      <td>0.088286</td>\n",
       "      <td>0.242377</td>\n",
       "      <td>0.156310</td>\n",
       "      <td>0.097453</td>\n",
       "      <td>0.381278</td>\n",
       "      <td>0.206919</td>\n",
       "      <td>0.283350</td>\n",
       "      <td>...</td>\n",
       "      <td>0.102014</td>\n",
       "      <td>-0.033543</td>\n",
       "      <td>-0.023884</td>\n",
       "      <td>0.074331</td>\n",
       "      <td>-0.127204</td>\n",
       "      <td>0.100797</td>\n",
       "      <td>-0.022535</td>\n",
       "      <td>0.024198</td>\n",
       "      <td>0.077191</td>\n",
       "      <td>0.031655</td>\n",
       "    </tr>\n",
       "    <tr>\n",
       "      <th>G</th>\n",
       "      <td>-0.043938</td>\n",
       "      <td>0.027918</td>\n",
       "      <td>0.074443</td>\n",
       "      <td>0.077228</td>\n",
       "      <td>0.000000</td>\n",
       "      <td>0.046280</td>\n",
       "      <td>0.066102</td>\n",
       "      <td>0.355099</td>\n",
       "      <td>0.204960</td>\n",
       "      <td>-0.027415</td>\n",
       "      <td>...</td>\n",
       "      <td>0.012160</td>\n",
       "      <td>-0.067337</td>\n",
       "      <td>-0.113562</td>\n",
       "      <td>-0.052966</td>\n",
       "      <td>-0.000112</td>\n",
       "      <td>0.149694</td>\n",
       "      <td>-0.022391</td>\n",
       "      <td>0.045327</td>\n",
       "      <td>-0.012053</td>\n",
       "      <td>0.024655</td>\n",
       "    </tr>\n",
       "    <tr>\n",
       "      <th>T</th>\n",
       "      <td>0.059993</td>\n",
       "      <td>0.051857</td>\n",
       "      <td>0.068118</td>\n",
       "      <td>-0.242041</td>\n",
       "      <td>0.206191</td>\n",
       "      <td>0.037834</td>\n",
       "      <td>0.000000</td>\n",
       "      <td>-0.063626</td>\n",
       "      <td>0.000000</td>\n",
       "      <td>0.225319</td>\n",
       "      <td>...</td>\n",
       "      <td>0.000000</td>\n",
       "      <td>0.000000</td>\n",
       "      <td>-0.000112</td>\n",
       "      <td>-0.032892</td>\n",
       "      <td>0.082135</td>\n",
       "      <td>-0.003328</td>\n",
       "      <td>-0.192516</td>\n",
       "      <td>0.036364</td>\n",
       "      <td>-0.064144</td>\n",
       "      <td>-0.000112</td>\n",
       "    </tr>\n",
       "  </tbody>\n",
       "</table>\n",
       "<p>4 rows × 200 columns</p>\n",
       "</div>"
      ],
      "text/plain": [
       "          C         A         A         A         G         A         T  \\\n",
       "A  0.035059  0.000000  0.000000  0.000000  0.175448  0.000000  0.068264   \n",
       "C  0.000000  0.033303  0.094729  0.088286  0.242377  0.156310  0.097453   \n",
       "G -0.043938  0.027918  0.074443  0.077228  0.000000  0.046280  0.066102   \n",
       "T  0.059993  0.051857  0.068118 -0.242041  0.206191  0.037834  0.000000   \n",
       "\n",
       "          A         T         A  ...         T         T         T         A  \\\n",
       "A  0.000000  0.279259  0.000000  ...  0.055060  0.271744 -0.123421 -0.000112   \n",
       "C  0.381278  0.206919  0.283350  ...  0.102014 -0.033543 -0.023884  0.074331   \n",
       "G  0.355099  0.204960 -0.027415  ...  0.012160 -0.067337 -0.113562 -0.052966   \n",
       "T -0.063626  0.000000  0.225319  ...  0.000000  0.000000 -0.000112 -0.032892   \n",
       "\n",
       "          G         A         A         A         A         T  \n",
       "A  0.096319 -0.000112 -0.000112 -0.000112 -0.000112  0.025718  \n",
       "C -0.127204  0.100797 -0.022535  0.024198  0.077191  0.031655  \n",
       "G -0.000112  0.149694 -0.022391  0.045327 -0.012053  0.024655  \n",
       "T  0.082135 -0.003328 -0.192516  0.036364 -0.064144 -0.000112  \n",
       "\n",
       "[4 rows x 200 columns]"
      ]
     },
     "execution_count": 29,
     "metadata": {},
     "output_type": "execute_result"
    }
   ],
   "source": [
    "ism"
   ]
  },
  {
   "cell_type": "code",
   "execution_count": 30,
   "id": "ec7c4de2-6ae2-4559-9979-f736031c6646",
   "metadata": {},
   "outputs": [
    {
     "data": {
      "text/plain": [
       "<Axes: >"
      ]
     },
     "execution_count": 30,
     "metadata": {},
     "output_type": "execute_result"
    },
    {
     "data": {
      "image/png": "[encoded data removed]",
      "text/plain": [
       "<Figure size 1200x100 with 2 Axes>"
      ]
     },
     "metadata": {},
     "output_type": "display_data"
    }
   ],
   "source": [
    "grelu.visualize.plot_ISM(ism, center=0, figsize=(12, 1), start_pos=50, end_pos=150)"
   ]
  },
  {
   "cell_type": "markdown",
   "id": "9372ff18-76bd-4a28-bc04-4fe8c6af8f07",
   "metadata": {},
   "source": [
    "Suppose we want to compute a single measure of importance for each base (similar to the input x gradient score above). We can compute this score from the ISM output:"
   ]
  },
  {
   "cell_type": "code",
   "execution_count": 31,
   "id": "0c68c556-6bbb-442a-b4b6-628d791768f1",
   "metadata": {},
   "outputs": [
    {
     "data": {
      "text/plain": [
       "(1, 4, 200)"
      ]
     },
     "execution_count": 31,
     "metadata": {},
     "output_type": "execute_result"
    }
   ],
   "source": [
    "ism_attrs = grelu.interpret.score.ISM_to_attr(ism)\n",
    "ism_attrs.shape"
   ]
  },
  {
   "cell_type": "markdown",
   "id": "8100fdf4-7d10-4c4d-a1f8-6b89ae03e400",
   "metadata": {},
   "source": [
    "We can visualize this the same way we visualized the attributions from input x gradient:"
   ]
  },
  {
   "cell_type": "code",
   "execution_count": 32,
   "id": "466a976d-cc88-4d1a-9f86-ca258e1f0de6",
   "metadata": {
    "scrolled": true
   },
   "outputs": [
    {
     "data": {
      "text/plain": [
       "<logomaker.src.Logo.Logo at 0x7f586fe95fd0>"
      ]
     },
     "execution_count": 32,
     "metadata": {},
     "output_type": "execute_result"
    },
    {
     "data": {
      "image/png": "[encoded data removed]",
      "text/plain": [
       "<Figure size 2000x200 with 1 Axes>"
      ]
     },
     "metadata": {},
     "output_type": "display_data"
    }
   ],
   "source": [
    "grelu.visualize.plot_attributions(\n",
    "    ism_attrs, start_pos=50, end_pos=150,\n",
    "    highlight_positions=[99], ticks=5,\n",
    "    edgecolor='red',\n",
    ")"
   ]
  },
  {
   "cell_type": "markdown",
   "id": "9a0fa29a-37c4-4890-aab7-5eaa87dbfba6",
   "metadata": {},
   "source": [
    "## Scan the sequence with JASPAR consensus motifs"
   ]
  },
  {
   "cell_type": "markdown",
   "id": "2b9e89d0-fee6-477e-8ba9-09bb35b51f31",
   "metadata": {},
   "source": [
    "We now scan the sequences immediately around the variant to identify known TF motifs that may have been disrupted by the variant, using the `grelu.interpret.motifs` module. Here, we use a reference set of non-redundant motifs (https://www.vierstra.org/resources/motif_clustering) that are provided with gReLU as `consensus`."
   ]
  },
  {
   "cell_type": "markdown",
   "id": "c21cb7e6-7943-467e-b07f-420844c7d9c0",
   "metadata": {},
   "source": [
    "Let's first scan only the reference sequence to understand the motif that is highlighted there. We will scan only the central 30 bases of the sequence:"
   ]
  },
  {
   "cell_type": "code",
   "execution_count": 33,
   "id": "75eef4b3-e8a0-4fda-927e-9ae309eea1e4",
   "metadata": {},
   "outputs": [
    {
     "data": {
      "text/plain": [
       "'AACTTAAGGGGAACTAAGAA'"
      ]
     },
     "execution_count": 33,
     "metadata": {},
     "output_type": "execute_result"
    }
   ],
   "source": [
    "central_ref_seq = grelu.sequence.utils.resize(ref_seq, 20)\n",
    "central_ref_seq"
   ]
  },
  {
   "cell_type": "markdown",
   "id": "eafd83a3-7300-449d-8933-78b44487156e",
   "metadata": {},
   "source": [
    "A useful feature of gReLU is that when we scan a sequence with motifs, we can optionally score each binding site by the concordance between the motif and the model's attributions at that site. This can help prioritize among multiple motifs that match the same region. \n",
    "\n",
    "So we also supply the inputxgradient attributions for the corresponding sequence to this function. We will need to select the central 20 bases of this too:"
   ]
  },
  {
   "cell_type": "code",
   "execution_count": 34,
   "id": "9c8f64a0-9b71-4f7f-807d-3813234912f9",
   "metadata": {
    "scrolled": true
   },
   "outputs": [
    {
     "name": "stdout",
     "output_type": "stream",
     "text": [
      "(1, 4, 20)\n"
     ]
    }
   ],
   "source": [
    "central_ref_attrs = ref_attrs[:, :, 90:-90]\n",
    "print(central_ref_attrs.shape)"
   ]
  },
  {
   "cell_type": "code",
   "execution_count": 35,
   "id": "e9da9281-84d0-4c07-87c2-474cb9899d90",
   "metadata": {},
   "outputs": [
    {
     "name": "stdout",
     "output_type": "stream",
     "text": [
      "Read 637 motifs from file.\n"
     ]
    },
    {
     "data": {
      "text/html": [
       "<div>\n",
       "<style scoped>\n",
       "    .dataframe tbody tr th:only-of-type {\n",
       "        vertical-align: middle;\n",
       "    }\n",
       "\n",
       "    .dataframe tbody tr th {\n",
       "        vertical-align: top;\n",
       "    }\n",
       "\n",
       "    .dataframe thead th {\n",
       "        text-align: right;\n",
       "    }\n",
       "</style>\n",
       "<table border=\"1\" class=\"dataframe\">\n",
       "  <thead>\n",
       "    <tr style=\"text-align: right;\">\n",
       "      <th></th>\n",
       "      <th>motif</th>\n",
       "      <th>sequence</th>\n",
       "      <th>start</th>\n",
       "      <th>end</th>\n",
       "      <th>strand</th>\n",
       "      <th>match_score</th>\n",
       "      <th>pval</th>\n",
       "      <th>attr_score</th>\n",
       "    </tr>\n",
       "  </thead>\n",
       "  <tbody>\n",
       "    <tr>\n",
       "      <th>0</th>\n",
       "      <td>AC0176:MZF:C2H2_ZF</td>\n",
       "      <td>0</td>\n",
       "      <td>6</td>\n",
       "      <td>14</td>\n",
       "      <td>-</td>\n",
       "      <td>9.000000</td>\n",
       "      <td>0.000361</td>\n",
       "      <td>0.017367</td>\n",
       "    </tr>\n",
       "    <tr>\n",
       "      <th>3</th>\n",
       "      <td>AC0622:ELF_SPIB:Ets</td>\n",
       "      <td>0</td>\n",
       "      <td>5</td>\n",
       "      <td>15</td>\n",
       "      <td>+</td>\n",
       "      <td>8.308943</td>\n",
       "      <td>0.000477</td>\n",
       "      <td>0.016911</td>\n",
       "    </tr>\n",
       "    <tr>\n",
       "      <th>2</th>\n",
       "      <td>AC0227:SPI_BCL11A:Ets</td>\n",
       "      <td>0</td>\n",
       "      <td>5</td>\n",
       "      <td>17</td>\n",
       "      <td>+</td>\n",
       "      <td>11.954545</td>\n",
       "      <td>0.000034</td>\n",
       "      <td>0.015151</td>\n",
       "    </tr>\n",
       "    <tr>\n",
       "      <th>1</th>\n",
       "      <td>AC0177:ZNF_MZF:C2H2_ZF</td>\n",
       "      <td>0</td>\n",
       "      <td>5</td>\n",
       "      <td>17</td>\n",
       "      <td>-</td>\n",
       "      <td>8.431193</td>\n",
       "      <td>0.000351</td>\n",
       "      <td>0.012328</td>\n",
       "    </tr>\n",
       "  </tbody>\n",
       "</table>\n",
       "</div>"
      ],
      "text/plain": [
       "                    motif sequence  start  end strand  match_score      pval  \\\n",
       "0      AC0176:MZF:C2H2_ZF        0      6   14      -     9.000000  0.000361   \n",
       "3     AC0622:ELF_SPIB:Ets        0      5   15      +     8.308943  0.000477   \n",
       "2   AC0227:SPI_BCL11A:Ets        0      5   17      +    11.954545  0.000034   \n",
       "1  AC0177:ZNF_MZF:C2H2_ZF        0      5   17      -     8.431193  0.000351   \n",
       "\n",
       "   attr_score  \n",
       "0    0.017367  \n",
       "3    0.016911  \n",
       "2    0.015151  \n",
       "1    0.012328  "
      ]
     },
     "execution_count": 35,
     "metadata": {},
     "output_type": "execute_result"
    }
   ],
   "source": [
    "import grelu.interpret.motifs\n",
    "\n",
    "scan = grelu.interpret.motifs.scan_sequences(\n",
    "    seqs=central_ref_seq,\n",
    "    motifs=\"consensus\",\n",
    "    pthresh=5e-4,\n",
    "    attrs=central_ref_attrs,\n",
    ")\n",
    "\n",
    "scan.sort_values('attr_score', ascending=False)"
   ]
  },
  {
   "cell_type": "markdown",
   "id": "bf53da91-4e1d-4afb-857f-2e77a162b2ec",
   "metadata": {},
   "source": [
    "## Compare motifs in the reference and alternate sequence"
   ]
  },
  {
   "cell_type": "markdown",
   "id": "4c82ff41-51a3-4415-9687-7bae6e6bb341",
   "metadata": {},
   "source": [
    "Instead of merely scanning for motifs in the reference sequence, we want to compare the motifs present in the reference and alternate sequences to understand what may have been disrupted by the variant. \n",
    "\n",
    "So we also extract the central bases of the alternate sequence. We could scan this sequence the same way as above and compare the results. gReLU allows you to do this one function. "
   ]
  },
  {
   "cell_type": "code",
   "execution_count": 36,
   "id": "9ffd7e02-8fd1-4120-90aa-05e50765af97",
   "metadata": {
    "tags": []
   },
   "outputs": [
    {
     "name": "stdout",
     "output_type": "stream",
     "text": [
      "AACTTAAGGGGAACTAAGAA AACTTAAGGTGAACTAAGAA\n"
     ]
    }
   ],
   "source": [
    "# Select the central bases of the sequence\n",
    "central_alt_seq = grelu.sequence.utils.resize(alt_seq, 20)\n",
    "print(central_ref_seq, central_alt_seq)"
   ]
  },
  {
   "cell_type": "code",
   "execution_count": 37,
   "id": "e7030c99-174f-4fcb-b21e-6e89e1f6ee4d",
   "metadata": {},
   "outputs": [
    {
     "name": "stdout",
     "output_type": "stream",
     "text": [
      "Read 637 motifs from file.\n"
     ]
    },
    {
     "data": {
      "text/html": [
       "<div>\n",
       "<style scoped>\n",
       "    .dataframe tbody tr th:only-of-type {\n",
       "        vertical-align: middle;\n",
       "    }\n",
       "\n",
       "    .dataframe tbody tr th {\n",
       "        vertical-align: top;\n",
       "    }\n",
       "\n",
       "    .dataframe thead th {\n",
       "        text-align: right;\n",
       "    }\n",
       "</style>\n",
       "<table border=\"1\" class=\"dataframe\">\n",
       "  <thead>\n",
       "    <tr style=\"text-align: right;\">\n",
       "      <th></th>\n",
       "      <th>motif</th>\n",
       "      <th>start</th>\n",
       "      <th>end</th>\n",
       "      <th>strand</th>\n",
       "      <th>alt_match_score</th>\n",
       "      <th>ref_match_score</th>\n",
       "      <th>match_foldChange</th>\n",
       "    </tr>\n",
       "  </thead>\n",
       "  <tbody>\n",
       "    <tr>\n",
       "      <th>0</th>\n",
       "      <td>AC0176:MZF:C2H2_ZF</td>\n",
       "      <td>6</td>\n",
       "      <td>14</td>\n",
       "      <td>-</td>\n",
       "      <td>0.000000</td>\n",
       "      <td>9.000000</td>\n",
       "      <td>0.0</td>\n",
       "    </tr>\n",
       "    <tr>\n",
       "      <th>1</th>\n",
       "      <td>AC0177:ZNF_MZF:C2H2_ZF</td>\n",
       "      <td>5</td>\n",
       "      <td>17</td>\n",
       "      <td>-</td>\n",
       "      <td>0.000000</td>\n",
       "      <td>8.431193</td>\n",
       "      <td>0.0</td>\n",
       "    </tr>\n",
       "    <tr>\n",
       "      <th>2</th>\n",
       "      <td>AC0227:SPI_BCL11A:Ets</td>\n",
       "      <td>5</td>\n",
       "      <td>17</td>\n",
       "      <td>+</td>\n",
       "      <td>0.000000</td>\n",
       "      <td>11.954545</td>\n",
       "      <td>0.0</td>\n",
       "    </tr>\n",
       "    <tr>\n",
       "      <th>3</th>\n",
       "      <td>AC0622:ELF_SPIB:Ets</td>\n",
       "      <td>5</td>\n",
       "      <td>15</td>\n",
       "      <td>+</td>\n",
       "      <td>0.000000</td>\n",
       "      <td>8.308943</td>\n",
       "      <td>0.0</td>\n",
       "    </tr>\n",
       "    <tr>\n",
       "      <th>4</th>\n",
       "      <td>AC0079:ZNF:C2H2_ZF</td>\n",
       "      <td>1</td>\n",
       "      <td>15</td>\n",
       "      <td>-</td>\n",
       "      <td>1.918367</td>\n",
       "      <td>0.000000</td>\n",
       "      <td>inf</td>\n",
       "    </tr>\n",
       "  </tbody>\n",
       "</table>\n",
       "</div>"
      ],
      "text/plain": [
       "                    motif  start  end strand  alt_match_score  \\\n",
       "0      AC0176:MZF:C2H2_ZF      6   14      -         0.000000   \n",
       "1  AC0177:ZNF_MZF:C2H2_ZF      5   17      -         0.000000   \n",
       "2   AC0227:SPI_BCL11A:Ets      5   17      +         0.000000   \n",
       "3     AC0622:ELF_SPIB:Ets      5   15      +         0.000000   \n",
       "4      AC0079:ZNF:C2H2_ZF      1   15      -         1.918367   \n",
       "\n",
       "   ref_match_score  match_foldChange  \n",
       "0         9.000000               0.0  \n",
       "1         8.431193               0.0  \n",
       "2        11.954545               0.0  \n",
       "3         8.308943               0.0  \n",
       "4         0.000000               inf  "
      ]
     },
     "execution_count": 37,
     "metadata": {},
     "output_type": "execute_result"
    }
   ],
   "source": [
    "# Scan with motifs and compare\n",
    "import importlib\n",
    "scan = grelu.interpret.motifs.compare_motifs(\n",
    "    ref_seq=central_ref_seq,\n",
    "    alt_seq=central_alt_seq,\n",
    "    motifs=\"consensus\",\n",
    "    pthresh=5e-4,\n",
    ")\n",
    "# you can also supply attributions to see the change in attribution score\n",
    "\n",
    "scan"
   ]
  },
  {
   "cell_type": "markdown",
   "id": "76d54bf3-dbcc-4a07-9b8d-e85a33a37a99",
   "metadata": {},
   "source": [
    "The ref column contains the scores for the motif in the reference allele-containing sequence and the alt columns contain the score in the alternate-allele containing sequence. \n",
    "\n",
    "Note that the `AC0622:ELF_SPIB:Ets` motif is lost in the alternate allele-containing sequence."
   ]
  },
  {
   "cell_type": "markdown",
   "id": "0eeb24c2-a420-4523-82be-164ed1f1d56b",
   "metadata": {},
   "source": [
    "## Compare the variant impact to a background distribution"
   ]
  },
  {
   "cell_type": "markdown",
   "id": "5dd53e30-ebbd-48c2-a3ab-92d9eb905b12",
   "metadata": {},
   "source": [
    "We saw that the variant has a strong effect size (log2 fold change). To place this effect size in context, we create a set of background sequences by shuffling the sequence surrounding the variant while conserving dinucleotide frequency. We then insert the reference and alternate alleles in each shuffled sequence, and compute the variant effect size again. We can then compare the true effect size to the distribution of background effect sizes to compute a p-value."
   ]
  },
  {
   "cell_type": "code",
   "execution_count": 41,
   "id": "d8100fda-1bf3-496b-8730-d5f4933c81cb",
   "metadata": {},
   "outputs": [
    {
     "name": "stderr",
     "output_type": "stream",
     "text": [
      "GPU available: True (cuda), used: True\n",
      "TPU available: False, using: 0 TPU cores\n",
      "HPU available: False, using: 0 HPUs\n",
      "LOCAL_RANK: 0 - CUDA_VISIBLE_DEVICES: [0,1,2,3,4,5,6,7]\n"
     ]
    },
    {
     "name": "stdout",
     "output_type": "stream",
     "text": [
      "Predicting variant effects\n"
     ]
    },
    {
     "name": "stderr",
     "output_type": "stream",
     "text": [
      "/usr/local/lib/python3.11/dist-packages/pytorch_lightning/trainer/connectors/data_connector.py:424: PossibleUserWarning: The 'predict_dataloader' does not have many workers which may be a bottleneck. Consider increasing the value of the `num_workers` argument` to `num_workers=255` in the `DataLoader` to improve performance.\n"
     ]
    },
    {
     "name": "stdout",
     "output_type": "stream",
     "text": [
      "Predicting DataLoader 0: 100%|███████████████████████████████████████████████████████████████████| 1/1 [00:00<00:00, 15.21it/s]\n"
     ]
    },
    {
     "name": "stderr",
     "output_type": "stream",
     "text": [
      "GPU available: True (cuda), used: True\n",
      "TPU available: False, using: 0 TPU cores\n",
      "HPU available: False, using: 0 HPUs\n",
      "LOCAL_RANK: 0 - CUDA_VISIBLE_DEVICES: [0,1,2,3,4,5,6,7]\n"
     ]
    },
    {
     "name": "stdout",
     "output_type": "stream",
     "text": [
      "Predicting variant effects in background sequences\n"
     ]
    },
    {
     "name": "stderr",
     "output_type": "stream",
     "text": [
      "/usr/local/lib/python3.11/dist-packages/pytorch_lightning/trainer/connectors/data_connector.py:424: PossibleUserWarning: The 'predict_dataloader' does not have many workers which may be a bottleneck. Consider increasing the value of the `num_workers` argument` to `num_workers=255` in the `DataLoader` to improve performance.\n"
     ]
    },
    {
     "name": "stdout",
     "output_type": "stream",
     "text": [
      "Predicting DataLoader 0: 100%|███████████████████████████████████████████████████████████████████| 4/4 [00:00<00:00, 43.25it/s]\n",
      "Calculating background distributions\n",
      "Performing 2-sided test\n"
     ]
    }
   ],
   "source": [
    "test = grelu.variant.marginalize_variants(\n",
    "    model=model,\n",
    "    variants=variant.obs,\n",
    "    genome=\"hg19\",\n",
    "    prediction_transform=microglia_score,\n",
    "    seed=0,\n",
    "    n_shuffles=100,\n",
    "    compare_func=\"log2FC\",\n",
    "    rc=True, # Average the result over both strands\n",
    "    devices=0, # Index of GPU\n",
    ")"
   ]
  },
  {
   "cell_type": "code",
   "execution_count": 42,
   "id": "9733cae2-5f17-4e40-8597-ac985eefee3a",
   "metadata": {},
   "outputs": [
    {
     "data": {
      "text/plain": [
       "{'effect_size': [-2.5057742595672607],\n",
       " 'mean': [-0.08845827728509903],\n",
       " 'sd': [0.43498003482818604],\n",
       " 'pvalue': [2.7397425336880263e-08]}"
      ]
     },
     "execution_count": 42,
     "metadata": {},
     "output_type": "execute_result"
    }
   ],
   "source": [
    "test"
   ]
  },
  {
   "cell_type": "code",
   "execution_count": null,
   "id": "b611157a-45ae-4a30-a902-593092abdf11",
   "metadata": {},
   "outputs": [],
   "source": []
  }
 ],
 "metadata": {
  "kernelspec": {
   "display_name": "Python 3 (ipykernel)",
   "language": "python",
   "name": "python3"
  },
  "language_info": {
   "codemirror_mode": {
    "name": "ipython",
    "version": 3
   },
   "file_extension": ".py",
   "mimetype": "text/x-python",
   "name": "python",
   "nbconvert_exporter": "python",
   "pygments_lexer": "ipython3",
   "version": "3.11.8"
  }
 },
 "nbformat": 4,
 "nbformat_minor": 5
}
