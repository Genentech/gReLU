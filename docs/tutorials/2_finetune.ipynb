{
 "cells": [
  {
   "cell_type": "markdown",
   "id": "7c8027c6-9237-4175-91a9-280f04ff94ed",
   "metadata": {},
   "source": [
    "# Fine-tune Enformer to perform binary classification on human snATAC-seq data"
   ]
  },
  {
   "cell_type": "markdown",
   "id": "d9a30dbd-7857-40f4-9397-986924b92c97",
   "metadata": {},
   "source": [
    "In this tutorial, we learn how to fine-tune the Enformer model (https://www.nature.com/articles/s41592-021-01252-x) on the CATLAS single-nucleus ATAC-seq dataset from human tissues (http://catlas.org/humanenhancer/). \n",
    "\n",
    "We will perform binary classification, in which the model learns to predict the probability that a given sequence is accessible in the different cell types of the dataset. For an example of regression modeling, see the next tutorial."
   ]
  },
  {
   "cell_type": "code",
   "execution_count": 1,
   "id": "afeac1a1-acaa-4bcb-9cd0-0d1fbec126b3",
   "metadata": {
    "tags": []
   },
   "outputs": [],
   "source": [
    "import anndata\n",
    "import os\n",
    "import importlib\n",
    "import pandas as pd\n",
    "import numpy as np\n",
    "\n",
    "%matplotlib inline"
   ]
  },
  {
   "cell_type": "markdown",
   "id": "f657f2a3-af79-4aa6-aa9c-32754b345563",
   "metadata": {},
   "source": [
    "## Set experiment parameters"
   ]
  },
  {
   "cell_type": "code",
   "execution_count": 2,
   "id": "c00eda6b-13c7-4ff6-b879-c6d66e048172",
   "metadata": {
    "tags": []
   },
   "outputs": [],
   "source": [
    "experiment='tutorial_2'\n",
    "if not os.path.exists(experiment):\n",
    "    os.makedirs(experiment)"
   ]
  },
  {
   "cell_type": "markdown",
   "id": "44ca3c03-b538-4a38-8b4e-c8e42d8da539",
   "metadata": {},
   "source": [
    "## Load data"
   ]
  },
  {
   "cell_type": "markdown",
   "id": "2ed3d293-be8c-4aeb-8f78-e56f52efcf6f",
   "metadata": {},
   "source": [
    "We download the CATlas ATAC-seq binary cell type x peak matrix from http://catlas.org/catlas_downloads/humantissues/cCRE_by_cell_type/ and load it as an AnnData object."
   ]
  },
  {
   "cell_type": "code",
   "execution_count": 3,
   "id": "d1837755-2fb6-4657-aa99-1647ab8e1f57",
   "metadata": {
    "tags": []
   },
   "outputs": [
    {
     "name": "stdout",
     "output_type": "stream",
     "text": [
      "(222, 1154611)\n"
     ]
    }
   ],
   "source": [
    "!wget http://catlas.org/catlas_downloads/humantissues/cCRE_by_cell_type/matrix.tsv.gz\n",
    "ad = anndata.read_mtx('matrix.tsv.gz').T\n",
    "\n",
    "# Prepare ad.obs\n",
    "ad.obs = pd.read_table('http://catlas.org/catlas_downloads/humantissues/cCRE_by_cell_type/celltypes.txt.gz', header=None, names=['cell type'])\n",
    "ad.obs_names = ad.obs['cell type']\n",
    "\n",
    "# Prepare ad.var\n",
    "var = pd.read_table('http://catlas.org/catlas_downloads/humantissues/cCRE_hg38.tsv.gz')\n",
    "var.columns = ['chrom', 'start', 'end', 'cre_class', 'in_fetal', 'in_adult', 'cre_module']\n",
    "var.index = var.index.astype(str)\n",
    "ad.var = var\n",
    "\n",
    "print(ad.shape)"
   ]
  },
  {
   "cell_type": "markdown",
   "id": "978bb4ae-78e2-44e0-93fc-858e466e5cf7",
   "metadata": {},
   "source": [
    "This contains a binary matrix representing the accessibility of 1154611 CREs measured in 222 cell types. Let us look at the components of this object:"
   ]
  },
  {
   "cell_type": "code",
   "execution_count": 4,
   "id": "7f6d0fff-0422-4df5-951c-29626a6d68b2",
   "metadata": {},
   "outputs": [
    {
     "data": {
      "text/html": [
       "<div>\n",
       "<style scoped>\n",
       "    .dataframe tbody tr th:only-of-type {\n",
       "        vertical-align: middle;\n",
       "    }\n",
       "\n",
       "    .dataframe tbody tr th {\n",
       "        vertical-align: top;\n",
       "    }\n",
       "\n",
       "    .dataframe thead th {\n",
       "        text-align: right;\n",
       "    }\n",
       "</style>\n",
       "<table border=\"1\" class=\"dataframe\">\n",
       "  <thead>\n",
       "    <tr style=\"text-align: right;\">\n",
       "      <th></th>\n",
       "      <th>chrom</th>\n",
       "      <th>start</th>\n",
       "      <th>end</th>\n",
       "      <th>cre_class</th>\n",
       "      <th>in_fetal</th>\n",
       "      <th>in_adult</th>\n",
       "      <th>cre_module</th>\n",
       "    </tr>\n",
       "  </thead>\n",
       "  <tbody>\n",
       "    <tr>\n",
       "      <th>0</th>\n",
       "      <td>chr1</td>\n",
       "      <td>9955</td>\n",
       "      <td>10355</td>\n",
       "      <td>Promoter Proximal</td>\n",
       "      <td>yes</td>\n",
       "      <td>yes</td>\n",
       "      <td>146</td>\n",
       "    </tr>\n",
       "    <tr>\n",
       "      <th>1</th>\n",
       "      <td>chr1</td>\n",
       "      <td>29163</td>\n",
       "      <td>29563</td>\n",
       "      <td>Promoter</td>\n",
       "      <td>yes</td>\n",
       "      <td>yes</td>\n",
       "      <td>37</td>\n",
       "    </tr>\n",
       "    <tr>\n",
       "      <th>2</th>\n",
       "      <td>chr1</td>\n",
       "      <td>79215</td>\n",
       "      <td>79615</td>\n",
       "      <td>Distal</td>\n",
       "      <td>no</td>\n",
       "      <td>yes</td>\n",
       "      <td>75</td>\n",
       "    </tr>\n",
       "    <tr>\n",
       "      <th>3</th>\n",
       "      <td>chr1</td>\n",
       "      <td>102755</td>\n",
       "      <td>103155</td>\n",
       "      <td>Distal</td>\n",
       "      <td>no</td>\n",
       "      <td>yes</td>\n",
       "      <td>51</td>\n",
       "    </tr>\n",
       "    <tr>\n",
       "      <th>4</th>\n",
       "      <td>chr1</td>\n",
       "      <td>115530</td>\n",
       "      <td>115930</td>\n",
       "      <td>Distal</td>\n",
       "      <td>yes</td>\n",
       "      <td>no</td>\n",
       "      <td>36</td>\n",
       "    </tr>\n",
       "  </tbody>\n",
       "</table>\n",
       "</div>"
      ],
      "text/plain": [
       "  chrom   start     end          cre_class in_fetal in_adult  cre_module\n",
       "0  chr1    9955   10355  Promoter Proximal      yes      yes         146\n",
       "1  chr1   29163   29563           Promoter      yes      yes          37\n",
       "2  chr1   79215   79615             Distal       no      yes          75\n",
       "3  chr1  102755  103155             Distal       no      yes          51\n",
       "4  chr1  115530  115930             Distal      yes       no          36"
      ]
     },
     "execution_count": 4,
     "metadata": {},
     "output_type": "execute_result"
    }
   ],
   "source": [
    "ad.var.head()"
   ]
  },
  {
   "cell_type": "code",
   "execution_count": 5,
   "id": "ed3ad337-477d-4f5b-9c6d-4acb554f6cd3",
   "metadata": {},
   "outputs": [
    {
     "data": {
      "text/html": [
       "<div>\n",
       "<style scoped>\n",
       "    .dataframe tbody tr th:only-of-type {\n",
       "        vertical-align: middle;\n",
       "    }\n",
       "\n",
       "    .dataframe tbody tr th {\n",
       "        vertical-align: top;\n",
       "    }\n",
       "\n",
       "    .dataframe thead th {\n",
       "        text-align: right;\n",
       "    }\n",
       "</style>\n",
       "<table border=\"1\" class=\"dataframe\">\n",
       "  <thead>\n",
       "    <tr style=\"text-align: right;\">\n",
       "      <th></th>\n",
       "      <th>cell type</th>\n",
       "    </tr>\n",
       "    <tr>\n",
       "      <th>cell type</th>\n",
       "      <th></th>\n",
       "    </tr>\n",
       "  </thead>\n",
       "  <tbody>\n",
       "    <tr>\n",
       "      <th>Follicular</th>\n",
       "      <td>Follicular</td>\n",
       "    </tr>\n",
       "    <tr>\n",
       "      <th>Fibro General</th>\n",
       "      <td>Fibro General</td>\n",
       "    </tr>\n",
       "    <tr>\n",
       "      <th>Acinar</th>\n",
       "      <td>Acinar</td>\n",
       "    </tr>\n",
       "    <tr>\n",
       "      <th>T Lymphocyte 1 (CD8+)</th>\n",
       "      <td>T Lymphocyte 1 (CD8+)</td>\n",
       "    </tr>\n",
       "    <tr>\n",
       "      <th>T lymphocyte 2 (CD4+)</th>\n",
       "      <td>T lymphocyte 2 (CD4+)</td>\n",
       "    </tr>\n",
       "  </tbody>\n",
       "</table>\n",
       "</div>"
      ],
      "text/plain": [
       "                                   cell type\n",
       "cell type                                   \n",
       "Follicular                        Follicular\n",
       "Fibro General                  Fibro General\n",
       "Acinar                                Acinar\n",
       "T Lymphocyte 1 (CD8+)  T Lymphocyte 1 (CD8+)\n",
       "T lymphocyte 2 (CD4+)  T lymphocyte 2 (CD4+)"
      ]
     },
     "execution_count": 5,
     "metadata": {},
     "output_type": "execute_result"
    }
   ],
   "source": [
    "ad.obs.head()"
   ]
  },
  {
   "cell_type": "markdown",
   "id": "da4bafb4-1284-4bbc-8786-6badb57495f4",
   "metadata": {},
   "source": [
    "The contents of this anndata object are binary values (0 or 1). 1 indicates accessibility of the peak in the cell type."
   ]
  },
  {
   "cell_type": "code",
   "execution_count": 6,
   "id": "09433609-4f30-4316-a2e2-453ce72efdb8",
   "metadata": {},
   "outputs": [
    {
     "data": {
      "text/plain": [
       "matrix([[1., 0., 0., 0., 0.],\n",
       "        [1., 0., 0., 0., 0.],\n",
       "        [1., 0., 0., 0., 0.],\n",
       "        [1., 0., 0., 0., 0.],\n",
       "        [1., 0., 0., 0., 0.]], dtype=float32)"
      ]
     },
     "execution_count": 6,
     "metadata": {},
     "output_type": "execute_result"
    }
   ],
   "source": [
    "ad.X[:5, :5].todense()"
   ]
  },
  {
   "cell_type": "markdown",
   "id": "b6d8ae4e-6c31-4044-a546-8814bedbde6c",
   "metadata": {},
   "source": [
    "## Filter peaks"
   ]
  },
  {
   "cell_type": "markdown",
   "id": "06af7256-35ad-4299-bd48-d48daddc0ade",
   "metadata": {},
   "source": [
    "We will perform filtering of this dataset using the `grelu.data.preprocess` module."
   ]
  },
  {
   "cell_type": "markdown",
   "id": "aaa8c2bb-20ad-4a99-aedf-8e4bb0daaa80",
   "metadata": {},
   "source": [
    "First, we filter peaks within autosomes (chromosomes 1-22) or chromsomes X/Y. You can also supply `autosomes` or `autosomesX` to further restrict the chromosomes."
   ]
  },
  {
   "cell_type": "code",
   "execution_count": 7,
   "id": "d8d52a31-61ce-4bc4-ba35-f6d23410e2eb",
   "metadata": {
    "tags": []
   },
   "outputs": [
    {
     "name": "stdout",
     "output_type": "stream",
     "text": [
      "Keeping 1154464 intervals\n"
     ]
    }
   ],
   "source": [
    "import grelu.data.preprocess\n",
    "\n",
    "ad = grelu.data.preprocess.filter_chromosomes(ad, 'autosomesXY')"
   ]
  },
  {
   "cell_type": "markdown",
   "id": "1f75ad2f-0bd7-4b0e-a50e-31b1524aeb75",
   "metadata": {},
   "source": [
    "Next, we drop peaks overlapping with the ENCODE blacklist regions for the hg38 genome."
   ]
  },
  {
   "cell_type": "code",
   "execution_count": 8,
   "id": "92c7e1ba-d2f6-49f2-b5e4-f468567739f0",
   "metadata": {
    "tags": []
   },
   "outputs": [
    {
     "name": "stderr",
     "output_type": "stream",
     "text": [
      "/opt/conda/lib/python3.11/site-packages/tqdm/auto.py:21: TqdmWarning: IProgress not found. Please update jupyter and ipywidgets. See https://ipywidgets.readthedocs.io/en/stable/user_install.html\n",
      "  from .autonotebook import tqdm as notebook_tqdm\n"
     ]
    },
    {
     "name": "stdout",
     "output_type": "stream",
     "text": [
      "Keeping 1154464 intervals\n"
     ]
    }
   ],
   "source": [
    "ad = grelu.data.preprocess.filter_blacklist(ad, genome='hg38')"
   ]
  },
  {
   "cell_type": "markdown",
   "id": "fa558158-7f60-4046-9aff-3dac019fd9b7",
   "metadata": {},
   "source": [
    "## Visualize data"
   ]
  },
  {
   "cell_type": "markdown",
   "id": "89330dcf-4daa-4c6c-8f0c-ba1a2609de40",
   "metadata": {},
   "source": [
    "Next, we can plot the distribution of the data in various ways."
   ]
  },
  {
   "cell_type": "code",
   "execution_count": 9,
   "id": "a19a4814-a42d-4b53-ac99-5f1d5e0b3c76",
   "metadata": {},
   "outputs": [],
   "source": [
    "import grelu.visualize\n",
    "%matplotlib inline"
   ]
  },
  {
   "cell_type": "markdown",
   "id": "e3a205e1-5448-46f7-804a-1484bb9e1ebb",
   "metadata": {},
   "source": [
    "In how many accessible cell types is each peak accessible?"
   ]
  },
  {
   "cell_type": "code",
   "execution_count": 10,
   "id": "6c29623b-2cee-4a53-911b-4741a7f81911",
   "metadata": {},
   "outputs": [
    {
     "data": {
      "image/png": "[encoded data removed]"
     },
     "metadata": {
      "image/png": {
       "height": 200,
       "width": 360
      }
     },
     "output_type": "display_data"
    }
   ],
   "source": [
    "cell_types_per_peak = np.array(np.sum(ad.X > 0, axis=0))\n",
    "\n",
    "grelu.visualize.plot_distribution(\n",
    "    cell_types_per_peak,\n",
    "    title='number of cell types per peak',\n",
    "    method='density', # Alternative: histogram\n",
    "    figsize=(3.6, 2), # width, height\n",
    ")"
   ]
  },
  {
   "cell_type": "markdown",
   "id": "2cc5055c-1f71-4de7-996b-588435e2b5d4",
   "metadata": {},
   "source": [
    "How many peaks are accessible in each cell type?"
   ]
  },
  {
   "cell_type": "code",
   "execution_count": 11,
   "id": "06fb8de1-107f-4cfe-8243-6f46e4a65c4e",
   "metadata": {},
   "outputs": [
    {
     "data": {
      "image/png": "[encoded data removed]"
     },
     "metadata": {
      "image/png": {
       "height": 200,
       "width": 360
      }
     },
     "output_type": "display_data"
    }
   ],
   "source": [
    "fraction_accessible_per_cell_type = np.array(np.mean(ad.X > 0, axis=1))\n",
    "\n",
    "grelu.visualize.plot_distribution(\n",
    "    fraction_accessible_per_cell_type,\n",
    "    title='Fraction of peaks accessible per cell type',\n",
    "    method='histogram', # alternative: density\n",
    "    binwidth=0.005,\n",
    "    figsize=(3.6, 2), # width, height\n",
    ")"
   ]
  },
  {
   "cell_type": "markdown",
   "id": "ec6aeb54-c846-4425-afd1-6d2fce4215ec",
   "metadata": {},
   "source": [
    "It seems that some cell types have very few accessible peaks. We will drop these cell types from the dataset."
   ]
  },
  {
   "cell_type": "code",
   "execution_count": 12,
   "id": "b17c85f8-a2d5-47d7-bb2e-4e4bf8337e46",
   "metadata": {},
   "outputs": [
    {
     "name": "stdout",
     "output_type": "stream",
     "text": [
      "(222, 1154464)\n",
      "(203, 1154464)\n"
     ]
    }
   ],
   "source": [
    "print(ad.shape)\n",
    "ad = ad[ad.X.mean(axis=1) > .03, :]\n",
    "print(ad.shape)"
   ]
  },
  {
   "cell_type": "markdown",
   "id": "01fb8d15-abea-4f32-bbbd-3f567ff6b841",
   "metadata": {},
   "source": [
    "We can plot the distribution once again to see the effect of this filtering:"
   ]
  },
  {
   "cell_type": "code",
   "execution_count": 13,
   "id": "8f84cbda-d1fb-47c9-a303-14d534f9764c",
   "metadata": {},
   "outputs": [
    {
     "data": {
      "image/png": "[encoded data removed]"
     },
     "metadata": {
      "image/png": {
       "height": 200,
       "width": 360
      }
     },
     "output_type": "display_data"
    }
   ],
   "source": [
    "fraction_accessible_per_cell_type = np.array(np.mean(ad.X > 0, axis=1))\n",
    "\n",
    "grelu.visualize.plot_distribution(\n",
    "    fraction_accessible_per_cell_type,\n",
    "    title='Fraction of peaks accessible per cell type',\n",
    "    method='histogram', # alternative: density\n",
    "    binwidth=0.005,\n",
    "    figsize=(3.6, 2), # width, height\n",
    ")"
   ]
  },
  {
   "cell_type": "markdown",
   "id": "a095924f-e1bc-454e-9193-18674bb2c90e",
   "metadata": {},
   "source": [
    "## Resize peaks"
   ]
  },
  {
   "cell_type": "markdown",
   "id": "0dcf39fe-fef0-454b-99a1-a4ac4a087133",
   "metadata": {},
   "source": [
    "Finally, since the ATAC-seq peaks can have different lengths, we resize all of them to a constant length in order to train the model. Here, we take 200 bp. We can use the `resize` function in `grelu.sequence.utils`, which contains functions to manipulate DNA sequences."
   ]
  },
  {
   "cell_type": "code",
   "execution_count": 14,
   "id": "42e218fa-c6ee-457a-ac84-f3c15741ae70",
   "metadata": {
    "tags": []
   },
   "outputs": [
    {
     "data": {
      "text/html": [
       "<div>\n",
       "<style scoped>\n",
       "    .dataframe tbody tr th:only-of-type {\n",
       "        vertical-align: middle;\n",
       "    }\n",
       "\n",
       "    .dataframe tbody tr th {\n",
       "        vertical-align: top;\n",
       "    }\n",
       "\n",
       "    .dataframe thead th {\n",
       "        text-align: right;\n",
       "    }\n",
       "</style>\n",
       "<table border=\"1\" class=\"dataframe\">\n",
       "  <thead>\n",
       "    <tr style=\"text-align: right;\">\n",
       "      <th></th>\n",
       "      <th>chrom</th>\n",
       "      <th>start</th>\n",
       "      <th>end</th>\n",
       "      <th>cre_class</th>\n",
       "      <th>in_fetal</th>\n",
       "      <th>in_adult</th>\n",
       "      <th>cre_module</th>\n",
       "    </tr>\n",
       "  </thead>\n",
       "  <tbody>\n",
       "    <tr>\n",
       "      <th>0</th>\n",
       "      <td>chr1</td>\n",
       "      <td>10055</td>\n",
       "      <td>10255</td>\n",
       "      <td>Promoter Proximal</td>\n",
       "      <td>yes</td>\n",
       "      <td>yes</td>\n",
       "      <td>146</td>\n",
       "    </tr>\n",
       "    <tr>\n",
       "      <th>1</th>\n",
       "      <td>chr1</td>\n",
       "      <td>29263</td>\n",
       "      <td>29463</td>\n",
       "      <td>Promoter</td>\n",
       "      <td>yes</td>\n",
       "      <td>yes</td>\n",
       "      <td>37</td>\n",
       "    </tr>\n",
       "    <tr>\n",
       "      <th>2</th>\n",
       "      <td>chr1</td>\n",
       "      <td>79315</td>\n",
       "      <td>79515</td>\n",
       "      <td>Distal</td>\n",
       "      <td>no</td>\n",
       "      <td>yes</td>\n",
       "      <td>75</td>\n",
       "    </tr>\n",
       "  </tbody>\n",
       "</table>\n",
       "</div>"
      ],
      "text/plain": [
       "  chrom  start    end          cre_class in_fetal in_adult  cre_module\n",
       "0  chr1  10055  10255  Promoter Proximal      yes      yes         146\n",
       "1  chr1  29263  29463           Promoter      yes      yes          37\n",
       "2  chr1  79315  79515             Distal       no      yes          75"
      ]
     },
     "execution_count": 14,
     "metadata": {},
     "output_type": "execute_result"
    }
   ],
   "source": [
    "import grelu.sequence.utils\n",
    "seq_len = 200\n",
    "\n",
    "ad.var = grelu.sequence.utils.resize(ad.var, seq_len)\n",
    "ad.var.head(3)"
   ]
  },
  {
   "cell_type": "markdown",
   "id": "3940acf0-7946-43cf-a8f7-674f7a641a5f",
   "metadata": {},
   "source": [
    "## Split data"
   ]
  },
  {
   "cell_type": "markdown",
   "id": "fe4a4d06-8de3-43c9-acc9-d73f8a568095",
   "metadata": {},
   "source": [
    "We will split the peaks by chromosome to create separate sets for training, validation and testing."
   ]
  },
  {
   "cell_type": "code",
   "execution_count": 15,
   "id": "9da14097-1613-44b8-bb73-8fd90d0e3c33",
   "metadata": {
    "tags": []
   },
   "outputs": [
    {
     "name": "stdout",
     "output_type": "stream",
     "text": [
      "Selecting training samples\n",
      "Keeping 1007912 intervals\n",
      "\n",
      "\n",
      "Selecting validation samples\n",
      "Keeping 56974 intervals\n",
      "\n",
      "\n",
      "Selecting test samples\n",
      "Keeping 56433 intervals\n",
      "Final sizes: train: (203, 1007912), val: (203, 56974), test: (203, 56433)\n"
     ]
    }
   ],
   "source": [
    "train_chroms='autosomes'\n",
    "val_chroms=['chr10']\n",
    "test_chroms=['chr11']\n",
    "\n",
    "ad_train, ad_val, ad_test = grelu.data.preprocess.split(\n",
    "    ad,\n",
    "    train_chroms=train_chroms, val_chroms=val_chroms, test_chroms=test_chroms,\n",
    ")"
   ]
  },
  {
   "cell_type": "markdown",
   "id": "529595fc-83cd-4565-9bd4-4b06341c6026",
   "metadata": {},
   "source": [
    "## Make labeled sequence datasets"
   ]
  },
  {
   "cell_type": "markdown",
   "id": "a925bc3c-7a64-48f2-862b-50c060819cc6",
   "metadata": {},
   "source": [
    "`grelu.data.dataset` contains PyTorch Dataset classes that can load and process genomic data for training a deep learning model. Here, we use the `AnnDataSeqDataset` class which loads data from an AnnData object. Other available dataset classes include `DFSeqDataset` and `BigWigSeqDataset`."
   ]
  },
  {
   "cell_type": "markdown",
   "id": "056918bc-8c28-4722-b14e-b00a50af1ad3",
   "metadata": {},
   "source": [
    "We first make the training dataset. To increase model robustness we use several forms of data augmentation here: `rc=True` (reverse complementing the input sequence), and `max_seq_shift=1` (shifting the coordinates of the input sequence by upto 1 bp in either direction; also known as jitter). We use `augmentation_mode=\"random\"` which means that at each iteration, the model sees a randomly selected augmented version for each sequence."
   ]
  },
  {
   "cell_type": "code",
   "execution_count": 17,
   "id": "9768643e-30e3-4d45-9fb6-877bf77e660e",
   "metadata": {},
   "outputs": [],
   "source": [
    "import grelu.data.dataset\n",
    "\n",
    "train_dataset = grelu.data.dataset.AnnDataSeqDataset(\n",
    "    ad_train.copy(),\n",
    "    genome='hg38',\n",
    "    rc=True, # reverse complement\n",
    "    max_seq_shift=1, # Shift the sequence\n",
    "    augment_mode=\"random\", # Randomly select which augmentations to apply\n",
    ")"
   ]
  },
  {
   "cell_type": "markdown",
   "id": "26030a1f-309d-4334-bf38-452219a3200c",
   "metadata": {},
   "source": [
    "We do not apply any augmentations to the validation and test datasets (although it is possible to do so)."
   ]
  },
  {
   "cell_type": "code",
   "execution_count": 18,
   "id": "85220261-3de4-4693-9e96-513f0687ce98",
   "metadata": {},
   "outputs": [],
   "source": [
    "val_dataset = grelu.data.dataset.AnnDataSeqDataset(ad_val.copy(), genome='hg38')\n",
    "test_dataset = grelu.data.dataset.AnnDataSeqDataset(ad_test.copy(), genome='hg38')"
   ]
  },
  {
   "cell_type": "markdown",
   "id": "b4af1e79-2a84-4356-bf16-577376960914",
   "metadata": {},
   "source": [
    "## Build the enformer model"
   ]
  },
  {
   "cell_type": "markdown",
   "id": "3e9a9eba-9727-42ed-8212-9643fd77ea5d",
   "metadata": {},
   "source": [
    "gReLU contains many model architectures. One of these is a class called `EnformerPretrainedModel`. This class creates a model identical to the published Enformer model and initialized with the trained weights, but where you can change the number of transformer layers and the output head.\n",
    "\n",
    "Models are created using the `grelu.lightning` module. In order to instantiate a model, we need to specify `model_params` (parameters for the model architecture) and `train_params` (parameters for training)."
   ]
  },
  {
   "cell_type": "code",
   "execution_count": 19,
   "id": "ffdf67f9-305e-47cc-bba1-ca140b402aed",
   "metadata": {
    "scrolled": true
   },
   "outputs": [
    {
     "name": "stderr",
     "output_type": "stream",
     "text": [
      "\u001b[34m\u001b[1mwandb\u001b[0m: Using wandb-core as the SDK backend. Please refer to https://wandb.me/wandb-core for more information.\n",
      "\u001b[34m\u001b[1mwandb\u001b[0m: Currently logged in as: \u001b[33manony-mouse-180959755991866352\u001b[0m. Use \u001b[1m`wandb login --relogin`\u001b[0m to force relogin\n",
      "\u001b[34m\u001b[1mwandb\u001b[0m: Downloading large artifact human_state_dict:latest, 939.29MB. 1 files... \n",
      "\u001b[34m\u001b[1mwandb\u001b[0m:   1 of 1 files downloaded.  \n",
      "Done. 0:0:0.9\n",
      "/opt/conda/lib/python3.11/site-packages/grelu/model/models.py:762: FutureWarning: You are using `torch.load` with `weights_only=False` (the current default value), which uses the default pickle module implicitly. It is possible to construct malicious pickle data which will execute arbitrary code during unpickling (See https://github.com/pytorch/pytorch/blob/main/SECURITY.md#untrusted-models for more details). In a future release, the default value for `weights_only` will be flipped to `True`. This limits the functions that could be executed during unpickling. Arbitrary objects will no longer be allowed to be loaded via this mode unless they are explicitly allowlisted by the user via `torch.serialization.add_safe_globals`. We recommend you start setting `weights_only=True` for any use case where you don't have full control of the loaded file. Please open an issue on GitHub for any issues related to this experimental feature.\n"
     ]
    }
   ],
   "source": [
    "model_params = {\n",
    "    'model_type':'EnformerPretrainedModel', # Type of model\n",
    "    'n_tasks': ad.shape[0], # Number of cell types to predict\n",
    "    'crop_len':0, # No cropping of the model output\n",
    "    'n_transformers': 1, # Number of transformer layers; the published Enformer model has 11\n",
    "}\n",
    "\n",
    "train_params = {\n",
    "    'task':'binary', # binary classification\n",
    "    'lr':1e-4, # learning rate\n",
    "    'logger': 'csv', # Logs will be written to a CSV file\n",
    "    'batch_size': 1024,\n",
    "    'num_workers': 8,\n",
    "    'devices': 0, # GPU index\n",
    "    'save_dir': experiment,\n",
    "    'optimizer': 'adam',\n",
    "    'max_epochs': 10,\n",
    "    'checkpoint': True, # Save checkpoints\n",
    "}\n",
    "\n",
    "import grelu.lightning\n",
    "model = grelu.lightning.LightningModel(model_params=model_params, train_params=train_params)"
   ]
  },
  {
   "cell_type": "markdown",
   "id": "563d739e-ec56-4909-902c-49365034ecbf",
   "metadata": {},
   "source": [
    "## Train the model"
   ]
  },
  {
   "cell_type": "markdown",
   "id": "d6bfc201-a86b-4dd1-83d1-1686c834fe65",
   "metadata": {},
   "source": [
    "We train the model on the new training dataset using the `train_on_dataset` method. Note that here, we update the weights of the entire model during training. If you want to hold the enformer weights fixed and only learn a linear layer from the enformer embedding to the outputs, see the `tune_on_dataset` method."
   ]
  },
  {
   "cell_type": "code",
   "execution_count": null,
   "id": "c9e926e3-008c-45a0-9290-8e5ddfff031a",
   "metadata": {
    "scrolled": true,
    "tags": []
   },
   "outputs": [],
   "source": [
    "# See the 'tutorial_2' folder for logs\n",
    "trainer = model.train_on_dataset(\n",
    "    train_dataset=train_dataset,\n",
    "    val_dataset=val_dataset,\n",
    ")"
   ]
  },
  {
   "cell_type": "markdown",
   "id": "b639ec73-0715-44d8-b1b3-5957882e88f3",
   "metadata": {},
   "source": [
    "## Load best model from checkpoint"
   ]
  },
  {
   "cell_type": "markdown",
   "id": "27057163-354f-409a-91a5-76cba662c1e5",
   "metadata": {},
   "source": [
    "During training, the performance of the model on the validation set is checked after each epoch. We will load the version of the model that had the best validation set performance."
   ]
  },
  {
   "cell_type": "code",
   "execution_count": 20,
   "id": "ae44103e-63ec-4f9f-83e5-24a3b89ebcee",
   "metadata": {
    "tags": []
   },
   "outputs": [
    {
     "name": "stdout",
     "output_type": "stream",
     "text": [
      "tutorial_2/2024_06_11_05_13/version_0/checkpoints/epoch=6-step=6895.ckpt\n"
     ]
    },
    {
     "name": "stderr",
     "output_type": "stream",
     "text": [
      "\u001b[34m\u001b[1mwandb\u001b[0m: Downloading large artifact human_state_dict:latest, 939.29MB. 1 files... \n",
      "\u001b[34m\u001b[1mwandb\u001b[0m:   1 of 1 files downloaded.  \n",
      "Done. 0:0:0.9\n",
      "/opt/conda/lib/python3.11/site-packages/grelu/model/models.py:762: FutureWarning: You are using `torch.load` with `weights_only=False` (the current default value), which uses the default pickle module implicitly. It is possible to construct malicious pickle data which will execute arbitrary code during unpickling (See https://github.com/pytorch/pytorch/blob/main/SECURITY.md#untrusted-models for more details). In a future release, the default value for `weights_only` will be flipped to `True`. This limits the functions that could be executed during unpickling. Arbitrary objects will no longer be allowed to be loaded via this mode unless they are explicitly allowlisted by the user via `torch.serialization.add_safe_globals`. We recommend you start setting `weights_only=True` for any use case where you don't have full control of the loaded file. Please open an issue on GitHub for any issues related to this experimental feature.\n"
     ]
    }
   ],
   "source": [
    "best_checkpoint = trainer.checkpoint_callback.best_model_path\n",
    "print(best_checkpoint)\n",
    "model = grelu.lightning.LightningModel.load_from_checkpoint(best_checkpoint)"
   ]
  },
  {
   "cell_type": "markdown",
   "id": "cf55294c-4ca3-4764-a4cd-fb790a14345d",
   "metadata": {
    "tags": []
   },
   "source": [
    "## Calculate performance metrics on the test set"
   ]
  },
  {
   "cell_type": "markdown",
   "id": "e76b6dd4-c508-4dd8-839e-c2dd952e0d22",
   "metadata": {},
   "source": [
    "We calculate global performance metrics using the `test_on_dataset` method."
   ]
  },
  {
   "cell_type": "code",
   "execution_count": 21,
   "id": "983732d5-d03b-40f6-9706-1edaa08e72f3",
   "metadata": {
    "scrolled": true
   },
   "outputs": [
    {
     "name": "stderr",
     "output_type": "stream",
     "text": [
      "GPU available: True (cuda), used: True\n",
      "TPU available: False, using: 0 TPU cores\n",
      "HPU available: False, using: 0 HPUs\n",
      "LOCAL_RANK: 0 - CUDA_VISIBLE_DEVICES: [0,1,2,3,4,5,6,7]\n"
     ]
    },
    {
     "name": "stdout",
     "output_type": "stream",
     "text": [
      "Testing DataLoader 0: 100%|████████████████████████████████████████████████████████████████████████████████████████████████████████████████████████████████████████████████████████████████████████████████| 56/56 [00:07<00:00,  7.65it/s]\n"
     ]
    },
    {
     "data": {
      "text/html": [
       "<pre style=\"white-space:pre;overflow-x:auto;line-height:normal;font-family:Menlo,'DejaVu Sans Mono',consolas,'Courier New',monospace\">┏━━━━━━━━━━━━━━━━━━━━━━━━━━━┳━━━━━━━━━━━━━━━━━━━━━━━━━━━┓\n",
       "┃<span style=\"font-weight: bold\">        Test metric        </span>┃<span style=\"font-weight: bold\">       DataLoader 0        </span>┃\n",
       "┡━━━━━━━━━━━━━━━━━━━━━━━━━━━╇━━━━━━━━━━━━━━━━━━━━━━━━━━━┩\n",
       "│<span style=\"color: #008080; text-decoration-color: #008080\">       test_accuracy       </span>│<span style=\"color: #800080; text-decoration-color: #800080\">    0.9459772706031799     </span>│\n",
       "│<span style=\"color: #008080; text-decoration-color: #008080\">        test_auroc         </span>│<span style=\"color: #800080; text-decoration-color: #800080\">    0.9041877388954163     </span>│\n",
       "│<span style=\"color: #008080; text-decoration-color: #008080\">       test_avgprec        </span>│<span style=\"color: #800080; text-decoration-color: #800080\">    0.6062116622924805     </span>│\n",
       "│<span style=\"color: #008080; text-decoration-color: #008080\">       test_best_f1        </span>│<span style=\"color: #800080; text-decoration-color: #800080\">    0.5677600502967834     </span>│\n",
       "│<span style=\"color: #008080; text-decoration-color: #008080\">         test_loss         </span>│<span style=\"color: #800080; text-decoration-color: #800080\">    0.1546824723482132     </span>│\n",
       "└───────────────────────────┴───────────────────────────┘\n",
       "</pre>\n"
      ],
      "text/plain": [
       "┏━━━━━━━━━━━━━━━━━━━━━━━━━━━┳━━━━━━━━━━━━━━━━━━━━━━━━━━━┓\n",
       "┃\u001b[1m \u001b[0m\u001b[1m       Test metric       \u001b[0m\u001b[1m \u001b[0m┃\u001b[1m \u001b[0m\u001b[1m      DataLoader 0       \u001b[0m\u001b[1m \u001b[0m┃\n",
       "┡━━━━━━━━━━━━━━━━━━━━━━━━━━━╇━━━━━━━━━━━━━━━━━━━━━━━━━━━┩\n",
       "│\u001b[36m \u001b[0m\u001b[36m      test_accuracy      \u001b[0m\u001b[36m \u001b[0m│\u001b[35m \u001b[0m\u001b[35m   0.9459772706031799    \u001b[0m\u001b[35m \u001b[0m│\n",
       "│\u001b[36m \u001b[0m\u001b[36m       test_auroc        \u001b[0m\u001b[36m \u001b[0m│\u001b[35m \u001b[0m\u001b[35m   0.9041877388954163    \u001b[0m\u001b[35m \u001b[0m│\n",
       "│\u001b[36m \u001b[0m\u001b[36m      test_avgprec       \u001b[0m\u001b[36m \u001b[0m│\u001b[35m \u001b[0m\u001b[35m   0.6062116622924805    \u001b[0m\u001b[35m \u001b[0m│\n",
       "│\u001b[36m \u001b[0m\u001b[36m      test_best_f1       \u001b[0m\u001b[36m \u001b[0m│\u001b[35m \u001b[0m\u001b[35m   0.5677600502967834    \u001b[0m\u001b[35m \u001b[0m│\n",
       "│\u001b[36m \u001b[0m\u001b[36m        test_loss        \u001b[0m\u001b[36m \u001b[0m│\u001b[35m \u001b[0m\u001b[35m   0.1546824723482132    \u001b[0m\u001b[35m \u001b[0m│\n",
       "└───────────────────────────┴───────────────────────────┘\n"
      ]
     },
     "metadata": {},
     "output_type": "display_data"
    }
   ],
   "source": [
    "test_metrics = model.test_on_dataset(\n",
    "    test_dataset,\n",
    "    devices=0,\n",
    "    num_workers=8,\n",
    "    batch_size=1024,\n",
    ")"
   ]
  },
  {
   "cell_type": "markdown",
   "id": "0301376d-51c1-417a-97d7-444224cf7433",
   "metadata": {},
   "source": [
    "`test_metrics` is a dataframe containing metrics for each model task."
   ]
  },
  {
   "cell_type": "code",
   "execution_count": 22,
   "id": "8fa2dfc9-b04a-47a2-8f5d-8cdb16e88c70",
   "metadata": {},
   "outputs": [
    {
     "data": {
      "text/html": [
       "<div>\n",
       "<style scoped>\n",
       "    .dataframe tbody tr th:only-of-type {\n",
       "        vertical-align: middle;\n",
       "    }\n",
       "\n",
       "    .dataframe tbody tr th {\n",
       "        vertical-align: top;\n",
       "    }\n",
       "\n",
       "    .dataframe thead th {\n",
       "        text-align: right;\n",
       "    }\n",
       "</style>\n",
       "<table border=\"1\" class=\"dataframe\">\n",
       "  <thead>\n",
       "    <tr style=\"text-align: right;\">\n",
       "      <th></th>\n",
       "      <th>test_accuracy</th>\n",
       "      <th>test_auroc</th>\n",
       "      <th>test_avgprec</th>\n",
       "      <th>test_best_f1</th>\n",
       "    </tr>\n",
       "  </thead>\n",
       "  <tbody>\n",
       "    <tr>\n",
       "      <th>Follicular</th>\n",
       "      <td>0.909113</td>\n",
       "      <td>0.879024</td>\n",
       "      <td>0.627018</td>\n",
       "      <td>0.577536</td>\n",
       "    </tr>\n",
       "    <tr>\n",
       "      <th>Fibro General</th>\n",
       "      <td>0.916698</td>\n",
       "      <td>0.882387</td>\n",
       "      <td>0.624694</td>\n",
       "      <td>0.575148</td>\n",
       "    </tr>\n",
       "    <tr>\n",
       "      <th>Acinar</th>\n",
       "      <td>0.944483</td>\n",
       "      <td>0.913085</td>\n",
       "      <td>0.649766</td>\n",
       "      <td>0.599485</td>\n",
       "    </tr>\n",
       "    <tr>\n",
       "      <th>T Lymphocyte 1 (CD8+)</th>\n",
       "      <td>0.961742</td>\n",
       "      <td>0.930787</td>\n",
       "      <td>0.635401</td>\n",
       "      <td>0.593375</td>\n",
       "    </tr>\n",
       "    <tr>\n",
       "      <th>T lymphocyte 2 (CD4+)</th>\n",
       "      <td>0.967306</td>\n",
       "      <td>0.939841</td>\n",
       "      <td>0.622047</td>\n",
       "      <td>0.577923</td>\n",
       "    </tr>\n",
       "  </tbody>\n",
       "</table>\n",
       "</div>"
      ],
      "text/plain": [
       "                       test_accuracy  test_auroc  test_avgprec  test_best_f1\n",
       "Follicular                  0.909113    0.879024      0.627018      0.577536\n",
       "Fibro General               0.916698    0.882387      0.624694      0.575148\n",
       "Acinar                      0.944483    0.913085      0.649766      0.599485\n",
       "T Lymphocyte 1 (CD8+)       0.961742    0.930787      0.635401      0.593375\n",
       "T lymphocyte 2 (CD4+)       0.967306    0.939841      0.622047      0.577923"
      ]
     },
     "execution_count": 22,
     "metadata": {},
     "output_type": "execute_result"
    }
   ],
   "source": [
    "test_metrics.head()"
   ]
  },
  {
   "cell_type": "markdown",
   "id": "010822f3-570b-4a32-8f72-66b943a03b9b",
   "metadata": {},
   "source": [
    "## Visualize performance metrics"
   ]
  },
  {
   "cell_type": "markdown",
   "id": "cc7e7810-26ea-4c61-8ad3-de45bf404694",
   "metadata": {},
   "source": [
    "We can plot the distribution of each metric across all cell types:"
   ]
  },
  {
   "cell_type": "code",
   "execution_count": 23,
   "id": "ac5e8e0c-34c5-41c2-8bed-d1ec814b9813",
   "metadata": {},
   "outputs": [
    {
     "data": {
      "image/png": "[encoded data removed]"
     },
     "metadata": {
      "image/png": {
       "height": 200,
       "width": 300
      }
     },
     "output_type": "display_data"
    }
   ],
   "source": [
    "grelu.visualize.plot_distribution(\n",
    "    test_metrics.test_best_f1,\n",
    "    method='histogram',\n",
    "    title='Best F1 Score per task',\n",
    "    binwidth=0.005,\n",
    "    figsize=(3,2),\n",
    ")"
   ]
  },
  {
   "cell_type": "code",
   "execution_count": 24,
   "id": "91c0c54b-38cd-43d2-8f31-37036f50016a",
   "metadata": {},
   "outputs": [
    {
     "data": {
      "image/png": "[encoded data removed]"
     },
     "metadata": {
      "image/png": {
       "height": 200,
       "width": 300
      }
     },
     "output_type": "display_data"
    }
   ],
   "source": [
    "grelu.visualize.plot_distribution(\n",
    "    test_metrics.test_avgprec,\n",
    "    method='histogram',\n",
    "    title='Average Precision per task',\n",
    "    binwidth=0.005,\n",
    "    figsize=(3,2),\n",
    ")"
   ]
  },
  {
   "cell_type": "code",
   "execution_count": 25,
   "id": "b0e8b1b8-d579-45c6-b341-4823ffe71382",
   "metadata": {},
   "outputs": [
    {
     "data": {
      "image/png": "[encoded data removed]"
     },
     "metadata": {
      "image/png": {
       "height": 200,
       "width": 300
      }
     },
     "output_type": "display_data"
    }
   ],
   "source": [
    "grelu.visualize.plot_distribution(\n",
    "    test_metrics.test_auroc,\n",
    "    method='histogram',\n",
    "    title='AUROC per task',\n",
    "    binwidth=0.005,\n",
    "    figsize=(3,2),\n",
    ")"
   ]
  },
  {
   "cell_type": "markdown",
   "id": "c6652987-4305-4ee7-8f89-680e5790cbce",
   "metadata": {},
   "source": [
    "## Run inference on the test set"
   ]
  },
  {
   "cell_type": "markdown",
   "id": "6fe28b91-ebd8-4391-9096-42e61cb6ba2c",
   "metadata": {},
   "source": [
    "Instead of overall metrics, we can also get the individual predictions for each test set example."
   ]
  },
  {
   "cell_type": "code",
   "execution_count": 26,
   "id": "0ed35a77-d328-48c1-9380-cb2597c5788c",
   "metadata": {
    "tags": []
   },
   "outputs": [
    {
     "name": "stderr",
     "output_type": "stream",
     "text": [
      "GPU available: True (cuda), used: True\n",
      "TPU available: False, using: 0 TPU cores\n",
      "HPU available: False, using: 0 HPUs\n",
      "LOCAL_RANK: 0 - CUDA_VISIBLE_DEVICES: [0,1,2,3,4,5,6,7]\n"
     ]
    },
    {
     "name": "stdout",
     "output_type": "stream",
     "text": [
      "Predicting DataLoader 0: 100%|█████████████████████████████████████████████████████████████████████████████████████████████████████████████████████████████████████████████████████████████████████████████| 56/56 [00:03<00:00, 14.34it/s]\n"
     ]
    },
    {
     "data": {
      "text/html": [
       "<div>\n",
       "<style scoped>\n",
       "    .dataframe tbody tr th:only-of-type {\n",
       "        vertical-align: middle;\n",
       "    }\n",
       "\n",
       "    .dataframe tbody tr th {\n",
       "        vertical-align: top;\n",
       "    }\n",
       "\n",
       "    .dataframe thead th {\n",
       "        text-align: right;\n",
       "    }\n",
       "</style>\n",
       "<table border=\"1\" class=\"dataframe\">\n",
       "  <thead>\n",
       "    <tr style=\"text-align: right;\">\n",
       "      <th></th>\n",
       "      <th>Follicular</th>\n",
       "      <th>Fibro General</th>\n",
       "      <th>Acinar</th>\n",
       "      <th>T Lymphocyte 1 (CD8+)</th>\n",
       "      <th>T lymphocyte 2 (CD4+)</th>\n",
       "      <th>Natural Killer T</th>\n",
       "      <th>Naive T</th>\n",
       "      <th>Fibro Epithelial</th>\n",
       "      <th>Cardiac Pericyte 1</th>\n",
       "      <th>Pericyte General 1</th>\n",
       "      <th>...</th>\n",
       "      <th>Fetal Cardiac Fibroblast</th>\n",
       "      <th>Fetal Fibro General 2</th>\n",
       "      <th>Fetal Fibro Muscle 1</th>\n",
       "      <th>Fetal Fibro General 3</th>\n",
       "      <th>Fetal Mesangial 2</th>\n",
       "      <th>Fetal Stellate</th>\n",
       "      <th>Fetal Alveolar Epithelial 1</th>\n",
       "      <th>Fetal Cilliated</th>\n",
       "      <th>Fetal Excitatory Neuron 1</th>\n",
       "      <th>Fetal Excitatory Neuron 2</th>\n",
       "    </tr>\n",
       "  </thead>\n",
       "  <tbody>\n",
       "    <tr>\n",
       "      <th>0</th>\n",
       "      <td>0.420895</td>\n",
       "      <td>0.674017</td>\n",
       "      <td>0.506232</td>\n",
       "      <td>0.685084</td>\n",
       "      <td>0.514758</td>\n",
       "      <td>0.443587</td>\n",
       "      <td>0.465559</td>\n",
       "      <td>0.661670</td>\n",
       "      <td>0.419363</td>\n",
       "      <td>0.730238</td>\n",
       "      <td>...</td>\n",
       "      <td>0.111079</td>\n",
       "      <td>0.121903</td>\n",
       "      <td>0.171487</td>\n",
       "      <td>0.156433</td>\n",
       "      <td>0.180907</td>\n",
       "      <td>0.060901</td>\n",
       "      <td>0.169595</td>\n",
       "      <td>0.100527</td>\n",
       "      <td>0.205600</td>\n",
       "      <td>0.062775</td>\n",
       "    </tr>\n",
       "    <tr>\n",
       "      <th>1</th>\n",
       "      <td>0.008851</td>\n",
       "      <td>0.021444</td>\n",
       "      <td>0.001757</td>\n",
       "      <td>0.069185</td>\n",
       "      <td>0.060921</td>\n",
       "      <td>0.048642</td>\n",
       "      <td>0.016652</td>\n",
       "      <td>0.005472</td>\n",
       "      <td>0.051451</td>\n",
       "      <td>0.004445</td>\n",
       "      <td>...</td>\n",
       "      <td>0.070789</td>\n",
       "      <td>0.017949</td>\n",
       "      <td>0.016753</td>\n",
       "      <td>0.014286</td>\n",
       "      <td>0.008884</td>\n",
       "      <td>0.019222</td>\n",
       "      <td>0.017777</td>\n",
       "      <td>0.007793</td>\n",
       "      <td>0.020279</td>\n",
       "      <td>0.007875</td>\n",
       "    </tr>\n",
       "    <tr>\n",
       "      <th>2</th>\n",
       "      <td>0.022793</td>\n",
       "      <td>0.037817</td>\n",
       "      <td>0.010379</td>\n",
       "      <td>0.037814</td>\n",
       "      <td>0.043917</td>\n",
       "      <td>0.056750</td>\n",
       "      <td>0.018970</td>\n",
       "      <td>0.037695</td>\n",
       "      <td>0.112500</td>\n",
       "      <td>0.018786</td>\n",
       "      <td>...</td>\n",
       "      <td>0.054257</td>\n",
       "      <td>0.017340</td>\n",
       "      <td>0.026617</td>\n",
       "      <td>0.041380</td>\n",
       "      <td>0.023223</td>\n",
       "      <td>0.019772</td>\n",
       "      <td>0.022399</td>\n",
       "      <td>0.014391</td>\n",
       "      <td>0.248927</td>\n",
       "      <td>0.029103</td>\n",
       "    </tr>\n",
       "    <tr>\n",
       "      <th>3</th>\n",
       "      <td>0.764947</td>\n",
       "      <td>0.803988</td>\n",
       "      <td>0.857578</td>\n",
       "      <td>0.784091</td>\n",
       "      <td>0.808821</td>\n",
       "      <td>0.677050</td>\n",
       "      <td>0.721701</td>\n",
       "      <td>0.707757</td>\n",
       "      <td>0.749479</td>\n",
       "      <td>0.606714</td>\n",
       "      <td>...</td>\n",
       "      <td>0.755405</td>\n",
       "      <td>0.768155</td>\n",
       "      <td>0.714758</td>\n",
       "      <td>0.770326</td>\n",
       "      <td>0.734850</td>\n",
       "      <td>0.619608</td>\n",
       "      <td>0.853031</td>\n",
       "      <td>0.790041</td>\n",
       "      <td>0.696608</td>\n",
       "      <td>0.416579</td>\n",
       "    </tr>\n",
       "    <tr>\n",
       "      <th>4</th>\n",
       "      <td>0.174569</td>\n",
       "      <td>0.210124</td>\n",
       "      <td>0.301300</td>\n",
       "      <td>0.363085</td>\n",
       "      <td>0.266278</td>\n",
       "      <td>0.162586</td>\n",
       "      <td>0.191470</td>\n",
       "      <td>0.195322</td>\n",
       "      <td>0.103195</td>\n",
       "      <td>0.108766</td>\n",
       "      <td>...</td>\n",
       "      <td>0.104694</td>\n",
       "      <td>0.099994</td>\n",
       "      <td>0.098529</td>\n",
       "      <td>0.112873</td>\n",
       "      <td>0.094192</td>\n",
       "      <td>0.091924</td>\n",
       "      <td>0.176032</td>\n",
       "      <td>0.184840</td>\n",
       "      <td>0.101290</td>\n",
       "      <td>0.029382</td>\n",
       "    </tr>\n",
       "  </tbody>\n",
       "</table>\n",
       "<p>5 rows × 203 columns</p>\n",
       "</div>"
      ],
      "text/plain": [
       "   Follicular  Fibro General    Acinar  T Lymphocyte 1 (CD8+)  \\\n",
       "0    0.420895       0.674017  0.506232               0.685084   \n",
       "1    0.008851       0.021444  0.001757               0.069185   \n",
       "2    0.022793       0.037817  0.010379               0.037814   \n",
       "3    0.764947       0.803988  0.857578               0.784091   \n",
       "4    0.174569       0.210124  0.301300               0.363085   \n",
       "\n",
       "   T lymphocyte 2 (CD4+)  Natural Killer T   Naive T  Fibro Epithelial  \\\n",
       "0               0.514758          0.443587  0.465559          0.661670   \n",
       "1               0.060921          0.048642  0.016652          0.005472   \n",
       "2               0.043917          0.056750  0.018970          0.037695   \n",
       "3               0.808821          0.677050  0.721701          0.707757   \n",
       "4               0.266278          0.162586  0.191470          0.195322   \n",
       "\n",
       "   Cardiac Pericyte 1  Pericyte General 1  ...  Fetal Cardiac Fibroblast  \\\n",
       "0            0.419363            0.730238  ...                  0.111079   \n",
       "1            0.051451            0.004445  ...                  0.070789   \n",
       "2            0.112500            0.018786  ...                  0.054257   \n",
       "3            0.749479            0.606714  ...                  0.755405   \n",
       "4            0.103195            0.108766  ...                  0.104694   \n",
       "\n",
       "   Fetal Fibro General 2  Fetal Fibro Muscle 1  Fetal Fibro General 3  \\\n",
       "0               0.121903              0.171487               0.156433   \n",
       "1               0.017949              0.016753               0.014286   \n",
       "2               0.017340              0.026617               0.041380   \n",
       "3               0.768155              0.714758               0.770326   \n",
       "4               0.099994              0.098529               0.112873   \n",
       "\n",
       "   Fetal Mesangial 2  Fetal Stellate  Fetal Alveolar Epithelial 1  \\\n",
       "0           0.180907        0.060901                     0.169595   \n",
       "1           0.008884        0.019222                     0.017777   \n",
       "2           0.023223        0.019772                     0.022399   \n",
       "3           0.734850        0.619608                     0.853031   \n",
       "4           0.094192        0.091924                     0.176032   \n",
       "\n",
       "   Fetal Cilliated  Fetal Excitatory Neuron 1  Fetal Excitatory Neuron 2  \n",
       "0         0.100527                   0.205600                   0.062775  \n",
       "1         0.007793                   0.020279                   0.007875  \n",
       "2         0.014391                   0.248927                   0.029103  \n",
       "3         0.790041                   0.696608                   0.416579  \n",
       "4         0.184840                   0.101290                   0.029382  \n",
       "\n",
       "[5 rows x 203 columns]"
      ]
     },
     "execution_count": 26,
     "metadata": {},
     "output_type": "execute_result"
    }
   ],
   "source": [
    "probs = model.predict_on_dataset(\n",
    "    test_dataset,\n",
    "    devices=0,\n",
    "    num_workers=8,\n",
    "    batch_size=1024,\n",
    "    return_df=True # Return the output as a pandas dataframe\n",
    ")\n",
    "\n",
    "probs.head()"
   ]
  },
  {
   "cell_type": "markdown",
   "id": "4ee46c4c-771c-4ba1-95bc-a44e5ee24563",
   "metadata": {},
   "source": [
    "Since this is a binary classification model, the output takes the form of probabilities ranging from 0 to 1. We interpret these as the predicted probabilities of the element being accessible in each cell type."
   ]
  },
  {
   "cell_type": "markdown",
   "id": "1f11bb30-9471-4a33-a1fc-80e0a9fbd87d",
   "metadata": {},
   "source": [
    "## Plot additional visualizations of the test set predictions"
   ]
  },
  {
   "cell_type": "markdown",
   "id": "2906a8a3-9ae9-4437-ad7e-ba4ce4ba7c59",
   "metadata": {},
   "source": [
    "We can plot a calibration curve for all the tasks. This shows us the fraction of true positive examples, for different levels of model-predicted probability. "
   ]
  },
  {
   "cell_type": "code",
   "execution_count": 27,
   "id": "e1bde958-9815-4160-a9f3-0fcca6522a0f",
   "metadata": {
    "tags": []
   },
   "outputs": [
    {
     "data": {
      "image/png": "[encoded data removed]"
     },
     "metadata": {
      "image/png": {
       "height": 300,
       "width": 400
      }
     },
     "output_type": "display_data"
    }
   ],
   "source": [
    "grelu.visualize.plot_calibration_curve(\n",
    "    probs, labels=test_dataset.labels, aggregate=False, show_legend=False\n",
    ")"
   ]
  },
  {
   "cell_type": "markdown",
   "id": "32ac543f-b96c-4bdb-b7f2-3eb799550564",
   "metadata": {},
   "source": [
    "We can also pick any cell type and compare the predictions on accessible and non-accessible elements."
   ]
  },
  {
   "cell_type": "code",
   "execution_count": 28,
   "id": "51d89c73-4926-43e8-ae38-92ef7103da99",
   "metadata": {
    "tags": []
   },
   "outputs": [
    {
     "data": {
      "image/png": "[encoded data removed]"
     },
     "metadata": {
      "image/png": {
       "height": 300,
       "width": 400
      }
     },
     "output_type": "display_data"
    }
   ],
   "source": [
    "grelu.visualize.plot_binary_preds(\n",
    "    probs,\n",
    "    labels=test_dataset.labels,\n",
    "    tasks='Microglia',\n",
    "    figure_size=(3, 2) # Width, height\n",
    ")"
   ]
  },
  {
   "cell_type": "markdown",
   "id": "d4c9d21e-c1b6-4a79-a47f-76b47e26b3a4",
   "metadata": {
    "tags": []
   },
   "source": [
    "## Interpret model predictions (for microglia) using TF-modisco"
   ]
  },
  {
   "cell_type": "markdown",
   "id": "47c011bb-8560-477a-bc4e-37266af877f4",
   "metadata": {},
   "source": [
    "Suppose we want to focus specifically on Microglia. We can create a transform - a class that takes in the model's prediction and returns a function of the prediction, e.g. the prediction for only a subset of cell types that we are interested in. Then, all subsquent analyses that we do will be based only on this subset of the full prediction matrix.\n",
    "\n",
    "Here, we use the `Aggregate` class to create a transform that will take in the full set of predictions produced by the model and subset only the predictions in Microglia."
   ]
  },
  {
   "cell_type": "code",
   "execution_count": 29,
   "id": "84e55bad-0a5b-483e-8654-e2e0fc86da60",
   "metadata": {},
   "outputs": [],
   "source": [
    "from grelu.transforms.prediction_transforms import Aggregate\n",
    "\n",
    "microglia_score = Aggregate(\n",
    "    tasks = [\"Microglia\"],\n",
    "    model = model,\n",
    ")"
   ]
  },
  {
   "cell_type": "markdown",
   "id": "6ff90c8a-3529-48d0-8e39-f322d89e6940",
   "metadata": {},
   "source": [
    "Let us now identify all peaks in the test set that are accessible in microglia."
   ]
  },
  {
   "cell_type": "code",
   "execution_count": 30,
   "id": "b83ec1c2-687b-4caf-949d-8fa9028054f6",
   "metadata": {},
   "outputs": [
    {
     "data": {
      "text/plain": [
       "2273"
      ]
     },
     "execution_count": 30,
     "metadata": {},
     "output_type": "execute_result"
    }
   ],
   "source": [
    "is_accessible_in_mcg = np.array(ad_test[\"Microglia\", :].X.todense()==1).squeeze()\n",
    "mcg_peaks = ad_test.var[is_accessible_in_mcg]\n",
    "len(mcg_peaks)"
   ]
  },
  {
   "cell_type": "markdown",
   "id": "fd59b192-2004-40e5-81a2-853262d249b4",
   "metadata": {},
   "source": [
    "We now run TF-Modisco on these peaks. TF-modisco identifies motifs that consistently contribute to the model's output. Since we are using the `microglia_score` filter to limit the model's prediction to microglia, we will only get motifs relevant to this cell type. We also use TOMTOM to match the TF-Modisco motifs to a set of reference motifs. Here, we use a reference set of non-redundant motifs (https://www.vierstra.org/resources/motif_clustering) that are provided with gReLU as `consensus`."
   ]
  },
  {
   "cell_type": "code",
   "execution_count": 35,
   "id": "aa79adc4-68b4-4b9c-b8e5-441c1cec0be5",
   "metadata": {
    "tags": []
   },
   "outputs": [
    {
     "name": "stdout",
     "output_type": "stream",
     "text": [
      "Performing ISM\n"
     ]
    },
    {
     "name": "stderr",
     "output_type": "stream",
     "text": [
      "GPU available: True (cuda), used: True\n",
      "TPU available: False, using: 0 TPU cores\n",
      "HPU available: False, using: 0 HPUs\n",
      "LOCAL_RANK: 0 - CUDA_VISIBLE_DEVICES: [0,1,2,3,4,5,6,7]\n"
     ]
    },
    {
     "name": "stdout",
     "output_type": "stream",
     "text": [
      "Predicting DataLoader 0: 100%|███████████████████████████████████████████████████████████████████████████████████████████████████████████████████████████████████████████████████████████████████████████████| 3/3 [00:00<00:00, 15.15it/s]\n"
     ]
    },
    {
     "name": "stderr",
     "output_type": "stream",
     "text": [
      "GPU available: True (cuda), used: True\n",
      "TPU available: False, using: 0 TPU cores\n",
      "HPU available: False, using: 0 HPUs\n",
      "LOCAL_RANK: 0 - CUDA_VISIBLE_DEVICES: [0,1,2,3,4,5,6,7]\n"
     ]
    },
    {
     "name": "stdout",
     "output_type": "stream",
     "text": [
      "Predicting DataLoader 0: 100%|███████████████████████████████████████████████████████████████████████████████████████████████████████████████████████████████████████████████████████████████████████████| 666/666 [00:47<00:00, 14.12it/s]\n",
      "Running modisco\n"
     ]
    },
    {
     "name": "stderr",
     "output_type": "stream",
     "text": [
      "/opt/conda/lib/python3.11/site-packages/modiscolite/tfmodisco.py:128: ConstantInputWarning: An input array is constant; the correlation coefficient is not defined.\n"
     ]
    },
    {
     "name": "stdout",
     "output_type": "stream",
     "text": [
      "Writing modisco output\n",
      "Creating sequence logos\n",
      "Creating html report\n",
      "Running TOMTOM\n",
      "CPU times: user 3h 17min 27s, sys: 1min 19s, total: 3h 18min 47s\n",
      "Wall time: 9min 1s\n"
     ]
    }
   ],
   "source": [
    "%%time\n",
    "import grelu.interpret.modisco\n",
    "grelu.interpret.modisco.run_modisco(\n",
    "    model,\n",
    "    seqs=mcg_peaks, \n",
    "    genome=\"hg38\",\n",
    "    prediction_transform=microglia_score, # Base importance scores will be calculated with respect to this output\n",
    "    meme_file=\"consensus\", # We will compare the Modisco CWMs to consensus motifs\n",
    "    method=\"ism\", # Base-level attribution scores will be calculated using ISM. You can also use \"saliency\".\n",
    "    out_dir=experiment,\n",
    "    batch_size=1024,\n",
    "    devices=0,\n",
    "    num_workers=16,\n",
    "    window=100, # ISM scores will be calculated over the central 100 bp of each peak\n",
    "    seed=0,\n",
    ")"
   ]
  },
  {
   "cell_type": "markdown",
   "id": "de6e5701-8de9-4a9f-adf9-3075e0eddb72",
   "metadata": {
    "tags": []
   },
   "source": [
    "## Load TOMTOM output for modisco motifs"
   ]
  },
  {
   "cell_type": "markdown",
   "id": "2bd6cbcf-f894-4a2f-a995-37c6377212dd",
   "metadata": {},
   "source": [
    "The full output of TF-Modisco and TOMTOM can be found in the experiment folder. Here, we read the output of TOMTOM and list the significant TOMTOM matches, i.e. known TF motifs that are similar to those found by TF-MoDISco."
   ]
  },
  {
   "cell_type": "code",
   "execution_count": 36,
   "id": "0c49b64c-2adb-4850-a726-c2887071ef41",
   "metadata": {},
   "outputs": [
    {
     "data": {
      "text/html": [
       "<div>\n",
       "<style scoped>\n",
       "    .dataframe tbody tr th:only-of-type {\n",
       "        vertical-align: middle;\n",
       "    }\n",
       "\n",
       "    .dataframe tbody tr th {\n",
       "        vertical-align: top;\n",
       "    }\n",
       "\n",
       "    .dataframe thead th {\n",
       "        text-align: right;\n",
       "    }\n",
       "</style>\n",
       "<table border=\"1\" class=\"dataframe\">\n",
       "  <thead>\n",
       "    <tr style=\"text-align: right;\">\n",
       "      <th></th>\n",
       "      <th>Query_ID</th>\n",
       "      <th>Target_ID</th>\n",
       "      <th>Optimal_offset</th>\n",
       "      <th>p-value</th>\n",
       "      <th>E-value</th>\n",
       "      <th>q-value</th>\n",
       "      <th>Overlap</th>\n",
       "      <th>Query_consensus</th>\n",
       "      <th>Target_consensus</th>\n",
       "      <th>Orientation</th>\n",
       "    </tr>\n",
       "  </thead>\n",
       "  <tbody>\n",
       "    <tr>\n",
       "      <th>226</th>\n",
       "      <td>pos_pattern_0</td>\n",
       "      <td>AC0227:SPI_BCL11A:Ets</td>\n",
       "      <td>2.0</td>\n",
       "      <td>3.384275e-06</td>\n",
       "      <td>0.002156</td>\n",
       "      <td>0.001725</td>\n",
       "      <td>7.0</td>\n",
       "      <td>ACTTCCT</td>\n",
       "      <td>AAGAGGAAGTGA</td>\n",
       "      <td>-</td>\n",
       "    </tr>\n",
       "    <tr>\n",
       "      <th>621</th>\n",
       "      <td>pos_pattern_0</td>\n",
       "      <td>AC0622:ELF_SPIB:Ets</td>\n",
       "      <td>0.0</td>\n",
       "      <td>1.070278e-06</td>\n",
       "      <td>0.000682</td>\n",
       "      <td>0.000682</td>\n",
       "      <td>7.0</td>\n",
       "      <td>ACTTCCT</td>\n",
       "      <td>AAGAGGAAGT</td>\n",
       "      <td>-</td>\n",
       "    </tr>\n",
       "    <tr>\n",
       "      <th>863</th>\n",
       "      <td>pos_pattern_1</td>\n",
       "      <td>AC0227:SPI_BCL11A:Ets</td>\n",
       "      <td>-2.0</td>\n",
       "      <td>4.536097e-09</td>\n",
       "      <td>0.000003</td>\n",
       "      <td>0.000012</td>\n",
       "      <td>12.0</td>\n",
       "      <td>TTTCACTTCCTCTT</td>\n",
       "      <td>AAGAGGAAGTGA</td>\n",
       "      <td>-</td>\n",
       "    </tr>\n",
       "    <tr>\n",
       "      <th>1258</th>\n",
       "      <td>pos_pattern_1</td>\n",
       "      <td>AC0622:ELF_SPIB:Ets</td>\n",
       "      <td>-4.0</td>\n",
       "      <td>3.678795e-05</td>\n",
       "      <td>0.023434</td>\n",
       "      <td>0.009983</td>\n",
       "      <td>10.0</td>\n",
       "      <td>TTTCACTTCCTCTT</td>\n",
       "      <td>AAGAGGAAGT</td>\n",
       "      <td>-</td>\n",
       "    </tr>\n",
       "    <tr>\n",
       "      <th>1351</th>\n",
       "      <td>pos_pattern_2</td>\n",
       "      <td>AC0078:CTCF_CTCFL:C2H2_ZF</td>\n",
       "      <td>-3.0</td>\n",
       "      <td>4.904135e-07</td>\n",
       "      <td>0.000312</td>\n",
       "      <td>0.000417</td>\n",
       "      <td>13.0</td>\n",
       "      <td>CGCCGCCCCCTCCTGG</td>\n",
       "      <td>CGCCCCCTGGTGG</td>\n",
       "      <td>+</td>\n",
       "    </tr>\n",
       "    <tr>\n",
       "      <th>1384</th>\n",
       "      <td>pos_pattern_2</td>\n",
       "      <td>AC0111:CTCF_KLF:C2H2_ZF</td>\n",
       "      <td>5.0</td>\n",
       "      <td>1.537654e-05</td>\n",
       "      <td>0.009795</td>\n",
       "      <td>0.005597</td>\n",
       "      <td>13.0</td>\n",
       "      <td>CGCCGCCCCCTCCTGG</td>\n",
       "      <td>GTGGGGGGGGGTAGGGGG</td>\n",
       "      <td>-</td>\n",
       "    </tr>\n",
       "    <tr>\n",
       "      <th>1388</th>\n",
       "      <td>pos_pattern_2</td>\n",
       "      <td>AC0115:ZNF:C2H2_ZF</td>\n",
       "      <td>0.0</td>\n",
       "      <td>1.137785e-05</td>\n",
       "      <td>0.007248</td>\n",
       "      <td>0.004832</td>\n",
       "      <td>16.0</td>\n",
       "      <td>CGCCGCCCCCTCCTGG</td>\n",
       "      <td>CCCCCCCCCCCTCAGGAATGC</td>\n",
       "      <td>+</td>\n",
       "    </tr>\n",
       "    <tr>\n",
       "      <th>1442</th>\n",
       "      <td>pos_pattern_2</td>\n",
       "      <td>AC0169:ZNF_PRDM:C2H2_ZF</td>\n",
       "      <td>3.0</td>\n",
       "      <td>1.806863e-05</td>\n",
       "      <td>0.011510</td>\n",
       "      <td>0.005755</td>\n",
       "      <td>14.0</td>\n",
       "      <td>CGCCGCCCCCTCCTGG</td>\n",
       "      <td>CCCCCCCTCCCCCTCCC</td>\n",
       "      <td>+</td>\n",
       "    </tr>\n",
       "    <tr>\n",
       "      <th>1751</th>\n",
       "      <td>pos_pattern_2</td>\n",
       "      <td>AC0478:ZNF_PAX:C2H2_ZF</td>\n",
       "      <td>0.0</td>\n",
       "      <td>3.918168e-05</td>\n",
       "      <td>0.024959</td>\n",
       "      <td>0.009983</td>\n",
       "      <td>16.0</td>\n",
       "      <td>CGCCGCCCCCTCCTGG</td>\n",
       "      <td>CGCCGCCACCTCAGCCGCGGC</td>\n",
       "      <td>+</td>\n",
       "    </tr>\n",
       "    <tr>\n",
       "      <th>1988</th>\n",
       "      <td>pos_pattern_3</td>\n",
       "      <td>AC0078:CTCF_CTCFL:C2H2_ZF</td>\n",
       "      <td>1.0</td>\n",
       "      <td>4.477066e-08</td>\n",
       "      <td>0.000029</td>\n",
       "      <td>0.000057</td>\n",
       "      <td>12.0</td>\n",
       "      <td>GCCATCTAGTGG</td>\n",
       "      <td>CGCCCCCTGGTGG</td>\n",
       "      <td>+</td>\n",
       "    </tr>\n",
       "  </tbody>\n",
       "</table>\n",
       "</div>"
      ],
      "text/plain": [
       "           Query_ID                  Target_ID  Optimal_offset       p-value  \\\n",
       "226   pos_pattern_0      AC0227:SPI_BCL11A:Ets             2.0  3.384275e-06   \n",
       "621   pos_pattern_0        AC0622:ELF_SPIB:Ets             0.0  1.070278e-06   \n",
       "863   pos_pattern_1      AC0227:SPI_BCL11A:Ets            -2.0  4.536097e-09   \n",
       "1258  pos_pattern_1        AC0622:ELF_SPIB:Ets            -4.0  3.678795e-05   \n",
       "1351  pos_pattern_2  AC0078:CTCF_CTCFL:C2H2_ZF            -3.0  4.904135e-07   \n",
       "1384  pos_pattern_2    AC0111:CTCF_KLF:C2H2_ZF             5.0  1.537654e-05   \n",
       "1388  pos_pattern_2         AC0115:ZNF:C2H2_ZF             0.0  1.137785e-05   \n",
       "1442  pos_pattern_2    AC0169:ZNF_PRDM:C2H2_ZF             3.0  1.806863e-05   \n",
       "1751  pos_pattern_2     AC0478:ZNF_PAX:C2H2_ZF             0.0  3.918168e-05   \n",
       "1988  pos_pattern_3  AC0078:CTCF_CTCFL:C2H2_ZF             1.0  4.477066e-08   \n",
       "\n",
       "       E-value   q-value  Overlap   Query_consensus       Target_consensus  \\\n",
       "226   0.002156  0.001725      7.0           ACTTCCT           AAGAGGAAGTGA   \n",
       "621   0.000682  0.000682      7.0           ACTTCCT             AAGAGGAAGT   \n",
       "863   0.000003  0.000012     12.0    TTTCACTTCCTCTT           AAGAGGAAGTGA   \n",
       "1258  0.023434  0.009983     10.0    TTTCACTTCCTCTT             AAGAGGAAGT   \n",
       "1351  0.000312  0.000417     13.0  CGCCGCCCCCTCCTGG          CGCCCCCTGGTGG   \n",
       "1384  0.009795  0.005597     13.0  CGCCGCCCCCTCCTGG     GTGGGGGGGGGTAGGGGG   \n",
       "1388  0.007248  0.004832     16.0  CGCCGCCCCCTCCTGG  CCCCCCCCCCCTCAGGAATGC   \n",
       "1442  0.011510  0.005755     14.0  CGCCGCCCCCTCCTGG      CCCCCCCTCCCCCTCCC   \n",
       "1751  0.024959  0.009983     16.0  CGCCGCCCCCTCCTGG  CGCCGCCACCTCAGCCGCGGC   \n",
       "1988  0.000029  0.000057     12.0      GCCATCTAGTGG          CGCCCCCTGGTGG   \n",
       "\n",
       "     Orientation  \n",
       "226            -  \n",
       "621            -  \n",
       "863            -  \n",
       "1258           -  \n",
       "1351           +  \n",
       "1384           -  \n",
       "1388           +  \n",
       "1442           +  \n",
       "1751           +  \n",
       "1988           +  "
      ]
     },
     "execution_count": 36,
     "metadata": {},
     "output_type": "execute_result"
    }
   ],
   "source": [
    "tomtom_file = os.path.join(experiment, 'tomtom.csv')\n",
    "tomtom = pd.read_csv(tomtom_file, index_col=0)\n",
    "\n",
    "tomtom[tomtom['q-value'] < 1e-2] # Display most significant matches"
   ]
  },
  {
   "cell_type": "code",
   "execution_count": null,
   "id": "442ebf41-1864-4ab3-b2da-267d40160521",
   "metadata": {},
   "outputs": [],
   "source": []
  }
 ],
 "metadata": {
  "kernelspec": {
   "display_name": "Python 3 (ipykernel)",
   "language": "python",
   "name": "python3"
  },
  "language_info": {
   "codemirror_mode": {
    "name": "ipython",
    "version": 3
   },
   "file_extension": ".py",
   "mimetype": "text/x-python",
   "name": "python",
   "nbconvert_exporter": "python",
   "pygments_lexer": "ipython3",
   "version": "3.11.9"
  }
 },
 "nbformat": 4,
 "nbformat_minor": 5
}
