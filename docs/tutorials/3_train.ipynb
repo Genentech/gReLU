{
 "cells": [
  {
   "cell_type": "markdown",
   "id": "9b5fb36a-bc93-4f66-b91f-8cc586c56e87",
   "metadata": {},
   "source": [
    "# Train a single-task regression model from scratch"
   ]
  },
  {
   "cell_type": "markdown",
   "id": "f945eb76-8120-48cc-8983-073f70905d28",
   "metadata": {},
   "source": [
    "In this tutorial, we train a single-task convolutional regression model to predict total coverage over ATAC-seq peaks, starting from an ATAC-seq fragment file."
   ]
  },
  {
   "cell_type": "code",
   "execution_count": 1,
   "id": "d79a359c-ed31-4ab7-84dd-ed859ba7fa83",
   "metadata": {},
   "outputs": [],
   "source": [
    "import os\n",
    "import numpy as np\n",
    "import pandas as pd\n",
    "import torch"
   ]
  },
  {
   "cell_type": "markdown",
   "id": "bf7b4807-a380-4bc8-ab66-1946e70643cf",
   "metadata": {},
   "source": [
    "## Set experiment parameters"
   ]
  },
  {
   "cell_type": "code",
   "execution_count": 2,
   "id": "e3fa1a08-6375-4f98-b473-a089885ec59e",
   "metadata": {},
   "outputs": [],
   "source": [
    "experiment='tutorial_3'\n",
    "if not os.path.exists(experiment):\n",
    "    os.makedirs(experiment)"
   ]
  },
  {
   "cell_type": "markdown",
   "id": "d5d89c0d-6b4c-47d2-9568-1617586bea2f",
   "metadata": {},
   "source": [
    "## Peak and fragment files"
   ]
  },
  {
   "cell_type": "markdown",
   "id": "311d0d2c-acda-435b-a29f-f82c3b799395",
   "metadata": {},
   "source": [
    "We downloaded pseudobulk scATAC data for human microglia from Corces et al. (2020): `https://www.nature.com/articles/s41588-020-00721-x`. Here, we use the `grelu.resources` module to download the fragment file and peak file from the model zoo:"
   ]
  },
  {
   "cell_type": "code",
   "execution_count": 3,
   "id": "3cf7e397-bba3-4b7f-99b0-f3d73b8db086",
   "metadata": {},
   "outputs": [
    {
     "name": "stderr",
     "output_type": "stream",
     "text": [
      "/usr/local/lib/python3.11/dist-packages/tqdm/auto.py:21: TqdmWarning: IProgress not found. Please update jupyter and ipywidgets. See https://ipywidgets.readthedocs.io/en/stable/user_install.html\n",
      "  from .autonotebook import tqdm as notebook_tqdm\n"
     ]
    }
   ],
   "source": [
    "import grelu.resources"
   ]
  },
  {
   "cell_type": "code",
   "execution_count": 4,
   "id": "1e30a103-e5b9-4044-921a-7536a606d356",
   "metadata": {},
   "outputs": [
    {
     "name": "stderr",
     "output_type": "stream",
     "text": [
      "\u001b[34m\u001b[1mwandb\u001b[0m: Currently logged in as: \u001b[33manony-mouse-945272810042178709\u001b[0m. Use \u001b[1m`wandb login --relogin`\u001b[0m to force relogin\n",
      "\u001b[34m\u001b[1mwandb\u001b[0m: Downloading large artifact fragment_file:latest, 2203.42MB. 1 files... \n",
      "\u001b[34m\u001b[1mwandb\u001b[0m:   1 of 1 files downloaded.  \n",
      "Done. 0:0:36.8\n",
      "\u001b[34m\u001b[1mwandb\u001b[0m:   1 of 1 files downloaded.  \n"
     ]
    }
   ],
   "source": [
    "# Download these datasets into local directories\n",
    "\n",
    "fragment_file_dir = grelu.resources.get_artifact(\n",
    "    project='microglia-scatac-tutorial', name='fragment_file').download()\n",
    "\n",
    "peak_file_dir = grelu.resources.get_artifact(\n",
    "    project='microglia-scatac-tutorial', name='peak_file').download()"
   ]
  },
  {
   "cell_type": "code",
   "execution_count": 5,
   "id": "a7e75053-b64c-4b6a-a52a-2c15102638da",
   "metadata": {},
   "outputs": [],
   "source": [
    "# Paths to files\n",
    "frag_file = os.path.join(fragment_file_dir, \"Microglia_full.bed\")\n",
    "peak_file = os.path.join(peak_file_dir, \"Microglia_full_peaks.narrowPeak\")"
   ]
  },
  {
   "cell_type": "markdown",
   "id": "a593fce2-1d82-4d19-83b2-63e32bd14f68",
   "metadata": {},
   "source": [
    "## Set parameters"
   ]
  },
  {
   "cell_type": "code",
   "execution_count": 6,
   "id": "2b471ef2-e124-4a36-bcbb-78bd51edb661",
   "metadata": {},
   "outputs": [],
   "source": [
    "seq_len=2114 # Length of the input sequence\n",
    "label_len=1000 # Length over which we calculate total coverage\n",
    "val_chroms=[\"chr10\"]\n",
    "test_chroms=[\"chr11\"]\n",
    "genome=\"hg38\""
   ]
  },
  {
   "cell_type": "markdown",
   "id": "9af5ff0c-d2f9-4f02-8ca4-5c969e9c3f34",
   "metadata": {},
   "source": [
    "## Read peak file"
   ]
  },
  {
   "cell_type": "markdown",
   "id": "bc12c4cf-0a89-4418-8cf0-6ee4313854ab",
   "metadata": {},
   "source": [
    "We read peak coordinates from the narrowPeak file."
   ]
  },
  {
   "cell_type": "code",
   "execution_count": 7,
   "id": "048626a4-9e37-44e6-a3c0-75246456e8f9",
   "metadata": {},
   "outputs": [
    {
     "data": {
      "text/html": [
       "<div>\n",
       "<style scoped>\n",
       "    .dataframe tbody tr th:only-of-type {\n",
       "        vertical-align: middle;\n",
       "    }\n",
       "\n",
       "    .dataframe tbody tr th {\n",
       "        vertical-align: top;\n",
       "    }\n",
       "\n",
       "    .dataframe thead th {\n",
       "        text-align: right;\n",
       "    }\n",
       "</style>\n",
       "<table border=\"1\" class=\"dataframe\">\n",
       "  <thead>\n",
       "    <tr style=\"text-align: right;\">\n",
       "      <th></th>\n",
       "      <th>chrom</th>\n",
       "      <th>start</th>\n",
       "      <th>end</th>\n",
       "      <th>name</th>\n",
       "      <th>score</th>\n",
       "      <th>strand</th>\n",
       "      <th>signal</th>\n",
       "      <th>pvalue</th>\n",
       "      <th>qvalue</th>\n",
       "      <th>summit</th>\n",
       "    </tr>\n",
       "  </thead>\n",
       "  <tbody>\n",
       "    <tr>\n",
       "      <th>83316</th>\n",
       "      <td>chrY</td>\n",
       "      <td>56870777</td>\n",
       "      <td>56870983</td>\n",
       "      <td>Microglia_full_peak_83318</td>\n",
       "      <td>94</td>\n",
       "      <td>.</td>\n",
       "      <td>3.83352</td>\n",
       "      <td>11.58170</td>\n",
       "      <td>9.41381</td>\n",
       "      <td>116</td>\n",
       "    </tr>\n",
       "    <tr>\n",
       "      <th>83317</th>\n",
       "      <td>chrY</td>\n",
       "      <td>56873629</td>\n",
       "      <td>56873811</td>\n",
       "      <td>Microglia_full_peak_83319</td>\n",
       "      <td>49</td>\n",
       "      <td>.</td>\n",
       "      <td>3.01171</td>\n",
       "      <td>7.02098</td>\n",
       "      <td>4.99754</td>\n",
       "      <td>105</td>\n",
       "    </tr>\n",
       "    <tr>\n",
       "      <th>83318</th>\n",
       "      <td>chrY</td>\n",
       "      <td>56874075</td>\n",
       "      <td>56874225</td>\n",
       "      <td>Microglia_full_peak_83320</td>\n",
       "      <td>42</td>\n",
       "      <td>.</td>\n",
       "      <td>2.86533</td>\n",
       "      <td>6.19767</td>\n",
       "      <td>4.20704</td>\n",
       "      <td>17</td>\n",
       "    </tr>\n",
       "  </tbody>\n",
       "</table>\n",
       "</div>"
      ],
      "text/plain": [
       "      chrom     start       end                       name  score strand  \\\n",
       "83316  chrY  56870777  56870983  Microglia_full_peak_83318     94      .   \n",
       "83317  chrY  56873629  56873811  Microglia_full_peak_83319     49      .   \n",
       "83318  chrY  56874075  56874225  Microglia_full_peak_83320     42      .   \n",
       "\n",
       "        signal    pvalue   qvalue  summit  \n",
       "83316  3.83352  11.58170  9.41381     116  \n",
       "83317  3.01171   7.02098  4.99754     105  \n",
       "83318  2.86533   6.19767  4.20704      17  "
      ]
     },
     "execution_count": 7,
     "metadata": {},
     "output_type": "execute_result"
    }
   ],
   "source": [
    "import grelu.io.bed\n",
    "\n",
    "peaks = grelu.io.bed.read_narrowpeak(peak_file)\n",
    "peaks.tail(3)"
   ]
  },
  {
   "cell_type": "markdown",
   "id": "8605162d-5dd1-4c91-884f-b6ed710bdb72",
   "metadata": {},
   "source": [
    "## Summit-center peaks"
   ]
  },
  {
   "cell_type": "markdown",
   "id": "86098be0-04d4-4468-a397-31eb47f40d5f",
   "metadata": {},
   "source": [
    "We extract the genomic coordinates for the 2114 bases surrounding the summit of each peak."
   ]
  },
  {
   "cell_type": "code",
   "execution_count": 8,
   "id": "6620e13f-9d66-4b59-8f05-ea6a5106ca5c",
   "metadata": {},
   "outputs": [
    {
     "data": {
      "text/html": [
       "<div>\n",
       "<style scoped>\n",
       "    .dataframe tbody tr th:only-of-type {\n",
       "        vertical-align: middle;\n",
       "    }\n",
       "\n",
       "    .dataframe tbody tr th {\n",
       "        vertical-align: top;\n",
       "    }\n",
       "\n",
       "    .dataframe thead th {\n",
       "        text-align: right;\n",
       "    }\n",
       "</style>\n",
       "<table border=\"1\" class=\"dataframe\">\n",
       "  <thead>\n",
       "    <tr style=\"text-align: right;\">\n",
       "      <th></th>\n",
       "      <th>chrom</th>\n",
       "      <th>start</th>\n",
       "      <th>end</th>\n",
       "    </tr>\n",
       "  </thead>\n",
       "  <tbody>\n",
       "    <tr>\n",
       "      <th>83316</th>\n",
       "      <td>chrY</td>\n",
       "      <td>56869836</td>\n",
       "      <td>56871950</td>\n",
       "    </tr>\n",
       "    <tr>\n",
       "      <th>83317</th>\n",
       "      <td>chrY</td>\n",
       "      <td>56872677</td>\n",
       "      <td>56874791</td>\n",
       "    </tr>\n",
       "    <tr>\n",
       "      <th>83318</th>\n",
       "      <td>chrY</td>\n",
       "      <td>56873035</td>\n",
       "      <td>56875149</td>\n",
       "    </tr>\n",
       "  </tbody>\n",
       "</table>\n",
       "</div>"
      ],
      "text/plain": [
       "      chrom     start       end\n",
       "83316  chrY  56869836  56871950\n",
       "83317  chrY  56872677  56874791\n",
       "83318  chrY  56873035  56875149"
      ]
     },
     "execution_count": 8,
     "metadata": {},
     "output_type": "execute_result"
    }
   ],
   "source": [
    "import grelu.data.preprocess\n",
    "\n",
    "peaks = grelu.data.preprocess.extend_from_coord(\n",
    "    peaks,\n",
    "    seq_len=seq_len,\n",
    "    center_col=\"summit\"\n",
    ")\n",
    "peaks.tail(3)"
   ]
  },
  {
   "cell_type": "markdown",
   "id": "c3286073-1270-4f3f-9289-4461504c2407",
   "metadata": {},
   "source": [
    "## Filter peaks"
   ]
  },
  {
   "cell_type": "markdown",
   "id": "492e326b-7432-4be4-8030-87d8f65f3d4b",
   "metadata": {},
   "source": [
    "We filter the peaks to include only those within autosomes. You can also use \"autosomesX\" or \"autosomesXY\" to include sex chromosomes."
   ]
  },
  {
   "cell_type": "code",
   "execution_count": 9,
   "id": "eeac5047-f85b-4ff8-b4b5-f528e0a4bcc1",
   "metadata": {},
   "outputs": [
    {
     "name": "stdout",
     "output_type": "stream",
     "text": [
      "Keeping 80823 intervals\n"
     ]
    }
   ],
   "source": [
    "peaks = grelu.data.preprocess.filter_chromosomes(peaks, 'autosomes')"
   ]
  },
  {
   "cell_type": "markdown",
   "id": "16004bf4-a1d8-41d4-a8a2-635f9b30a9c2",
   "metadata": {},
   "source": [
    "We drop peaks that are close to ENCODE hg38 blacklist regions."
   ]
  },
  {
   "cell_type": "code",
   "execution_count": 10,
   "id": "79bccf2a-2e25-471f-951e-1f50eb523d8a",
   "metadata": {},
   "outputs": [
    {
     "name": "stdout",
     "output_type": "stream",
     "text": [
      "Keeping 80028 intervals\n"
     ]
    }
   ],
   "source": [
    "peaks = grelu.data.preprocess.filter_blacklist(\n",
    "    peaks,\n",
    "    genome=genome,\n",
    "    window=50 # Remove peaks if they are within 50 bp of a blacklist region\n",
    ")"
   ]
  },
  {
   "cell_type": "markdown",
   "id": "37922eb5-4bf7-4136-8b14-1d6907884a35",
   "metadata": {},
   "source": [
    "## Get GC matched negative regions"
   ]
  },
  {
   "cell_type": "markdown",
   "id": "c38fe88d-54c4-4afd-97f0-de7986baaca6",
   "metadata": {},
   "source": [
    "To ensure that the model also learns to recognize regions that are not peaks, we will include a set of \"negative\" (non-peak) regions with similar GC content to the peaks."
   ]
  },
  {
   "cell_type": "code",
   "execution_count": 11,
   "id": "0ad3c925-162b-4bca-a8e6-6a9b99fe8a15",
   "metadata": {
    "scrolled": true
   },
   "outputs": [
    {
     "name": "stdout",
     "output_type": "stream",
     "text": [
      "Extracting matching intervals\n",
      "Filtering blacklist\n",
      "Keeping 77148 intervals\n"
     ]
    },
    {
     "data": {
      "text/html": [
       "<div>\n",
       "<style scoped>\n",
       "    .dataframe tbody tr th:only-of-type {\n",
       "        vertical-align: middle;\n",
       "    }\n",
       "\n",
       "    .dataframe tbody tr th {\n",
       "        vertical-align: top;\n",
       "    }\n",
       "\n",
       "    .dataframe thead th {\n",
       "        text-align: right;\n",
       "    }\n",
       "</style>\n",
       "<table border=\"1\" class=\"dataframe\">\n",
       "  <thead>\n",
       "    <tr style=\"text-align: right;\">\n",
       "      <th></th>\n",
       "      <th>chrom</th>\n",
       "      <th>start</th>\n",
       "      <th>end</th>\n",
       "    </tr>\n",
       "  </thead>\n",
       "  <tbody>\n",
       "    <tr>\n",
       "      <th>39048</th>\n",
       "      <td>chr1</td>\n",
       "      <td>801206</td>\n",
       "      <td>803320</td>\n",
       "    </tr>\n",
       "    <tr>\n",
       "      <th>13936</th>\n",
       "      <td>chr1</td>\n",
       "      <td>813890</td>\n",
       "      <td>816004</td>\n",
       "    </tr>\n",
       "    <tr>\n",
       "      <th>20216</th>\n",
       "      <td>chr1</td>\n",
       "      <td>858284</td>\n",
       "      <td>860398</td>\n",
       "    </tr>\n",
       "  </tbody>\n",
       "</table>\n",
       "</div>"
      ],
      "text/plain": [
       "      chrom   start     end\n",
       "39048  chr1  801206  803320\n",
       "13936  chr1  813890  816004\n",
       "20216  chr1  858284  860398"
      ]
     },
     "execution_count": 11,
     "metadata": {},
     "output_type": "execute_result"
    }
   ],
   "source": [
    "negatives = grelu.data.preprocess.get_gc_matched_intervals(\n",
    "    peaks,\n",
    "    binwidth=0.02, # resolution of measuring GC content\n",
    "    genome=genome,\n",
    "    chroms=\"autosomes\", # negative regions will also be chosen from autosomes\n",
    "    blacklist=genome, # negative regions overlapping the blacklist will be dropped\n",
    "    seed=0,\n",
    ")\n",
    "negatives.head(3)"
   ]
  },
  {
   "cell_type": "markdown",
   "id": "5d2cb38f-5529-4c8f-92fe-bfba0a9ea3f2",
   "metadata": {},
   "source": [
    "We can visualize a histogram of GC content in the peaks and negative regions to verify that they are similar."
   ]
  },
  {
   "cell_type": "code",
   "execution_count": 12,
   "id": "b551d1e0-bac0-4d96-953c-d2cee89eefea",
   "metadata": {},
   "outputs": [
    {
     "data": {
      "image/png": "[encoded data removed]"
     },
     "metadata": {
      "image/png": {
       "height": 300,
       "width": 400
      }
     },
     "output_type": "display_data"
    }
   ],
   "source": [
    "import grelu.visualize\n",
    "grelu.visualize.plot_gc_match(\n",
    "    positives=peaks, negatives=negatives, binwidth=0.02, genome=\"hg38\", figsize=(4, 3)\n",
    ")"
   ]
  },
  {
   "cell_type": "markdown",
   "id": "41a643e0-60bc-4d07-b362-ff50b7e56e91",
   "metadata": {},
   "source": [
    "## Combine peaks and negative regions"
   ]
  },
  {
   "cell_type": "markdown",
   "id": "786fd409-66a1-4c71-a893-45e67e9904c6",
   "metadata": {},
   "source": [
    "The full dataset includes both peaks and negative regions."
   ]
  },
  {
   "cell_type": "code",
   "execution_count": 13,
   "id": "8f174ef8-4f59-47c5-9b9b-2df0c7b15c05",
   "metadata": {},
   "outputs": [
    {
     "data": {
      "text/plain": [
       "157176"
      ]
     },
     "execution_count": 13,
     "metadata": {},
     "output_type": "execute_result"
    }
   ],
   "source": [
    "regions = pd.concat([peaks, negatives])\n",
    "len(regions)"
   ]
  },
  {
   "cell_type": "markdown",
   "id": "41676a4d-1bb9-4860-bce6-22f32c3dc794",
   "metadata": {},
   "source": [
    "## Make BigWig file"
   ]
  },
  {
   "cell_type": "markdown",
   "id": "d6245933-1f08-4c50-8433-19caeec22c85",
   "metadata": {},
   "source": [
    "We convert the ATAC-seq fragment file into a bigWig file which contains the number of Tn5 insertions at each position."
   ]
  },
  {
   "cell_type": "code",
   "execution_count": 14,
   "id": "d2971af5-542b-43a7-beb8-40722580dbe8",
   "metadata": {},
   "outputs": [
    {
     "name": "stdout",
     "output_type": "stream",
     "text": [
      "Making bedgraph file\n",
      "cat /code/gReLU/docs/tutorials/artifacts/fragment_file:v0/Microglia_full.bed | awk -v OFS=\"\\t\" '{print $1,$2+0,$3,1000,0,\"+\";\n",
      "    print $1,$2,$3+1,1000,0,\"-\"}' | sort -k1,1 | grep -e ^chr1 -e ^chr2 -e ^chr3 -e ^chr4 -e ^chr5 -e ^chr6 -e ^chr7 -e ^chr8 -e ^chr9 -e ^chr10 -e ^chr11 -e ^chr12 -e ^chr13 -e ^chr14 -e ^chr15 -e ^chr16 -e ^chr17 -e ^chr18 -e ^chr19 -e ^chr20 -e ^chr21 -e ^chr22  | bedtools genomecov -bg -5 -i stdin -g /root/.local/share/genomes/hg38/hg38.fa.sizes | bedtools sort -i stdin > ./Microglia_full.bedGraph\n",
      "Making bigWig file\n",
      "bedGraphToBigWig ./Microglia_full.bedGraph /root/.local/share/genomes/hg38/hg38.fa.sizes ./Microglia_full.bw\n",
      "Deleting temporary files\n"
     ]
    }
   ],
   "source": [
    "bw_file = grelu.data.preprocess.make_insertion_bigwig(\n",
    "    frag_file = frag_file,\n",
    "    plus_shift=0,\n",
    "    minus_shift=1, # This corrects the +4/-5 Tn5 shift to a +4/-4 shift\n",
    "    genome=genome,\n",
    "    chroms=\"autosomes\", # The output bigWig file contains coverage over autosomes.\n",
    ")"
   ]
  },
  {
   "cell_type": "markdown",
   "id": "be9758a9-dc40-4ed4-8b40-8dd895cc9dc2",
   "metadata": {},
   "source": [
    "## Split data by chromosome"
   ]
  },
  {
   "cell_type": "markdown",
   "id": "d8803810-9a23-4e15-9abe-466c166a0e3b",
   "metadata": {},
   "source": [
    "We now split the dataset by chromosome to create separate datasets for training, validation and testing."
   ]
  },
  {
   "cell_type": "code",
   "execution_count": 15,
   "id": "4235d849-e46c-4dde-9fe5-a800fdbdd3df",
   "metadata": {},
   "outputs": [
    {
     "name": "stdout",
     "output_type": "stream",
     "text": [
      "Selecting training samples\n",
      "Keeping 140654 intervals\n",
      "\n",
      "\n",
      "Selecting validation samples\n",
      "Keeping 8115 intervals\n",
      "\n",
      "\n",
      "Selecting test samples\n",
      "Keeping 8407 intervals\n",
      "Final sizes: train: (126394, 3), val: (699, 3), test: (791, 3)\n"
     ]
    }
   ],
   "source": [
    "train, val, test = grelu.data.preprocess.split(\n",
    "    regions, val_chroms=val_chroms, test_chroms=test_chroms)"
   ]
  },
  {
   "cell_type": "markdown",
   "id": "1b4f21ef-c6ee-4ca5-89c3-99981eedc69d",
   "metadata": {},
   "source": [
    "## Make labeled datasets"
   ]
  },
  {
   "cell_type": "markdown",
   "id": "1aadc7b1-f465-4ef5-8e44-587a2acee662",
   "metadata": {},
   "source": [
    "We now make pytorch dataset objects in order to load paired sequences and coverage values from the genome and the bigWig file. We use the `BigWigSeqDataset` class."
   ]
  },
  {
   "cell_type": "markdown",
   "id": "04cb619b-337b-4fcb-b18c-f51a99bd98a6",
   "metadata": {},
   "source": [
    "We first make the training dataset. To increase model robustness we use several forms of data augmentation here: `rc=True` (reverse complementing the input sequence), `max_seq_shift=2` (shifting the coordinates of the input sequence by upto 2 bp in either direction; also known as jitter), and `max_pair_shift=20` (shifting both the input sequence and the region for which to calculate coverage by upto 20 bp in either direction).\n",
    "\n",
    "Further, we use `label_aggfunc=\"sum\"` which means that the label will be the summed coverage over the central region of the interval."
   ]
  },
  {
   "cell_type": "code",
   "execution_count": 16,
   "id": "de620fd0-deb1-4d33-8543-9993cb1cd304",
   "metadata": {},
   "outputs": [],
   "source": [
    "import grelu.data.dataset"
   ]
  },
  {
   "cell_type": "code",
   "execution_count": 17,
   "id": "44ed7a4d-aebd-4160-bd38-bb7dfe73aab5",
   "metadata": {},
   "outputs": [],
   "source": [
    "train_ds = grelu.data.dataset.BigWigSeqDataset(\n",
    "    intervals = train,\n",
    "    bw_files=[bw_file],\n",
    "    label_len=label_len,\n",
    "    label_aggfunc=\"sum\",\n",
    "    rc=True, # reverse complement\n",
    "    max_seq_shift=2, # Shift the sequence\n",
    "    max_pair_shift=20, # Shift both sequence and label\n",
    "    augment_mode=\"random\",\n",
    "    seed=0,\n",
    "    genome=genome,\n",
    ")"
   ]
  },
  {
   "cell_type": "markdown",
   "id": "d0bee1f6-d2f0-430f-a5bb-588f05f43fa4",
   "metadata": {},
   "source": [
    "We do not apply any augmentations to the validation and test datasets (although it is possible to do so)."
   ]
  },
  {
   "cell_type": "code",
   "execution_count": 18,
   "id": "4f432723-08c6-4504-9911-1a11911e0272",
   "metadata": {},
   "outputs": [
    {
     "data": {
      "text/plain": [
       "(126394, 699, 791)"
      ]
     },
     "execution_count": 18,
     "metadata": {},
     "output_type": "execute_result"
    }
   ],
   "source": [
    "val_ds = grelu.data.dataset.BigWigSeqDataset(\n",
    "    intervals = val,\n",
    "    bw_files=[bw_file],\n",
    "    label_len=label_len,\n",
    "    label_aggfunc=\"sum\", \n",
    "    genome=genome,\n",
    ")\n",
    "\n",
    "test_ds = grelu.data.dataset.BigWigSeqDataset(\n",
    "    intervals = test,\n",
    "    bw_files=[bw_file],\n",
    "    label_len=label_len,\n",
    "    label_aggfunc=\"sum\",\n",
    "    genome=genome,\n",
    ")\n",
    "\n",
    "len(train_ds), len(val_ds), len(test_ds)"
   ]
  },
  {
   "cell_type": "markdown",
   "id": "f7c1abdb-00e7-4ebe-8d27-40e44ee4e69d",
   "metadata": {},
   "source": [
    "## Build model"
   ]
  },
  {
   "cell_type": "code",
   "execution_count": 22,
   "id": "eb8ae740-cfce-4832-a2c4-b6c62eaec31f",
   "metadata": {},
   "outputs": [],
   "source": [
    "model_params = {\n",
    "    'model_type':'DilatedConvModel',\n",
    "    'crop_len':(seq_len-label_len)//2,\n",
    "    'n_tasks':1,\n",
    "    'channels':512,\n",
    "    'n_conv':8,\n",
    "}\n",
    "\n",
    "train_params = {\n",
    "    'task':'regression',\n",
    "    'loss': 'poisson', # Poisson loss. Other regression loss functions are \"mse\" and \"poisson_multinomial\"\n",
    "    'logger':'csv',\n",
    "    'lr':1e-4,\n",
    "    'batch_size':512,\n",
    "    'max_epochs':10,\n",
    "    'devices':0,\n",
    "    'num_workers':16,\n",
    "    'save_dir':experiment,\n",
    "}\n",
    "\n",
    "import grelu.lightning\n",
    "model = grelu.lightning.LightningModel(model_params, train_params)"
   ]
  },
  {
   "cell_type": "markdown",
   "id": "59dfb4db-1297-4b9c-b62d-2beb9b969eb2",
   "metadata": {},
   "source": [
    "## Train model"
   ]
  },
  {
   "cell_type": "code",
   "execution_count": 23,
   "id": "ac4d52b7-b73b-4302-b747-78c52ba06712",
   "metadata": {
    "scrolled": true
   },
   "outputs": [
    {
     "name": "stderr",
     "output_type": "stream",
     "text": [
      "GPU available: True (cuda), used: True\n",
      "TPU available: False, using: 0 TPU cores\n",
      "HPU available: False, using: 0 HPUs\n",
      "LOCAL_RANK: 0 - CUDA_VISIBLE_DEVICES: [0,1,2,3,4,5,6,7]\n"
     ]
    },
    {
     "name": "stdout",
     "output_type": "stream",
     "text": [
      "Validation DataLoader 0: 100%|█████████████████████████████████████████████████| 2/2 [00:00<00:00,  4.93it/s]\n"
     ]
    },
    {
     "data": {
      "text/html": [
       "<pre style=\"white-space:pre;overflow-x:auto;line-height:normal;font-family:Menlo,'DejaVu Sans Mono',consolas,'Courier New',monospace\">┏━━━━━━━━━━━━━━━━━━━━━━━━━━━┳━━━━━━━━━━━━━━━━━━━━━━━━━━━┓\n",
       "┃<span style=\"font-weight: bold\">      Validate metric      </span>┃<span style=\"font-weight: bold\">       DataLoader 0        </span>┃\n",
       "┡━━━━━━━━━━━━━━━━━━━━━━━━━━━╇━━━━━━━━━━━━━━━━━━━━━━━━━━━┩\n",
       "│<span style=\"color: #008080; text-decoration-color: #008080\">         val_loss          </span>│<span style=\"color: #800080; text-decoration-color: #800080\">     1094.100830078125     </span>│\n",
       "│<span style=\"color: #008080; text-decoration-color: #008080\">          val_mse          </span>│<span style=\"color: #800080; text-decoration-color: #800080\">       228943.296875       </span>│\n",
       "│<span style=\"color: #008080; text-decoration-color: #008080\">        val_pearson        </span>│<span style=\"color: #800080; text-decoration-color: #800080\">    -0.3829006552696228    </span>│\n",
       "└───────────────────────────┴───────────────────────────┘\n",
       "</pre>\n"
      ],
      "text/plain": [
       "┏━━━━━━━━━━━━━━━━━━━━━━━━━━━┳━━━━━━━━━━━━━━━━━━━━━━━━━━━┓\n",
       "┃\u001b[1m \u001b[0m\u001b[1m     Validate metric     \u001b[0m\u001b[1m \u001b[0m┃\u001b[1m \u001b[0m\u001b[1m      DataLoader 0       \u001b[0m\u001b[1m \u001b[0m┃\n",
       "┡━━━━━━━━━━━━━━━━━━━━━━━━━━━╇━━━━━━━━━━━━━━━━━━━━━━━━━━━┩\n",
       "│\u001b[36m \u001b[0m\u001b[36m        val_loss         \u001b[0m\u001b[36m \u001b[0m│\u001b[35m \u001b[0m\u001b[35m    1094.100830078125    \u001b[0m\u001b[35m \u001b[0m│\n",
       "│\u001b[36m \u001b[0m\u001b[36m         val_mse         \u001b[0m\u001b[36m \u001b[0m│\u001b[35m \u001b[0m\u001b[35m      228943.296875      \u001b[0m\u001b[35m \u001b[0m│\n",
       "│\u001b[36m \u001b[0m\u001b[36m       val_pearson       \u001b[0m\u001b[36m \u001b[0m│\u001b[35m \u001b[0m\u001b[35m   -0.3829006552696228   \u001b[0m\u001b[35m \u001b[0m│\n",
       "└───────────────────────────┴───────────────────────────┘\n"
      ]
     },
     "metadata": {},
     "output_type": "display_data"
    },
    {
     "name": "stderr",
     "output_type": "stream",
     "text": [
      "LOCAL_RANK: 0 - CUDA_VISIBLE_DEVICES: [0,1,2,3,4,5,6,7]\n",
      "\n",
      "  | Name         | Type             | Params | Mode \n",
      "----------------------------------------------------------\n",
      "0 | model        | DilatedConvModel | 5.6 M  | train\n",
      "1 | loss         | PoissonNLLLoss   | 0      | train\n",
      "2 | val_metrics  | MetricCollection | 0      | train\n",
      "3 | test_metrics | MetricCollection | 0      | train\n",
      "4 | transform    | Identity         | 0      | train\n",
      "----------------------------------------------------------\n",
      "5.6 M     Trainable params\n",
      "0         Non-trainable params\n",
      "5.6 M     Total params\n",
      "22.211    Total estimated model params size (MB)\n",
      "118       Modules in train mode\n",
      "0         Modules in eval mode\n"
     ]
    },
    {
     "name": "stdout",
     "output_type": "stream",
     "text": [
      "                                                                                                             \r"
     ]
    },
    {
     "name": "stderr",
     "output_type": "stream",
     "text": [
      "/usr/local/lib/python3.11/dist-packages/torchmetrics/utilities/prints.py:43: UserWarning: The variance of predictions or target is close to zero. This can cause instability in Pearson correlationcoefficient, leading to wrong results. Consider re-scaling the input if possible or computing using alarger dtype (currently using torch.float32).\n"
     ]
    },
    {
     "name": "stdout",
     "output_type": "stream",
     "text": [
      "Epoch 0: 100%|█████████████████████████████| 247/247 [02:17<00:00,  1.79it/s, v_num=0, train_loss_step=159.0]\n",
      "Validation: |                                                                          | 0/? [00:00<?, ?it/s]\u001b[A\n",
      "Validation:   0%|                                                                      | 0/2 [00:00<?, ?it/s]\u001b[A\n",
      "Validation DataLoader 0:   0%|                                                         | 0/2 [00:00<?, ?it/s]\u001b[A\n",
      "Validation DataLoader 0:  50%|████████████████████████▌                        | 1/2 [00:00<00:00,  5.25it/s]\u001b[A\n",
      "Validation DataLoader 0: 100%|█████████████████████████████████████████████████| 2/2 [00:00<00:00,  7.47it/s]\u001b[A\n",
      "Epoch 1: 100%|█████| 247/247 [02:18<00:00,  1.78it/s, v_num=0, train_loss_step=223.0, train_loss_epoch=178.0]\u001b[A\n",
      "Validation: |                                                                          | 0/? [00:00<?, ?it/s]\u001b[A\n",
      "Validation:   0%|                                                                      | 0/2 [00:00<?, ?it/s]\u001b[A\n",
      "Validation DataLoader 0:   0%|                                                         | 0/2 [00:00<?, ?it/s]\u001b[A\n",
      "Validation DataLoader 0:  50%|████████████████████████▌                        | 1/2 [00:00<00:00,  5.27it/s]\u001b[A\n",
      "Validation DataLoader 0: 100%|█████████████████████████████████████████████████| 2/2 [00:00<00:00,  7.49it/s]\u001b[A\n",
      "Epoch 2: 100%|█████| 247/247 [02:19<00:00,  1.78it/s, v_num=0, train_loss_step=136.0, train_loss_epoch=162.0]\u001b[A\n",
      "Validation: |                                                                          | 0/? [00:00<?, ?it/s]\u001b[A\n",
      "Validation:   0%|                                                                      | 0/2 [00:00<?, ?it/s]\u001b[A\n",
      "Validation DataLoader 0:   0%|                                                         | 0/2 [00:00<?, ?it/s]\u001b[A\n",
      "Validation DataLoader 0:  50%|████████████████████████▌                        | 1/2 [00:00<00:00,  5.28it/s]\u001b[A\n",
      "Validation DataLoader 0: 100%|█████████████████████████████████████████████████| 2/2 [00:00<00:00,  7.50it/s]\u001b[A\n",
      "Epoch 3: 100%|█████| 247/247 [02:18<00:00,  1.78it/s, v_num=0, train_loss_step=140.0, train_loss_epoch=154.0]\u001b[A\n",
      "Validation: |                                                                          | 0/? [00:00<?, ?it/s]\u001b[A\n",
      "Validation:   0%|                                                                      | 0/2 [00:00<?, ?it/s]\u001b[A\n",
      "Validation DataLoader 0:   0%|                                                         | 0/2 [00:00<?, ?it/s]\u001b[A\n",
      "Validation DataLoader 0:  50%|████████████████████████▌                        | 1/2 [00:00<00:00,  5.25it/s]\u001b[A\n",
      "Validation DataLoader 0: 100%|█████████████████████████████████████████████████| 2/2 [00:00<00:00,  7.47it/s]\u001b[A\n",
      "Epoch 4: 100%|█████| 247/247 [02:18<00:00,  1.78it/s, v_num=0, train_loss_step=127.0, train_loss_epoch=141.0]\u001b[A\n",
      "Validation: |                                                                          | 0/? [00:00<?, ?it/s]\u001b[A\n",
      "Validation:   0%|                                                                      | 0/2 [00:00<?, ?it/s]\u001b[A\n",
      "Validation DataLoader 0:   0%|                                                         | 0/2 [00:00<?, ?it/s]\u001b[A\n",
      "Validation DataLoader 0:  50%|████████████████████████▌                        | 1/2 [00:00<00:00,  5.27it/s]\u001b[A\n",
      "Validation DataLoader 0: 100%|█████████████████████████████████████████████████| 2/2 [00:00<00:00,  7.49it/s]\u001b[A\n",
      "Epoch 5: 100%|█████| 247/247 [02:18<00:00,  1.78it/s, v_num=0, train_loss_step=136.0, train_loss_epoch=132.0]\u001b[A\n",
      "Validation: |                                                                          | 0/? [00:00<?, ?it/s]\u001b[A\n",
      "Validation:   0%|                                                                      | 0/2 [00:00<?, ?it/s]\u001b[A\n",
      "Validation DataLoader 0:   0%|                                                         | 0/2 [00:00<?, ?it/s]\u001b[A\n",
      "Validation DataLoader 0:  50%|████████████████████████▌                        | 1/2 [00:00<00:00,  5.29it/s]\u001b[A\n",
      "Validation DataLoader 0: 100%|█████████████████████████████████████████████████| 2/2 [00:00<00:00,  7.49it/s]\u001b[A\n",
      "Epoch 6: 100%|█████| 247/247 [02:18<00:00,  1.78it/s, v_num=0, train_loss_step=135.0, train_loss_epoch=131.0]\u001b[A\n",
      "Validation: |                                                                          | 0/? [00:00<?, ?it/s]\u001b[A\n",
      "Validation:   0%|                                                                      | 0/2 [00:00<?, ?it/s]\u001b[A\n",
      "Validation DataLoader 0:   0%|                                                         | 0/2 [00:00<?, ?it/s]\u001b[A\n",
      "Validation DataLoader 0:  50%|████████████████████████▌                        | 1/2 [00:00<00:00,  5.27it/s]\u001b[A\n",
      "Validation DataLoader 0: 100%|█████████████████████████████████████████████████| 2/2 [00:00<00:00,  7.50it/s]\u001b[A\n",
      "Epoch 7: 100%|█████| 247/247 [02:18<00:00,  1.79it/s, v_num=0, train_loss_step=120.0, train_loss_epoch=129.0]\u001b[A\n",
      "Validation: |                                                                          | 0/? [00:00<?, ?it/s]\u001b[A\n",
      "Validation:   0%|                                                                      | 0/2 [00:00<?, ?it/s]\u001b[A\n",
      "Validation DataLoader 0:   0%|                                                         | 0/2 [00:00<?, ?it/s]\u001b[A\n",
      "Validation DataLoader 0:  50%|████████████████████████▌                        | 1/2 [00:00<00:00,  5.29it/s]\u001b[A\n",
      "Validation DataLoader 0: 100%|█████████████████████████████████████████████████| 2/2 [00:00<00:00,  7.50it/s]\u001b[A\n",
      "Epoch 8: 100%|█████| 247/247 [02:18<00:00,  1.79it/s, v_num=0, train_loss_step=125.0, train_loss_epoch=126.0]\u001b[A\n",
      "Validation: |                                                                          | 0/? [00:00<?, ?it/s]\u001b[A\n",
      "Validation:   0%|                                                                      | 0/2 [00:00<?, ?it/s]\u001b[A\n",
      "Validation DataLoader 0:   0%|                                                         | 0/2 [00:00<?, ?it/s]\u001b[A\n",
      "Validation DataLoader 0:  50%|████████████████████████▌                        | 1/2 [00:00<00:00,  5.28it/s]\u001b[A\n",
      "Validation DataLoader 0: 100%|█████████████████████████████████████████████████| 2/2 [00:00<00:00,  7.51it/s]\u001b[A\n",
      "Epoch 9: 100%|█████| 247/247 [02:18<00:00,  1.79it/s, v_num=0, train_loss_step=120.0, train_loss_epoch=124.0]\u001b[A\n",
      "Validation: |                                                                          | 0/? [00:00<?, ?it/s]\u001b[A\n",
      "Validation:   0%|                                                                      | 0/2 [00:00<?, ?it/s]\u001b[A\n",
      "Validation DataLoader 0:   0%|                                                         | 0/2 [00:00<?, ?it/s]\u001b[A\n",
      "Validation DataLoader 0:  50%|████████████████████████▌                        | 1/2 [00:00<00:00,  5.28it/s]\u001b[A\n",
      "Validation DataLoader 0: 100%|█████████████████████████████████████████████████| 2/2 [00:00<00:00,  7.49it/s]\u001b[A\n",
      "Epoch 9: 100%|█████| 247/247 [02:19<00:00,  1.77it/s, v_num=0, train_loss_step=120.0, train_loss_epoch=124.0]\u001b[A"
     ]
    },
    {
     "name": "stderr",
     "output_type": "stream",
     "text": [
      "`Trainer.fit` stopped: `max_epochs=10` reached.\n"
     ]
    },
    {
     "name": "stdout",
     "output_type": "stream",
     "text": [
      "Epoch 9: 100%|█████| 247/247 [02:19<00:00,  1.76it/s, v_num=0, train_loss_step=120.0, train_loss_epoch=124.0]\n"
     ]
    }
   ],
   "source": [
    "# See the tutorial_3 folder for logs.\n",
    "trainer = model.train_on_dataset(train_ds, val_ds)"
   ]
  },
  {
   "cell_type": "markdown",
   "id": "c9572c3f-004e-45bd-ab44-03ac1a40149e",
   "metadata": {},
   "source": [
    "## Load the best model version"
   ]
  },
  {
   "cell_type": "code",
   "execution_count": 24,
   "id": "ff970be1-4048-401d-86df-208e26f5c235",
   "metadata": {},
   "outputs": [
    {
     "name": "stdout",
     "output_type": "stream",
     "text": [
      "tutorial_3/2025_10_03_18_14/version_0/checkpoints/epoch=8-step=2223.ckpt\n"
     ]
    }
   ],
   "source": [
    "best_checkpoint = trainer.checkpoint_callback.best_model_path\n",
    "print(best_checkpoint)"
   ]
  },
  {
   "cell_type": "code",
   "execution_count": 25,
   "id": "3810704c-eec4-4e11-a163-7a0d69154d31",
   "metadata": {},
   "outputs": [],
   "source": [
    "model = grelu.lightning.LightningModel.load_from_checkpoint(best_checkpoint)"
   ]
  },
  {
   "cell_type": "markdown",
   "id": "043e1071-5f5d-4cf1-8d76-72822a3130f1",
   "metadata": {},
   "source": [
    "## Evaluate model"
   ]
  },
  {
   "cell_type": "markdown",
   "id": "09317c76-0bc8-4099-ab65-d8428c8bc8fc",
   "metadata": {},
   "source": [
    "We now evaluate the model's performance on the test dataset."
   ]
  },
  {
   "cell_type": "code",
   "execution_count": 26,
   "id": "2623f43e-5cd3-4751-a5f0-3416687be01e",
   "metadata": {},
   "outputs": [
    {
     "name": "stderr",
     "output_type": "stream",
     "text": [
      "GPU available: True (cuda), used: True\n",
      "TPU available: False, using: 0 TPU cores\n",
      "HPU available: False, using: 0 HPUs\n",
      "LOCAL_RANK: 0 - CUDA_VISIBLE_DEVICES: [0,1,2,3,4,5,6,7]\n"
     ]
    },
    {
     "name": "stdout",
     "output_type": "stream",
     "text": [
      "Testing DataLoader 0: 100%|████████████████████████████████████████████████████| 4/4 [00:00<00:00, 11.47it/s]\n"
     ]
    },
    {
     "data": {
      "text/html": [
       "<pre style=\"white-space:pre;overflow-x:auto;line-height:normal;font-family:Menlo,'DejaVu Sans Mono',consolas,'Courier New',monospace\">┏━━━━━━━━━━━━━━━━━━━━━━━━━━━┳━━━━━━━━━━━━━━━━━━━━━━━━━━━┓\n",
       "┃<span style=\"font-weight: bold\">        Test metric        </span>┃<span style=\"font-weight: bold\">       DataLoader 0        </span>┃\n",
       "┡━━━━━━━━━━━━━━━━━━━━━━━━━━━╇━━━━━━━━━━━━━━━━━━━━━━━━━━━┩\n",
       "│<span style=\"color: #008080; text-decoration-color: #008080\">         test_loss         </span>│<span style=\"color: #800080; text-decoration-color: #800080\">    120.50166320800781     </span>│\n",
       "│<span style=\"color: #008080; text-decoration-color: #008080\">         test_mse          </span>│<span style=\"color: #800080; text-decoration-color: #800080\">       111406.171875       </span>│\n",
       "│<span style=\"color: #008080; text-decoration-color: #008080\">       test_pearson        </span>│<span style=\"color: #800080; text-decoration-color: #800080\">    0.6874542236328125     </span>│\n",
       "└───────────────────────────┴───────────────────────────┘\n",
       "</pre>\n"
      ],
      "text/plain": [
       "┏━━━━━━━━━━━━━━━━━━━━━━━━━━━┳━━━━━━━━━━━━━━━━━━━━━━━━━━━┓\n",
       "┃\u001b[1m \u001b[0m\u001b[1m       Test metric       \u001b[0m\u001b[1m \u001b[0m┃\u001b[1m \u001b[0m\u001b[1m      DataLoader 0       \u001b[0m\u001b[1m \u001b[0m┃\n",
       "┡━━━━━━━━━━━━━━━━━━━━━━━━━━━╇━━━━━━━━━━━━━━━━━━━━━━━━━━━┩\n",
       "│\u001b[36m \u001b[0m\u001b[36m        test_loss        \u001b[0m\u001b[36m \u001b[0m│\u001b[35m \u001b[0m\u001b[35m   120.50166320800781    \u001b[0m\u001b[35m \u001b[0m│\n",
       "│\u001b[36m \u001b[0m\u001b[36m        test_mse         \u001b[0m\u001b[36m \u001b[0m│\u001b[35m \u001b[0m\u001b[35m      111406.171875      \u001b[0m\u001b[35m \u001b[0m│\n",
       "│\u001b[36m \u001b[0m\u001b[36m      test_pearson       \u001b[0m\u001b[36m \u001b[0m│\u001b[35m \u001b[0m\u001b[35m   0.6874542236328125    \u001b[0m\u001b[35m \u001b[0m│\n",
       "└───────────────────────────┴───────────────────────────┘\n"
      ]
     },
     "metadata": {},
     "output_type": "display_data"
    },
    {
     "data": {
      "text/html": [
       "<div>\n",
       "<style scoped>\n",
       "    .dataframe tbody tr th:only-of-type {\n",
       "        vertical-align: middle;\n",
       "    }\n",
       "\n",
       "    .dataframe tbody tr th {\n",
       "        vertical-align: top;\n",
       "    }\n",
       "\n",
       "    .dataframe thead th {\n",
       "        text-align: right;\n",
       "    }\n",
       "</style>\n",
       "<table border=\"1\" class=\"dataframe\">\n",
       "  <thead>\n",
       "    <tr style=\"text-align: right;\">\n",
       "      <th></th>\n",
       "      <th>test_mse</th>\n",
       "      <th>test_pearson</th>\n",
       "    </tr>\n",
       "  </thead>\n",
       "  <tbody>\n",
       "    <tr>\n",
       "      <th>Microglia_full</th>\n",
       "      <td>111406.171875</td>\n",
       "      <td>0.687454</td>\n",
       "    </tr>\n",
       "  </tbody>\n",
       "</table>\n",
       "</div>"
      ],
      "text/plain": [
       "                     test_mse  test_pearson\n",
       "Microglia_full  111406.171875      0.687454"
      ]
     },
     "execution_count": 26,
     "metadata": {},
     "output_type": "execute_result"
    }
   ],
   "source": [
    "test_metrics = model.test_on_dataset(\n",
    "    test_ds,\n",
    "    batch_size=256,\n",
    "    devices=0,\n",
    "    num_workers=8\n",
    ")\n",
    "\n",
    "test_metrics"
   ]
  },
  {
   "cell_type": "markdown",
   "id": "6290200b-98ad-4ba2-a082-761c5aeaa648",
   "metadata": {},
   "source": [
    "## Run inference on held out sequences"
   ]
  },
  {
   "cell_type": "markdown",
   "id": "1397399f-94f2-4e6d-81c0-8171d65b252e",
   "metadata": {},
   "source": [
    "We can now get the predicted total coverage for each sequence in the test set."
   ]
  },
  {
   "cell_type": "code",
   "execution_count": 27,
   "id": "e963879f-80c7-4d34-a24b-ec8742ba6a05",
   "metadata": {},
   "outputs": [
    {
     "name": "stderr",
     "output_type": "stream",
     "text": [
      "GPU available: True (cuda), used: True\n",
      "TPU available: False, using: 0 TPU cores\n",
      "HPU available: False, using: 0 HPUs\n",
      "LOCAL_RANK: 0 - CUDA_VISIBLE_DEVICES: [0,1,2,3,4,5,6,7]\n"
     ]
    },
    {
     "name": "stdout",
     "output_type": "stream",
     "text": [
      "Predicting DataLoader 0: 100%|█████████████████████████████████████████████████| 4/4 [00:00<00:00, 12.16it/s]\n"
     ]
    },
    {
     "data": {
      "text/plain": [
       "(791, 1, 1)"
      ]
     },
     "execution_count": 27,
     "metadata": {},
     "output_type": "execute_result"
    }
   ],
   "source": [
    "preds = model.predict_on_dataset(\n",
    "    test_ds, devices=0, num_workers=8\n",
    "    )\n",
    "preds.shape"
   ]
  },
  {
   "cell_type": "markdown",
   "id": "eabbf4de-aded-44e0-b4cd-8e87e10b397b",
   "metadata": {},
   "source": [
    "We can visualize a scatter plot of predicted vs. true coverage values"
   ]
  },
  {
   "cell_type": "code",
   "execution_count": 28,
   "id": "a89ff769-870a-48b7-9e87-3f7609275e26",
   "metadata": {},
   "outputs": [
    {
     "name": "stderr",
     "output_type": "stream",
     "text": [
      "/tmp/ipykernel_3244/723997811.py:3: RuntimeWarning: divide by zero encountered in log\n",
      "/usr/local/lib/python3.11/dist-packages/plotnine/layer.py:284: PlotnineWarning: stat_pointdensity : Removed 2 rows containing non-finite values.\n"
     ]
    },
    {
     "data": {
      "image/png": "[encoded data removed]"
     },
     "metadata": {
      "image/png": {
       "height": 250,
       "width": 300
      }
     },
     "output_type": "display_data"
    }
   ],
   "source": [
    "grelu.visualize.plot_pred_scatter(\n",
    "    preds=np.log(preds),\n",
    "    labels=np.log(test_ds.get_labels()),\n",
    "    density=True, # Color points by local density\n",
    "    figsize=(3, 2.5), # width, height\n",
    "    size=.5\n",
    ")"
   ]
  },
  {
   "cell_type": "code",
   "execution_count": null,
   "id": "2e09639b-951e-4083-a643-38bdd72b179a",
   "metadata": {},
   "outputs": [],
   "source": []
  }
 ],
 "metadata": {
  "kernelspec": {
   "display_name": "Python 3 (ipykernel)",
   "language": "python",
   "name": "python3"
  },
  "language_info": {
   "codemirror_mode": {
    "name": "ipython",
    "version": 3
   },
   "file_extension": ".py",
   "mimetype": "text/x-python",
   "name": "python",
   "nbconvert_exporter": "python",
   "pygments_lexer": "ipython3",
   "version": "3.11.9"
  }
 },
 "nbformat": 4,
 "nbformat_minor": 5
}
