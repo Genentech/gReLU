{
 "cells": [
  {
   "cell_type": "markdown",
   "id": "7c8027c6-9237-4175-91a9-280f04ff94ed",
   "metadata": {},
   "source": [
    "# Fine-tune Enformer to perform binary classification on human snATAC-seq data"
   ]
  },
  {
   "cell_type": "markdown",
   "id": "d9a30dbd-7857-40f4-9397-986924b92c97",
   "metadata": {},
   "source": [
    "In this tutorial, we learn how to fine-tune the Enformer model (https://www.nature.com/articles/s41592-021-01252-x) on the CATLAS single-nucleus ATAC-seq dataset from human tissues (http://catlas.org/humanenhancer/). \n",
    "\n",
    "We will perform binary classification, in which the model learns to predict the probability that a given sequence is accessible in the different cell types of the dataset. For an example of regression modeling, see the next tutorial."
   ]
  },
  {
   "cell_type": "code",
   "execution_count": 1,
   "id": "afeac1a1-acaa-4bcb-9cd0-0d1fbec126b3",
   "metadata": {
    "tags": []
   },
   "outputs": [],
   "source": [
    "import anndata\n",
    "import os\n",
    "import importlib\n",
    "import pandas as pd\n",
    "import numpy as np\n",
    "\n",
    "%matplotlib inline"
   ]
  },
  {
   "cell_type": "markdown",
   "id": "f657f2a3-af79-4aa6-aa9c-32754b345563",
   "metadata": {},
   "source": [
    "## Set experiment parameters"
   ]
  },
  {
   "cell_type": "code",
   "execution_count": 2,
   "id": "c00eda6b-13c7-4ff6-b879-c6d66e048172",
   "metadata": {
    "tags": []
   },
   "outputs": [],
   "source": [
    "experiment='tutorial_2'\n",
    "if not os.path.exists(experiment):\n",
    "    os.makedirs(experiment)"
   ]
  },
  {
   "cell_type": "markdown",
   "id": "44ca3c03-b538-4a38-8b4e-c8e42d8da539",
   "metadata": {},
   "source": [
    "## Download data"
   ]
  },
  {
   "cell_type": "markdown",
   "id": "2ed3d293-be8c-4aeb-8f78-e56f52efcf6f",
   "metadata": {},
   "source": [
    "We download the CATlas ATAC-seq binary cell type x peak matrix from the gReLU model zoo. For more details on downloading models and datasets from the zoo, see Tutorial 6. The original source of this data is https://decoder-genetics.wustl.edu/catlasv1/humanenhancer/data/cCRE_by_cell_type/. For more details, see https://decoder-genetics.wustl.edu/catlasv1/catlas_humanenhancer/#!/."
   ]
  },
  {
   "cell_type": "code",
   "execution_count": 3,
   "id": "7edc1b8f-c807-4c76-9961-37ce68c6dc91",
   "metadata": {},
   "outputs": [
    {
     "name": "stderr",
     "output_type": "stream",
     "text": [
      "/opt/conda/lib/python3.11/site-packages/tqdm/auto.py:21: TqdmWarning: IProgress not found. Please update jupyter and ipywidgets. See https://ipywidgets.readthedocs.io/en/stable/user_install.html\n",
      "  from .autonotebook import tqdm as notebook_tqdm\n",
      "\u001b[34m\u001b[1mwandb\u001b[0m: Currently logged in as: \u001b[33mavantikalal\u001b[0m (\u001b[33mgrelu\u001b[0m) to \u001b[32mhttps://api.wandb.ai\u001b[0m. Use \u001b[1m`wandb login --relogin`\u001b[0m to force relogin\n",
      "\u001b[34m\u001b[1mwandb\u001b[0m: Downloading large artifact dataset:latest, 206.94MB. 1 files... \n",
      "\u001b[34m\u001b[1mwandb\u001b[0m:   1 of 1 files downloaded.  \n",
      "Done. 0:0:0.7 (308.3MB/s)\n"
     ]
    },
    {
     "data": {
      "text/plain": [
       "['data.h5ad']"
      ]
     },
     "execution_count": 3,
     "metadata": {},
     "output_type": "execute_result"
    }
   ],
   "source": [
    "import grelu.resources\n",
    "artifact = grelu.resources.get_artifact(\n",
    "    name=\"dataset\",\n",
    "    project = 'tutorial-2',\n",
    ")\n",
    "artifact_dir = artifact.download()\n",
    "os.listdir(artifact_dir)"
   ]
  },
  {
   "cell_type": "markdown",
   "id": "1a361958-d147-4561-ac3c-015251425775",
   "metadata": {},
   "source": [
    "## Load data"
   ]
  },
  {
   "cell_type": "markdown",
   "id": "95853034-94c2-4178-872f-a5a369b93028",
   "metadata": {},
   "source": [
    "As you see above, we downloaded an h5ad file `data.h5ad` containing the binaized chromatin accessibility data for multiple human cell types. We now load this as an anndata object."
   ]
  },
  {
   "cell_type": "code",
   "execution_count": 4,
   "id": "44df90bc-5704-43aa-98e2-fbf20e2d4170",
   "metadata": {},
   "outputs": [
    {
     "data": {
      "text/plain": [
       "AnnData object with n_obs × n_vars = 222 × 1154611\n",
       "    obs: 'cell type'\n",
       "    var: 'chrom', 'start', 'end', 'Class', 'Present in fetal tissues', 'Present in adult tissues', 'CRE module', 'width'"
      ]
     },
     "execution_count": 4,
     "metadata": {},
     "output_type": "execute_result"
    }
   ],
   "source": [
    "ad = anndata.read_h5ad(os.path.join(artifact_dir, 'data.h5ad'))\n",
    "ad"
   ]
  },
  {
   "cell_type": "markdown",
   "id": "978bb4ae-78e2-44e0-93fc-858e466e5cf7",
   "metadata": {},
   "source": [
    "This contains a binary matrix representing the accessibility of 1154611 CREs measured in 222 cell types. Let us look at the components of this object:"
   ]
  },
  {
   "cell_type": "code",
   "execution_count": 5,
   "id": "7f6d0fff-0422-4df5-951c-29626a6d68b2",
   "metadata": {},
   "outputs": [
    {
     "data": {
      "text/html": [
       "<div>\n",
       "<style scoped>\n",
       "    .dataframe tbody tr th:only-of-type {\n",
       "        vertical-align: middle;\n",
       "    }\n",
       "\n",
       "    .dataframe tbody tr th {\n",
       "        vertical-align: top;\n",
       "    }\n",
       "\n",
       "    .dataframe thead th {\n",
       "        text-align: right;\n",
       "    }\n",
       "</style>\n",
       "<table border=\"1\" class=\"dataframe\">\n",
       "  <thead>\n",
       "    <tr style=\"text-align: right;\">\n",
       "      <th></th>\n",
       "      <th>chrom</th>\n",
       "      <th>start</th>\n",
       "      <th>end</th>\n",
       "      <th>Class</th>\n",
       "      <th>Present in fetal tissues</th>\n",
       "      <th>Present in adult tissues</th>\n",
       "      <th>CRE module</th>\n",
       "      <th>width</th>\n",
       "    </tr>\n",
       "  </thead>\n",
       "  <tbody>\n",
       "    <tr>\n",
       "      <th>0</th>\n",
       "      <td>chr1</td>\n",
       "      <td>9955</td>\n",
       "      <td>10355</td>\n",
       "      <td>Promoter Proximal</td>\n",
       "      <td>yes</td>\n",
       "      <td>yes</td>\n",
       "      <td>146</td>\n",
       "      <td>400</td>\n",
       "    </tr>\n",
       "    <tr>\n",
       "      <th>1</th>\n",
       "      <td>chr1</td>\n",
       "      <td>29163</td>\n",
       "      <td>29563</td>\n",
       "      <td>Promoter</td>\n",
       "      <td>yes</td>\n",
       "      <td>yes</td>\n",
       "      <td>37</td>\n",
       "      <td>400</td>\n",
       "    </tr>\n",
       "    <tr>\n",
       "      <th>2</th>\n",
       "      <td>chr1</td>\n",
       "      <td>79215</td>\n",
       "      <td>79615</td>\n",
       "      <td>Distal</td>\n",
       "      <td>no</td>\n",
       "      <td>yes</td>\n",
       "      <td>75</td>\n",
       "      <td>400</td>\n",
       "    </tr>\n",
       "    <tr>\n",
       "      <th>3</th>\n",
       "      <td>chr1</td>\n",
       "      <td>102755</td>\n",
       "      <td>103155</td>\n",
       "      <td>Distal</td>\n",
       "      <td>no</td>\n",
       "      <td>yes</td>\n",
       "      <td>51</td>\n",
       "      <td>400</td>\n",
       "    </tr>\n",
       "    <tr>\n",
       "      <th>4</th>\n",
       "      <td>chr1</td>\n",
       "      <td>115530</td>\n",
       "      <td>115930</td>\n",
       "      <td>Distal</td>\n",
       "      <td>yes</td>\n",
       "      <td>no</td>\n",
       "      <td>36</td>\n",
       "      <td>400</td>\n",
       "    </tr>\n",
       "  </tbody>\n",
       "</table>\n",
       "</div>"
      ],
      "text/plain": [
       "  chrom   start     end              Class Present in fetal tissues  \\\n",
       "0  chr1    9955   10355  Promoter Proximal                      yes   \n",
       "1  chr1   29163   29563           Promoter                      yes   \n",
       "2  chr1   79215   79615             Distal                       no   \n",
       "3  chr1  102755  103155             Distal                       no   \n",
       "4  chr1  115530  115930             Distal                      yes   \n",
       "\n",
       "  Present in adult tissues  CRE module  width  \n",
       "0                      yes         146    400  \n",
       "1                      yes          37    400  \n",
       "2                      yes          75    400  \n",
       "3                      yes          51    400  \n",
       "4                       no          36    400  "
      ]
     },
     "execution_count": 5,
     "metadata": {},
     "output_type": "execute_result"
    }
   ],
   "source": [
    "ad.var.head()"
   ]
  },
  {
   "cell_type": "code",
   "execution_count": 6,
   "id": "ed3ad337-477d-4f5b-9c6d-4acb554f6cd3",
   "metadata": {},
   "outputs": [
    {
     "data": {
      "text/html": [
       "<div>\n",
       "<style scoped>\n",
       "    .dataframe tbody tr th:only-of-type {\n",
       "        vertical-align: middle;\n",
       "    }\n",
       "\n",
       "    .dataframe tbody tr th {\n",
       "        vertical-align: top;\n",
       "    }\n",
       "\n",
       "    .dataframe thead th {\n",
       "        text-align: right;\n",
       "    }\n",
       "</style>\n",
       "<table border=\"1\" class=\"dataframe\">\n",
       "  <thead>\n",
       "    <tr style=\"text-align: right;\">\n",
       "      <th></th>\n",
       "      <th>cell type</th>\n",
       "    </tr>\n",
       "    <tr>\n",
       "      <th>cell type</th>\n",
       "      <th></th>\n",
       "    </tr>\n",
       "  </thead>\n",
       "  <tbody>\n",
       "    <tr>\n",
       "      <th>Follicular</th>\n",
       "      <td>Follicular</td>\n",
       "    </tr>\n",
       "    <tr>\n",
       "      <th>Fibro General</th>\n",
       "      <td>Fibro General</td>\n",
       "    </tr>\n",
       "    <tr>\n",
       "      <th>Acinar</th>\n",
       "      <td>Acinar</td>\n",
       "    </tr>\n",
       "    <tr>\n",
       "      <th>T Lymphocyte 1 (CD8+)</th>\n",
       "      <td>T Lymphocyte 1 (CD8+)</td>\n",
       "    </tr>\n",
       "    <tr>\n",
       "      <th>T lymphocyte 2 (CD4+)</th>\n",
       "      <td>T lymphocyte 2 (CD4+)</td>\n",
       "    </tr>\n",
       "  </tbody>\n",
       "</table>\n",
       "</div>"
      ],
      "text/plain": [
       "                                   cell type\n",
       "cell type                                   \n",
       "Follicular                        Follicular\n",
       "Fibro General                  Fibro General\n",
       "Acinar                                Acinar\n",
       "T Lymphocyte 1 (CD8+)  T Lymphocyte 1 (CD8+)\n",
       "T lymphocyte 2 (CD4+)  T lymphocyte 2 (CD4+)"
      ]
     },
     "execution_count": 6,
     "metadata": {},
     "output_type": "execute_result"
    }
   ],
   "source": [
    "ad.obs.head()"
   ]
  },
  {
   "cell_type": "markdown",
   "id": "da4bafb4-1284-4bbc-8786-6badb57495f4",
   "metadata": {},
   "source": [
    "The contents of this anndata object are binary values (0 or 1). 1 indicates accessibility of the peak in the cell type."
   ]
  },
  {
   "cell_type": "code",
   "execution_count": 7,
   "id": "09433609-4f30-4316-a2e2-453ce72efdb8",
   "metadata": {},
   "outputs": [
    {
     "data": {
      "text/plain": [
       "matrix([[1., 0., 0., 0., 0.],\n",
       "        [1., 0., 0., 0., 0.],\n",
       "        [1., 0., 0., 0., 0.],\n",
       "        [1., 0., 0., 0., 0.],\n",
       "        [1., 0., 0., 0., 0.]], dtype=float32)"
      ]
     },
     "execution_count": 7,
     "metadata": {},
     "output_type": "execute_result"
    }
   ],
   "source": [
    "ad.X[:5, :5].todense()"
   ]
  },
  {
   "cell_type": "markdown",
   "id": "b6d8ae4e-6c31-4044-a546-8814bedbde6c",
   "metadata": {},
   "source": [
    "## Filter peaks"
   ]
  },
  {
   "cell_type": "markdown",
   "id": "06af7256-35ad-4299-bd48-d48daddc0ade",
   "metadata": {},
   "source": [
    "We will perform filtering of this dataset using the `grelu.data.preprocess` module."
   ]
  },
  {
   "cell_type": "markdown",
   "id": "aaa8c2bb-20ad-4a99-aedf-8e4bb0daaa80",
   "metadata": {},
   "source": [
    "First, we filter peaks within autosomes (chromosomes 1-22) or chromsomes X/Y. You can also supply `autosomes` or `autosomesX` to further restrict the chromosomes."
   ]
  },
  {
   "cell_type": "code",
   "execution_count": 8,
   "id": "d8d52a31-61ce-4bc4-ba35-f6d23410e2eb",
   "metadata": {
    "tags": []
   },
   "outputs": [
    {
     "name": "stdout",
     "output_type": "stream",
     "text": [
      "Keeping 1154464 intervals\n"
     ]
    }
   ],
   "source": [
    "import grelu.data.preprocess\n",
    "\n",
    "ad = grelu.data.preprocess.filter_chromosomes(ad, 'autosomesXY')"
   ]
  },
  {
   "cell_type": "markdown",
   "id": "1f75ad2f-0bd7-4b0e-a50e-31b1524aeb75",
   "metadata": {},
   "source": [
    "Next, we drop peaks overlapping with the ENCODE blacklist regions for the hg38 genome."
   ]
  },
  {
   "cell_type": "code",
   "execution_count": 9,
   "id": "92c7e1ba-d2f6-49f2-b5e4-f468567739f0",
   "metadata": {
    "tags": []
   },
   "outputs": [
    {
     "name": "stdout",
     "output_type": "stream",
     "text": [
      "Keeping 1154464 intervals\n"
     ]
    }
   ],
   "source": [
    "ad = grelu.data.preprocess.filter_blacklist(ad, genome='hg38')"
   ]
  },
  {
   "cell_type": "markdown",
   "id": "fa558158-7f60-4046-9aff-3dac019fd9b7",
   "metadata": {},
   "source": [
    "## Visualize data"
   ]
  },
  {
   "cell_type": "markdown",
   "id": "89330dcf-4daa-4c6c-8f0c-ba1a2609de40",
   "metadata": {},
   "source": [
    "Next, we can plot the distribution of the data in various ways."
   ]
  },
  {
   "cell_type": "code",
   "execution_count": 10,
   "id": "a19a4814-a42d-4b53-ac99-5f1d5e0b3c76",
   "metadata": {},
   "outputs": [],
   "source": [
    "import grelu.visualize\n",
    "%matplotlib inline"
   ]
  },
  {
   "cell_type": "markdown",
   "id": "e3a205e1-5448-46f7-804a-1484bb9e1ebb",
   "metadata": {},
   "source": [
    "In how many accessible cell types is each peak accessible?"
   ]
  },
  {
   "cell_type": "code",
   "execution_count": 11,
   "id": "6c29623b-2cee-4a53-911b-4741a7f81911",
   "metadata": {},
   "outputs": [
    {
     "data": {
      "image/png": "[encoded data removed]"
     },
     "metadata": {
      "image/png": {
       "height": 200,
       "width": 360
      }
     },
     "output_type": "display_data"
    }
   ],
   "source": [
    "cell_types_per_peak = np.array(np.sum(ad.X > 0, axis=0))\n",
    "\n",
    "grelu.visualize.plot_distribution(\n",
    "    cell_types_per_peak,\n",
    "    title='number of cell types per peak',\n",
    "    method='density', # Alternative: histogram\n",
    "    figsize=(3.6, 2), # width, height\n",
    ")"
   ]
  },
  {
   "cell_type": "markdown",
   "id": "2cc5055c-1f71-4de7-996b-588435e2b5d4",
   "metadata": {},
   "source": [
    "How many peaks are accessible in each cell type?"
   ]
  },
  {
   "cell_type": "code",
   "execution_count": 12,
   "id": "06fb8de1-107f-4cfe-8243-6f46e4a65c4e",
   "metadata": {},
   "outputs": [
    {
     "data": {
      "image/png": "[encoded data removed]"
     },
     "metadata": {
      "image/png": {
       "height": 200,
       "width": 360
      }
     },
     "output_type": "display_data"
    }
   ],
   "source": [
    "fraction_accessible_per_cell_type = np.array(np.mean(ad.X > 0, axis=1))\n",
    "\n",
    "grelu.visualize.plot_distribution(\n",
    "    fraction_accessible_per_cell_type,\n",
    "    title='Fraction of peaks accessible per cell type',\n",
    "    method='histogram', # alternative: density\n",
    "    binwidth=0.005,\n",
    "    figsize=(3.6, 2), # width, height\n",
    ")"
   ]
  },
  {
   "cell_type": "markdown",
   "id": "ec6aeb54-c846-4425-afd1-6d2fce4215ec",
   "metadata": {},
   "source": [
    "It seems that some cell types have very few accessible peaks. We will drop these cell types from the dataset."
   ]
  },
  {
   "cell_type": "code",
   "execution_count": 13,
   "id": "b17c85f8-a2d5-47d7-bb2e-4e4bf8337e46",
   "metadata": {},
   "outputs": [
    {
     "name": "stdout",
     "output_type": "stream",
     "text": [
      "(222, 1154464)\n",
      "(203, 1154464)\n"
     ]
    }
   ],
   "source": [
    "print(ad.shape)\n",
    "ad = ad[ad.X.mean(axis=1) > .03, :]\n",
    "print(ad.shape)"
   ]
  },
  {
   "cell_type": "markdown",
   "id": "01fb8d15-abea-4f32-bbbd-3f567ff6b841",
   "metadata": {},
   "source": [
    "We can plot the distribution once again to see the effect of this filtering:"
   ]
  },
  {
   "cell_type": "code",
   "execution_count": 14,
   "id": "8f84cbda-d1fb-47c9-a303-14d534f9764c",
   "metadata": {},
   "outputs": [
    {
     "data": {
      "image/png": "[encoded data removed]"
     },
     "metadata": {
      "image/png": {
       "height": 200,
       "width": 360
      }
     },
     "output_type": "display_data"
    }
   ],
   "source": [
    "fraction_accessible_per_cell_type = np.array(np.mean(ad.X > 0, axis=1))\n",
    "\n",
    "grelu.visualize.plot_distribution(\n",
    "    fraction_accessible_per_cell_type,\n",
    "    title='Fraction of peaks accessible per cell type',\n",
    "    method='histogram', # alternative: density\n",
    "    binwidth=0.005,\n",
    "    figsize=(3.6, 2), # width, height\n",
    ")"
   ]
  },
  {
   "cell_type": "markdown",
   "id": "a095924f-e1bc-454e-9193-18674bb2c90e",
   "metadata": {},
   "source": [
    "## Resize peaks"
   ]
  },
  {
   "cell_type": "markdown",
   "id": "0dcf39fe-fef0-454b-99a1-a4ac4a087133",
   "metadata": {},
   "source": [
    "Finally, since the ATAC-seq peaks can have different lengths, we resize all of them to a constant length in order to train the model. Here, we take 200 bp. We can use the `resize` function in `grelu.sequence.utils`, which contains functions to manipulate DNA sequences."
   ]
  },
  {
   "cell_type": "code",
   "execution_count": 15,
   "id": "42e218fa-c6ee-457a-ac84-f3c15741ae70",
   "metadata": {
    "tags": []
   },
   "outputs": [
    {
     "data": {
      "text/html": [
       "<div>\n",
       "<style scoped>\n",
       "    .dataframe tbody tr th:only-of-type {\n",
       "        vertical-align: middle;\n",
       "    }\n",
       "\n",
       "    .dataframe tbody tr th {\n",
       "        vertical-align: top;\n",
       "    }\n",
       "\n",
       "    .dataframe thead th {\n",
       "        text-align: right;\n",
       "    }\n",
       "</style>\n",
       "<table border=\"1\" class=\"dataframe\">\n",
       "  <thead>\n",
       "    <tr style=\"text-align: right;\">\n",
       "      <th></th>\n",
       "      <th>chrom</th>\n",
       "      <th>start</th>\n",
       "      <th>end</th>\n",
       "      <th>Class</th>\n",
       "      <th>Present in fetal tissues</th>\n",
       "      <th>Present in adult tissues</th>\n",
       "      <th>CRE module</th>\n",
       "      <th>width</th>\n",
       "    </tr>\n",
       "  </thead>\n",
       "  <tbody>\n",
       "    <tr>\n",
       "      <th>0</th>\n",
       "      <td>chr1</td>\n",
       "      <td>10055</td>\n",
       "      <td>10255</td>\n",
       "      <td>Promoter Proximal</td>\n",
       "      <td>yes</td>\n",
       "      <td>yes</td>\n",
       "      <td>146</td>\n",
       "      <td>400</td>\n",
       "    </tr>\n",
       "    <tr>\n",
       "      <th>1</th>\n",
       "      <td>chr1</td>\n",
       "      <td>29263</td>\n",
       "      <td>29463</td>\n",
       "      <td>Promoter</td>\n",
       "      <td>yes</td>\n",
       "      <td>yes</td>\n",
       "      <td>37</td>\n",
       "      <td>400</td>\n",
       "    </tr>\n",
       "    <tr>\n",
       "      <th>2</th>\n",
       "      <td>chr1</td>\n",
       "      <td>79315</td>\n",
       "      <td>79515</td>\n",
       "      <td>Distal</td>\n",
       "      <td>no</td>\n",
       "      <td>yes</td>\n",
       "      <td>75</td>\n",
       "      <td>400</td>\n",
       "    </tr>\n",
       "  </tbody>\n",
       "</table>\n",
       "</div>"
      ],
      "text/plain": [
       "  chrom  start    end              Class Present in fetal tissues  \\\n",
       "0  chr1  10055  10255  Promoter Proximal                      yes   \n",
       "1  chr1  29263  29463           Promoter                      yes   \n",
       "2  chr1  79315  79515             Distal                       no   \n",
       "\n",
       "  Present in adult tissues  CRE module  width  \n",
       "0                      yes         146    400  \n",
       "1                      yes          37    400  \n",
       "2                      yes          75    400  "
      ]
     },
     "execution_count": 15,
     "metadata": {},
     "output_type": "execute_result"
    }
   ],
   "source": [
    "import grelu.sequence.utils\n",
    "seq_len = 200\n",
    "\n",
    "ad.var = grelu.sequence.utils.resize(ad.var, seq_len)\n",
    "ad.var.head(3)"
   ]
  },
  {
   "cell_type": "markdown",
   "id": "3940acf0-7946-43cf-a8f7-674f7a641a5f",
   "metadata": {},
   "source": [
    "## Split data"
   ]
  },
  {
   "cell_type": "markdown",
   "id": "fe4a4d06-8de3-43c9-acc9-d73f8a568095",
   "metadata": {},
   "source": [
    "We will split the peaks by chromosome to create separate sets for training, validation and testing."
   ]
  },
  {
   "cell_type": "code",
   "execution_count": 16,
   "id": "9da14097-1613-44b8-bb73-8fd90d0e3c33",
   "metadata": {
    "tags": []
   },
   "outputs": [
    {
     "name": "stdout",
     "output_type": "stream",
     "text": [
      "Selecting training samples\n",
      "Keeping 1007912 intervals\n",
      "\n",
      "\n",
      "Selecting validation samples\n",
      "Keeping 56974 intervals\n",
      "\n",
      "\n",
      "Selecting test samples\n",
      "Keeping 56433 intervals\n",
      "Final sizes: train: (203, 1007912), val: (203, 56974), test: (203, 56433)\n"
     ]
    }
   ],
   "source": [
    "train_chroms='autosomes'\n",
    "val_chroms=['chr10']\n",
    "test_chroms=['chr11']\n",
    "\n",
    "ad_train, ad_val, ad_test = grelu.data.preprocess.split(\n",
    "    ad,\n",
    "    train_chroms=train_chroms, val_chroms=val_chroms, test_chroms=test_chroms,\n",
    ")"
   ]
  },
  {
   "cell_type": "markdown",
   "id": "529595fc-83cd-4565-9bd4-4b06341c6026",
   "metadata": {},
   "source": [
    "## Make labeled sequence datasets"
   ]
  },
  {
   "cell_type": "markdown",
   "id": "a925bc3c-7a64-48f2-862b-50c060819cc6",
   "metadata": {},
   "source": [
    "`grelu.data.dataset` contains PyTorch Dataset classes that can load and process genomic data for training a deep learning model. Here, we use the `AnnDataSeqDataset` class which loads data from an AnnData object. Other available dataset classes include `DFSeqDataset` and `BigWigSeqDataset`."
   ]
  },
  {
   "cell_type": "markdown",
   "id": "056918bc-8c28-4722-b14e-b00a50af1ad3",
   "metadata": {},
   "source": [
    "We first make the training dataset. To increase model robustness we use several forms of data augmentation here: `rc=True` (reverse complementing the input sequence), and `max_seq_shift=1` (shifting the coordinates of the input sequence by upto 1 bp in either direction; also known as jitter). We use `augmentation_mode=\"random\"` which means that at each iteration, the model sees a randomly selected augmented version for each sequence."
   ]
  },
  {
   "cell_type": "code",
   "execution_count": 17,
   "id": "fb7f2391-9643-42d9-9011-1d820c03c02d",
   "metadata": {},
   "outputs": [],
   "source": [
    "import grelu.data.dataset"
   ]
  },
  {
   "cell_type": "code",
   "execution_count": 18,
   "id": "9768643e-30e3-4d45-9fb6-877bf77e660e",
   "metadata": {},
   "outputs": [],
   "source": [
    "train_dataset = grelu.data.dataset.AnnDataSeqDataset(\n",
    "    ad_train.copy(),\n",
    "    genome='hg38',\n",
    "    rc=True, # reverse complement\n",
    "    max_seq_shift=1, # Shift the sequence\n",
    "    augment_mode=\"random\", # Randomly select which augmentations to apply\n",
    ")"
   ]
  },
  {
   "cell_type": "markdown",
   "id": "26030a1f-309d-4334-bf38-452219a3200c",
   "metadata": {},
   "source": [
    "We do not apply any augmentations to the validation and test datasets (although it is possible to do so)."
   ]
  },
  {
   "cell_type": "code",
   "execution_count": 19,
   "id": "85220261-3de4-4693-9e96-513f0687ce98",
   "metadata": {},
   "outputs": [],
   "source": [
    "val_dataset = grelu.data.dataset.AnnDataSeqDataset(ad_val.copy(), genome='hg38')\n",
    "test_dataset = grelu.data.dataset.AnnDataSeqDataset(ad_test.copy(), genome='hg38')"
   ]
  },
  {
   "cell_type": "markdown",
   "id": "b4af1e79-2a84-4356-bf16-577376960914",
   "metadata": {},
   "source": [
    "## Build the enformer model"
   ]
  },
  {
   "cell_type": "markdown",
   "id": "3e9a9eba-9727-42ed-8212-9643fd77ea5d",
   "metadata": {},
   "source": [
    "gReLU contains many model architectures. One of these is a class called `EnformerPretrainedModel`. This class creates a model identical to the published Enformer model and initialized with the trained weights, but where you can change the number of transformer layers and the output head.\n",
    "\n",
    "Models are created using the `grelu.lightning` module. In order to instantiate a model, we need to specify `model_params` (parameters for the model architecture) and `train_params` (parameters for training)."
   ]
  },
  {
   "cell_type": "code",
   "execution_count": 22,
   "id": "ffdf67f9-305e-47cc-bba1-ca140b402aed",
   "metadata": {
    "scrolled": true
   },
   "outputs": [
    {
     "name": "stderr",
     "output_type": "stream",
     "text": [
      "\u001b[34m\u001b[1mwandb\u001b[0m: Downloading large artifact human_state_dict:latest, 939.29MB. 1 files... \n",
      "\u001b[34m\u001b[1mwandb\u001b[0m:   1 of 1 files downloaded.  \n",
      "Done. 0:0:1.2 (759.0MB/s)\n"
     ]
    }
   ],
   "source": [
    "model_params = {\n",
    "    'model_type':'EnformerPretrainedModel', # Type of model\n",
    "    'n_tasks': ad.shape[0], # Number of cell types to predict\n",
    "    'crop_len':0, # No cropping of the model output\n",
    "    'n_transformers': 1, # Number of transformer layers; the published Enformer model has 11\n",
    "}\n",
    "\n",
    "train_params = {\n",
    "    'task':'binary', # binary classification\n",
    "    'lr':1e-4, # learning rate\n",
    "    'logger': 'csv', # Logs will be written to a CSV file\n",
    "    'batch_size': 1024,\n",
    "    'num_workers': 8,\n",
    "    'devices': 0, # GPU index\n",
    "    'save_dir': experiment,\n",
    "    'optimizer': 'adam',\n",
    "    'max_epochs': 10,\n",
    "    'checkpoint': True, # Save checkpoints\n",
    "}\n",
    "\n",
    "import grelu.lightning\n",
    "model = grelu.lightning.LightningModel(model_params=model_params, train_params=train_params)"
   ]
  },
  {
   "cell_type": "markdown",
   "id": "563d739e-ec56-4909-902c-49365034ecbf",
   "metadata": {},
   "source": [
    "## Train the model"
   ]
  },
  {
   "cell_type": "markdown",
   "id": "d6bfc201-a86b-4dd1-83d1-1686c834fe65",
   "metadata": {},
   "source": [
    "We train the model on the new training dataset using the `train_on_dataset` method. Note that here, we update the weights of the entire model during training. If you want to hold the enformer weights fixed and only learn a linear layer from the enformer embedding to the outputs, see the `tune_on_dataset` method."
   ]
  },
  {
   "cell_type": "code",
   "execution_count": 23,
   "id": "c9e926e3-008c-45a0-9290-8e5ddfff031a",
   "metadata": {
    "scrolled": true,
    "tags": []
   },
   "outputs": [
    {
     "name": "stderr",
     "output_type": "stream",
     "text": [
      "GPU available: True (cuda), used: True\n",
      "TPU available: False, using: 0 TPU cores\n",
      "HPU available: False, using: 0 HPUs\n",
      "LOCAL_RANK: 0 - CUDA_VISIBLE_DEVICES: [0,1,2,3,4,5,6,7]\n"
     ]
    },
    {
     "name": "stdout",
     "output_type": "stream",
     "text": [
      "Validation DataLoader 0: 100%|██████████████████████████████████████████████| 56/56 [00:07<00:00,  7.84it/s]\n"
     ]
    },
    {
     "data": {
      "text/html": [
       "<pre style=\"white-space:pre;overflow-x:auto;line-height:normal;font-family:Menlo,'DejaVu Sans Mono',consolas,'Courier New',monospace\">┏━━━━━━━━━━━━━━━━━━━━━━━━━━━┳━━━━━━━━━━━━━━━━━━━━━━━━━━━┓\n",
       "┃<span style=\"font-weight: bold\">      Validate metric      </span>┃<span style=\"font-weight: bold\">       DataLoader 0        </span>┃\n",
       "┡━━━━━━━━━━━━━━━━━━━━━━━━━━━╇━━━━━━━━━━━━━━━━━━━━━━━━━━━┩\n",
       "│<span style=\"color: #008080; text-decoration-color: #008080\">       val_accuracy        </span>│<span style=\"color: #800080; text-decoration-color: #800080\">    0.5030279159545898     </span>│\n",
       "│<span style=\"color: #008080; text-decoration-color: #008080\">         val_auroc         </span>│<span style=\"color: #800080; text-decoration-color: #800080\">    0.5081552267074585     </span>│\n",
       "│<span style=\"color: #008080; text-decoration-color: #008080\">        val_avgprec        </span>│<span style=\"color: #800080; text-decoration-color: #800080\">    0.11099189519882202    </span>│\n",
       "│<span style=\"color: #008080; text-decoration-color: #008080\">        val_best_f1        </span>│<span style=\"color: #800080; text-decoration-color: #800080\">    0.1738046109676361     </span>│\n",
       "│<span style=\"color: #008080; text-decoration-color: #008080\">         val_loss          </span>│<span style=\"color: #800080; text-decoration-color: #800080\">    0.6936386823654175     </span>│\n",
       "└───────────────────────────┴───────────────────────────┘\n",
       "</pre>\n"
      ],
      "text/plain": [
       "┏━━━━━━━━━━━━━━━━━━━━━━━━━━━┳━━━━━━━━━━━━━━━━━━━━━━━━━━━┓\n",
       "┃\u001b[1m \u001b[0m\u001b[1m     Validate metric     \u001b[0m\u001b[1m \u001b[0m┃\u001b[1m \u001b[0m\u001b[1m      DataLoader 0       \u001b[0m\u001b[1m \u001b[0m┃\n",
       "┡━━━━━━━━━━━━━━━━━━━━━━━━━━━╇━━━━━━━━━━━━━━━━━━━━━━━━━━━┩\n",
       "│\u001b[36m \u001b[0m\u001b[36m      val_accuracy       \u001b[0m\u001b[36m \u001b[0m│\u001b[35m \u001b[0m\u001b[35m   0.5030279159545898    \u001b[0m\u001b[35m \u001b[0m│\n",
       "│\u001b[36m \u001b[0m\u001b[36m        val_auroc        \u001b[0m\u001b[36m \u001b[0m│\u001b[35m \u001b[0m\u001b[35m   0.5081552267074585    \u001b[0m\u001b[35m \u001b[0m│\n",
       "│\u001b[36m \u001b[0m\u001b[36m       val_avgprec       \u001b[0m\u001b[36m \u001b[0m│\u001b[35m \u001b[0m\u001b[35m   0.11099189519882202   \u001b[0m\u001b[35m \u001b[0m│\n",
       "│\u001b[36m \u001b[0m\u001b[36m       val_best_f1       \u001b[0m\u001b[36m \u001b[0m│\u001b[35m \u001b[0m\u001b[35m   0.1738046109676361    \u001b[0m\u001b[35m \u001b[0m│\n",
       "│\u001b[36m \u001b[0m\u001b[36m        val_loss         \u001b[0m\u001b[36m \u001b[0m│\u001b[35m \u001b[0m\u001b[35m   0.6936386823654175    \u001b[0m\u001b[35m \u001b[0m│\n",
       "└───────────────────────────┴───────────────────────────┘\n"
      ]
     },
     "metadata": {},
     "output_type": "display_data"
    },
    {
     "name": "stderr",
     "output_type": "stream",
     "text": [
      "LOCAL_RANK: 0 - CUDA_VISIBLE_DEVICES: [0,1,2,3,4,5,6,7]\n",
      "\n",
      "  | Name         | Type                    | Params | Mode \n",
      "-----------------------------------------------------------------\n",
      "0 | model        | EnformerPretrainedModel | 72.1 M | train\n",
      "1 | loss         | BCEWithLogitsLoss       | 0      | train\n",
      "2 | val_metrics  | MetricCollection        | 0      | train\n",
      "3 | test_metrics | MetricCollection        | 0      | train\n",
      "4 | transform    | Identity                | 0      | train\n",
      "-----------------------------------------------------------------\n",
      "72.1 M    Trainable params\n",
      "0         Non-trainable params\n",
      "72.1 M    Total params\n",
      "288.267   Total estimated model params size (MB)\n",
      "240       Modules in train mode\n",
      "0         Modules in eval mode\n"
     ]
    },
    {
     "name": "stdout",
     "output_type": "stream",
     "text": [
      "Epoch 0: 100%|████████████████████████████| 985/985 [03:13<00:00,  5.10it/s, v_num=0, train_loss_step=0.146]\n",
      "Validation: |                                                                         | 0/? [00:00<?, ?it/s]\u001b[A\n",
      "Validation:   0%|                                                                    | 0/56 [00:00<?, ?it/s]\u001b[A\n",
      "Validation DataLoader 0:   0%|                                                       | 0/56 [00:00<?, ?it/s]\u001b[A\n",
      "Validation DataLoader 0:   2%|▊                                              | 1/56 [00:00<00:04, 13.68it/s]\u001b[A\n",
      "Validation DataLoader 0:   4%|█▋                                             | 2/56 [00:00<00:04, 13.49it/s]\u001b[A\n",
      "Validation DataLoader 0:   5%|██▌                                            | 3/56 [00:00<00:03, 13.36it/s]\u001b[A\n",
      "Validation DataLoader 0:   7%|███▎                                           | 4/56 [00:00<00:03, 13.40it/s]\u001b[A\n",
      "Validation DataLoader 0:   9%|████▏                                          | 5/56 [00:00<00:03, 13.23it/s]\u001b[A\n",
      "Validation DataLoader 0:  11%|█████                                          | 6/56 [00:00<00:03, 13.26it/s]\u001b[A\n",
      "Validation DataLoader 0:  12%|█████▉                                         | 7/56 [00:00<00:03, 13.31it/s]\u001b[A\n",
      "Validation DataLoader 0:  14%|██████▋                                        | 8/56 [00:00<00:03, 13.33it/s]\u001b[A\n",
      "Validation DataLoader 0:  16%|███████▌                                       | 9/56 [00:00<00:03, 13.37it/s]\u001b[A\n",
      "Validation DataLoader 0:  18%|████████▏                                     | 10/56 [00:00<00:03, 13.39it/s]\u001b[A\n",
      "Validation DataLoader 0:  20%|█████████                                     | 11/56 [00:00<00:03, 13.42it/s]\u001b[A\n",
      "Validation DataLoader 0:  21%|█████████▊                                    | 12/56 [00:00<00:03, 13.42it/s]\u001b[A\n",
      "Validation DataLoader 0:  23%|██████████▋                                   | 13/56 [00:00<00:03, 13.43it/s]\u001b[A\n",
      "Validation DataLoader 0:  25%|███████████▌                                  | 14/56 [00:01<00:03, 13.44it/s]\u001b[A\n",
      "Validation DataLoader 0:  27%|████████████▎                                 | 15/56 [00:01<00:03, 13.46it/s]\u001b[A\n",
      "Validation DataLoader 0:  29%|█████████████▏                                | 16/56 [00:01<00:02, 13.46it/s]\u001b[A\n",
      "Validation DataLoader 0:  30%|█████████████▉                                | 17/56 [00:01<00:02, 13.46it/s]\u001b[A\n",
      "Validation DataLoader 0:  32%|██████████████▊                               | 18/56 [00:01<00:02, 13.46it/s]\u001b[A\n",
      "Validation DataLoader 0:  34%|███████████████▌                              | 19/56 [00:01<00:02, 13.47it/s]\u001b[A\n",
      "Validation DataLoader 0:  36%|████████████████▍                             | 20/56 [00:01<00:02, 13.46it/s]\u001b[A\n",
      "Validation DataLoader 0:  38%|█████████████████▎                            | 21/56 [00:01<00:02, 13.46it/s]\u001b[A\n",
      "Validation DataLoader 0:  39%|██████████████████                            | 22/56 [00:01<00:02, 13.46it/s]\u001b[A\n",
      "Validation DataLoader 0:  41%|██████████████████▉                           | 23/56 [00:01<00:02, 13.46it/s]\u001b[A\n",
      "Validation DataLoader 0:  43%|███████████████████▋                          | 24/56 [00:01<00:02, 13.46it/s]\u001b[A\n",
      "Validation DataLoader 0:  45%|████████████████████▌                         | 25/56 [00:01<00:02, 13.46it/s]\u001b[A\n",
      "Validation DataLoader 0:  46%|█████████████████████▎                        | 26/56 [00:01<00:02, 13.44it/s]\u001b[A\n",
      "Validation DataLoader 0:  48%|██████████████████████▏                       | 27/56 [00:02<00:02, 13.44it/s]\u001b[A\n",
      "Validation DataLoader 0:  50%|███████████████████████                       | 28/56 [00:02<00:02, 13.43it/s]\u001b[A\n",
      "Validation DataLoader 0:  52%|███████████████████████▊                      | 29/56 [00:02<00:02, 13.44it/s]\u001b[A\n",
      "Validation DataLoader 0:  54%|████████████████████████▋                     | 30/56 [00:02<00:01, 13.44it/s]\u001b[A\n",
      "Validation DataLoader 0:  55%|█████████████████████████▍                    | 31/56 [00:02<00:01, 13.44it/s]\u001b[A\n",
      "Validation DataLoader 0:  57%|██████████████████████████▎                   | 32/56 [00:02<00:01, 13.43it/s]\u001b[A\n",
      "Validation DataLoader 0:  59%|███████████████████████████                   | 33/56 [00:02<00:01, 13.44it/s]\u001b[A\n",
      "Validation DataLoader 0:  61%|███████████████████████████▉                  | 34/56 [00:02<00:01, 13.44it/s]\u001b[A\n",
      "Validation DataLoader 0:  62%|████████████████████████████▊                 | 35/56 [00:02<00:01, 13.43it/s]\u001b[A\n",
      "Validation DataLoader 0:  64%|█████████████████████████████▌                | 36/56 [00:02<00:01, 13.43it/s]\u001b[A\n",
      "Validation DataLoader 0:  66%|██████████████████████████████▍               | 37/56 [00:02<00:01, 13.43it/s]\u001b[A\n",
      "Validation DataLoader 0:  68%|███████████████████████████████▏              | 38/56 [00:02<00:01, 13.43it/s]\u001b[A\n",
      "Validation DataLoader 0:  70%|████████████████████████████████              | 39/56 [00:02<00:01, 13.44it/s]\u001b[A\n",
      "Validation DataLoader 0:  71%|████████████████████████████████▊             | 40/56 [00:02<00:01, 13.44it/s]\u001b[A\n",
      "Validation DataLoader 0:  73%|█████████████████████████████████▋            | 41/56 [00:03<00:01, 13.44it/s]\u001b[A\n",
      "Validation DataLoader 0:  75%|██████████████████████████████████▌           | 42/56 [00:03<00:01, 13.44it/s]\u001b[A\n",
      "Validation DataLoader 0:  77%|███████████████████████████████████▎          | 43/56 [00:03<00:00, 13.45it/s]\u001b[A\n",
      "Validation DataLoader 0:  79%|████████████████████████████████████▏         | 44/56 [00:03<00:00, 13.45it/s]\u001b[A\n",
      "Validation DataLoader 0:  80%|████████████████████████████████████▉         | 45/56 [00:03<00:00, 13.45it/s]\u001b[A\n",
      "Validation DataLoader 0:  82%|█████████████████████████████████████▊        | 46/56 [00:03<00:00, 13.45it/s]\u001b[A\n",
      "Validation DataLoader 0:  84%|██████████████████████████████████████▌       | 47/56 [00:03<00:00, 13.46it/s]\u001b[A\n",
      "Validation DataLoader 0:  86%|███████████████████████████████████████▍      | 48/56 [00:03<00:00, 13.46it/s]\u001b[A\n",
      "Validation DataLoader 0:  88%|████████████████████████████████████████▎     | 49/56 [00:03<00:00, 13.46it/s]\u001b[A\n",
      "Validation DataLoader 0:  89%|█████████████████████████████████████████     | 50/56 [00:03<00:00, 13.46it/s]\u001b[A\n",
      "Validation DataLoader 0:  91%|█████████████████████████████████████████▉    | 51/56 [00:03<00:00, 13.46it/s]\u001b[A\n",
      "Validation DataLoader 0:  93%|██████████████████████████████████████████▋   | 52/56 [00:03<00:00, 13.45it/s]\u001b[A\n",
      "Validation DataLoader 0:  95%|███████████████████████████████████████████▌  | 53/56 [00:03<00:00, 13.46it/s]\u001b[A\n",
      "Validation DataLoader 0:  96%|████████████████████████████████████████████▎ | 54/56 [00:04<00:00, 13.45it/s]\u001b[A\n",
      "Validation DataLoader 0:  98%|█████████████████████████████████████████████▏| 55/56 [00:04<00:00, 13.45it/s]\u001b[A\n",
      "Validation DataLoader 0: 100%|██████████████████████████████████████████████| 56/56 [00:04<00:00, 13.53it/s]\u001b[A\n",
      "Epoch 1: 100%|████| 985/985 [03:13<00:00,  5.08it/s, v_num=0, train_loss_step=0.147, train_loss_epoch=0.170]\u001b[A\n",
      "Validation: |                                                                         | 0/? [00:00<?, ?it/s]\u001b[A\n",
      "Validation:   0%|                                                                    | 0/56 [00:00<?, ?it/s]\u001b[A\n",
      "Validation DataLoader 0:   0%|                                                       | 0/56 [00:00<?, ?it/s]\u001b[A\n",
      "Validation DataLoader 0:   2%|▊                                              | 1/56 [00:00<00:03, 13.94it/s]\u001b[A\n",
      "Validation DataLoader 0:   4%|█▋                                             | 2/56 [00:00<00:03, 13.82it/s]\u001b[A\n",
      "Validation DataLoader 0:   5%|██▌                                            | 3/56 [00:00<00:03, 13.72it/s]\u001b[A\n",
      "Validation DataLoader 0:   7%|███▎                                           | 4/56 [00:00<00:03, 13.64it/s]\u001b[A\n",
      "Validation DataLoader 0:   9%|████▏                                          | 5/56 [00:00<00:03, 13.65it/s]\u001b[A\n",
      "Validation DataLoader 0:  11%|█████                                          | 6/56 [00:00<00:03, 13.62it/s]\u001b[A\n",
      "Validation DataLoader 0:  12%|█████▉                                         | 7/56 [00:00<00:03, 13.57it/s]\u001b[A\n",
      "Validation DataLoader 0:  14%|██████▋                                        | 8/56 [00:00<00:03, 13.58it/s]\u001b[A\n",
      "Validation DataLoader 0:  16%|███████▌                                       | 9/56 [00:00<00:03, 13.56it/s]\u001b[A\n",
      "Validation DataLoader 0:  18%|████████▏                                     | 10/56 [00:00<00:03, 13.56it/s]\u001b[A\n",
      "Validation DataLoader 0:  20%|█████████                                     | 11/56 [00:00<00:03, 13.56it/s]\u001b[A\n",
      "Validation DataLoader 0:  21%|█████████▊                                    | 12/56 [00:00<00:03, 13.54it/s]\u001b[A\n",
      "Validation DataLoader 0:  23%|██████████▋                                   | 13/56 [00:00<00:03, 13.55it/s]\u001b[A\n",
      "Validation DataLoader 0:  25%|███████████▌                                  | 14/56 [00:01<00:03, 13.54it/s]\u001b[A\n",
      "Validation DataLoader 0:  27%|████████████▎                                 | 15/56 [00:01<00:03, 13.54it/s]\u001b[A\n",
      "Validation DataLoader 0:  29%|█████████████▏                                | 16/56 [00:01<00:02, 13.55it/s]\u001b[A\n",
      "Validation DataLoader 0:  30%|█████████████▉                                | 17/56 [00:01<00:02, 13.55it/s]\u001b[A\n",
      "Validation DataLoader 0:  32%|██████████████▊                               | 18/56 [00:01<00:02, 13.55it/s]\u001b[A\n",
      "Validation DataLoader 0:  34%|███████████████▌                              | 19/56 [00:01<00:02, 13.55it/s]\u001b[A\n",
      "Validation DataLoader 0:  36%|████████████████▍                             | 20/56 [00:01<00:02, 13.55it/s]\u001b[A\n",
      "Validation DataLoader 0:  38%|█████████████████▎                            | 21/56 [00:01<00:02, 13.55it/s]\u001b[A\n",
      "Validation DataLoader 0:  39%|██████████████████                            | 22/56 [00:01<00:02, 13.55it/s]\u001b[A\n",
      "Validation DataLoader 0:  41%|██████████████████▉                           | 23/56 [00:01<00:02, 13.54it/s]\u001b[A\n",
      "Validation DataLoader 0:  43%|███████████████████▋                          | 24/56 [00:01<00:02, 13.55it/s]\u001b[A\n",
      "Validation DataLoader 0:  45%|████████████████████▌                         | 25/56 [00:01<00:02, 13.55it/s]\u001b[A\n",
      "Validation DataLoader 0:  46%|█████████████████████▎                        | 26/56 [00:01<00:02, 13.55it/s]\u001b[A\n",
      "Validation DataLoader 0:  48%|██████████████████████▏                       | 27/56 [00:01<00:02, 13.55it/s]\u001b[A\n",
      "Validation DataLoader 0:  50%|███████████████████████                       | 28/56 [00:02<00:02, 13.55it/s]\u001b[A\n",
      "Validation DataLoader 0:  52%|███████████████████████▊                      | 29/56 [00:02<00:01, 13.54it/s]\u001b[A\n",
      "Validation DataLoader 0:  54%|████████████████████████▋                     | 30/56 [00:02<00:01, 13.54it/s]\u001b[A\n",
      "Validation DataLoader 0:  55%|█████████████████████████▍                    | 31/56 [00:02<00:01, 13.53it/s]\u001b[A\n",
      "Validation DataLoader 0:  57%|██████████████████████████▎                   | 32/56 [00:02<00:01, 13.53it/s]\u001b[A\n",
      "Validation DataLoader 0:  59%|███████████████████████████                   | 33/56 [00:02<00:01, 13.52it/s]\u001b[A\n",
      "Validation DataLoader 0:  61%|███████████████████████████▉                  | 34/56 [00:02<00:01, 13.52it/s]\u001b[A\n",
      "Validation DataLoader 0:  62%|████████████████████████████▊                 | 35/56 [00:02<00:01, 13.52it/s]\u001b[A\n",
      "Validation DataLoader 0:  64%|█████████████████████████████▌                | 36/56 [00:02<00:01, 13.52it/s]\u001b[A\n",
      "Validation DataLoader 0:  66%|██████████████████████████████▍               | 37/56 [00:02<00:01, 13.52it/s]\u001b[A\n",
      "Validation DataLoader 0:  68%|███████████████████████████████▏              | 38/56 [00:02<00:01, 13.51it/s]\u001b[A\n",
      "Validation DataLoader 0:  70%|████████████████████████████████              | 39/56 [00:02<00:01, 13.51it/s]\u001b[A\n",
      "Validation DataLoader 0:  71%|████████████████████████████████▊             | 40/56 [00:02<00:01, 13.50it/s]\u001b[A\n",
      "Validation DataLoader 0:  73%|█████████████████████████████████▋            | 41/56 [00:03<00:01, 13.51it/s]\u001b[A\n",
      "Validation DataLoader 0:  75%|██████████████████████████████████▌           | 42/56 [00:03<00:01, 13.51it/s]\u001b[A\n",
      "Validation DataLoader 0:  77%|███████████████████████████████████▎          | 43/56 [00:03<00:00, 13.51it/s]\u001b[A\n",
      "Validation DataLoader 0:  79%|████████████████████████████████████▏         | 44/56 [00:03<00:00, 13.50it/s]\u001b[A\n",
      "Validation DataLoader 0:  80%|████████████████████████████████████▉         | 45/56 [00:03<00:00, 13.50it/s]\u001b[A\n",
      "Validation DataLoader 0:  82%|█████████████████████████████████████▊        | 46/56 [00:03<00:00, 13.50it/s]\u001b[A\n",
      "Validation DataLoader 0:  84%|██████████████████████████████████████▌       | 47/56 [00:03<00:00, 13.50it/s]\u001b[A\n",
      "Validation DataLoader 0:  86%|███████████████████████████████████████▍      | 48/56 [00:03<00:00, 13.50it/s]\u001b[A\n",
      "Validation DataLoader 0:  88%|████████████████████████████████████████▎     | 49/56 [00:03<00:00, 13.50it/s]\u001b[A\n",
      "Validation DataLoader 0:  89%|█████████████████████████████████████████     | 50/56 [00:03<00:00, 13.50it/s]\u001b[A\n",
      "Validation DataLoader 0:  91%|█████████████████████████████████████████▉    | 51/56 [00:03<00:00, 13.50it/s]\u001b[A\n",
      "Validation DataLoader 0:  93%|██████████████████████████████████████████▋   | 52/56 [00:03<00:00, 13.50it/s]\u001b[A\n",
      "Validation DataLoader 0:  95%|███████████████████████████████████████████▌  | 53/56 [00:03<00:00, 13.50it/s]\u001b[A\n",
      "Validation DataLoader 0:  96%|████████████████████████████████████████████▎ | 54/56 [00:04<00:00, 13.50it/s]\u001b[A\n",
      "Validation DataLoader 0:  98%|█████████████████████████████████████████████▏| 55/56 [00:04<00:00, 13.50it/s]\u001b[A\n",
      "Validation DataLoader 0: 100%|██████████████████████████████████████████████| 56/56 [00:04<00:00, 13.58it/s]\u001b[A\n",
      "Epoch 2: 100%|████| 985/985 [03:13<00:00,  5.09it/s, v_num=0, train_loss_step=0.159, train_loss_epoch=0.151]\u001b[A\n",
      "Validation: |                                                                         | 0/? [00:00<?, ?it/s]\u001b[A\n",
      "Validation:   0%|                                                                    | 0/56 [00:00<?, ?it/s]\u001b[A\n",
      "Validation DataLoader 0:   0%|                                                       | 0/56 [00:00<?, ?it/s]\u001b[A\n",
      "Validation DataLoader 0:   2%|▊                                              | 1/56 [00:00<00:04, 13.74it/s]\u001b[A\n",
      "Validation DataLoader 0:   4%|█▋                                             | 2/56 [00:00<00:03, 13.66it/s]\u001b[A\n",
      "Validation DataLoader 0:   5%|██▌                                            | 3/56 [00:00<00:03, 13.40it/s]\u001b[A\n",
      "Validation DataLoader 0:   7%|███▎                                           | 4/56 [00:00<00:03, 13.40it/s]\u001b[A\n",
      "Validation DataLoader 0:   9%|████▏                                          | 5/56 [00:00<00:03, 13.44it/s]\u001b[A\n",
      "Validation DataLoader 0:  11%|█████                                          | 6/56 [00:00<00:03, 13.43it/s]\u001b[A\n",
      "Validation DataLoader 0:  12%|█████▉                                         | 7/56 [00:00<00:03, 13.46it/s]\u001b[A\n",
      "Validation DataLoader 0:  14%|██████▋                                        | 8/56 [00:00<00:03, 13.47it/s]\u001b[A\n",
      "Validation DataLoader 0:  16%|███████▌                                       | 9/56 [00:00<00:03, 13.46it/s]\u001b[A\n",
      "Validation DataLoader 0:  18%|████████▏                                     | 10/56 [00:00<00:03, 13.46it/s]\u001b[A\n",
      "Validation DataLoader 0:  20%|█████████                                     | 11/56 [00:00<00:03, 13.44it/s]\u001b[A\n",
      "Validation DataLoader 0:  21%|█████████▊                                    | 12/56 [00:00<00:03, 13.46it/s]\u001b[A\n",
      "Validation DataLoader 0:  23%|██████████▋                                   | 13/56 [00:00<00:03, 13.47it/s]\u001b[A\n",
      "Validation DataLoader 0:  25%|███████████▌                                  | 14/56 [00:01<00:03, 13.47it/s]\u001b[A\n",
      "Validation DataLoader 0:  27%|████████████▎                                 | 15/56 [00:01<00:03, 13.48it/s]\u001b[A\n",
      "Validation DataLoader 0:  29%|█████████████▏                                | 16/56 [00:01<00:02, 13.49it/s]\u001b[A\n",
      "Validation DataLoader 0:  30%|█████████████▉                                | 17/56 [00:01<00:02, 13.49it/s]\u001b[A\n",
      "Validation DataLoader 0:  32%|██████████████▊                               | 18/56 [00:01<00:02, 13.49it/s]\u001b[A\n",
      "Validation DataLoader 0:  34%|███████████████▌                              | 19/56 [00:01<00:02, 13.49it/s]\u001b[A\n",
      "Validation DataLoader 0:  36%|████████████████▍                             | 20/56 [00:01<00:02, 13.49it/s]\u001b[A\n",
      "Validation DataLoader 0:  38%|█████████████████▎                            | 21/56 [00:01<00:02, 13.49it/s]\u001b[A\n",
      "Validation DataLoader 0:  39%|██████████████████                            | 22/56 [00:01<00:02, 13.49it/s]\u001b[A\n",
      "Validation DataLoader 0:  41%|██████████████████▉                           | 23/56 [00:01<00:02, 13.49it/s]\u001b[A\n",
      "Validation DataLoader 0:  43%|███████████████████▋                          | 24/56 [00:01<00:02, 13.49it/s]\u001b[A\n",
      "Validation DataLoader 0:  45%|████████████████████▌                         | 25/56 [00:01<00:02, 13.49it/s]\u001b[A\n",
      "Validation DataLoader 0:  46%|█████████████████████▎                        | 26/56 [00:01<00:02, 13.50it/s]\u001b[A\n",
      "Validation DataLoader 0:  48%|██████████████████████▏                       | 27/56 [00:02<00:02, 13.50it/s]\u001b[A\n",
      "Validation DataLoader 0:  50%|███████████████████████                       | 28/56 [00:02<00:02, 13.49it/s]\u001b[A\n",
      "Validation DataLoader 0:  52%|███████████████████████▊                      | 29/56 [00:02<00:02, 13.50it/s]\u001b[A\n",
      "Validation DataLoader 0:  54%|████████████████████████▋                     | 30/56 [00:02<00:01, 13.50it/s]\u001b[A\n",
      "Validation DataLoader 0:  55%|█████████████████████████▍                    | 31/56 [00:02<00:01, 13.50it/s]\u001b[A\n",
      "Validation DataLoader 0:  57%|██████████████████████████▎                   | 32/56 [00:02<00:01, 13.50it/s]\u001b[A\n",
      "Validation DataLoader 0:  59%|███████████████████████████                   | 33/56 [00:02<00:01, 13.50it/s]\u001b[A\n",
      "Validation DataLoader 0:  61%|███████████████████████████▉                  | 34/56 [00:02<00:01, 13.50it/s]\u001b[A\n",
      "Validation DataLoader 0:  62%|████████████████████████████▊                 | 35/56 [00:02<00:01, 13.49it/s]\u001b[A\n",
      "Validation DataLoader 0:  64%|█████████████████████████████▌                | 36/56 [00:02<00:01, 13.50it/s]\u001b[A\n",
      "Validation DataLoader 0:  66%|██████████████████████████████▍               | 37/56 [00:02<00:01, 13.49it/s]\u001b[A\n",
      "Validation DataLoader 0:  68%|███████████████████████████████▏              | 38/56 [00:02<00:01, 13.49it/s]\u001b[A\n",
      "Validation DataLoader 0:  70%|████████████████████████████████              | 39/56 [00:02<00:01, 13.49it/s]\u001b[A\n",
      "Validation DataLoader 0:  71%|████████████████████████████████▊             | 40/56 [00:02<00:01, 13.49it/s]\u001b[A\n",
      "Validation DataLoader 0:  73%|█████████████████████████████████▋            | 41/56 [00:03<00:01, 13.49it/s]\u001b[A\n",
      "Validation DataLoader 0:  75%|██████████████████████████████████▌           | 42/56 [00:03<00:01, 13.50it/s]\u001b[A\n",
      "Validation DataLoader 0:  77%|███████████████████████████████████▎          | 43/56 [00:03<00:00, 13.50it/s]\u001b[A\n",
      "Validation DataLoader 0:  79%|████████████████████████████████████▏         | 44/56 [00:03<00:00, 13.50it/s]\u001b[A\n",
      "Validation DataLoader 0:  80%|████████████████████████████████████▉         | 45/56 [00:03<00:00, 13.50it/s]\u001b[A\n",
      "Validation DataLoader 0:  82%|█████████████████████████████████████▊        | 46/56 [00:03<00:00, 13.50it/s]\u001b[A\n",
      "Validation DataLoader 0:  84%|██████████████████████████████████████▌       | 47/56 [00:03<00:00, 13.50it/s]\u001b[A\n",
      "Validation DataLoader 0:  86%|███████████████████████████████████████▍      | 48/56 [00:03<00:00, 13.50it/s]\u001b[A\n",
      "Validation DataLoader 0:  88%|████████████████████████████████████████▎     | 49/56 [00:03<00:00, 13.50it/s]\u001b[A\n",
      "Validation DataLoader 0:  89%|█████████████████████████████████████████     | 50/56 [00:03<00:00, 13.50it/s]\u001b[A\n",
      "Validation DataLoader 0:  91%|█████████████████████████████████████████▉    | 51/56 [00:03<00:00, 13.50it/s]\u001b[A\n",
      "Validation DataLoader 0:  93%|██████████████████████████████████████████▋   | 52/56 [00:03<00:00, 13.50it/s]\u001b[A\n",
      "Validation DataLoader 0:  95%|███████████████████████████████████████████▌  | 53/56 [00:03<00:00, 13.50it/s]\u001b[A\n",
      "Validation DataLoader 0:  96%|████████████████████████████████████████████▎ | 54/56 [00:04<00:00, 13.50it/s]\u001b[A\n",
      "Validation DataLoader 0:  98%|█████████████████████████████████████████████▏| 55/56 [00:04<00:00, 13.50it/s]\u001b[A\n",
      "Validation DataLoader 0: 100%|██████████████████████████████████████████████| 56/56 [00:04<00:00, 13.58it/s]\u001b[A\n",
      "Epoch 3: 100%|████| 985/985 [03:13<00:00,  5.09it/s, v_num=0, train_loss_step=0.152, train_loss_epoch=0.148]\u001b[A\n",
      "Validation: |                                                                         | 0/? [00:00<?, ?it/s]\u001b[A\n",
      "Validation:   0%|                                                                    | 0/56 [00:00<?, ?it/s]\u001b[A\n",
      "Validation DataLoader 0:   0%|                                                       | 0/56 [00:00<?, ?it/s]\u001b[A\n",
      "Validation DataLoader 0:   2%|▊                                              | 1/56 [00:00<00:03, 13.79it/s]\u001b[A\n",
      "Validation DataLoader 0:   4%|█▋                                             | 2/56 [00:00<00:03, 13.51it/s]\u001b[A\n",
      "Validation DataLoader 0:   5%|██▌                                            | 3/56 [00:00<00:03, 13.43it/s]\u001b[A\n",
      "Validation DataLoader 0:   7%|███▎                                           | 4/56 [00:00<00:03, 13.48it/s]\u001b[A\n",
      "Validation DataLoader 0:   9%|████▏                                          | 5/56 [00:00<00:03, 13.44it/s]\u001b[A\n",
      "Validation DataLoader 0:  11%|█████                                          | 6/56 [00:00<00:03, 13.47it/s]\u001b[A\n",
      "Validation DataLoader 0:  12%|█████▉                                         | 7/56 [00:00<00:03, 13.47it/s]\u001b[A\n",
      "Validation DataLoader 0:  14%|██████▋                                        | 8/56 [00:00<00:03, 13.45it/s]\u001b[A\n",
      "Validation DataLoader 0:  16%|███████▌                                       | 9/56 [00:00<00:03, 13.40it/s]\u001b[A\n",
      "Validation DataLoader 0:  18%|████████▏                                     | 10/56 [00:00<00:03, 13.42it/s]\u001b[A\n",
      "Validation DataLoader 0:  20%|█████████                                     | 11/56 [00:00<00:03, 13.43it/s]\u001b[A\n",
      "Validation DataLoader 0:  21%|█████████▊                                    | 12/56 [00:00<00:03, 13.45it/s]\u001b[A\n",
      "Validation DataLoader 0:  23%|██████████▋                                   | 13/56 [00:00<00:03, 13.47it/s]\u001b[A\n",
      "Validation DataLoader 0:  25%|███████████▌                                  | 14/56 [00:01<00:03, 13.48it/s]\u001b[A\n",
      "Validation DataLoader 0:  27%|████████████▎                                 | 15/56 [00:01<00:03, 13.47it/s]\u001b[A\n",
      "Validation DataLoader 0:  29%|█████████████▏                                | 16/56 [00:01<00:02, 13.47it/s]\u001b[A\n",
      "Validation DataLoader 0:  30%|█████████████▉                                | 17/56 [00:01<00:02, 13.46it/s]\u001b[A\n",
      "Validation DataLoader 0:  32%|██████████████▊                               | 18/56 [00:01<00:02, 13.46it/s]\u001b[A\n",
      "Validation DataLoader 0:  34%|███████████████▌                              | 19/56 [00:01<00:02, 13.46it/s]\u001b[A\n",
      "Validation DataLoader 0:  36%|████████████████▍                             | 20/56 [00:01<00:02, 13.47it/s]\u001b[A\n",
      "Validation DataLoader 0:  38%|█████████████████▎                            | 21/56 [00:01<00:02, 13.47it/s]\u001b[A\n",
      "Validation DataLoader 0:  39%|██████████████████                            | 22/56 [00:01<00:02, 13.46it/s]\u001b[A\n",
      "Validation DataLoader 0:  41%|██████████████████▉                           | 23/56 [00:01<00:02, 13.46it/s]\u001b[A\n",
      "Validation DataLoader 0:  43%|███████████████████▋                          | 24/56 [00:01<00:02, 13.46it/s]\u001b[A\n",
      "Validation DataLoader 0:  45%|████████████████████▌                         | 25/56 [00:01<00:02, 13.45it/s]\u001b[A\n",
      "Validation DataLoader 0:  46%|█████████████████████▎                        | 26/56 [00:01<00:02, 13.45it/s]\u001b[A\n",
      "Validation DataLoader 0:  48%|██████████████████████▏                       | 27/56 [00:02<00:02, 13.45it/s]\u001b[A\n",
      "Validation DataLoader 0:  50%|███████████████████████                       | 28/56 [00:02<00:02, 13.45it/s]\u001b[A\n",
      "Validation DataLoader 0:  52%|███████████████████████▊                      | 29/56 [00:02<00:02, 13.45it/s]\u001b[A\n",
      "Validation DataLoader 0:  54%|████████████████████████▋                     | 30/56 [00:02<00:01, 13.45it/s]\u001b[A\n",
      "Validation DataLoader 0:  55%|█████████████████████████▍                    | 31/56 [00:02<00:01, 13.45it/s]\u001b[A\n",
      "Validation DataLoader 0:  57%|██████████████████████████▎                   | 32/56 [00:02<00:01, 13.45it/s]\u001b[A\n",
      "Validation DataLoader 0:  59%|███████████████████████████                   | 33/56 [00:02<00:01, 13.44it/s]\u001b[A\n",
      "Validation DataLoader 0:  61%|███████████████████████████▉                  | 34/56 [00:02<00:01, 13.44it/s]\u001b[A\n",
      "Validation DataLoader 0:  62%|████████████████████████████▊                 | 35/56 [00:02<00:01, 13.44it/s]\u001b[A\n",
      "Validation DataLoader 0:  64%|█████████████████████████████▌                | 36/56 [00:02<00:01, 13.44it/s]\u001b[A\n",
      "Validation DataLoader 0:  66%|██████████████████████████████▍               | 37/56 [00:02<00:01, 13.44it/s]\u001b[A\n",
      "Validation DataLoader 0:  68%|███████████████████████████████▏              | 38/56 [00:02<00:01, 13.44it/s]\u001b[A\n",
      "Validation DataLoader 0:  70%|████████████████████████████████              | 39/56 [00:02<00:01, 13.44it/s]\u001b[A\n",
      "Validation DataLoader 0:  71%|████████████████████████████████▊             | 40/56 [00:02<00:01, 13.44it/s]\u001b[A\n",
      "Validation DataLoader 0:  73%|█████████████████████████████████▋            | 41/56 [00:03<00:01, 13.45it/s]\u001b[A\n",
      "Validation DataLoader 0:  75%|██████████████████████████████████▌           | 42/56 [00:03<00:01, 13.45it/s]\u001b[A\n",
      "Validation DataLoader 0:  77%|███████████████████████████████████▎          | 43/56 [00:03<00:00, 13.45it/s]\u001b[A\n",
      "Validation DataLoader 0:  79%|████████████████████████████████████▏         | 44/56 [00:03<00:00, 13.45it/s]\u001b[A\n",
      "Validation DataLoader 0:  80%|████████████████████████████████████▉         | 45/56 [00:03<00:00, 13.45it/s]\u001b[A\n",
      "Validation DataLoader 0:  82%|█████████████████████████████████████▊        | 46/56 [00:03<00:00, 13.45it/s]\u001b[A\n",
      "Validation DataLoader 0:  84%|██████████████████████████████████████▌       | 47/56 [00:03<00:00, 13.45it/s]\u001b[A\n",
      "Validation DataLoader 0:  86%|███████████████████████████████████████▍      | 48/56 [00:03<00:00, 13.46it/s]\u001b[A\n",
      "Validation DataLoader 0:  88%|████████████████████████████████████████▎     | 49/56 [00:03<00:00, 13.46it/s]\u001b[A\n",
      "Validation DataLoader 0:  89%|█████████████████████████████████████████     | 50/56 [00:03<00:00, 13.46it/s]\u001b[A\n",
      "Validation DataLoader 0:  91%|█████████████████████████████████████████▉    | 51/56 [00:03<00:00, 13.46it/s]\u001b[A\n",
      "Validation DataLoader 0:  93%|██████████████████████████████████████████▋   | 52/56 [00:03<00:00, 13.47it/s]\u001b[A\n",
      "Validation DataLoader 0:  95%|███████████████████████████████████████████▌  | 53/56 [00:03<00:00, 13.47it/s]\u001b[A\n",
      "Validation DataLoader 0:  96%|████████████████████████████████████████████▎ | 54/56 [00:04<00:00, 13.47it/s]\u001b[A\n",
      "Validation DataLoader 0:  98%|█████████████████████████████████████████████▏| 55/56 [00:04<00:00, 13.47it/s]\u001b[A\n",
      "Validation DataLoader 0: 100%|██████████████████████████████████████████████| 56/56 [00:04<00:00, 13.56it/s]\u001b[A\n",
      "Epoch 4: 100%|████| 985/985 [03:13<00:00,  5.08it/s, v_num=0, train_loss_step=0.159, train_loss_epoch=0.146]\u001b[A\n",
      "Validation: |                                                                         | 0/? [00:00<?, ?it/s]\u001b[A\n",
      "Validation:   0%|                                                                    | 0/56 [00:00<?, ?it/s]\u001b[A\n",
      "Validation DataLoader 0:   0%|                                                       | 0/56 [00:00<?, ?it/s]\u001b[A\n",
      "Validation DataLoader 0:   2%|▊                                              | 1/56 [00:00<00:04, 13.75it/s]\u001b[A\n",
      "Validation DataLoader 0:   4%|█▋                                             | 2/56 [00:00<00:03, 13.67it/s]\u001b[A\n",
      "Validation DataLoader 0:   5%|██▌                                            | 3/56 [00:00<00:03, 13.66it/s]\u001b[A\n",
      "Validation DataLoader 0:   7%|███▎                                           | 4/56 [00:00<00:03, 13.65it/s]\u001b[A\n",
      "Validation DataLoader 0:   9%|████▏                                          | 5/56 [00:00<00:03, 13.64it/s]\u001b[A\n",
      "Validation DataLoader 0:  11%|█████                                          | 6/56 [00:00<00:03, 13.64it/s]\u001b[A\n",
      "Validation DataLoader 0:  12%|█████▉                                         | 7/56 [00:00<00:03, 13.65it/s]\u001b[A\n",
      "Validation DataLoader 0:  14%|██████▋                                        | 8/56 [00:00<00:03, 13.63it/s]\u001b[A\n",
      "Validation DataLoader 0:  16%|███████▌                                       | 9/56 [00:00<00:03, 13.55it/s]\u001b[A\n",
      "Validation DataLoader 0:  18%|████████▏                                     | 10/56 [00:00<00:03, 13.56it/s]\u001b[A\n",
      "Validation DataLoader 0:  20%|█████████                                     | 11/56 [00:00<00:03, 13.57it/s]\u001b[A\n",
      "Validation DataLoader 0:  21%|█████████▊                                    | 12/56 [00:00<00:03, 13.57it/s]\u001b[A\n",
      "Validation DataLoader 0:  23%|██████████▋                                   | 13/56 [00:00<00:03, 13.57it/s]\u001b[A\n",
      "Validation DataLoader 0:  25%|███████████▌                                  | 14/56 [00:01<00:03, 13.58it/s]\u001b[A\n",
      "Validation DataLoader 0:  27%|████████████▎                                 | 15/56 [00:01<00:03, 13.59it/s]\u001b[A\n",
      "Validation DataLoader 0:  29%|█████████████▏                                | 16/56 [00:01<00:02, 13.59it/s]\u001b[A\n",
      "Validation DataLoader 0:  30%|█████████████▉                                | 17/56 [00:01<00:02, 13.58it/s]\u001b[A\n",
      "Validation DataLoader 0:  32%|██████████████▊                               | 18/56 [00:01<00:02, 13.57it/s]\u001b[A\n",
      "Validation DataLoader 0:  34%|███████████████▌                              | 19/56 [00:01<00:02, 13.57it/s]\u001b[A\n",
      "Validation DataLoader 0:  36%|████████████████▍                             | 20/56 [00:01<00:02, 13.57it/s]\u001b[A\n",
      "Validation DataLoader 0:  38%|█████████████████▎                            | 21/56 [00:01<00:02, 13.56it/s]\u001b[A\n",
      "Validation DataLoader 0:  39%|██████████████████                            | 22/56 [00:01<00:02, 13.55it/s]\u001b[A\n",
      "Validation DataLoader 0:  41%|██████████████████▉                           | 23/56 [00:01<00:02, 13.54it/s]\u001b[A\n",
      "Validation DataLoader 0:  43%|███████████████████▋                          | 24/56 [00:01<00:02, 13.54it/s]\u001b[A\n",
      "Validation DataLoader 0:  45%|████████████████████▌                         | 25/56 [00:01<00:02, 13.54it/s]\u001b[A\n",
      "Validation DataLoader 0:  46%|█████████████████████▎                        | 26/56 [00:01<00:02, 13.54it/s]\u001b[A\n",
      "Validation DataLoader 0:  48%|██████████████████████▏                       | 27/56 [00:01<00:02, 13.54it/s]\u001b[A\n",
      "Validation DataLoader 0:  50%|███████████████████████                       | 28/56 [00:02<00:02, 13.53it/s]\u001b[A\n",
      "Validation DataLoader 0:  52%|███████████████████████▊                      | 29/56 [00:02<00:01, 13.53it/s]\u001b[A\n",
      "Validation DataLoader 0:  54%|████████████████████████▋                     | 30/56 [00:02<00:01, 13.53it/s]\u001b[A\n",
      "Validation DataLoader 0:  55%|█████████████████████████▍                    | 31/56 [00:02<00:01, 13.53it/s]\u001b[A\n",
      "Validation DataLoader 0:  57%|██████████████████████████▎                   | 32/56 [00:02<00:01, 13.53it/s]\u001b[A\n",
      "Validation DataLoader 0:  59%|███████████████████████████                   | 33/56 [00:02<00:01, 13.53it/s]\u001b[A\n",
      "Validation DataLoader 0:  61%|███████████████████████████▉                  | 34/56 [00:02<00:01, 13.53it/s]\u001b[A\n",
      "Validation DataLoader 0:  62%|████████████████████████████▊                 | 35/56 [00:02<00:01, 13.52it/s]\u001b[A\n",
      "Validation DataLoader 0:  64%|█████████████████████████████▌                | 36/56 [00:02<00:01, 13.52it/s]\u001b[A\n",
      "Validation DataLoader 0:  66%|██████████████████████████████▍               | 37/56 [00:02<00:01, 13.52it/s]\u001b[A\n",
      "Validation DataLoader 0:  68%|███████████████████████████████▏              | 38/56 [00:02<00:01, 13.52it/s]\u001b[A\n",
      "Validation DataLoader 0:  70%|████████████████████████████████              | 39/56 [00:02<00:01, 13.52it/s]\u001b[A\n",
      "Validation DataLoader 0:  71%|████████████████████████████████▊             | 40/56 [00:02<00:01, 13.52it/s]\u001b[A\n",
      "Validation DataLoader 0:  73%|█████████████████████████████████▋            | 41/56 [00:03<00:01, 13.52it/s]\u001b[A\n",
      "Validation DataLoader 0:  75%|██████████████████████████████████▌           | 42/56 [00:03<00:01, 13.52it/s]\u001b[A\n",
      "Validation DataLoader 0:  77%|███████████████████████████████████▎          | 43/56 [00:03<00:00, 13.52it/s]\u001b[A\n",
      "Validation DataLoader 0:  79%|████████████████████████████████████▏         | 44/56 [00:03<00:00, 13.52it/s]\u001b[A\n",
      "Validation DataLoader 0:  80%|████████████████████████████████████▉         | 45/56 [00:03<00:00, 13.52it/s]\u001b[A\n",
      "Validation DataLoader 0:  82%|█████████████████████████████████████▊        | 46/56 [00:03<00:00, 13.52it/s]\u001b[A\n",
      "Validation DataLoader 0:  84%|██████████████████████████████████████▌       | 47/56 [00:03<00:00, 13.52it/s]\u001b[A\n",
      "Validation DataLoader 0:  86%|███████████████████████████████████████▍      | 48/56 [00:03<00:00, 13.52it/s]\u001b[A\n",
      "Validation DataLoader 0:  88%|████████████████████████████████████████▎     | 49/56 [00:03<00:00, 13.52it/s]\u001b[A\n",
      "Validation DataLoader 0:  89%|█████████████████████████████████████████     | 50/56 [00:03<00:00, 13.52it/s]\u001b[A\n",
      "Validation DataLoader 0:  91%|█████████████████████████████████████████▉    | 51/56 [00:03<00:00, 13.52it/s]\u001b[A\n",
      "Validation DataLoader 0:  93%|██████████████████████████████████████████▋   | 52/56 [00:03<00:00, 13.52it/s]\u001b[A\n",
      "Validation DataLoader 0:  95%|███████████████████████████████████████████▌  | 53/56 [00:03<00:00, 13.52it/s]\u001b[A\n",
      "Validation DataLoader 0:  96%|████████████████████████████████████████████▎ | 54/56 [00:03<00:00, 13.52it/s]\u001b[A\n",
      "Validation DataLoader 0:  98%|█████████████████████████████████████████████▏| 55/56 [00:04<00:00, 13.52it/s]\u001b[A\n",
      "Validation DataLoader 0: 100%|██████████████████████████████████████████████| 56/56 [00:04<00:00, 13.60it/s]\u001b[A\n",
      "Epoch 5: 100%|████| 985/985 [03:13<00:00,  5.09it/s, v_num=0, train_loss_step=0.158, train_loss_epoch=0.145]\u001b[A\n",
      "Validation: |                                                                         | 0/? [00:00<?, ?it/s]\u001b[A\n",
      "Validation:   0%|                                                                    | 0/56 [00:00<?, ?it/s]\u001b[A\n",
      "Validation DataLoader 0:   0%|                                                       | 0/56 [00:00<?, ?it/s]\u001b[A\n",
      "Validation DataLoader 0:   2%|▊                                              | 1/56 [00:00<00:04, 13.73it/s]\u001b[A\n",
      "Validation DataLoader 0:   4%|█▋                                             | 2/56 [00:00<00:03, 13.74it/s]\u001b[A\n",
      "Validation DataLoader 0:   5%|██▌                                            | 3/56 [00:00<00:03, 13.73it/s]\u001b[A\n",
      "Validation DataLoader 0:   7%|███▎                                           | 4/56 [00:00<00:03, 13.60it/s]\u001b[A\n",
      "Validation DataLoader 0:   9%|████▏                                          | 5/56 [00:00<00:03, 13.57it/s]\u001b[A\n",
      "Validation DataLoader 0:  11%|█████                                          | 6/56 [00:00<00:03, 13.59it/s]\u001b[A\n",
      "Validation DataLoader 0:  12%|█████▉                                         | 7/56 [00:00<00:03, 13.61it/s]\u001b[A\n",
      "Validation DataLoader 0:  14%|██████▋                                        | 8/56 [00:00<00:03, 13.59it/s]\u001b[A\n",
      "Validation DataLoader 0:  16%|███████▌                                       | 9/56 [00:00<00:03, 13.54it/s]\u001b[A\n",
      "Validation DataLoader 0:  18%|████████▏                                     | 10/56 [00:00<00:03, 13.54it/s]\u001b[A\n",
      "Validation DataLoader 0:  20%|█████████                                     | 11/56 [00:00<00:03, 13.54it/s]\u001b[A\n",
      "Validation DataLoader 0:  21%|█████████▊                                    | 12/56 [00:00<00:03, 13.54it/s]\u001b[A\n",
      "Validation DataLoader 0:  23%|██████████▋                                   | 13/56 [00:00<00:03, 13.53it/s]\u001b[A\n",
      "Validation DataLoader 0:  25%|███████████▌                                  | 14/56 [00:01<00:03, 13.53it/s]\u001b[A\n",
      "Validation DataLoader 0:  27%|████████████▎                                 | 15/56 [00:01<00:03, 13.54it/s]\u001b[A\n",
      "Validation DataLoader 0:  29%|█████████████▏                                | 16/56 [00:01<00:02, 13.54it/s]\u001b[A\n",
      "Validation DataLoader 0:  30%|█████████████▉                                | 17/56 [00:01<00:02, 13.54it/s]\u001b[A\n",
      "Validation DataLoader 0:  32%|██████████████▊                               | 18/56 [00:01<00:02, 13.54it/s]\u001b[A\n",
      "Validation DataLoader 0:  34%|███████████████▌                              | 19/56 [00:01<00:02, 13.53it/s]\u001b[A\n",
      "Validation DataLoader 0:  36%|████████████████▍                             | 20/56 [00:01<00:02, 13.52it/s]\u001b[A\n",
      "Validation DataLoader 0:  38%|█████████████████▎                            | 21/56 [00:01<00:02, 13.52it/s]\u001b[A\n",
      "Validation DataLoader 0:  39%|██████████████████                            | 22/56 [00:01<00:02, 13.51it/s]\u001b[A\n",
      "Validation DataLoader 0:  41%|██████████████████▉                           | 23/56 [00:01<00:02, 13.51it/s]\u001b[A\n",
      "Validation DataLoader 0:  43%|███████████████████▋                          | 24/56 [00:01<00:02, 13.51it/s]\u001b[A\n",
      "Validation DataLoader 0:  45%|████████████████████▌                         | 25/56 [00:01<00:02, 13.50it/s]\u001b[A\n",
      "Validation DataLoader 0:  46%|█████████████████████▎                        | 26/56 [00:01<00:02, 13.51it/s]\u001b[A\n",
      "Validation DataLoader 0:  48%|██████████████████████▏                       | 27/56 [00:01<00:02, 13.51it/s]\u001b[A\n",
      "Validation DataLoader 0:  50%|███████████████████████                       | 28/56 [00:02<00:02, 13.51it/s]\u001b[A\n",
      "Validation DataLoader 0:  52%|███████████████████████▊                      | 29/56 [00:02<00:01, 13.51it/s]\u001b[A\n",
      "Validation DataLoader 0:  54%|████████████████████████▋                     | 30/56 [00:02<00:01, 13.50it/s]\u001b[A\n",
      "Validation DataLoader 0:  55%|█████████████████████████▍                    | 31/56 [00:02<00:01, 13.50it/s]\u001b[A\n",
      "Validation DataLoader 0:  57%|██████████████████████████▎                   | 32/56 [00:02<00:01, 13.50it/s]\u001b[A\n",
      "Validation DataLoader 0:  59%|███████████████████████████                   | 33/56 [00:02<00:01, 13.50it/s]\u001b[A\n",
      "Validation DataLoader 0:  61%|███████████████████████████▉                  | 34/56 [00:02<00:01, 13.49it/s]\u001b[A\n",
      "Validation DataLoader 0:  62%|████████████████████████████▊                 | 35/56 [00:02<00:01, 13.49it/s]\u001b[A\n",
      "Validation DataLoader 0:  64%|█████████████████████████████▌                | 36/56 [00:02<00:01, 13.49it/s]\u001b[A\n",
      "Validation DataLoader 0:  66%|██████████████████████████████▍               | 37/56 [00:02<00:01, 13.49it/s]\u001b[A\n",
      "Validation DataLoader 0:  68%|███████████████████████████████▏              | 38/56 [00:02<00:01, 13.49it/s]\u001b[A\n",
      "Validation DataLoader 0:  70%|████████████████████████████████              | 39/56 [00:02<00:01, 13.49it/s]\u001b[A\n",
      "Validation DataLoader 0:  71%|████████████████████████████████▊             | 40/56 [00:02<00:01, 13.49it/s]\u001b[A\n",
      "Validation DataLoader 0:  73%|█████████████████████████████████▋            | 41/56 [00:03<00:01, 13.49it/s]\u001b[A\n",
      "Validation DataLoader 0:  75%|██████████████████████████████████▌           | 42/56 [00:03<00:01, 13.49it/s]\u001b[A\n",
      "Validation DataLoader 0:  77%|███████████████████████████████████▎          | 43/56 [00:03<00:00, 13.50it/s]\u001b[A\n",
      "Validation DataLoader 0:  79%|████████████████████████████████████▏         | 44/56 [00:03<00:00, 13.50it/s]\u001b[A\n",
      "Validation DataLoader 0:  80%|████████████████████████████████████▉         | 45/56 [00:03<00:00, 13.50it/s]\u001b[A\n",
      "Validation DataLoader 0:  82%|█████████████████████████████████████▊        | 46/56 [00:03<00:00, 13.50it/s]\u001b[A\n",
      "Validation DataLoader 0:  84%|██████████████████████████████████████▌       | 47/56 [00:03<00:00, 13.51it/s]\u001b[A\n",
      "Validation DataLoader 0:  86%|███████████████████████████████████████▍      | 48/56 [00:03<00:00, 13.51it/s]\u001b[A\n",
      "Validation DataLoader 0:  88%|████████████████████████████████████████▎     | 49/56 [00:03<00:00, 13.51it/s]\u001b[A\n",
      "Validation DataLoader 0:  89%|█████████████████████████████████████████     | 50/56 [00:03<00:00, 13.51it/s]\u001b[A\n",
      "Validation DataLoader 0:  91%|█████████████████████████████████████████▉    | 51/56 [00:03<00:00, 13.51it/s]\u001b[A\n",
      "Validation DataLoader 0:  93%|██████████████████████████████████████████▋   | 52/56 [00:03<00:00, 13.51it/s]\u001b[A\n",
      "Validation DataLoader 0:  95%|███████████████████████████████████████████▌  | 53/56 [00:03<00:00, 13.51it/s]\u001b[A\n",
      "Validation DataLoader 0:  96%|████████████████████████████████████████████▎ | 54/56 [00:03<00:00, 13.51it/s]\u001b[A\n",
      "Validation DataLoader 0:  98%|█████████████████████████████████████████████▏| 55/56 [00:04<00:00, 13.51it/s]\u001b[A\n",
      "Validation DataLoader 0: 100%|██████████████████████████████████████████████| 56/56 [00:04<00:00, 13.60it/s]\u001b[A\n",
      "Epoch 6: 100%|████| 985/985 [03:13<00:00,  5.09it/s, v_num=0, train_loss_step=0.127, train_loss_epoch=0.144]\u001b[A\n",
      "Validation: |                                                                         | 0/? [00:00<?, ?it/s]\u001b[A\n",
      "Validation:   0%|                                                                    | 0/56 [00:00<?, ?it/s]\u001b[A\n",
      "Validation DataLoader 0:   0%|                                                       | 0/56 [00:00<?, ?it/s]\u001b[A\n",
      "Validation DataLoader 0:   2%|▊                                              | 1/56 [00:00<00:03, 13.82it/s]\u001b[A\n",
      "Validation DataLoader 0:   4%|█▋                                             | 2/56 [00:00<00:04, 13.38it/s]\u001b[A\n",
      "Validation DataLoader 0:   5%|██▌                                            | 3/56 [00:00<00:03, 13.44it/s]\u001b[A\n",
      "Validation DataLoader 0:   7%|███▎                                           | 4/56 [00:00<00:03, 13.49it/s]\u001b[A\n",
      "Validation DataLoader 0:   9%|████▏                                          | 5/56 [00:00<00:03, 13.52it/s]\u001b[A\n",
      "Validation DataLoader 0:  11%|█████                                          | 6/56 [00:00<00:03, 13.53it/s]\u001b[A\n",
      "Validation DataLoader 0:  12%|█████▉                                         | 7/56 [00:00<00:03, 13.51it/s]\u001b[A\n",
      "Validation DataLoader 0:  14%|██████▋                                        | 8/56 [00:00<00:03, 13.52it/s]\u001b[A\n",
      "Validation DataLoader 0:  16%|███████▌                                       | 9/56 [00:00<00:03, 13.49it/s]\u001b[A\n",
      "Validation DataLoader 0:  18%|████████▏                                     | 10/56 [00:00<00:03, 13.44it/s]\u001b[A\n",
      "Validation DataLoader 0:  20%|█████████                                     | 11/56 [00:00<00:03, 13.45it/s]\u001b[A\n",
      "Validation DataLoader 0:  21%|█████████▊                                    | 12/56 [00:00<00:03, 13.46it/s]\u001b[A\n",
      "Validation DataLoader 0:  23%|██████████▋                                   | 13/56 [00:00<00:03, 13.47it/s]\u001b[A\n",
      "Validation DataLoader 0:  25%|███████████▌                                  | 14/56 [00:01<00:03, 13.48it/s]\u001b[A\n",
      "Validation DataLoader 0:  27%|████████████▎                                 | 15/56 [00:01<00:03, 13.48it/s]\u001b[A\n",
      "Validation DataLoader 0:  29%|█████████████▏                                | 16/56 [00:01<00:02, 13.49it/s]\u001b[A\n",
      "Validation DataLoader 0:  30%|█████████████▉                                | 17/56 [00:01<00:02, 13.48it/s]\u001b[A\n",
      "Validation DataLoader 0:  32%|██████████████▊                               | 18/56 [00:01<00:02, 13.47it/s]\u001b[A\n",
      "Validation DataLoader 0:  34%|███████████████▌                              | 19/56 [00:01<00:02, 13.47it/s]\u001b[A\n",
      "Validation DataLoader 0:  36%|████████████████▍                             | 20/56 [00:01<00:02, 13.47it/s]\u001b[A\n",
      "Validation DataLoader 0:  38%|█████████████████▎                            | 21/56 [00:01<00:02, 13.47it/s]\u001b[A\n",
      "Validation DataLoader 0:  39%|██████████████████                            | 22/56 [00:01<00:02, 13.47it/s]\u001b[A\n",
      "Validation DataLoader 0:  41%|██████████████████▉                           | 23/56 [00:01<00:02, 13.47it/s]\u001b[A\n",
      "Validation DataLoader 0:  43%|███████████████████▋                          | 24/56 [00:01<00:02, 13.47it/s]\u001b[A\n",
      "Validation DataLoader 0:  45%|████████████████████▌                         | 25/56 [00:01<00:02, 13.46it/s]\u001b[A\n",
      "Validation DataLoader 0:  46%|█████████████████████▎                        | 26/56 [00:01<00:02, 13.46it/s]\u001b[A\n",
      "Validation DataLoader 0:  48%|██████████████████████▏                       | 27/56 [00:02<00:02, 13.46it/s]\u001b[A\n",
      "Validation DataLoader 0:  50%|███████████████████████                       | 28/56 [00:02<00:02, 13.46it/s]\u001b[A\n",
      "Validation DataLoader 0:  52%|███████████████████████▊                      | 29/56 [00:02<00:02, 13.46it/s]\u001b[A\n",
      "Validation DataLoader 0:  54%|████████████████████████▋                     | 30/56 [00:02<00:01, 13.46it/s]\u001b[A\n",
      "Validation DataLoader 0:  55%|█████████████████████████▍                    | 31/56 [00:02<00:01, 13.46it/s]\u001b[A\n",
      "Validation DataLoader 0:  57%|██████████████████████████▎                   | 32/56 [00:02<00:01, 13.46it/s]\u001b[A\n",
      "Validation DataLoader 0:  59%|███████████████████████████                   | 33/56 [00:02<00:01, 13.46it/s]\u001b[A\n",
      "Validation DataLoader 0:  61%|███████████████████████████▉                  | 34/56 [00:02<00:01, 13.46it/s]\u001b[A\n",
      "Validation DataLoader 0:  62%|████████████████████████████▊                 | 35/56 [00:02<00:01, 13.46it/s]\u001b[A\n",
      "Validation DataLoader 0:  64%|█████████████████████████████▌                | 36/56 [00:02<00:01, 13.46it/s]\u001b[A\n",
      "Validation DataLoader 0:  66%|██████████████████████████████▍               | 37/56 [00:02<00:01, 13.46it/s]\u001b[A\n",
      "Validation DataLoader 0:  68%|███████████████████████████████▏              | 38/56 [00:02<00:01, 13.46it/s]\u001b[A\n",
      "Validation DataLoader 0:  70%|████████████████████████████████              | 39/56 [00:02<00:01, 13.46it/s]\u001b[A\n",
      "Validation DataLoader 0:  71%|████████████████████████████████▊             | 40/56 [00:02<00:01, 13.46it/s]\u001b[A\n",
      "Validation DataLoader 0:  73%|█████████████████████████████████▋            | 41/56 [00:03<00:01, 13.46it/s]\u001b[A\n",
      "Validation DataLoader 0:  75%|██████████████████████████████████▌           | 42/56 [00:03<00:01, 13.46it/s]\u001b[A\n",
      "Validation DataLoader 0:  77%|███████████████████████████████████▎          | 43/56 [00:03<00:00, 13.46it/s]\u001b[A\n",
      "Validation DataLoader 0:  79%|████████████████████████████████████▏         | 44/56 [00:03<00:00, 13.47it/s]\u001b[A\n",
      "Validation DataLoader 0:  80%|████████████████████████████████████▉         | 45/56 [00:03<00:00, 13.47it/s]\u001b[A\n",
      "Validation DataLoader 0:  82%|█████████████████████████████████████▊        | 46/56 [00:03<00:00, 13.47it/s]\u001b[A\n",
      "Validation DataLoader 0:  84%|██████████████████████████████████████▌       | 47/56 [00:03<00:00, 13.47it/s]\u001b[A\n",
      "Validation DataLoader 0:  86%|███████████████████████████████████████▍      | 48/56 [00:03<00:00, 13.47it/s]\u001b[A\n",
      "Validation DataLoader 0:  88%|████████████████████████████████████████▎     | 49/56 [00:03<00:00, 13.47it/s]\u001b[A\n",
      "Validation DataLoader 0:  89%|█████████████████████████████████████████     | 50/56 [00:03<00:00, 13.47it/s]\u001b[A\n",
      "Validation DataLoader 0:  91%|█████████████████████████████████████████▉    | 51/56 [00:03<00:00, 13.47it/s]\u001b[A\n",
      "Validation DataLoader 0:  93%|██████████████████████████████████████████▋   | 52/56 [00:03<00:00, 13.47it/s]\u001b[A\n",
      "Validation DataLoader 0:  95%|███████████████████████████████████████████▌  | 53/56 [00:03<00:00, 13.48it/s]\u001b[A\n",
      "Validation DataLoader 0:  96%|████████████████████████████████████████████▎ | 54/56 [00:04<00:00, 13.48it/s]\u001b[A\n",
      "Validation DataLoader 0:  98%|█████████████████████████████████████████████▏| 55/56 [00:04<00:00, 13.48it/s]\u001b[A\n",
      "Validation DataLoader 0: 100%|██████████████████████████████████████████████| 56/56 [00:04<00:00, 13.56it/s]\u001b[A\n",
      "Epoch 7: 100%|████| 985/985 [03:13<00:00,  5.08it/s, v_num=0, train_loss_step=0.122, train_loss_epoch=0.143]\u001b[A\n",
      "Validation: |                                                                         | 0/? [00:00<?, ?it/s]\u001b[A\n",
      "Validation:   0%|                                                                    | 0/56 [00:00<?, ?it/s]\u001b[A\n",
      "Validation DataLoader 0:   0%|                                                       | 0/56 [00:00<?, ?it/s]\u001b[A\n",
      "Validation DataLoader 0:   2%|▊                                              | 1/56 [00:00<00:03, 13.85it/s]\u001b[A\n",
      "Validation DataLoader 0:   4%|█▋                                             | 2/56 [00:00<00:04, 13.30it/s]\u001b[A\n",
      "Validation DataLoader 0:   5%|██▌                                            | 3/56 [00:00<00:03, 13.38it/s]\u001b[A\n",
      "Validation DataLoader 0:   7%|███▎                                           | 4/56 [00:00<00:03, 13.44it/s]\u001b[A\n",
      "Validation DataLoader 0:   9%|████▏                                          | 5/56 [00:00<00:03, 13.47it/s]\u001b[A\n",
      "Validation DataLoader 0:  11%|█████                                          | 6/56 [00:00<00:03, 13.50it/s]\u001b[A\n",
      "Validation DataLoader 0:  12%|█████▉                                         | 7/56 [00:00<00:03, 13.53it/s]\u001b[A\n",
      "Validation DataLoader 0:  14%|██████▋                                        | 8/56 [00:00<00:03, 13.52it/s]\u001b[A\n",
      "Validation DataLoader 0:  16%|███████▌                                       | 9/56 [00:00<00:03, 13.51it/s]\u001b[A\n",
      "Validation DataLoader 0:  18%|████████▏                                     | 10/56 [00:00<00:03, 13.46it/s]\u001b[A\n",
      "Validation DataLoader 0:  20%|█████████                                     | 11/56 [00:00<00:03, 13.48it/s]\u001b[A\n",
      "Validation DataLoader 0:  21%|█████████▊                                    | 12/56 [00:00<00:03, 13.49it/s]\u001b[A\n",
      "Validation DataLoader 0:  23%|██████████▋                                   | 13/56 [00:00<00:03, 13.50it/s]\u001b[A\n",
      "Validation DataLoader 0:  25%|███████████▌                                  | 14/56 [00:01<00:03, 13.50it/s]\u001b[A\n",
      "Validation DataLoader 0:  27%|████████████▎                                 | 15/56 [00:01<00:03, 13.52it/s]\u001b[A\n",
      "Validation DataLoader 0:  29%|█████████████▏                                | 16/56 [00:01<00:02, 13.52it/s]\u001b[A\n",
      "Validation DataLoader 0:  30%|█████████████▉                                | 17/56 [00:01<00:02, 13.52it/s]\u001b[A\n",
      "Validation DataLoader 0:  32%|██████████████▊                               | 18/56 [00:01<00:02, 13.52it/s]\u001b[A\n",
      "Validation DataLoader 0:  34%|███████████████▌                              | 19/56 [00:01<00:02, 13.52it/s]\u001b[A\n",
      "Validation DataLoader 0:  36%|████████████████▍                             | 20/56 [00:01<00:02, 13.51it/s]\u001b[A\n",
      "Validation DataLoader 0:  38%|█████████████████▎                            | 21/56 [00:01<00:02, 13.50it/s]\u001b[A\n",
      "Validation DataLoader 0:  39%|██████████████████                            | 22/56 [00:01<00:02, 13.50it/s]\u001b[A\n",
      "Validation DataLoader 0:  41%|██████████████████▉                           | 23/56 [00:01<00:02, 13.50it/s]\u001b[A\n",
      "Validation DataLoader 0:  43%|███████████████████▋                          | 24/56 [00:01<00:02, 13.50it/s]\u001b[A\n",
      "Validation DataLoader 0:  45%|████████████████████▌                         | 25/56 [00:01<00:02, 13.50it/s]\u001b[A\n",
      "Validation DataLoader 0:  46%|█████████████████████▎                        | 26/56 [00:01<00:02, 13.50it/s]\u001b[A\n",
      "Validation DataLoader 0:  48%|██████████████████████▏                       | 27/56 [00:02<00:02, 13.50it/s]\u001b[A\n",
      "Validation DataLoader 0:  50%|███████████████████████                       | 28/56 [00:02<00:02, 13.50it/s]\u001b[A\n",
      "Validation DataLoader 0:  52%|███████████████████████▊                      | 29/56 [00:02<00:02, 13.50it/s]\u001b[A\n",
      "Validation DataLoader 0:  54%|████████████████████████▋                     | 30/56 [00:02<00:01, 13.49it/s]\u001b[A\n",
      "Validation DataLoader 0:  55%|█████████████████████████▍                    | 31/56 [00:02<00:01, 13.49it/s]\u001b[A\n",
      "Validation DataLoader 0:  57%|██████████████████████████▎                   | 32/56 [00:02<00:01, 13.49it/s]\u001b[A\n",
      "Validation DataLoader 0:  59%|███████████████████████████                   | 33/56 [00:02<00:01, 13.49it/s]\u001b[A\n",
      "Validation DataLoader 0:  61%|███████████████████████████▉                  | 34/56 [00:02<00:01, 13.49it/s]\u001b[A\n",
      "Validation DataLoader 0:  62%|████████████████████████████▊                 | 35/56 [00:02<00:01, 13.49it/s]\u001b[A\n",
      "Validation DataLoader 0:  64%|█████████████████████████████▌                | 36/56 [00:02<00:01, 13.49it/s]\u001b[A\n",
      "Validation DataLoader 0:  66%|██████████████████████████████▍               | 37/56 [00:02<00:01, 13.49it/s]\u001b[A\n",
      "Validation DataLoader 0:  68%|███████████████████████████████▏              | 38/56 [00:02<00:01, 13.49it/s]\u001b[A\n",
      "Validation DataLoader 0:  70%|████████████████████████████████              | 39/56 [00:02<00:01, 13.49it/s]\u001b[A\n",
      "Validation DataLoader 0:  71%|████████████████████████████████▊             | 40/56 [00:02<00:01, 13.49it/s]\u001b[A\n",
      "Validation DataLoader 0:  73%|█████████████████████████████████▋            | 41/56 [00:03<00:01, 13.49it/s]\u001b[A\n",
      "Validation DataLoader 0:  75%|██████████████████████████████████▌           | 42/56 [00:03<00:01, 13.50it/s]\u001b[A\n",
      "Validation DataLoader 0:  77%|███████████████████████████████████▎          | 43/56 [00:03<00:00, 13.50it/s]\u001b[A\n",
      "Validation DataLoader 0:  79%|████████████████████████████████████▏         | 44/56 [00:03<00:00, 13.50it/s]\u001b[A\n",
      "Validation DataLoader 0:  80%|████████████████████████████████████▉         | 45/56 [00:03<00:00, 13.50it/s]\u001b[A\n",
      "Validation DataLoader 0:  82%|█████████████████████████████████████▊        | 46/56 [00:03<00:00, 13.50it/s]\u001b[A\n",
      "Validation DataLoader 0:  84%|██████████████████████████████████████▌       | 47/56 [00:03<00:00, 13.50it/s]\u001b[A\n",
      "Validation DataLoader 0:  86%|███████████████████████████████████████▍      | 48/56 [00:03<00:00, 13.50it/s]\u001b[A\n",
      "Validation DataLoader 0:  88%|████████████████████████████████████████▎     | 49/56 [00:03<00:00, 13.51it/s]\u001b[A\n",
      "Validation DataLoader 0:  89%|█████████████████████████████████████████     | 50/56 [00:03<00:00, 13.51it/s]\u001b[A\n",
      "Validation DataLoader 0:  91%|█████████████████████████████████████████▉    | 51/56 [00:03<00:00, 13.51it/s]\u001b[A\n",
      "Validation DataLoader 0:  93%|██████████████████████████████████████████▋   | 52/56 [00:03<00:00, 13.51it/s]\u001b[A\n",
      "Validation DataLoader 0:  95%|███████████████████████████████████████████▌  | 53/56 [00:03<00:00, 13.51it/s]\u001b[A\n",
      "Validation DataLoader 0:  96%|████████████████████████████████████████████▎ | 54/56 [00:03<00:00, 13.51it/s]\u001b[A\n",
      "Validation DataLoader 0:  98%|█████████████████████████████████████████████▏| 55/56 [00:04<00:00, 13.51it/s]\u001b[A\n",
      "Validation DataLoader 0: 100%|██████████████████████████████████████████████| 56/56 [00:04<00:00, 13.59it/s]\u001b[A\n",
      "Epoch 8: 100%|████| 985/985 [03:13<00:00,  5.08it/s, v_num=0, train_loss_step=0.141, train_loss_epoch=0.142]\u001b[A\n",
      "Validation: |                                                                         | 0/? [00:00<?, ?it/s]\u001b[A\n",
      "Validation:   0%|                                                                    | 0/56 [00:00<?, ?it/s]\u001b[A\n",
      "Validation DataLoader 0:   0%|                                                       | 0/56 [00:00<?, ?it/s]\u001b[A\n",
      "Validation DataLoader 0:   2%|▊                                              | 1/56 [00:00<00:03, 13.82it/s]\u001b[A\n",
      "Validation DataLoader 0:   4%|█▋                                             | 2/56 [00:00<00:03, 13.73it/s]\u001b[A\n",
      "Validation DataLoader 0:   5%|██▌                                            | 3/56 [00:00<00:03, 13.57it/s]\u001b[A\n",
      "Validation DataLoader 0:   7%|███▎                                           | 4/56 [00:00<00:03, 13.44it/s]\u001b[A\n",
      "Validation DataLoader 0:   9%|████▏                                          | 5/56 [00:00<00:03, 13.48it/s]\u001b[A\n",
      "Validation DataLoader 0:  11%|█████                                          | 6/56 [00:00<00:03, 13.48it/s]\u001b[A\n",
      "Validation DataLoader 0:  12%|█████▉                                         | 7/56 [00:00<00:03, 13.51it/s]\u001b[A\n",
      "Validation DataLoader 0:  14%|██████▋                                        | 8/56 [00:00<00:03, 13.50it/s]\u001b[A\n",
      "Validation DataLoader 0:  16%|███████▌                                       | 9/56 [00:00<00:03, 13.48it/s]\u001b[A\n",
      "Validation DataLoader 0:  18%|████████▏                                     | 10/56 [00:00<00:03, 13.50it/s]\u001b[A\n",
      "Validation DataLoader 0:  20%|█████████                                     | 11/56 [00:00<00:03, 13.48it/s]\u001b[A\n",
      "Validation DataLoader 0:  21%|█████████▊                                    | 12/56 [00:00<00:03, 13.48it/s]\u001b[A\n",
      "Validation DataLoader 0:  23%|██████████▋                                   | 13/56 [00:00<00:03, 13.50it/s]\u001b[A\n",
      "Validation DataLoader 0:  25%|███████████▌                                  | 14/56 [00:01<00:03, 13.49it/s]\u001b[A\n",
      "Validation DataLoader 0:  27%|████████████▎                                 | 15/56 [00:01<00:03, 13.51it/s]\u001b[A\n",
      "Validation DataLoader 0:  29%|█████████████▏                                | 16/56 [00:01<00:02, 13.50it/s]\u001b[A\n",
      "Validation DataLoader 0:  30%|█████████████▉                                | 17/56 [00:01<00:02, 13.50it/s]\u001b[A\n",
      "Validation DataLoader 0:  32%|██████████████▊                               | 18/56 [00:01<00:02, 13.51it/s]\u001b[A\n",
      "Validation DataLoader 0:  34%|███████████████▌                              | 19/56 [00:01<00:02, 13.50it/s]\u001b[A\n",
      "Validation DataLoader 0:  36%|████████████████▍                             | 20/56 [00:01<00:02, 13.50it/s]\u001b[A\n",
      "Validation DataLoader 0:  38%|█████████████████▎                            | 21/56 [00:01<00:02, 13.50it/s]\u001b[A\n",
      "Validation DataLoader 0:  39%|██████████████████                            | 22/56 [00:01<00:02, 13.50it/s]\u001b[A\n",
      "Validation DataLoader 0:  41%|██████████████████▉                           | 23/56 [00:01<00:02, 13.50it/s]\u001b[A\n",
      "Validation DataLoader 0:  43%|███████████████████▋                          | 24/56 [00:01<00:02, 13.50it/s]\u001b[A\n",
      "Validation DataLoader 0:  45%|████████████████████▌                         | 25/56 [00:01<00:02, 13.50it/s]\u001b[A\n",
      "Validation DataLoader 0:  46%|█████████████████████▎                        | 26/56 [00:01<00:02, 13.49it/s]\u001b[A\n",
      "Validation DataLoader 0:  48%|██████████████████████▏                       | 27/56 [00:02<00:02, 13.50it/s]\u001b[A\n",
      "Validation DataLoader 0:  50%|███████████████████████                       | 28/56 [00:02<00:02, 13.50it/s]\u001b[A\n",
      "Validation DataLoader 0:  52%|███████████████████████▊                      | 29/56 [00:02<00:02, 13.50it/s]\u001b[A\n",
      "Validation DataLoader 0:  54%|████████████████████████▋                     | 30/56 [00:02<00:01, 13.50it/s]\u001b[A\n",
      "Validation DataLoader 0:  55%|█████████████████████████▍                    | 31/56 [00:02<00:01, 13.50it/s]\u001b[A\n",
      "Validation DataLoader 0:  57%|██████████████████████████▎                   | 32/56 [00:02<00:01, 13.50it/s]\u001b[A\n",
      "Validation DataLoader 0:  59%|███████████████████████████                   | 33/56 [00:02<00:01, 13.50it/s]\u001b[A\n",
      "Validation DataLoader 0:  61%|███████████████████████████▉                  | 34/56 [00:02<00:01, 13.50it/s]\u001b[A\n",
      "Validation DataLoader 0:  62%|████████████████████████████▊                 | 35/56 [00:02<00:01, 13.50it/s]\u001b[A\n",
      "Validation DataLoader 0:  64%|█████████████████████████████▌                | 36/56 [00:02<00:01, 13.50it/s]\u001b[A\n",
      "Validation DataLoader 0:  66%|██████████████████████████████▍               | 37/56 [00:02<00:01, 13.50it/s]\u001b[A\n",
      "Validation DataLoader 0:  68%|███████████████████████████████▏              | 38/56 [00:02<00:01, 13.50it/s]\u001b[A\n",
      "Validation DataLoader 0:  70%|████████████████████████████████              | 39/56 [00:02<00:01, 13.50it/s]\u001b[A\n",
      "Validation DataLoader 0:  71%|████████████████████████████████▊             | 40/56 [00:02<00:01, 13.50it/s]\u001b[A\n",
      "Validation DataLoader 0:  73%|█████████████████████████████████▋            | 41/56 [00:03<00:01, 13.50it/s]\u001b[A\n",
      "Validation DataLoader 0:  75%|██████████████████████████████████▌           | 42/56 [00:03<00:01, 13.50it/s]\u001b[A\n",
      "Validation DataLoader 0:  77%|███████████████████████████████████▎          | 43/56 [00:03<00:00, 13.50it/s]\u001b[A\n",
      "Validation DataLoader 0:  79%|████████████████████████████████████▏         | 44/56 [00:03<00:00, 13.49it/s]\u001b[A\n",
      "Validation DataLoader 0:  80%|████████████████████████████████████▉         | 45/56 [00:03<00:00, 13.50it/s]\u001b[A\n",
      "Validation DataLoader 0:  82%|█████████████████████████████████████▊        | 46/56 [00:03<00:00, 13.50it/s]\u001b[A\n",
      "Validation DataLoader 0:  84%|██████████████████████████████████████▌       | 47/56 [00:03<00:00, 13.50it/s]\u001b[A\n",
      "Validation DataLoader 0:  86%|███████████████████████████████████████▍      | 48/56 [00:03<00:00, 13.50it/s]\u001b[A\n",
      "Validation DataLoader 0:  88%|████████████████████████████████████████▎     | 49/56 [00:03<00:00, 13.50it/s]\u001b[A\n",
      "Validation DataLoader 0:  89%|█████████████████████████████████████████     | 50/56 [00:03<00:00, 13.50it/s]\u001b[A\n",
      "Validation DataLoader 0:  91%|█████████████████████████████████████████▉    | 51/56 [00:03<00:00, 13.50it/s]\u001b[A\n",
      "Validation DataLoader 0:  93%|██████████████████████████████████████████▋   | 52/56 [00:03<00:00, 13.51it/s]\u001b[A\n",
      "Validation DataLoader 0:  95%|███████████████████████████████████████████▌  | 53/56 [00:03<00:00, 13.51it/s]\u001b[A\n",
      "Validation DataLoader 0:  96%|████████████████████████████████████████████▎ | 54/56 [00:03<00:00, 13.51it/s]\u001b[A\n",
      "Validation DataLoader 0:  98%|█████████████████████████████████████████████▏| 55/56 [00:04<00:00, 13.51it/s]\u001b[A\n",
      "Validation DataLoader 0: 100%|██████████████████████████████████████████████| 56/56 [00:04<00:00, 13.59it/s]\u001b[A\n",
      "Epoch 9: 100%|████| 985/985 [03:13<00:00,  5.08it/s, v_num=0, train_loss_step=0.129, train_loss_epoch=0.141]\u001b[A\n",
      "Validation: |                                                                         | 0/? [00:00<?, ?it/s]\u001b[A\n",
      "Validation:   0%|                                                                    | 0/56 [00:00<?, ?it/s]\u001b[A\n",
      "Validation DataLoader 0:   0%|                                                       | 0/56 [00:00<?, ?it/s]\u001b[A\n",
      "Validation DataLoader 0:   2%|▊                                              | 1/56 [00:00<00:03, 13.84it/s]\u001b[A\n",
      "Validation DataLoader 0:   4%|█▋                                             | 2/56 [00:00<00:04, 13.33it/s]\u001b[A\n",
      "Validation DataLoader 0:   5%|██▌                                            | 3/56 [00:00<00:03, 13.41it/s]\u001b[A\n",
      "Validation DataLoader 0:   7%|███▎                                           | 4/56 [00:00<00:03, 13.42it/s]\u001b[A\n",
      "Validation DataLoader 0:   9%|████▏                                          | 5/56 [00:00<00:03, 13.46it/s]\u001b[A\n",
      "Validation DataLoader 0:  11%|█████                                          | 6/56 [00:00<00:03, 13.48it/s]\u001b[A\n",
      "Validation DataLoader 0:  12%|█████▉                                         | 7/56 [00:00<00:03, 13.49it/s]\u001b[A\n",
      "Validation DataLoader 0:  14%|██████▋                                        | 8/56 [00:00<00:03, 13.47it/s]\u001b[A\n",
      "Validation DataLoader 0:  16%|███████▌                                       | 9/56 [00:00<00:03, 13.47it/s]\u001b[A\n",
      "Validation DataLoader 0:  18%|████████▏                                     | 10/56 [00:00<00:03, 13.43it/s]\u001b[A\n",
      "Validation DataLoader 0:  20%|█████████                                     | 11/56 [00:00<00:03, 13.46it/s]\u001b[A\n",
      "Validation DataLoader 0:  21%|█████████▊                                    | 12/56 [00:00<00:03, 13.46it/s]\u001b[A\n",
      "Validation DataLoader 0:  23%|██████████▋                                   | 13/56 [00:00<00:03, 13.47it/s]\u001b[A\n",
      "Validation DataLoader 0:  25%|███████████▌                                  | 14/56 [00:01<00:03, 13.48it/s]\u001b[A\n",
      "Validation DataLoader 0:  27%|████████████▎                                 | 15/56 [00:01<00:03, 13.48it/s]\u001b[A\n",
      "Validation DataLoader 0:  29%|█████████████▏                                | 16/56 [00:01<00:02, 13.46it/s]\u001b[A\n",
      "Validation DataLoader 0:  30%|█████████████▉                                | 17/56 [00:01<00:02, 13.46it/s]\u001b[A\n",
      "Validation DataLoader 0:  32%|██████████████▊                               | 18/56 [00:01<00:02, 13.47it/s]\u001b[A\n",
      "Validation DataLoader 0:  34%|███████████████▌                              | 19/56 [00:01<00:02, 13.47it/s]\u001b[A\n",
      "Validation DataLoader 0:  36%|████████████████▍                             | 20/56 [00:01<00:02, 13.46it/s]\u001b[A\n",
      "Validation DataLoader 0:  38%|█████████████████▎                            | 21/56 [00:01<00:02, 13.46it/s]\u001b[A\n",
      "Validation DataLoader 0:  39%|██████████████████                            | 22/56 [00:01<00:02, 13.47it/s]\u001b[A\n",
      "Validation DataLoader 0:  41%|██████████████████▉                           | 23/56 [00:01<00:02, 13.46it/s]\u001b[A\n",
      "Validation DataLoader 0:  43%|███████████████████▋                          | 24/56 [00:01<00:02, 13.46it/s]\u001b[A\n",
      "Validation DataLoader 0:  45%|████████████████████▌                         | 25/56 [00:01<00:02, 13.46it/s]\u001b[A\n",
      "Validation DataLoader 0:  46%|█████████████████████▎                        | 26/56 [00:01<00:02, 13.47it/s]\u001b[A\n",
      "Validation DataLoader 0:  48%|██████████████████████▏                       | 27/56 [00:02<00:02, 13.47it/s]\u001b[A\n",
      "Validation DataLoader 0:  50%|███████████████████████                       | 28/56 [00:02<00:02, 13.47it/s]\u001b[A\n",
      "Validation DataLoader 0:  52%|███████████████████████▊                      | 29/56 [00:02<00:02, 13.47it/s]\u001b[A\n",
      "Validation DataLoader 0:  54%|████████████████████████▋                     | 30/56 [00:02<00:01, 13.47it/s]\u001b[A\n",
      "Validation DataLoader 0:  55%|█████████████████████████▍                    | 31/56 [00:02<00:01, 13.47it/s]\u001b[A\n",
      "Validation DataLoader 0:  57%|██████████████████████████▎                   | 32/56 [00:02<00:01, 13.47it/s]\u001b[A\n",
      "Validation DataLoader 0:  59%|███████████████████████████                   | 33/56 [00:02<00:01, 13.47it/s]\u001b[A\n",
      "Validation DataLoader 0:  61%|███████████████████████████▉                  | 34/56 [00:02<00:01, 13.48it/s]\u001b[A\n",
      "Validation DataLoader 0:  62%|████████████████████████████▊                 | 35/56 [00:02<00:01, 13.48it/s]\u001b[A\n",
      "Validation DataLoader 0:  64%|█████████████████████████████▌                | 36/56 [00:02<00:01, 13.48it/s]\u001b[A\n",
      "Validation DataLoader 0:  66%|██████████████████████████████▍               | 37/56 [00:02<00:01, 13.48it/s]\u001b[A\n",
      "Validation DataLoader 0:  68%|███████████████████████████████▏              | 38/56 [00:02<00:01, 13.47it/s]\u001b[A\n",
      "Validation DataLoader 0:  70%|████████████████████████████████              | 39/56 [00:02<00:01, 13.47it/s]\u001b[A\n",
      "Validation DataLoader 0:  71%|████████████████████████████████▊             | 40/56 [00:02<00:01, 13.47it/s]\u001b[A\n",
      "Validation DataLoader 0:  73%|█████████████████████████████████▋            | 41/56 [00:03<00:01, 13.47it/s]\u001b[A\n",
      "Validation DataLoader 0:  75%|██████████████████████████████████▌           | 42/56 [00:03<00:01, 13.47it/s]\u001b[A\n",
      "Validation DataLoader 0:  77%|███████████████████████████████████▎          | 43/56 [00:03<00:00, 13.47it/s]\u001b[A\n",
      "Validation DataLoader 0:  79%|████████████████████████████████████▏         | 44/56 [00:03<00:00, 13.47it/s]\u001b[A\n",
      "Validation DataLoader 0:  80%|████████████████████████████████████▉         | 45/56 [00:03<00:00, 13.47it/s]\u001b[A\n",
      "Validation DataLoader 0:  82%|█████████████████████████████████████▊        | 46/56 [00:03<00:00, 13.48it/s]\u001b[A\n",
      "Validation DataLoader 0:  84%|██████████████████████████████████████▌       | 47/56 [00:03<00:00, 13.48it/s]\u001b[A\n",
      "Validation DataLoader 0:  86%|███████████████████████████████████████▍      | 48/56 [00:03<00:00, 13.48it/s]\u001b[A\n",
      "Validation DataLoader 0:  88%|████████████████████████████████████████▎     | 49/56 [00:03<00:00, 13.48it/s]\u001b[A\n",
      "Validation DataLoader 0:  89%|█████████████████████████████████████████     | 50/56 [00:03<00:00, 13.48it/s]\u001b[A\n",
      "Validation DataLoader 0:  91%|█████████████████████████████████████████▉    | 51/56 [00:03<00:00, 13.48it/s]\u001b[A\n",
      "Validation DataLoader 0:  93%|██████████████████████████████████████████▋   | 52/56 [00:03<00:00, 13.48it/s]\u001b[A\n",
      "Validation DataLoader 0:  95%|███████████████████████████████████████████▌  | 53/56 [00:03<00:00, 13.48it/s]\u001b[A\n",
      "Validation DataLoader 0:  96%|████████████████████████████████████████████▎ | 54/56 [00:04<00:00, 13.48it/s]\u001b[A\n",
      "Validation DataLoader 0:  98%|█████████████████████████████████████████████▏| 55/56 [00:04<00:00, 13.48it/s]\u001b[A\n",
      "Validation DataLoader 0: 100%|██████████████████████████████████████████████| 56/56 [00:04<00:00, 13.56it/s]\u001b[A\n",
      "Epoch 9: 100%|████| 985/985 [03:20<00:00,  4.91it/s, v_num=0, train_loss_step=0.129, train_loss_epoch=0.140]\u001b[A"
     ]
    },
    {
     "name": "stderr",
     "output_type": "stream",
     "text": [
      "`Trainer.fit` stopped: `max_epochs=10` reached.\n"
     ]
    },
    {
     "name": "stdout",
     "output_type": "stream",
     "text": [
      "Epoch 9: 100%|████| 985/985 [03:26<00:00,  4.77it/s, v_num=0, train_loss_step=0.129, train_loss_epoch=0.140]\n"
     ]
    }
   ],
   "source": [
    "# See the 'tutorial_2' folder for logs\n",
    "trainer = model.train_on_dataset(\n",
    "    train_dataset=train_dataset,\n",
    "    val_dataset=val_dataset,\n",
    ")"
   ]
  },
  {
   "cell_type": "markdown",
   "id": "b639ec73-0715-44d8-b1b3-5957882e88f3",
   "metadata": {},
   "source": [
    "## Load best model from checkpoint"
   ]
  },
  {
   "cell_type": "markdown",
   "id": "27057163-354f-409a-91a5-76cba662c1e5",
   "metadata": {},
   "source": [
    "During training, the performance of the model on the validation set is checked after each epoch. We will load the version of the model that had the best validation set performance."
   ]
  },
  {
   "cell_type": "code",
   "execution_count": 24,
   "id": "ae44103e-63ec-4f9f-83e5-24a3b89ebcee",
   "metadata": {
    "tags": []
   },
   "outputs": [
    {
     "name": "stdout",
     "output_type": "stream",
     "text": [
      "tutorial_2/2025_08_08_23_29/version_0/checkpoints/epoch=6-step=6895.ckpt\n"
     ]
    },
    {
     "name": "stderr",
     "output_type": "stream",
     "text": [
      "\u001b[34m\u001b[1mwandb\u001b[0m: Downloading large artifact human_state_dict:latest, 939.29MB. 1 files... \n",
      "\u001b[34m\u001b[1mwandb\u001b[0m:   1 of 1 files downloaded.  \n",
      "Done. 0:0:1.3 (734.1MB/s)\n",
      "/opt/conda/lib/python3.11/site-packages/grelu/model/models.py:803: FutureWarning: You are using `torch.load` with `weights_only=False` (the current default value), which uses the default pickle module implicitly. It is possible to construct malicious pickle data which will execute arbitrary code during unpickling (See https://github.com/pytorch/pytorch/blob/main/SECURITY.md#untrusted-models for more details). In a future release, the default value for `weights_only` will be flipped to `True`. This limits the functions that could be executed during unpickling. Arbitrary objects will no longer be allowed to be loaded via this mode unless they are explicitly allowlisted by the user via `torch.serialization.add_safe_globals`. We recommend you start setting `weights_only=True` for any use case where you don't have full control of the loaded file. Please open an issue on GitHub for any issues related to this experimental feature.\n"
     ]
    }
   ],
   "source": [
    "best_checkpoint = trainer.checkpoint_callback.best_model_path\n",
    "print(best_checkpoint)\n",
    "model = grelu.lightning.LightningModel.load_from_checkpoint(best_checkpoint)"
   ]
  },
  {
   "cell_type": "markdown",
   "id": "cf55294c-4ca3-4764-a4cd-fb790a14345d",
   "metadata": {
    "tags": []
   },
   "source": [
    "## Calculate performance metrics on the test set"
   ]
  },
  {
   "cell_type": "markdown",
   "id": "e76b6dd4-c508-4dd8-839e-c2dd952e0d22",
   "metadata": {},
   "source": [
    "We calculate global performance metrics using the `test_on_dataset` method."
   ]
  },
  {
   "cell_type": "code",
   "execution_count": 25,
   "id": "983732d5-d03b-40f6-9706-1edaa08e72f3",
   "metadata": {
    "scrolled": true
   },
   "outputs": [
    {
     "name": "stderr",
     "output_type": "stream",
     "text": [
      "💡 Tip: For seamless cloud uploads and versioning, try installing [litmodels](https://pypi.org/project/litmodels/) to enable LitModelCheckpoint, which syncs automatically with the Lightning model registry.\n",
      "GPU available: True (cuda), used: True\n",
      "TPU available: False, using: 0 TPU cores\n",
      "HPU available: False, using: 0 HPUs\n",
      "LOCAL_RANK: 0 - CUDA_VISIBLE_DEVICES: [0,1,2,3,4,5,6,7]\n"
     ]
    },
    {
     "name": "stdout",
     "output_type": "stream",
     "text": [
      "Testing DataLoader 0: 100%|█████████████████████████████████████████████████| 56/56 [00:06<00:00,  9.01it/s]\n"
     ]
    },
    {
     "data": {
      "text/html": [
       "<pre style=\"white-space:pre;overflow-x:auto;line-height:normal;font-family:Menlo,'DejaVu Sans Mono',consolas,'Courier New',monospace\">┏━━━━━━━━━━━━━━━━━━━━━━━━━━━┳━━━━━━━━━━━━━━━━━━━━━━━━━━━┓\n",
       "┃<span style=\"font-weight: bold\">        Test metric        </span>┃<span style=\"font-weight: bold\">       DataLoader 0        </span>┃\n",
       "┡━━━━━━━━━━━━━━━━━━━━━━━━━━━╇━━━━━━━━━━━━━━━━━━━━━━━━━━━┩\n",
       "│<span style=\"color: #008080; text-decoration-color: #008080\">       test_accuracy       </span>│<span style=\"color: #800080; text-decoration-color: #800080\">    0.9458138942718506     </span>│\n",
       "│<span style=\"color: #008080; text-decoration-color: #008080\">        test_auroc         </span>│<span style=\"color: #800080; text-decoration-color: #800080\">    0.9045498967170715     </span>│\n",
       "│<span style=\"color: #008080; text-decoration-color: #008080\">       test_avgprec        </span>│<span style=\"color: #800080; text-decoration-color: #800080\">    0.6065452098846436     </span>│\n",
       "│<span style=\"color: #008080; text-decoration-color: #008080\">       test_best_f1        </span>│<span style=\"color: #800080; text-decoration-color: #800080\">    0.5680147409439087     </span>│\n",
       "│<span style=\"color: #008080; text-decoration-color: #008080\">         test_loss         </span>│<span style=\"color: #800080; text-decoration-color: #800080\">    0.1548745334148407     </span>│\n",
       "└───────────────────────────┴───────────────────────────┘\n",
       "</pre>\n"
      ],
      "text/plain": [
       "┏━━━━━━━━━━━━━━━━━━━━━━━━━━━┳━━━━━━━━━━━━━━━━━━━━━━━━━━━┓\n",
       "┃\u001b[1m \u001b[0m\u001b[1m       Test metric       \u001b[0m\u001b[1m \u001b[0m┃\u001b[1m \u001b[0m\u001b[1m      DataLoader 0       \u001b[0m\u001b[1m \u001b[0m┃\n",
       "┡━━━━━━━━━━━━━━━━━━━━━━━━━━━╇━━━━━━━━━━━━━━━━━━━━━━━━━━━┩\n",
       "│\u001b[36m \u001b[0m\u001b[36m      test_accuracy      \u001b[0m\u001b[36m \u001b[0m│\u001b[35m \u001b[0m\u001b[35m   0.9458138942718506    \u001b[0m\u001b[35m \u001b[0m│\n",
       "│\u001b[36m \u001b[0m\u001b[36m       test_auroc        \u001b[0m\u001b[36m \u001b[0m│\u001b[35m \u001b[0m\u001b[35m   0.9045498967170715    \u001b[0m\u001b[35m \u001b[0m│\n",
       "│\u001b[36m \u001b[0m\u001b[36m      test_avgprec       \u001b[0m\u001b[36m \u001b[0m│\u001b[35m \u001b[0m\u001b[35m   0.6065452098846436    \u001b[0m\u001b[35m \u001b[0m│\n",
       "│\u001b[36m \u001b[0m\u001b[36m      test_best_f1       \u001b[0m\u001b[36m \u001b[0m│\u001b[35m \u001b[0m\u001b[35m   0.5680147409439087    \u001b[0m\u001b[35m \u001b[0m│\n",
       "│\u001b[36m \u001b[0m\u001b[36m        test_loss        \u001b[0m\u001b[36m \u001b[0m│\u001b[35m \u001b[0m\u001b[35m   0.1548745334148407    \u001b[0m\u001b[35m \u001b[0m│\n",
       "└───────────────────────────┴───────────────────────────┘\n"
      ]
     },
     "metadata": {},
     "output_type": "display_data"
    }
   ],
   "source": [
    "test_metrics = model.test_on_dataset(\n",
    "    test_dataset,\n",
    "    devices=0,\n",
    "    num_workers=8,\n",
    "    batch_size=1024,\n",
    ")"
   ]
  },
  {
   "cell_type": "markdown",
   "id": "0301376d-51c1-417a-97d7-444224cf7433",
   "metadata": {},
   "source": [
    "`test_metrics` is a dataframe containing metrics for each model task."
   ]
  },
  {
   "cell_type": "code",
   "execution_count": 26,
   "id": "8fa2dfc9-b04a-47a2-8f5d-8cdb16e88c70",
   "metadata": {},
   "outputs": [
    {
     "data": {
      "text/html": [
       "<div>\n",
       "<style scoped>\n",
       "    .dataframe tbody tr th:only-of-type {\n",
       "        vertical-align: middle;\n",
       "    }\n",
       "\n",
       "    .dataframe tbody tr th {\n",
       "        vertical-align: top;\n",
       "    }\n",
       "\n",
       "    .dataframe thead th {\n",
       "        text-align: right;\n",
       "    }\n",
       "</style>\n",
       "<table border=\"1\" class=\"dataframe\">\n",
       "  <thead>\n",
       "    <tr style=\"text-align: right;\">\n",
       "      <th></th>\n",
       "      <th>test_accuracy</th>\n",
       "      <th>test_auroc</th>\n",
       "      <th>test_avgprec</th>\n",
       "      <th>test_best_f1</th>\n",
       "    </tr>\n",
       "  </thead>\n",
       "  <tbody>\n",
       "    <tr>\n",
       "      <th>Follicular</th>\n",
       "      <td>0.908724</td>\n",
       "      <td>0.879193</td>\n",
       "      <td>0.626169</td>\n",
       "      <td>0.578588</td>\n",
       "    </tr>\n",
       "    <tr>\n",
       "      <th>Fibro General</th>\n",
       "      <td>0.916326</td>\n",
       "      <td>0.882369</td>\n",
       "      <td>0.624288</td>\n",
       "      <td>0.575663</td>\n",
       "    </tr>\n",
       "    <tr>\n",
       "      <th>Acinar</th>\n",
       "      <td>0.944128</td>\n",
       "      <td>0.913832</td>\n",
       "      <td>0.649700</td>\n",
       "      <td>0.600823</td>\n",
       "    </tr>\n",
       "    <tr>\n",
       "      <th>T Lymphocyte 1 (CD8+)</th>\n",
       "      <td>0.961104</td>\n",
       "      <td>0.930530</td>\n",
       "      <td>0.633522</td>\n",
       "      <td>0.592739</td>\n",
       "    </tr>\n",
       "    <tr>\n",
       "      <th>T lymphocyte 2 (CD4+)</th>\n",
       "      <td>0.966757</td>\n",
       "      <td>0.939184</td>\n",
       "      <td>0.617657</td>\n",
       "      <td>0.573524</td>\n",
       "    </tr>\n",
       "  </tbody>\n",
       "</table>\n",
       "</div>"
      ],
      "text/plain": [
       "                       test_accuracy  test_auroc  test_avgprec  test_best_f1\n",
       "Follicular                  0.908724    0.879193      0.626169      0.578588\n",
       "Fibro General               0.916326    0.882369      0.624288      0.575663\n",
       "Acinar                      0.944128    0.913832      0.649700      0.600823\n",
       "T Lymphocyte 1 (CD8+)       0.961104    0.930530      0.633522      0.592739\n",
       "T lymphocyte 2 (CD4+)       0.966757    0.939184      0.617657      0.573524"
      ]
     },
     "execution_count": 26,
     "metadata": {},
     "output_type": "execute_result"
    }
   ],
   "source": [
    "test_metrics.head()"
   ]
  },
  {
   "cell_type": "markdown",
   "id": "010822f3-570b-4a32-8f72-66b943a03b9b",
   "metadata": {},
   "source": [
    "## Visualize performance metrics"
   ]
  },
  {
   "cell_type": "markdown",
   "id": "cc7e7810-26ea-4c61-8ad3-de45bf404694",
   "metadata": {},
   "source": [
    "We can plot the distribution of each metric across all cell types:"
   ]
  },
  {
   "cell_type": "code",
   "execution_count": 27,
   "id": "ac5e8e0c-34c5-41c2-8bed-d1ec814b9813",
   "metadata": {},
   "outputs": [
    {
     "data": {
      "image/png": "[encoded data removed]"
     },
     "metadata": {
      "image/png": {
       "height": 200,
       "width": 300
      }
     },
     "output_type": "display_data"
    }
   ],
   "source": [
    "grelu.visualize.plot_distribution(\n",
    "    test_metrics.test_best_f1,\n",
    "    method='histogram',\n",
    "    title='Best F1 Score per task',\n",
    "    binwidth=0.005,\n",
    "    figsize=(3,2),\n",
    ")"
   ]
  },
  {
   "cell_type": "code",
   "execution_count": 28,
   "id": "91c0c54b-38cd-43d2-8f31-37036f50016a",
   "metadata": {},
   "outputs": [
    {
     "data": {
      "image/png": "[encoded data removed]"
     },
     "metadata": {
      "image/png": {
       "height": 200,
       "width": 300
      }
     },
     "output_type": "display_data"
    }
   ],
   "source": [
    "grelu.visualize.plot_distribution(\n",
    "    test_metrics.test_avgprec,\n",
    "    method='histogram',\n",
    "    title='Average Precision per task',\n",
    "    binwidth=0.005,\n",
    "    figsize=(3,2),\n",
    ")"
   ]
  },
  {
   "cell_type": "code",
   "execution_count": 29,
   "id": "b0e8b1b8-d579-45c6-b341-4823ffe71382",
   "metadata": {},
   "outputs": [
    {
     "data": {
      "image/png": "[encoded data removed]"
     },
     "metadata": {
      "image/png": {
       "height": 200,
       "width": 300
      }
     },
     "output_type": "display_data"
    }
   ],
   "source": [
    "grelu.visualize.plot_distribution(\n",
    "    test_metrics.test_auroc,\n",
    "    method='histogram',\n",
    "    title='AUROC per task',\n",
    "    binwidth=0.005,\n",
    "    figsize=(3,2),\n",
    ")"
   ]
  },
  {
   "cell_type": "markdown",
   "id": "c6652987-4305-4ee7-8f89-680e5790cbce",
   "metadata": {},
   "source": [
    "## Run inference on the test set"
   ]
  },
  {
   "cell_type": "markdown",
   "id": "6fe28b91-ebd8-4391-9096-42e61cb6ba2c",
   "metadata": {},
   "source": [
    "Instead of overall metrics, we can also get the individual predictions for each test set example."
   ]
  },
  {
   "cell_type": "code",
   "execution_count": 30,
   "id": "0ed35a77-d328-48c1-9380-cb2597c5788c",
   "metadata": {
    "tags": []
   },
   "outputs": [
    {
     "name": "stderr",
     "output_type": "stream",
     "text": [
      "💡 Tip: For seamless cloud uploads and versioning, try installing [litmodels](https://pypi.org/project/litmodels/) to enable LitModelCheckpoint, which syncs automatically with the Lightning model registry.\n",
      "GPU available: True (cuda), used: True\n",
      "TPU available: False, using: 0 TPU cores\n",
      "HPU available: False, using: 0 HPUs\n",
      "LOCAL_RANK: 0 - CUDA_VISIBLE_DEVICES: [0,1,2,3,4,5,6,7]\n"
     ]
    },
    {
     "name": "stdout",
     "output_type": "stream",
     "text": [
      "Predicting DataLoader 0: 100%|██████████████████████████████████████████████| 56/56 [00:03<00:00, 14.17it/s]\n"
     ]
    },
    {
     "data": {
      "text/html": [
       "<div>\n",
       "<style scoped>\n",
       "    .dataframe tbody tr th:only-of-type {\n",
       "        vertical-align: middle;\n",
       "    }\n",
       "\n",
       "    .dataframe tbody tr th {\n",
       "        vertical-align: top;\n",
       "    }\n",
       "\n",
       "    .dataframe thead th {\n",
       "        text-align: right;\n",
       "    }\n",
       "</style>\n",
       "<table border=\"1\" class=\"dataframe\">\n",
       "  <thead>\n",
       "    <tr style=\"text-align: right;\">\n",
       "      <th></th>\n",
       "      <th>Follicular</th>\n",
       "      <th>Fibro General</th>\n",
       "      <th>Acinar</th>\n",
       "      <th>T Lymphocyte 1 (CD8+)</th>\n",
       "      <th>T lymphocyte 2 (CD4+)</th>\n",
       "      <th>Natural Killer T</th>\n",
       "      <th>Naive T</th>\n",
       "      <th>Fibro Epithelial</th>\n",
       "      <th>Cardiac Pericyte 1</th>\n",
       "      <th>Pericyte General 1</th>\n",
       "      <th>...</th>\n",
       "      <th>Fetal Cardiac Fibroblast</th>\n",
       "      <th>Fetal Fibro General 2</th>\n",
       "      <th>Fetal Fibro Muscle 1</th>\n",
       "      <th>Fetal Fibro General 3</th>\n",
       "      <th>Fetal Mesangial 2</th>\n",
       "      <th>Fetal Stellate</th>\n",
       "      <th>Fetal Alveolar Epithelial 1</th>\n",
       "      <th>Fetal Cilliated</th>\n",
       "      <th>Fetal Excitatory Neuron 1</th>\n",
       "      <th>Fetal Excitatory Neuron 2</th>\n",
       "    </tr>\n",
       "  </thead>\n",
       "  <tbody>\n",
       "    <tr>\n",
       "      <th>0</th>\n",
       "      <td>0.212833</td>\n",
       "      <td>0.611864</td>\n",
       "      <td>0.334547</td>\n",
       "      <td>0.667248</td>\n",
       "      <td>0.359331</td>\n",
       "      <td>0.305729</td>\n",
       "      <td>0.392535</td>\n",
       "      <td>0.529601</td>\n",
       "      <td>0.255334</td>\n",
       "      <td>0.565867</td>\n",
       "      <td>...</td>\n",
       "      <td>0.082003</td>\n",
       "      <td>0.101487</td>\n",
       "      <td>0.101913</td>\n",
       "      <td>0.101705</td>\n",
       "      <td>0.109245</td>\n",
       "      <td>0.041238</td>\n",
       "      <td>0.115485</td>\n",
       "      <td>0.060792</td>\n",
       "      <td>0.148941</td>\n",
       "      <td>0.033144</td>\n",
       "    </tr>\n",
       "    <tr>\n",
       "      <th>1</th>\n",
       "      <td>0.008077</td>\n",
       "      <td>0.021298</td>\n",
       "      <td>0.001778</td>\n",
       "      <td>0.087957</td>\n",
       "      <td>0.104186</td>\n",
       "      <td>0.039692</td>\n",
       "      <td>0.020076</td>\n",
       "      <td>0.005464</td>\n",
       "      <td>0.033182</td>\n",
       "      <td>0.004245</td>\n",
       "      <td>...</td>\n",
       "      <td>0.055374</td>\n",
       "      <td>0.016801</td>\n",
       "      <td>0.009305</td>\n",
       "      <td>0.014936</td>\n",
       "      <td>0.006771</td>\n",
       "      <td>0.017647</td>\n",
       "      <td>0.021076</td>\n",
       "      <td>0.009268</td>\n",
       "      <td>0.019644</td>\n",
       "      <td>0.009579</td>\n",
       "    </tr>\n",
       "    <tr>\n",
       "      <th>2</th>\n",
       "      <td>0.011849</td>\n",
       "      <td>0.023852</td>\n",
       "      <td>0.009368</td>\n",
       "      <td>0.036790</td>\n",
       "      <td>0.025965</td>\n",
       "      <td>0.043072</td>\n",
       "      <td>0.011761</td>\n",
       "      <td>0.024876</td>\n",
       "      <td>0.073394</td>\n",
       "      <td>0.011559</td>\n",
       "      <td>...</td>\n",
       "      <td>0.031714</td>\n",
       "      <td>0.011118</td>\n",
       "      <td>0.016501</td>\n",
       "      <td>0.025617</td>\n",
       "      <td>0.015859</td>\n",
       "      <td>0.010510</td>\n",
       "      <td>0.013655</td>\n",
       "      <td>0.012846</td>\n",
       "      <td>0.195682</td>\n",
       "      <td>0.020371</td>\n",
       "    </tr>\n",
       "    <tr>\n",
       "      <th>3</th>\n",
       "      <td>0.839731</td>\n",
       "      <td>0.858924</td>\n",
       "      <td>0.882282</td>\n",
       "      <td>0.798909</td>\n",
       "      <td>0.828403</td>\n",
       "      <td>0.740011</td>\n",
       "      <td>0.769896</td>\n",
       "      <td>0.757948</td>\n",
       "      <td>0.803414</td>\n",
       "      <td>0.722231</td>\n",
       "      <td>...</td>\n",
       "      <td>0.834718</td>\n",
       "      <td>0.828456</td>\n",
       "      <td>0.788251</td>\n",
       "      <td>0.839180</td>\n",
       "      <td>0.792963</td>\n",
       "      <td>0.707644</td>\n",
       "      <td>0.878509</td>\n",
       "      <td>0.858247</td>\n",
       "      <td>0.791616</td>\n",
       "      <td>0.530717</td>\n",
       "    </tr>\n",
       "    <tr>\n",
       "      <th>4</th>\n",
       "      <td>0.266201</td>\n",
       "      <td>0.341110</td>\n",
       "      <td>0.304534</td>\n",
       "      <td>0.549160</td>\n",
       "      <td>0.471074</td>\n",
       "      <td>0.262215</td>\n",
       "      <td>0.301424</td>\n",
       "      <td>0.193280</td>\n",
       "      <td>0.177328</td>\n",
       "      <td>0.225119</td>\n",
       "      <td>...</td>\n",
       "      <td>0.142015</td>\n",
       "      <td>0.167671</td>\n",
       "      <td>0.150591</td>\n",
       "      <td>0.209051</td>\n",
       "      <td>0.124378</td>\n",
       "      <td>0.137615</td>\n",
       "      <td>0.331137</td>\n",
       "      <td>0.251757</td>\n",
       "      <td>0.149968</td>\n",
       "      <td>0.076462</td>\n",
       "    </tr>\n",
       "  </tbody>\n",
       "</table>\n",
       "<p>5 rows × 203 columns</p>\n",
       "</div>"
      ],
      "text/plain": [
       "   Follicular  Fibro General    Acinar  T Lymphocyte 1 (CD8+)  \\\n",
       "0    0.212833       0.611864  0.334547               0.667248   \n",
       "1    0.008077       0.021298  0.001778               0.087957   \n",
       "2    0.011849       0.023852  0.009368               0.036790   \n",
       "3    0.839731       0.858924  0.882282               0.798909   \n",
       "4    0.266201       0.341110  0.304534               0.549160   \n",
       "\n",
       "   T lymphocyte 2 (CD4+)  Natural Killer T   Naive T  Fibro Epithelial  \\\n",
       "0               0.359331          0.305729  0.392535          0.529601   \n",
       "1               0.104186          0.039692  0.020076          0.005464   \n",
       "2               0.025965          0.043072  0.011761          0.024876   \n",
       "3               0.828403          0.740011  0.769896          0.757948   \n",
       "4               0.471074          0.262215  0.301424          0.193280   \n",
       "\n",
       "   Cardiac Pericyte 1  Pericyte General 1  ...  Fetal Cardiac Fibroblast  \\\n",
       "0            0.255334            0.565867  ...                  0.082003   \n",
       "1            0.033182            0.004245  ...                  0.055374   \n",
       "2            0.073394            0.011559  ...                  0.031714   \n",
       "3            0.803414            0.722231  ...                  0.834718   \n",
       "4            0.177328            0.225119  ...                  0.142015   \n",
       "\n",
       "   Fetal Fibro General 2  Fetal Fibro Muscle 1  Fetal Fibro General 3  \\\n",
       "0               0.101487              0.101913               0.101705   \n",
       "1               0.016801              0.009305               0.014936   \n",
       "2               0.011118              0.016501               0.025617   \n",
       "3               0.828456              0.788251               0.839180   \n",
       "4               0.167671              0.150591               0.209051   \n",
       "\n",
       "   Fetal Mesangial 2  Fetal Stellate  Fetal Alveolar Epithelial 1  \\\n",
       "0           0.109245        0.041238                     0.115485   \n",
       "1           0.006771        0.017647                     0.021076   \n",
       "2           0.015859        0.010510                     0.013655   \n",
       "3           0.792963        0.707644                     0.878509   \n",
       "4           0.124378        0.137615                     0.331137   \n",
       "\n",
       "   Fetal Cilliated  Fetal Excitatory Neuron 1  Fetal Excitatory Neuron 2  \n",
       "0         0.060792                   0.148941                   0.033144  \n",
       "1         0.009268                   0.019644                   0.009579  \n",
       "2         0.012846                   0.195682                   0.020371  \n",
       "3         0.858247                   0.791616                   0.530717  \n",
       "4         0.251757                   0.149968                   0.076462  \n",
       "\n",
       "[5 rows x 203 columns]"
      ]
     },
     "execution_count": 30,
     "metadata": {},
     "output_type": "execute_result"
    }
   ],
   "source": [
    "probs = model.predict_on_dataset(\n",
    "    test_dataset,\n",
    "    devices=0,\n",
    "    num_workers=8,\n",
    "    batch_size=1024,\n",
    "    return_df=True # Return the output as a pandas dataframe\n",
    ")\n",
    "\n",
    "probs.head()"
   ]
  },
  {
   "cell_type": "markdown",
   "id": "4ee46c4c-771c-4ba1-95bc-a44e5ee24563",
   "metadata": {},
   "source": [
    "Since this is a binary classification model, the output takes the form of probabilities ranging from 0 to 1. We interpret these as the predicted probabilities of the element being accessible in each cell type."
   ]
  },
  {
   "cell_type": "markdown",
   "id": "1f11bb30-9471-4a33-a1fc-80e0a9fbd87d",
   "metadata": {},
   "source": [
    "## Plot additional visualizations of the test set predictions"
   ]
  },
  {
   "cell_type": "markdown",
   "id": "2906a8a3-9ae9-4437-ad7e-ba4ce4ba7c59",
   "metadata": {},
   "source": [
    "We can plot a calibration curve for all the tasks. This shows us the fraction of true positive examples, for different levels of model-predicted probability. "
   ]
  },
  {
   "cell_type": "code",
   "execution_count": 31,
   "id": "e1bde958-9815-4160-a9f3-0fcca6522a0f",
   "metadata": {
    "tags": []
   },
   "outputs": [
    {
     "data": {
      "image/png": "[encoded data removed]"
     },
     "metadata": {
      "image/png": {
       "height": 300,
       "width": 400
      }
     },
     "output_type": "display_data"
    }
   ],
   "source": [
    "grelu.visualize.plot_calibration_curve(\n",
    "    probs, labels=test_dataset.labels, aggregate=False, show_legend=False\n",
    ")"
   ]
  },
  {
   "cell_type": "markdown",
   "id": "32ac543f-b96c-4bdb-b7f2-3eb799550564",
   "metadata": {},
   "source": [
    "We can also pick any cell type and compare the predictions on accessible and non-accessible elements."
   ]
  },
  {
   "cell_type": "code",
   "execution_count": 32,
   "id": "51d89c73-4926-43e8-ae38-92ef7103da99",
   "metadata": {
    "tags": []
   },
   "outputs": [
    {
     "data": {
      "image/png": "[encoded data removed]"
     },
     "metadata": {
      "image/png": {
       "height": 300,
       "width": 400
      }
     },
     "output_type": "display_data"
    }
   ],
   "source": [
    "grelu.visualize.plot_binary_preds(\n",
    "    probs,\n",
    "    labels=test_dataset.labels,\n",
    "    tasks='Microglia',\n",
    "    figure_size=(3, 2) # Width, height\n",
    ")"
   ]
  },
  {
   "cell_type": "markdown",
   "id": "d4c9d21e-c1b6-4a79-a47f-76b47e26b3a4",
   "metadata": {
    "tags": []
   },
   "source": [
    "## Interpret model predictions (for microglia) using TF-modisco"
   ]
  },
  {
   "cell_type": "markdown",
   "id": "47c011bb-8560-477a-bc4e-37266af877f4",
   "metadata": {},
   "source": [
    "Suppose we want to focus specifically on Microglia. We can create a transform - a class that takes in the model's prediction and returns a function of the prediction, e.g. the prediction for only a subset of cell types that we are interested in. Then, all subsquent analyses that we do will be based only on this subset of the full prediction matrix.\n",
    "\n",
    "Transforms can also compute more complicated functions of the model's output - for example, the `Specificity` class of transforms take in the full set of predictions produced by the model and compute the predicted specificity of each sequence to a particular cell type or otuput track.\n",
    "\n",
    "In this example, we use the `Specificity` transform to analyze the predicted cell type specificity of sequences in microglia - i.e. the predicted accessibility in microglia minus the mean predicted accessibility in other cell types. See the `Aggregate` class if you want to just subset the predictions to microglia."
   ]
  },
  {
   "cell_type": "code",
   "execution_count": 33,
   "id": "84e55bad-0a5b-483e-8654-e2e0fc86da60",
   "metadata": {},
   "outputs": [],
   "source": [
    "from grelu.transforms.prediction_transforms import Specificity\n",
    "\n",
    "microglia_scorer = Specificity(\n",
    "    on_tasks = [\"Microglia\"],\n",
    "    model = model,\n",
    "    compare_func='subtract' # Subtract the prediction in other cell types from the prediction in microglia\n",
    ")"
   ]
  },
  {
   "cell_type": "markdown",
   "id": "6ff90c8a-3529-48d0-8e39-f322d89e6940",
   "metadata": {},
   "source": [
    "The simplest way to use a transform is to apply it directly to the model's predictions using the `.compute()` method. Here, we apply this microglia specificity transform to the test set predictions:"
   ]
  },
  {
   "cell_type": "code",
   "execution_count": 34,
   "id": "a787081d-466f-4ef7-aef7-03cba5ad0cf0",
   "metadata": {},
   "outputs": [
    {
     "data": {
      "text/plain": [
       "array([-0.1008111 , -0.00918946,  0.05977033, -0.27425814, -0.15814793],\n",
       "      dtype=float32)"
      ]
     },
     "execution_count": 34,
     "metadata": {},
     "output_type": "execute_result"
    }
   ],
   "source": [
    "# Transforms expect a 3-D input - add an axis 2 to the predictions.\n",
    "mcg_specificity = microglia_scorer.compute(np.expand_dims(probs, 2)).squeeze()\n",
    "\n",
    "# This is the predicted specificity for each test sequence in microglia\n",
    "mcg_specificity[:5]"
   ]
  },
  {
   "cell_type": "markdown",
   "id": "a53db709-cc3a-45e1-8531-934e981b3ba3",
   "metadata": {},
   "source": [
    "We can now select the 250 test set peaks with the highest predicted specificity in microglia:"
   ]
  },
  {
   "cell_type": "code",
   "execution_count": 35,
   "id": "6032150b-b777-4546-b48d-55f62169742f",
   "metadata": {},
   "outputs": [
    {
     "data": {
      "text/html": [
       "<div>\n",
       "<style scoped>\n",
       "    .dataframe tbody tr th:only-of-type {\n",
       "        vertical-align: middle;\n",
       "    }\n",
       "\n",
       "    .dataframe tbody tr th {\n",
       "        vertical-align: top;\n",
       "    }\n",
       "\n",
       "    .dataframe thead th {\n",
       "        text-align: right;\n",
       "    }\n",
       "</style>\n",
       "<table border=\"1\" class=\"dataframe\">\n",
       "  <thead>\n",
       "    <tr style=\"text-align: right;\">\n",
       "      <th></th>\n",
       "      <th>chrom</th>\n",
       "      <th>start</th>\n",
       "      <th>end</th>\n",
       "      <th>Class</th>\n",
       "      <th>Present in fetal tissues</th>\n",
       "      <th>Present in adult tissues</th>\n",
       "      <th>CRE module</th>\n",
       "      <th>width</th>\n",
       "    </tr>\n",
       "  </thead>\n",
       "  <tbody>\n",
       "    <tr>\n",
       "      <th>22392</th>\n",
       "      <td>chr1</td>\n",
       "      <td>43573501</td>\n",
       "      <td>43573701</td>\n",
       "      <td>Distal</td>\n",
       "      <td>yes</td>\n",
       "      <td>yes</td>\n",
       "      <td>106</td>\n",
       "      <td>400</td>\n",
       "    </tr>\n",
       "    <tr>\n",
       "      <th>44056</th>\n",
       "      <td>chr1</td>\n",
       "      <td>96126748</td>\n",
       "      <td>96126948</td>\n",
       "      <td>Distal</td>\n",
       "      <td>yes</td>\n",
       "      <td>no</td>\n",
       "      <td>94</td>\n",
       "      <td>400</td>\n",
       "    </tr>\n",
       "    <tr>\n",
       "      <th>32372</th>\n",
       "      <td>chr1</td>\n",
       "      <td>65359555</td>\n",
       "      <td>65359755</td>\n",
       "      <td>Distal</td>\n",
       "      <td>no</td>\n",
       "      <td>yes</td>\n",
       "      <td>67</td>\n",
       "      <td>400</td>\n",
       "    </tr>\n",
       "    <tr>\n",
       "      <th>23957</th>\n",
       "      <td>chr1</td>\n",
       "      <td>46772642</td>\n",
       "      <td>46772842</td>\n",
       "      <td>Distal</td>\n",
       "      <td>no</td>\n",
       "      <td>yes</td>\n",
       "      <td>150</td>\n",
       "      <td>400</td>\n",
       "    </tr>\n",
       "    <tr>\n",
       "      <th>47737</th>\n",
       "      <td>chr1</td>\n",
       "      <td>108913166</td>\n",
       "      <td>108913366</td>\n",
       "      <td>Distal</td>\n",
       "      <td>yes</td>\n",
       "      <td>yes</td>\n",
       "      <td>37</td>\n",
       "      <td>400</td>\n",
       "    </tr>\n",
       "    <tr>\n",
       "      <th>...</th>\n",
       "      <td>...</td>\n",
       "      <td>...</td>\n",
       "      <td>...</td>\n",
       "      <td>...</td>\n",
       "      <td>...</td>\n",
       "      <td>...</td>\n",
       "      <td>...</td>\n",
       "      <td>...</td>\n",
       "    </tr>\n",
       "    <tr>\n",
       "      <th>46517</th>\n",
       "      <td>chr1</td>\n",
       "      <td>103765391</td>\n",
       "      <td>103765591</td>\n",
       "      <td>Distal</td>\n",
       "      <td>yes</td>\n",
       "      <td>no</td>\n",
       "      <td>72</td>\n",
       "      <td>400</td>\n",
       "    </tr>\n",
       "    <tr>\n",
       "      <th>55023</th>\n",
       "      <td>chr1</td>\n",
       "      <td>150557777</td>\n",
       "      <td>150557977</td>\n",
       "      <td>Promoter</td>\n",
       "      <td>no</td>\n",
       "      <td>yes</td>\n",
       "      <td>7</td>\n",
       "      <td>400</td>\n",
       "    </tr>\n",
       "    <tr>\n",
       "      <th>52625</th>\n",
       "      <td>chr1</td>\n",
       "      <td>118788443</td>\n",
       "      <td>118788643</td>\n",
       "      <td>Distal</td>\n",
       "      <td>yes</td>\n",
       "      <td>yes</td>\n",
       "      <td>114</td>\n",
       "      <td>400</td>\n",
       "    </tr>\n",
       "    <tr>\n",
       "      <th>18728</th>\n",
       "      <td>chr1</td>\n",
       "      <td>36232525</td>\n",
       "      <td>36232725</td>\n",
       "      <td>Distal</td>\n",
       "      <td>yes</td>\n",
       "      <td>yes</td>\n",
       "      <td>52</td>\n",
       "      <td>400</td>\n",
       "    </tr>\n",
       "    <tr>\n",
       "      <th>22410</th>\n",
       "      <td>chr1</td>\n",
       "      <td>43592990</td>\n",
       "      <td>43593190</td>\n",
       "      <td>Distal</td>\n",
       "      <td>yes</td>\n",
       "      <td>no</td>\n",
       "      <td>7</td>\n",
       "      <td>400</td>\n",
       "    </tr>\n",
       "  </tbody>\n",
       "</table>\n",
       "<p>250 rows × 8 columns</p>\n",
       "</div>"
      ],
      "text/plain": [
       "      chrom      start        end     Class Present in fetal tissues  \\\n",
       "22392  chr1   43573501   43573701    Distal                      yes   \n",
       "44056  chr1   96126748   96126948    Distal                      yes   \n",
       "32372  chr1   65359555   65359755    Distal                       no   \n",
       "23957  chr1   46772642   46772842    Distal                       no   \n",
       "47737  chr1  108913166  108913366    Distal                      yes   \n",
       "...     ...        ...        ...       ...                      ...   \n",
       "46517  chr1  103765391  103765591    Distal                      yes   \n",
       "55023  chr1  150557777  150557977  Promoter                       no   \n",
       "52625  chr1  118788443  118788643    Distal                      yes   \n",
       "18728  chr1   36232525   36232725    Distal                      yes   \n",
       "22410  chr1   43592990   43593190    Distal                      yes   \n",
       "\n",
       "      Present in adult tissues  CRE module  width  \n",
       "22392                      yes         106    400  \n",
       "44056                       no          94    400  \n",
       "32372                      yes          67    400  \n",
       "23957                      yes         150    400  \n",
       "47737                      yes          37    400  \n",
       "...                        ...         ...    ...  \n",
       "46517                       no          72    400  \n",
       "55023                      yes           7    400  \n",
       "52625                      yes         114    400  \n",
       "18728                      yes          52    400  \n",
       "22410                       no           7    400  \n",
       "\n",
       "[250 rows x 8 columns]"
      ]
     },
     "execution_count": 35,
     "metadata": {},
     "output_type": "execute_result"
    }
   ],
   "source": [
    "mcg_peaks = ad.var.iloc[np.argsort(mcg_specificity)].tail(250)\n",
    "mcg_peaks"
   ]
  },
  {
   "cell_type": "markdown",
   "id": "f3c96e22-0fa4-4d64-b7ae-16c5a56a4963",
   "metadata": {},
   "source": [
    "But transforms are more powerful than this - they allow you to do any downstream task, e.g. interpretation, variant effect prediction and design, with respect to the computed quantity. \n",
    "\n",
    "Here, we will run TF-Modisco on these selected peaks. TF-Modisco identifies motifs that consistently contribute to the model's output. Since we are using the `microglia_scorer` filter to compute predicted specificity to microglia, we will only get motifs that contribute to increased or decreased specificity. We also use TOMTOM to match the TF-Modisco motifs to a set of reference motifs. Here, we use the HOCOMOCO v12 motif set (https://hocomoco12.autosome.org/).\n",
    "\n",
    "See the subsequent tutorials for more examples of how to use transforms."
   ]
  },
  {
   "cell_type": "code",
   "execution_count": 38,
   "id": "aa79adc4-68b4-4b9c-b8e5-441c1cec0be5",
   "metadata": {
    "scrolled": true,
    "tags": []
   },
   "outputs": [
    {
     "name": "stdout",
     "output_type": "stream",
     "text": [
      "Getting attributions\n"
     ]
    },
    {
     "name": "stderr",
     "output_type": "stream",
     "text": [
      "/opt/conda/lib/python3.11/site-packages/grelu/interpret/score.py:172: UserWarning: hypothetical = True will be ignored as method is not deepshap.\n",
      "/opt/conda/lib/python3.11/site-packages/captum/_utils/gradient.py:57: UserWarning: Input Tensor 0 did not already require gradients, required_grads has been set automatically.\n"
     ]
    },
    {
     "name": "stdout",
     "output_type": "stream",
     "text": [
      "Running modisco\n",
      "3 positive and 7 negative patterns were found.\n",
      "Writing modisco output\n",
      "Creating sequence logos\n",
      "Validation DataLoader 0:   0%|                                                       | 0/56 [46:39<?, ?it/s]\n",
      "Creating html report\n",
      "Running TOMTOM\n",
      "CPU times: user 58min 31s, sys: 11.4 s, total: 58min 42s\n",
      "Wall time: 1min 47s\n"
     ]
    }
   ],
   "source": [
    "%%time\n",
    "import grelu.interpret.modisco\n",
    "grelu.interpret.modisco.run_modisco(\n",
    "    model,\n",
    "    seqs=mcg_peaks, \n",
    "    genome=\"hg38\",\n",
    "    prediction_transform=microglia_scorer, # Attributions will be calculated with respect to this output\n",
    "    meme_file=\"hocomoco_v13\", # We will compare the Modisco CWMs to HOCOMOCO motifs\n",
    "    method=\"saliency\", # Base-level attribution scores will be calculated using saliency. You can also use ISM here.\n",
    "    correct_grad=True, # Gradient correction; only applied with saliency\n",
    "    out_dir=experiment,\n",
    "    batch_size=256,\n",
    "    devices=0,\n",
    "    num_workers=32,\n",
    "    seed=0,\n",
    "\n",
    "    # Here, we are demonstrating this function on a small number of peaks,\n",
    "    # So we set these modisco parameters to a low value. In real runs, we suggest\n",
    "    # using larger or default values.\n",
    "    min_metacluster_size=6,\n",
    "    final_min_cluster_size=6,    \n",
    ")"
   ]
  },
  {
   "cell_type": "markdown",
   "id": "de6e5701-8de9-4a9f-adf9-3075e0eddb72",
   "metadata": {
    "tags": []
   },
   "source": [
    "## Load TOMTOM output for modisco motifs"
   ]
  },
  {
   "cell_type": "markdown",
   "id": "2bd6cbcf-f894-4a2f-a995-37c6377212dd",
   "metadata": {},
   "source": [
    "The full output of TF-Modisco and TOMTOM can be found in the experiment folder. Here, we read the output of TOMTOM and list the significant TOMTOM matches, i.e. known TF motifs that are similar to those found by TF-MoDISco."
   ]
  },
  {
   "cell_type": "code",
   "execution_count": 43,
   "id": "0c49b64c-2adb-4850-a726-c2887071ef41",
   "metadata": {},
   "outputs": [
    {
     "data": {
      "text/html": [
       "<div>\n",
       "<style scoped>\n",
       "    .dataframe tbody tr th:only-of-type {\n",
       "        vertical-align: middle;\n",
       "    }\n",
       "\n",
       "    .dataframe tbody tr th {\n",
       "        vertical-align: top;\n",
       "    }\n",
       "\n",
       "    .dataframe thead th {\n",
       "        text-align: right;\n",
       "    }\n",
       "</style>\n",
       "<table border=\"1\" class=\"dataframe\">\n",
       "  <thead>\n",
       "    <tr style=\"text-align: right;\">\n",
       "      <th></th>\n",
       "      <th>Query_ID</th>\n",
       "      <th>Target_ID</th>\n",
       "      <th>Optimal_offset</th>\n",
       "      <th>p-value</th>\n",
       "      <th>E-value</th>\n",
       "      <th>q-value</th>\n",
       "      <th>Overlap</th>\n",
       "      <th>Query_consensus</th>\n",
       "      <th>Target_consensus</th>\n",
       "      <th>Orientation</th>\n",
       "    </tr>\n",
       "  </thead>\n",
       "  <tbody>\n",
       "    <tr>\n",
       "      <th>183</th>\n",
       "      <td>pos_pattern_0</td>\n",
       "      <td>ELF5.H13CORE.0.PSM.A</td>\n",
       "      <td>2.0</td>\n",
       "      <td>3.444588e-07</td>\n",
       "      <td>0.000555</td>\n",
       "      <td>0.000951</td>\n",
       "      <td>10.0</td>\n",
       "      <td>ACTTCCTCAT</td>\n",
       "      <td>AGGAAGGAGGAAGTAA</td>\n",
       "      <td>-</td>\n",
       "    </tr>\n",
       "    <tr>\n",
       "      <th>218</th>\n",
       "      <td>pos_pattern_0</td>\n",
       "      <td>ETV6.H13CORE.1.P.B</td>\n",
       "      <td>2.0</td>\n",
       "      <td>1.615567e-06</td>\n",
       "      <td>0.002603</td>\n",
       "      <td>0.001505</td>\n",
       "      <td>10.0</td>\n",
       "      <td>ACTTCCTCAT</td>\n",
       "      <td>AAGAGGAAGTGG</td>\n",
       "      <td>-</td>\n",
       "    </tr>\n",
       "    <tr>\n",
       "      <th>997</th>\n",
       "      <td>pos_pattern_0</td>\n",
       "      <td>SPI1.H13CORE.0.P.B</td>\n",
       "      <td>2.0</td>\n",
       "      <td>1.061461e-06</td>\n",
       "      <td>0.001710</td>\n",
       "      <td>0.001125</td>\n",
       "      <td>10.0</td>\n",
       "      <td>ACTTCCTCAT</td>\n",
       "      <td>AAAAGAGGAAGTGA</td>\n",
       "      <td>-</td>\n",
       "    </tr>\n",
       "    <tr>\n",
       "      <th>998</th>\n",
       "      <td>pos_pattern_0</td>\n",
       "      <td>SPI1.H13CORE.1.S.B</td>\n",
       "      <td>2.0</td>\n",
       "      <td>8.991686e-07</td>\n",
       "      <td>0.001449</td>\n",
       "      <td>0.001125</td>\n",
       "      <td>10.0</td>\n",
       "      <td>ACTTCCTCAT</td>\n",
       "      <td>AAGGGGAAGTAG</td>\n",
       "      <td>-</td>\n",
       "    </tr>\n",
       "    <tr>\n",
       "      <th>999</th>\n",
       "      <td>pos_pattern_0</td>\n",
       "      <td>SPIB.H13CORE.0.P.B</td>\n",
       "      <td>5.0</td>\n",
       "      <td>7.849048e-07</td>\n",
       "      <td>0.001264</td>\n",
       "      <td>0.001125</td>\n",
       "      <td>10.0</td>\n",
       "      <td>ACTTCCTCAT</td>\n",
       "      <td>AAAGAGGAAGTGAAAG</td>\n",
       "      <td>-</td>\n",
       "    </tr>\n",
       "    <tr>\n",
       "      <th>5376</th>\n",
       "      <td>neg_pattern_0</td>\n",
       "      <td>MAFB.H13CORE.0.PS.A</td>\n",
       "      <td>5.0</td>\n",
       "      <td>4.644735e-06</td>\n",
       "      <td>0.007483</td>\n",
       "      <td>0.002993</td>\n",
       "      <td>7.0</td>\n",
       "      <td>TGACTCA</td>\n",
       "      <td>AATGCTGACTCAGCAATTTT</td>\n",
       "      <td>+</td>\n",
       "    </tr>\n",
       "    <tr>\n",
       "      <th>8174</th>\n",
       "      <td>neg_pattern_2</td>\n",
       "      <td>CTCFL.H13CORE.0.P.B</td>\n",
       "      <td>2.0</td>\n",
       "      <td>4.628759e-07</td>\n",
       "      <td>0.000746</td>\n",
       "      <td>0.000951</td>\n",
       "      <td>11.0</td>\n",
       "      <td>CAGCAGAGGGC</td>\n",
       "      <td>GCCGCCAGGGGGCGCC</td>\n",
       "      <td>+</td>\n",
       "    </tr>\n",
       "    <tr>\n",
       "      <th>11775</th>\n",
       "      <td>neg_pattern_4</td>\n",
       "      <td>KLF3.H13CORE.0.PS.A</td>\n",
       "      <td>0.0</td>\n",
       "      <td>8.971252e-08</td>\n",
       "      <td>0.000145</td>\n",
       "      <td>0.000482</td>\n",
       "      <td>18.0</td>\n",
       "      <td>ACGCGCCCACACACACCCAGGATGCCATGAATTCACCCAACAAG</td>\n",
       "      <td>GGCTGGGTGGGGCCGGGG</td>\n",
       "      <td>-</td>\n",
       "    </tr>\n",
       "    <tr>\n",
       "      <th>11779</th>\n",
       "      <td>neg_pattern_4</td>\n",
       "      <td>KLF6.H13CORE.0.P.B</td>\n",
       "      <td>0.0</td>\n",
       "      <td>1.681598e-06</td>\n",
       "      <td>0.002709</td>\n",
       "      <td>0.001505</td>\n",
       "      <td>18.0</td>\n",
       "      <td>ACGCGCCCACACACACCCAGGATGCCATGAATTCACCCAACAAG</td>\n",
       "      <td>GGAAGGGCGGGGCCGGGG</td>\n",
       "      <td>-</td>\n",
       "    </tr>\n",
       "    <tr>\n",
       "      <th>12260</th>\n",
       "      <td>neg_pattern_4</td>\n",
       "      <td>SP2.H13CORE.1.P.B</td>\n",
       "      <td>-1.0</td>\n",
       "      <td>1.071650e-06</td>\n",
       "      <td>0.001726</td>\n",
       "      <td>0.001125</td>\n",
       "      <td>21.0</td>\n",
       "      <td>ACGCGCCCACACACACCCAGGATGCCATGAATTCACCCAACAAG</td>\n",
       "      <td>CCGGCGGGGGGCGGGGCCGGG</td>\n",
       "      <td>-</td>\n",
       "    </tr>\n",
       "    <tr>\n",
       "      <th>13757</th>\n",
       "      <td>neg_pattern_5</td>\n",
       "      <td>RFX1.H13CORE.1.PSM.A</td>\n",
       "      <td>1.0</td>\n",
       "      <td>2.114845e-06</td>\n",
       "      <td>0.003407</td>\n",
       "      <td>0.001793</td>\n",
       "      <td>17.0</td>\n",
       "      <td>ATCACCATGGCAACCACTACTTCCATCCTGGTGGGAAGCTCAAC</td>\n",
       "      <td>GCGGTTGCCATGGCAACG</td>\n",
       "      <td>-</td>\n",
       "    </tr>\n",
       "    <tr>\n",
       "      <th>13761</th>\n",
       "      <td>neg_pattern_5</td>\n",
       "      <td>RFX3.H13CORE.0.PSM.A</td>\n",
       "      <td>0.0</td>\n",
       "      <td>5.621840e-07</td>\n",
       "      <td>0.000906</td>\n",
       "      <td>0.000951</td>\n",
       "      <td>14.0</td>\n",
       "      <td>ATCACCATGGCAACCACTACTTCCATCCTGGTGGGAAGCTCAAC</td>\n",
       "      <td>GTTGCCATGGCAAC</td>\n",
       "      <td>-</td>\n",
       "    </tr>\n",
       "    <tr>\n",
       "      <th>13762</th>\n",
       "      <td>neg_pattern_5</td>\n",
       "      <td>RFX3.H13CORE.1.PS.A</td>\n",
       "      <td>-2.0</td>\n",
       "      <td>3.694148e-06</td>\n",
       "      <td>0.005951</td>\n",
       "      <td>0.002588</td>\n",
       "      <td>14.0</td>\n",
       "      <td>ATCACCATGGCAACCACTACTTCCATCCTGGTGGGAAGCTCAAC</td>\n",
       "      <td>CCGTTGCCATGGTA</td>\n",
       "      <td>-</td>\n",
       "    </tr>\n",
       "    <tr>\n",
       "      <th>13764</th>\n",
       "      <td>neg_pattern_5</td>\n",
       "      <td>RFX4.H13CORE.0.SM.B</td>\n",
       "      <td>1.0</td>\n",
       "      <td>4.699663e-07</td>\n",
       "      <td>0.000757</td>\n",
       "      <td>0.000951</td>\n",
       "      <td>15.0</td>\n",
       "      <td>ATCACCATGGCAACCACTACTTCCATCCTGGTGGGAAGCTCAAC</td>\n",
       "      <td>CGTTGCCATGGTAACG</td>\n",
       "      <td>-</td>\n",
       "    </tr>\n",
       "    <tr>\n",
       "      <th>13765</th>\n",
       "      <td>neg_pattern_5</td>\n",
       "      <td>RFX5.H13CORE.0.PSG.A</td>\n",
       "      <td>2.0</td>\n",
       "      <td>6.541874e-06</td>\n",
       "      <td>0.010539</td>\n",
       "      <td>0.004046</td>\n",
       "      <td>17.0</td>\n",
       "      <td>ATCACCATGGCAACCACTACTTCCATCCTGGTGGGAAGCTCAAC</td>\n",
       "      <td>GGGGTTGCCATGGCAACGG</td>\n",
       "      <td>-</td>\n",
       "    </tr>\n",
       "    <tr>\n",
       "      <th>13767</th>\n",
       "      <td>neg_pattern_5</td>\n",
       "      <td>RFX7.H13CORE.0.SM.B</td>\n",
       "      <td>-4.0</td>\n",
       "      <td>2.897253e-06</td>\n",
       "      <td>0.004667</td>\n",
       "      <td>0.002161</td>\n",
       "      <td>12.0</td>\n",
       "      <td>ATCACCATGGCAACCACTACTTCCATCCTGGTGGGAAGCTCAAC</td>\n",
       "      <td>GCGTTGCTATGC</td>\n",
       "      <td>-</td>\n",
       "    </tr>\n",
       "    <tr>\n",
       "      <th>14539</th>\n",
       "      <td>neg_pattern_6</td>\n",
       "      <td>ATMIN.H13CORE.0.P.B</td>\n",
       "      <td>-20.0</td>\n",
       "      <td>1.117451e-06</td>\n",
       "      <td>0.001800</td>\n",
       "      <td>0.001125</td>\n",
       "      <td>21.0</td>\n",
       "      <td>CCACAGCCGGGCCCACCGCACCTCCCGCCGCTCCCGCCCCACGCAG</td>\n",
       "      <td>GGGGGAGGAGGCGGGGGGAGG</td>\n",
       "      <td>-</td>\n",
       "    </tr>\n",
       "    <tr>\n",
       "      <th>14989</th>\n",
       "      <td>neg_pattern_6</td>\n",
       "      <td>KLF14.H13CORE.1.P.C</td>\n",
       "      <td>-16.0</td>\n",
       "      <td>9.460927e-07</td>\n",
       "      <td>0.001524</td>\n",
       "      <td>0.001125</td>\n",
       "      <td>23.0</td>\n",
       "      <td>CCACAGCCGGGCCCACCGCACCTCCCGCCGCTCCCGCCCCACGCAG</td>\n",
       "      <td>GAGGGGGCGGGGCCGGGGGGGGG</td>\n",
       "      <td>-</td>\n",
       "    </tr>\n",
       "    <tr>\n",
       "      <th>14993</th>\n",
       "      <td>neg_pattern_6</td>\n",
       "      <td>KLF16.H13CORE.1.P.B</td>\n",
       "      <td>-20.0</td>\n",
       "      <td>5.487717e-07</td>\n",
       "      <td>0.000884</td>\n",
       "      <td>0.000951</td>\n",
       "      <td>23.0</td>\n",
       "      <td>CCACAGCCGGGCCCACCGCACCTCCCGCCGCTCCCGCCCCACGCAG</td>\n",
       "      <td>GGGGGAGGGGGCGGGGCGGGGGG</td>\n",
       "      <td>-</td>\n",
       "    </tr>\n",
       "    <tr>\n",
       "      <th>15005</th>\n",
       "      <td>neg_pattern_6</td>\n",
       "      <td>KLF8.H13CORE.1.P.C</td>\n",
       "      <td>-14.0</td>\n",
       "      <td>2.950962e-06</td>\n",
       "      <td>0.004754</td>\n",
       "      <td>0.002161</td>\n",
       "      <td>23.0</td>\n",
       "      <td>CCACAGCCGGGCCCACCGCACCTCCCGCCGCTCCCGCCCCACGCAG</td>\n",
       "      <td>GGGGGCGGGGCGGGGGGGGGGGG</td>\n",
       "      <td>-</td>\n",
       "    </tr>\n",
       "    <tr>\n",
       "      <th>15055</th>\n",
       "      <td>neg_pattern_6</td>\n",
       "      <td>MAZ.H13CORE.1.P.B</td>\n",
       "      <td>-17.0</td>\n",
       "      <td>3.820236e-07</td>\n",
       "      <td>0.000615</td>\n",
       "      <td>0.000951</td>\n",
       "      <td>21.0</td>\n",
       "      <td>CCACAGCCGGGCCCACCGCACCTCCCGCCGCTCCCGCCCCACGCAG</td>\n",
       "      <td>GGGGGGAGGGGCCGGGGGGGG</td>\n",
       "      <td>-</td>\n",
       "    </tr>\n",
       "    <tr>\n",
       "      <th>15057</th>\n",
       "      <td>neg_pattern_6</td>\n",
       "      <td>MBD3.H13CORE.0.P.B</td>\n",
       "      <td>-13.0</td>\n",
       "      <td>2.362686e-06</td>\n",
       "      <td>0.003806</td>\n",
       "      <td>0.001903</td>\n",
       "      <td>21.0</td>\n",
       "      <td>CCACAGCCGGGCCCACCGCACCTCCCGCCGCTCCCGCCCCACGCAG</td>\n",
       "      <td>GGAGCGCAGGGGGGGGGAGAG</td>\n",
       "      <td>-</td>\n",
       "    </tr>\n",
       "    <tr>\n",
       "      <th>15251</th>\n",
       "      <td>neg_pattern_6</td>\n",
       "      <td>PATZ1.H13CORE.0.P.B</td>\n",
       "      <td>-18.0</td>\n",
       "      <td>2.391958e-08</td>\n",
       "      <td>0.000039</td>\n",
       "      <td>0.000291</td>\n",
       "      <td>23.0</td>\n",
       "      <td>CCACAGCCGGGCCCACCGCACCTCCCGCCGCTCCCGCCCCACGCAG</td>\n",
       "      <td>GGGGGAGGGGGCGGGGGGGGGGG</td>\n",
       "      <td>-</td>\n",
       "    </tr>\n",
       "    <tr>\n",
       "      <th>15489</th>\n",
       "      <td>neg_pattern_6</td>\n",
       "      <td>SP5.H13CORE.1.P.B</td>\n",
       "      <td>-18.0</td>\n",
       "      <td>5.905059e-07</td>\n",
       "      <td>0.000951</td>\n",
       "      <td>0.000951</td>\n",
       "      <td>25.0</td>\n",
       "      <td>CCACAGCCGGGCCCACCGCACCTCCCGCCGCTCCCGCCCCACGCAG</td>\n",
       "      <td>GGGGGGGGGGGAGGGGGAGGGGCAG</td>\n",
       "      <td>-</td>\n",
       "    </tr>\n",
       "    <tr>\n",
       "      <th>15625</th>\n",
       "      <td>neg_pattern_6</td>\n",
       "      <td>VEZF1.H13CORE.1.P.B</td>\n",
       "      <td>-19.0</td>\n",
       "      <td>3.618184e-08</td>\n",
       "      <td>0.000058</td>\n",
       "      <td>0.000291</td>\n",
       "      <td>23.0</td>\n",
       "      <td>CCACAGCCGGGCCCACCGCACCTCCCGCCGCTCCCGCCCCACGCAG</td>\n",
       "      <td>GGGGGGGGGGAGGGGGAGGGGGG</td>\n",
       "      <td>-</td>\n",
       "    </tr>\n",
       "    <tr>\n",
       "      <th>15773</th>\n",
       "      <td>neg_pattern_6</td>\n",
       "      <td>ZN281.H13CORE.1.SM.B</td>\n",
       "      <td>-12.0</td>\n",
       "      <td>6.780776e-06</td>\n",
       "      <td>0.010924</td>\n",
       "      <td>0.004046</td>\n",
       "      <td>26.0</td>\n",
       "      <td>CCACAGCCGGGCCCACCGCACCTCCCGCCGCTCCCGCCCCACGCAG</td>\n",
       "      <td>GGGGGGGGGGGGGGGAGGGAGGGGGG</td>\n",
       "      <td>-</td>\n",
       "    </tr>\n",
       "    <tr>\n",
       "      <th>16053</th>\n",
       "      <td>neg_pattern_6</td>\n",
       "      <td>ZNF709.H13CORE.0.P.C</td>\n",
       "      <td>-13.0</td>\n",
       "      <td>4.455247e-06</td>\n",
       "      <td>0.007177</td>\n",
       "      <td>0.002991</td>\n",
       "      <td>21.0</td>\n",
       "      <td>CCACAGCCGGGCCCACCGCACCTCCCGCCGCTCCCGCCCCACGCAG</td>\n",
       "      <td>GGAGTCCCAGAAGGAGAAGAG</td>\n",
       "      <td>-</td>\n",
       "    </tr>\n",
       "  </tbody>\n",
       "</table>\n",
       "</div>"
      ],
      "text/plain": [
       "            Query_ID             Target_ID  Optimal_offset       p-value  \\\n",
       "183    pos_pattern_0  ELF5.H13CORE.0.PSM.A             2.0  3.444588e-07   \n",
       "218    pos_pattern_0    ETV6.H13CORE.1.P.B             2.0  1.615567e-06   \n",
       "997    pos_pattern_0    SPI1.H13CORE.0.P.B             2.0  1.061461e-06   \n",
       "998    pos_pattern_0    SPI1.H13CORE.1.S.B             2.0  8.991686e-07   \n",
       "999    pos_pattern_0    SPIB.H13CORE.0.P.B             5.0  7.849048e-07   \n",
       "5376   neg_pattern_0   MAFB.H13CORE.0.PS.A             5.0  4.644735e-06   \n",
       "8174   neg_pattern_2   CTCFL.H13CORE.0.P.B             2.0  4.628759e-07   \n",
       "11775  neg_pattern_4   KLF3.H13CORE.0.PS.A             0.0  8.971252e-08   \n",
       "11779  neg_pattern_4    KLF6.H13CORE.0.P.B             0.0  1.681598e-06   \n",
       "12260  neg_pattern_4     SP2.H13CORE.1.P.B            -1.0  1.071650e-06   \n",
       "13757  neg_pattern_5  RFX1.H13CORE.1.PSM.A             1.0  2.114845e-06   \n",
       "13761  neg_pattern_5  RFX3.H13CORE.0.PSM.A             0.0  5.621840e-07   \n",
       "13762  neg_pattern_5   RFX3.H13CORE.1.PS.A            -2.0  3.694148e-06   \n",
       "13764  neg_pattern_5   RFX4.H13CORE.0.SM.B             1.0  4.699663e-07   \n",
       "13765  neg_pattern_5  RFX5.H13CORE.0.PSG.A             2.0  6.541874e-06   \n",
       "13767  neg_pattern_5   RFX7.H13CORE.0.SM.B            -4.0  2.897253e-06   \n",
       "14539  neg_pattern_6   ATMIN.H13CORE.0.P.B           -20.0  1.117451e-06   \n",
       "14989  neg_pattern_6   KLF14.H13CORE.1.P.C           -16.0  9.460927e-07   \n",
       "14993  neg_pattern_6   KLF16.H13CORE.1.P.B           -20.0  5.487717e-07   \n",
       "15005  neg_pattern_6    KLF8.H13CORE.1.P.C           -14.0  2.950962e-06   \n",
       "15055  neg_pattern_6     MAZ.H13CORE.1.P.B           -17.0  3.820236e-07   \n",
       "15057  neg_pattern_6    MBD3.H13CORE.0.P.B           -13.0  2.362686e-06   \n",
       "15251  neg_pattern_6   PATZ1.H13CORE.0.P.B           -18.0  2.391958e-08   \n",
       "15489  neg_pattern_6     SP5.H13CORE.1.P.B           -18.0  5.905059e-07   \n",
       "15625  neg_pattern_6   VEZF1.H13CORE.1.P.B           -19.0  3.618184e-08   \n",
       "15773  neg_pattern_6  ZN281.H13CORE.1.SM.B           -12.0  6.780776e-06   \n",
       "16053  neg_pattern_6  ZNF709.H13CORE.0.P.C           -13.0  4.455247e-06   \n",
       "\n",
       "        E-value   q-value  Overlap  \\\n",
       "183    0.000555  0.000951     10.0   \n",
       "218    0.002603  0.001505     10.0   \n",
       "997    0.001710  0.001125     10.0   \n",
       "998    0.001449  0.001125     10.0   \n",
       "999    0.001264  0.001125     10.0   \n",
       "5376   0.007483  0.002993      7.0   \n",
       "8174   0.000746  0.000951     11.0   \n",
       "11775  0.000145  0.000482     18.0   \n",
       "11779  0.002709  0.001505     18.0   \n",
       "12260  0.001726  0.001125     21.0   \n",
       "13757  0.003407  0.001793     17.0   \n",
       "13761  0.000906  0.000951     14.0   \n",
       "13762  0.005951  0.002588     14.0   \n",
       "13764  0.000757  0.000951     15.0   \n",
       "13765  0.010539  0.004046     17.0   \n",
       "13767  0.004667  0.002161     12.0   \n",
       "14539  0.001800  0.001125     21.0   \n",
       "14989  0.001524  0.001125     23.0   \n",
       "14993  0.000884  0.000951     23.0   \n",
       "15005  0.004754  0.002161     23.0   \n",
       "15055  0.000615  0.000951     21.0   \n",
       "15057  0.003806  0.001903     21.0   \n",
       "15251  0.000039  0.000291     23.0   \n",
       "15489  0.000951  0.000951     25.0   \n",
       "15625  0.000058  0.000291     23.0   \n",
       "15773  0.010924  0.004046     26.0   \n",
       "16053  0.007177  0.002991     21.0   \n",
       "\n",
       "                                      Query_consensus  \\\n",
       "183                                        ACTTCCTCAT   \n",
       "218                                        ACTTCCTCAT   \n",
       "997                                        ACTTCCTCAT   \n",
       "998                                        ACTTCCTCAT   \n",
       "999                                        ACTTCCTCAT   \n",
       "5376                                          TGACTCA   \n",
       "8174                                      CAGCAGAGGGC   \n",
       "11775    ACGCGCCCACACACACCCAGGATGCCATGAATTCACCCAACAAG   \n",
       "11779    ACGCGCCCACACACACCCAGGATGCCATGAATTCACCCAACAAG   \n",
       "12260    ACGCGCCCACACACACCCAGGATGCCATGAATTCACCCAACAAG   \n",
       "13757    ATCACCATGGCAACCACTACTTCCATCCTGGTGGGAAGCTCAAC   \n",
       "13761    ATCACCATGGCAACCACTACTTCCATCCTGGTGGGAAGCTCAAC   \n",
       "13762    ATCACCATGGCAACCACTACTTCCATCCTGGTGGGAAGCTCAAC   \n",
       "13764    ATCACCATGGCAACCACTACTTCCATCCTGGTGGGAAGCTCAAC   \n",
       "13765    ATCACCATGGCAACCACTACTTCCATCCTGGTGGGAAGCTCAAC   \n",
       "13767    ATCACCATGGCAACCACTACTTCCATCCTGGTGGGAAGCTCAAC   \n",
       "14539  CCACAGCCGGGCCCACCGCACCTCCCGCCGCTCCCGCCCCACGCAG   \n",
       "14989  CCACAGCCGGGCCCACCGCACCTCCCGCCGCTCCCGCCCCACGCAG   \n",
       "14993  CCACAGCCGGGCCCACCGCACCTCCCGCCGCTCCCGCCCCACGCAG   \n",
       "15005  CCACAGCCGGGCCCACCGCACCTCCCGCCGCTCCCGCCCCACGCAG   \n",
       "15055  CCACAGCCGGGCCCACCGCACCTCCCGCCGCTCCCGCCCCACGCAG   \n",
       "15057  CCACAGCCGGGCCCACCGCACCTCCCGCCGCTCCCGCCCCACGCAG   \n",
       "15251  CCACAGCCGGGCCCACCGCACCTCCCGCCGCTCCCGCCCCACGCAG   \n",
       "15489  CCACAGCCGGGCCCACCGCACCTCCCGCCGCTCCCGCCCCACGCAG   \n",
       "15625  CCACAGCCGGGCCCACCGCACCTCCCGCCGCTCCCGCCCCACGCAG   \n",
       "15773  CCACAGCCGGGCCCACCGCACCTCCCGCCGCTCCCGCCCCACGCAG   \n",
       "16053  CCACAGCCGGGCCCACCGCACCTCCCGCCGCTCCCGCCCCACGCAG   \n",
       "\n",
       "                 Target_consensus Orientation  \n",
       "183              AGGAAGGAGGAAGTAA           -  \n",
       "218                  AAGAGGAAGTGG           -  \n",
       "997                AAAAGAGGAAGTGA           -  \n",
       "998                  AAGGGGAAGTAG           -  \n",
       "999              AAAGAGGAAGTGAAAG           -  \n",
       "5376         AATGCTGACTCAGCAATTTT           +  \n",
       "8174             GCCGCCAGGGGGCGCC           +  \n",
       "11775          GGCTGGGTGGGGCCGGGG           -  \n",
       "11779          GGAAGGGCGGGGCCGGGG           -  \n",
       "12260       CCGGCGGGGGGCGGGGCCGGG           -  \n",
       "13757          GCGGTTGCCATGGCAACG           -  \n",
       "13761              GTTGCCATGGCAAC           -  \n",
       "13762              CCGTTGCCATGGTA           -  \n",
       "13764            CGTTGCCATGGTAACG           -  \n",
       "13765         GGGGTTGCCATGGCAACGG           -  \n",
       "13767                GCGTTGCTATGC           -  \n",
       "14539       GGGGGAGGAGGCGGGGGGAGG           -  \n",
       "14989     GAGGGGGCGGGGCCGGGGGGGGG           -  \n",
       "14993     GGGGGAGGGGGCGGGGCGGGGGG           -  \n",
       "15005     GGGGGCGGGGCGGGGGGGGGGGG           -  \n",
       "15055       GGGGGGAGGGGCCGGGGGGGG           -  \n",
       "15057       GGAGCGCAGGGGGGGGGAGAG           -  \n",
       "15251     GGGGGAGGGGGCGGGGGGGGGGG           -  \n",
       "15489   GGGGGGGGGGGAGGGGGAGGGGCAG           -  \n",
       "15625     GGGGGGGGGGAGGGGGAGGGGGG           -  \n",
       "15773  GGGGGGGGGGGGGGGAGGGAGGGGGG           -  \n",
       "16053       GGAGTCCCAGAAGGAGAAGAG           -  "
      ]
     },
     "execution_count": 43,
     "metadata": {},
     "output_type": "execute_result"
    }
   ],
   "source": [
    "tomtom_file = os.path.join(experiment, 'tomtom.csv')\n",
    "tomtom = pd.read_csv(tomtom_file, index_col=0)\n",
    "\n",
    "tomtom[tomtom['q-value'] < 0.005] # Display most significant matches"
   ]
  },
  {
   "cell_type": "code",
   "execution_count": null,
   "id": "508aa9ac-ddf2-4236-88a5-1055a17a1ab6",
   "metadata": {},
   "outputs": [],
   "source": []
  }
 ],
 "metadata": {
  "kernelspec": {
   "display_name": "Python 3 (ipykernel)",
   "language": "python",
   "name": "python3"
  },
  "language_info": {
   "codemirror_mode": {
    "name": "ipython",
    "version": 3
   },
   "file_extension": ".py",
   "mimetype": "text/x-python",
   "name": "python",
   "nbconvert_exporter": "python",
   "pygments_lexer": "ipython3",
   "version": "3.11.10"
  }
 },
 "nbformat": 4,
 "nbformat_minor": 5
}
