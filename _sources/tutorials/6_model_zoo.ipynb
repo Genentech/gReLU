{
 "cells": [
  {
   "cell_type": "markdown",
   "id": "78dc9d1d-81ec-4e71-8fb4-a6502ae643bc",
   "metadata": {},
   "source": [
    "# Querying the public gReLU model zoo on Weights and Biases (wandb)"
   ]
  },
  {
   "cell_type": "markdown",
   "id": "f6894061-212e-4e93-b478-f584dd2a8f49",
   "metadata": {
    "execution": {
     "iopub.execute_input": "2023-09-20T16:44:49.871477Z",
     "iopub.status.busy": "2023-09-20T16:44:49.870856Z",
     "iopub.status.idle": "2023-09-20T16:44:49.875259Z",
     "shell.execute_reply": "2023-09-20T16:44:49.874421Z",
     "shell.execute_reply.started": "2023-09-20T16:44:49.871457Z"
    }
   },
   "source": [
    "This tutorial shows how to query our public model zoo and download models and datasets, both programmatically and via your browser. The model zoo is located at https://wandb.ai/grelu/."
   ]
  },
  {
   "cell_type": "markdown",
   "id": "447b8018-a70d-4f8e-8c82-7dfe39decee5",
   "metadata": {},
   "source": [
    "## Rules\n",
    "\n",
    "- wandb projects are the main storage units for datasets and the models trained on them. The main idea is to always keep the links between the dataset, code, and the trained models - for reproducibility, documentation and sanity reasons.\n",
    "\n",
    "- Each project contains notebooks showing the code used for data preprocessing, model training and model testing. For models trained by us, the training logs are also available.\n",
    "\n",
    "- In addition, the model checkpoints downloaded from the model zoo, like all gReLU model checkpoints, contain detailed metadata including genomic regions used for training, validation and testing, performance metrics, model and training hyperparameters."
   ]
  },
  {
   "cell_type": "code",
   "execution_count": 1,
   "id": "251d609b-02ba-4b13-ad81-f4fd207931a3",
   "metadata": {
    "tags": []
   },
   "outputs": [
    {
     "name": "stderr",
     "output_type": "stream",
     "text": [
      "/usr/local/lib/python3.11/dist-packages/tqdm/auto.py:21: TqdmWarning: IProgress not found. Please update jupyter and ipywidgets. See https://ipywidgets.readthedocs.io/en/stable/user_install.html\n",
      "  from .autonotebook import tqdm as notebook_tqdm\n"
     ]
    }
   ],
   "source": [
    "import os\n",
    "import anndata\n",
    "import grelu.resources"
   ]
  },
  {
   "cell_type": "markdown",
   "id": "8dd06263-fa50-4012-9914-d402535402fd",
   "metadata": {},
   "source": [
    "## List all available projects in the zoo"
   ]
  },
  {
   "cell_type": "markdown",
   "id": "e35d741f-1809-49d1-af2e-5412be26340c",
   "metadata": {},
   "source": [
    "The `grelu.resources` module contains functions for interacting with the model zoo. First, we can list all available projects in the zoo:"
   ]
  },
  {
   "cell_type": "code",
   "execution_count": 2,
   "id": "7dc55a93-06b9-45dd-8c0d-774c78996537",
   "metadata": {},
   "outputs": [
    {
     "name": "stderr",
     "output_type": "stream",
     "text": [
      "\u001b[34m\u001b[1mwandb\u001b[0m: Currently logged in as: \u001b[33manony-mouse-945272810042178709\u001b[0m. Use \u001b[1m`wandb login --relogin`\u001b[0m to force relogin\n"
     ]
    },
    {
     "data": {
      "text/plain": [
       "['human-mpra-gosai-2024',\n",
       " 'GM12878_dnase',\n",
       " 'demo',\n",
       " 'human-mpra-agrawal-2023',\n",
       " 'binary_atac_cell_lines',\n",
       " 'model-zoo-test',\n",
       " 'alzheimers-variant-tutorial',\n",
       " 'microglia-scatac-tutorial',\n",
       " 'human-chromhmm-fullstack',\n",
       " 'human-atac-catlas',\n",
       " 'borzoi',\n",
       " 'yeast-gpra',\n",
       " 'enformer']"
      ]
     },
     "execution_count": 2,
     "metadata": {},
     "output_type": "execute_result"
    }
   ],
   "source": [
    "grelu.resources.projects()"
   ]
  },
  {
   "cell_type": "markdown",
   "id": "a920b075-1acf-4e64-9e1c-67a89e1aab3e",
   "metadata": {},
   "source": [
    "You can also view all projects in your browser at https://wandb.ai/grelu/projects."
   ]
  },
  {
   "cell_type": "markdown",
   "id": "7765042a-3dd5-482a-8ab4-e74aa561270f",
   "metadata": {},
   "source": [
    "We choose the 'human-atac-catlas' project to interact with."
   ]
  },
  {
   "cell_type": "markdown",
   "id": "9071711d-4138-4808-bc77-7ab7228f24ba",
   "metadata": {},
   "source": [
    "## List all datasets and models in a project"
   ]
  },
  {
   "cell_type": "code",
   "execution_count": 3,
   "id": "51b6647e-4bf2-4d1f-95e7-faa9655001df",
   "metadata": {},
   "outputs": [],
   "source": [
    "project_name = 'human-atac-catlas'"
   ]
  },
  {
   "cell_type": "markdown",
   "id": "25a20e11-6551-4552-9978-393cefb03884",
   "metadata": {},
   "source": [
    "Individual objects such as datasets and models are stored as 'artifacts' under each project. Artifacts can be of different types, but the ones that we are generally interested in are \"dataset\" (the preprocessed dataset) and \"model\" (the trained model). We can search for these under the project of interest:"
   ]
  },
  {
   "cell_type": "code",
   "execution_count": 4,
   "id": "cc72de0f-b2fa-4deb-8427-c9ce07910f1f",
   "metadata": {
    "tags": []
   },
   "outputs": [
    {
     "data": {
      "text/plain": [
       "['dataset']"
      ]
     },
     "execution_count": 4,
     "metadata": {},
     "output_type": "execute_result"
    }
   ],
   "source": [
    "grelu.resources.artifacts(project_name, type_is=\"dataset\")"
   ]
  },
  {
   "cell_type": "markdown",
   "id": "c63b7069-1dfd-4ec7-b7bb-0a21c5595d13",
   "metadata": {},
   "source": [
    "This tells us that there is an artifact called \"dataset\" which is of the \"dataset\" type."
   ]
  },
  {
   "cell_type": "code",
   "execution_count": 5,
   "id": "b1ef34f0-5736-40c7-b69d-f83a09e47d73",
   "metadata": {},
   "outputs": [
    {
     "data": {
      "text/plain": [
       "['model-xx0mt24e', 'model']"
      ]
     },
     "execution_count": 5,
     "metadata": {},
     "output_type": "execute_result"
    }
   ],
   "source": [
    "grelu.resources.artifacts(project_name, type_is=\"model\")"
   ]
  },
  {
   "cell_type": "markdown",
   "id": "d926e401-34f9-4344-b947-4362b03bf977",
   "metadata": {},
   "source": [
    "This tells us that there is an artifact called \"model\" which is of the \"model\" type."
   ]
  },
  {
   "cell_type": "markdown",
   "id": "c947828c-91ff-4165-8273-b98412cb2af4",
   "metadata": {},
   "source": [
    "You can also navigate to the project page in your browser "
   ]
  },
  {
   "cell_type": "markdown",
   "id": "5ac16b8f-43c5-4efb-9d3f-831747e033c9",
   "metadata": {},
   "source": [
    "## Download a dataset"
   ]
  },
  {
   "cell_type": "markdown",
   "id": "c4ac768f-1adc-4135-9017-026da397ceca",
   "metadata": {},
   "source": [
    "Let us now select the \"dataset\" artifact."
   ]
  },
  {
   "cell_type": "code",
   "execution_count": 6,
   "id": "d44ce5d7-2fc3-413d-a4bd-4ac4d59424ad",
   "metadata": {},
   "outputs": [
    {
     "data": {
      "text/plain": [
       "<Artifact QXJ0aWZhY3Q6MTU0OTEyNDUwMQ==>"
      ]
     },
     "execution_count": 6,
     "metadata": {},
     "output_type": "execute_result"
    }
   ],
   "source": [
    "artifact = grelu.resources.get_artifact(\n",
    "    name=\"dataset\",\n",
    "    project = project_name,\n",
    ")\n",
    "artifact"
   ]
  },
  {
   "cell_type": "markdown",
   "id": "df9f1a6b-6ea3-4f8b-b045-637db746f1fd",
   "metadata": {},
   "source": [
    "We can download this artifact into a local directory."
   ]
  },
  {
   "cell_type": "code",
   "execution_count": 7,
   "id": "89da86fe-a955-4c11-b04b-7b5785e082f0",
   "metadata": {
    "tags": []
   },
   "outputs": [
    {
     "name": "stderr",
     "output_type": "stream",
     "text": [
      "\u001b[34m\u001b[1mwandb\u001b[0m: Downloading large artifact dataset:latest, 179.17MB. 1 files... \n",
      "\u001b[34m\u001b[1mwandb\u001b[0m:   1 of 1 files downloaded.  \n",
      "Done. 0:0:3.9\n"
     ]
    },
    {
     "data": {
      "text/plain": [
       "'/code/gReLU/docs/tutorials/artifacts/dataset:v7'"
      ]
     },
     "execution_count": 7,
     "metadata": {},
     "output_type": "execute_result"
    }
   ],
   "source": [
    "artifact_dir = artifact.download()\n",
    "artifact_dir"
   ]
  },
  {
   "cell_type": "markdown",
   "id": "11cc3fac-e9d4-45c2-b6e5-a5d45e7b5a5d",
   "metadata": {},
   "source": [
    "We can list the iles in this directory:"
   ]
  },
  {
   "cell_type": "code",
   "execution_count": 8,
   "id": "791027f6-7633-4dcd-900e-f16c30266ce1",
   "metadata": {},
   "outputs": [
    {
     "data": {
      "text/plain": [
       "['data.h5ad']"
      ]
     },
     "execution_count": 8,
     "metadata": {},
     "output_type": "execute_result"
    }
   ],
   "source": [
    "os.listdir(artifact_dir)"
   ]
  },
  {
   "cell_type": "code",
   "execution_count": 10,
   "id": "edf4b725-fa07-4622-9db8-bce6cb1adcff",
   "metadata": {},
   "outputs": [
    {
     "name": "stderr",
     "output_type": "stream",
     "text": [
      "/usr/local/lib/python3.11/dist-packages/anndata/_core/aligned_df.py:67: ImplicitModificationWarning: Transforming to str index.\n",
      "  warnings.warn(\"Transforming to str index.\", ImplicitModificationWarning)\n"
     ]
    },
    {
     "data": {
      "text/plain": [
       "AnnData object with n_obs × n_vars = 204 × 1121319\n",
       "    obs: 'cell type'\n",
       "    var: 'chrom', 'start', 'end', 'cre_class', 'in_fetal', 'in_adult', 'cre_module', 'width', 'cre_idx', 'enformer_split', 'split'"
      ]
     },
     "execution_count": 10,
     "metadata": {},
     "output_type": "execute_result"
    }
   ],
   "source": [
    "ad = anndata.read_h5ad(os.path.join(artifact_dir, 'data.h5ad'))\n",
    "ad"
   ]
  },
  {
   "cell_type": "markdown",
   "id": "28944471-5b0a-40b9-9ebe-b0dae2a075e9",
   "metadata": {},
   "source": [
    "We could download the trained model from the zoo in a similar way. However, we have an additional function to download a model from the zoo and directly load it into memory in one step."
   ]
  },
  {
   "cell_type": "markdown",
   "id": "146c3542-ee40-406f-bd17-0ff31daf149b",
   "metadata": {
    "tags": []
   },
   "source": [
    "## One-step downloading and loading a model"
   ]
  },
  {
   "cell_type": "code",
   "execution_count": 11,
   "id": "30e44d43-cbd1-4c56-b2d7-16691458ded8",
   "metadata": {},
   "outputs": [
    {
     "name": "stderr",
     "output_type": "stream",
     "text": [
      "\u001b[34m\u001b[1mwandb\u001b[0m: Downloading large artifact model:latest, 328.48MB. 1 files... \n",
      "\u001b[34m\u001b[1mwandb\u001b[0m:   1 of 1 files downloaded.  \n",
      "Done. 0:0:0.6\n",
      "\u001b[34m\u001b[1mwandb\u001b[0m: Downloading large artifact human_state_dict:latest, 939.29MB. 1 files... \n",
      "\u001b[34m\u001b[1mwandb\u001b[0m:   1 of 1 files downloaded.  \n",
      "Done. 0:0:1.7\n"
     ]
    }
   ],
   "source": [
    "model = grelu.resources.load_model(\n",
    "    project=project_name,\n",
    "    model_name='model'\n",
    ") # that's it!"
   ]
  },
  {
   "cell_type": "code",
   "execution_count": 12,
   "id": "b5c36bd3-4c28-4a60-aaa3-b772e4de9532",
   "metadata": {},
   "outputs": [
    {
     "data": {
      "text/plain": [
       "grelu.lightning.LightningModel"
      ]
     },
     "execution_count": 12,
     "metadata": {},
     "output_type": "execute_result"
    }
   ],
   "source": [
    "type(model)"
   ]
  },
  {
   "cell_type": "markdown",
   "id": "6e9002de-01b8-498b-bf13-aa6cb5c6a1d0",
   "metadata": {},
   "source": [
    "Note that by default, this function downloads the latest version of the model. If there are multiple model versions and you want to download a specific version, you can specify the version name using the `alias` parameter."
   ]
  },
  {
   "cell_type": "markdown",
   "id": "225d7be2-7acf-4c78-ae4d-a0bf73e3e9fd",
   "metadata": {},
   "source": [
    "## Lineage, training logs and code"
   ]
  },
  {
   "cell_type": "markdown",
   "id": "8823b918-170b-42f2-bf86-2cbcf6f8cd04",
   "metadata": {},
   "source": [
    "On the webpage, you can find the complete details of how any model was created. Navigate to the model webpage from the landing page, or enter the URL `https://wandb.ai/grelu/<project name>/artifacts/model/model/<latest>`.\n",
    "\n",
    "For this, model, the URL is: https://wandb.ai/grelu/human-atac-catlas/artifacts/model/model/latest\n",
    "\n",
    "Click on the `Lineage` tab to see the model's lineage:\n",
    "\n",
    "![lineage](lineage.jpeg)"
   ]
  },
  {
   "cell_type": "markdown",
   "id": "22ae800a-a2eb-471d-a0fa-5f3751a6d2bf",
   "metadata": {},
   "source": [
    "This shows the steps involved in creating the model, along with intermediate data artifacts. \n",
    "\n",
    "Click on the `train` run, then click on `run path` to navigate to the landing page of the run."
   ]
  },
  {
   "cell_type": "markdown",
   "id": "e026b33e-bb82-46b8-bb59-701d3285779a",
   "metadata": {},
   "source": [
    "![open-run](open-run.jpeg)"
   ]
  },
  {
   "cell_type": "markdown",
   "id": "e6e87032-7820-4ee2-aed5-d894cf86fdd1",
   "metadata": {},
   "source": [
    "The landing page shows the loss and metric curves during training. More information is available on the tabs on the left:\n",
    "\n",
    "- Click on the `Code` tab to see the code. \n",
    "\n",
    "- Click on the `Files` tab to see and download log files."
   ]
  },
  {
   "cell_type": "markdown",
   "id": "9b4fe7bb-ed1c-46ca-bf0e-adcf92e34973",
   "metadata": {},
   "source": [
    "![run-page](run-page.jpeg)"
   ]
  },
  {
   "cell_type": "markdown",
   "id": "25a3ac04-6a4d-478f-918a-471ec10c3782",
   "metadata": {},
   "source": []
  },
  {
   "cell_type": "code",
   "execution_count": null,
   "id": "c8f8b52e-7bea-4d6a-990b-77e8a03ec191",
   "metadata": {},
   "outputs": [],
   "source": []
  }
 ],
 "metadata": {
  "kernelspec": {
   "display_name": "Python 3 (ipykernel)",
   "language": "python",
   "name": "python3"
  },
  "language_info": {
   "codemirror_mode": {
    "name": "ipython",
    "version": 3
   },
   "file_extension": ".py",
   "mimetype": "text/x-python",
   "name": "python",
   "nbconvert_exporter": "python",
   "pygments_lexer": "ipython3",
   "version": "3.11.9"
  }
 },
 "nbformat": 4,
 "nbformat_minor": 5
}
